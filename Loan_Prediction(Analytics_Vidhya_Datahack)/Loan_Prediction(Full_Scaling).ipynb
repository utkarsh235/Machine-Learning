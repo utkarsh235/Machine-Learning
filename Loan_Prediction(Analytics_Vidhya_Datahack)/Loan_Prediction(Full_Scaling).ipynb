{
  "nbformat": 4,
  "nbformat_minor": 0,
  "metadata": {
    "colab": {
      "name": "Loan_Prediction(Full_Scaling).ipynb",
      "provenance": [],
      "collapsed_sections": []
    },
    "kernelspec": {
      "name": "python3",
      "display_name": "Python 3"
    },
    "accelerator": "GPU"
  },
  "cells": [
    {
      "cell_type": "code",
      "metadata": {
        "id": "RIpRiQ0598de",
        "colab_type": "code",
        "colab": {}
      },
      "source": [
        "import pandas as pd\n",
        "import numpy as np\n",
        "import matplotlib.pyplot as plt"
      ],
      "execution_count": null,
      "outputs": []
    },
    {
      "cell_type": "code",
      "metadata": {
        "id": "O0asKmZI-NHF",
        "colab_type": "code",
        "colab": {}
      },
      "source": [
        "train_data = pd.read_csv('train.csv')\n",
        "test_data = pd.read_csv('test.csv')\n",
        "submission = pd.read_csv('sample_submission.csv')"
      ],
      "execution_count": null,
      "outputs": []
    },
    {
      "cell_type": "code",
      "metadata": {
        "id": "o3j629ICiYP3",
        "colab_type": "code",
        "colab": {}
      },
      "source": [
        "train_data = pd.concat([train_data, test_data])\n",
        "train_data.set_index(['Loan_ID'],inplace = True)\n",
        "#train_data.drop(['index'], axis = 1, inplace = True)"
      ],
      "execution_count": null,
      "outputs": []
    },
    {
      "cell_type": "code",
      "metadata": {
        "id": "nz3y0YRw-cFO",
        "colab_type": "code",
        "colab": {
          "base_uri": "https://localhost:8080/",
          "height": 504
        },
        "outputId": "f4fa7df9-9666-4533-a3da-919387bd2721"
      },
      "source": [
        "train_data"
      ],
      "execution_count": null,
      "outputs": [
        {
          "output_type": "execute_result",
          "data": {
            "text/html": [
              "<div>\n",
              "<style scoped>\n",
              "    .dataframe tbody tr th:only-of-type {\n",
              "        vertical-align: middle;\n",
              "    }\n",
              "\n",
              "    .dataframe tbody tr th {\n",
              "        vertical-align: top;\n",
              "    }\n",
              "\n",
              "    .dataframe thead th {\n",
              "        text-align: right;\n",
              "    }\n",
              "</style>\n",
              "<table border=\"1\" class=\"dataframe\">\n",
              "  <thead>\n",
              "    <tr style=\"text-align: right;\">\n",
              "      <th></th>\n",
              "      <th>Gender</th>\n",
              "      <th>Married</th>\n",
              "      <th>Dependents</th>\n",
              "      <th>Education</th>\n",
              "      <th>Self_Employed</th>\n",
              "      <th>ApplicantIncome</th>\n",
              "      <th>CoapplicantIncome</th>\n",
              "      <th>LoanAmount</th>\n",
              "      <th>Loan_Amount_Term</th>\n",
              "      <th>Credit_History</th>\n",
              "      <th>Property_Area</th>\n",
              "      <th>Loan_Status</th>\n",
              "    </tr>\n",
              "    <tr>\n",
              "      <th>Loan_ID</th>\n",
              "      <th></th>\n",
              "      <th></th>\n",
              "      <th></th>\n",
              "      <th></th>\n",
              "      <th></th>\n",
              "      <th></th>\n",
              "      <th></th>\n",
              "      <th></th>\n",
              "      <th></th>\n",
              "      <th></th>\n",
              "      <th></th>\n",
              "      <th></th>\n",
              "    </tr>\n",
              "  </thead>\n",
              "  <tbody>\n",
              "    <tr>\n",
              "      <th>LP001002</th>\n",
              "      <td>Male</td>\n",
              "      <td>No</td>\n",
              "      <td>0</td>\n",
              "      <td>Graduate</td>\n",
              "      <td>No</td>\n",
              "      <td>5849</td>\n",
              "      <td>0.0</td>\n",
              "      <td>NaN</td>\n",
              "      <td>360.0</td>\n",
              "      <td>1.0</td>\n",
              "      <td>Urban</td>\n",
              "      <td>Y</td>\n",
              "    </tr>\n",
              "    <tr>\n",
              "      <th>LP001003</th>\n",
              "      <td>Male</td>\n",
              "      <td>Yes</td>\n",
              "      <td>1</td>\n",
              "      <td>Graduate</td>\n",
              "      <td>No</td>\n",
              "      <td>4583</td>\n",
              "      <td>1508.0</td>\n",
              "      <td>128.0</td>\n",
              "      <td>360.0</td>\n",
              "      <td>1.0</td>\n",
              "      <td>Rural</td>\n",
              "      <td>N</td>\n",
              "    </tr>\n",
              "    <tr>\n",
              "      <th>LP001005</th>\n",
              "      <td>Male</td>\n",
              "      <td>Yes</td>\n",
              "      <td>0</td>\n",
              "      <td>Graduate</td>\n",
              "      <td>Yes</td>\n",
              "      <td>3000</td>\n",
              "      <td>0.0</td>\n",
              "      <td>66.0</td>\n",
              "      <td>360.0</td>\n",
              "      <td>1.0</td>\n",
              "      <td>Urban</td>\n",
              "      <td>Y</td>\n",
              "    </tr>\n",
              "    <tr>\n",
              "      <th>LP001006</th>\n",
              "      <td>Male</td>\n",
              "      <td>Yes</td>\n",
              "      <td>0</td>\n",
              "      <td>Not Graduate</td>\n",
              "      <td>No</td>\n",
              "      <td>2583</td>\n",
              "      <td>2358.0</td>\n",
              "      <td>120.0</td>\n",
              "      <td>360.0</td>\n",
              "      <td>1.0</td>\n",
              "      <td>Urban</td>\n",
              "      <td>Y</td>\n",
              "    </tr>\n",
              "    <tr>\n",
              "      <th>LP001008</th>\n",
              "      <td>Male</td>\n",
              "      <td>No</td>\n",
              "      <td>0</td>\n",
              "      <td>Graduate</td>\n",
              "      <td>No</td>\n",
              "      <td>6000</td>\n",
              "      <td>0.0</td>\n",
              "      <td>141.0</td>\n",
              "      <td>360.0</td>\n",
              "      <td>1.0</td>\n",
              "      <td>Urban</td>\n",
              "      <td>Y</td>\n",
              "    </tr>\n",
              "    <tr>\n",
              "      <th>...</th>\n",
              "      <td>...</td>\n",
              "      <td>...</td>\n",
              "      <td>...</td>\n",
              "      <td>...</td>\n",
              "      <td>...</td>\n",
              "      <td>...</td>\n",
              "      <td>...</td>\n",
              "      <td>...</td>\n",
              "      <td>...</td>\n",
              "      <td>...</td>\n",
              "      <td>...</td>\n",
              "      <td>...</td>\n",
              "    </tr>\n",
              "    <tr>\n",
              "      <th>LP002971</th>\n",
              "      <td>Male</td>\n",
              "      <td>Yes</td>\n",
              "      <td>3+</td>\n",
              "      <td>Not Graduate</td>\n",
              "      <td>Yes</td>\n",
              "      <td>4009</td>\n",
              "      <td>1777.0</td>\n",
              "      <td>113.0</td>\n",
              "      <td>360.0</td>\n",
              "      <td>1.0</td>\n",
              "      <td>Urban</td>\n",
              "      <td>NaN</td>\n",
              "    </tr>\n",
              "    <tr>\n",
              "      <th>LP002975</th>\n",
              "      <td>Male</td>\n",
              "      <td>Yes</td>\n",
              "      <td>0</td>\n",
              "      <td>Graduate</td>\n",
              "      <td>No</td>\n",
              "      <td>4158</td>\n",
              "      <td>709.0</td>\n",
              "      <td>115.0</td>\n",
              "      <td>360.0</td>\n",
              "      <td>1.0</td>\n",
              "      <td>Urban</td>\n",
              "      <td>NaN</td>\n",
              "    </tr>\n",
              "    <tr>\n",
              "      <th>LP002980</th>\n",
              "      <td>Male</td>\n",
              "      <td>No</td>\n",
              "      <td>0</td>\n",
              "      <td>Graduate</td>\n",
              "      <td>No</td>\n",
              "      <td>3250</td>\n",
              "      <td>1993.0</td>\n",
              "      <td>126.0</td>\n",
              "      <td>360.0</td>\n",
              "      <td>NaN</td>\n",
              "      <td>Semiurban</td>\n",
              "      <td>NaN</td>\n",
              "    </tr>\n",
              "    <tr>\n",
              "      <th>LP002986</th>\n",
              "      <td>Male</td>\n",
              "      <td>Yes</td>\n",
              "      <td>0</td>\n",
              "      <td>Graduate</td>\n",
              "      <td>No</td>\n",
              "      <td>5000</td>\n",
              "      <td>2393.0</td>\n",
              "      <td>158.0</td>\n",
              "      <td>360.0</td>\n",
              "      <td>1.0</td>\n",
              "      <td>Rural</td>\n",
              "      <td>NaN</td>\n",
              "    </tr>\n",
              "    <tr>\n",
              "      <th>LP002989</th>\n",
              "      <td>Male</td>\n",
              "      <td>No</td>\n",
              "      <td>0</td>\n",
              "      <td>Graduate</td>\n",
              "      <td>Yes</td>\n",
              "      <td>9200</td>\n",
              "      <td>0.0</td>\n",
              "      <td>98.0</td>\n",
              "      <td>180.0</td>\n",
              "      <td>1.0</td>\n",
              "      <td>Rural</td>\n",
              "      <td>NaN</td>\n",
              "    </tr>\n",
              "  </tbody>\n",
              "</table>\n",
              "<p>981 rows × 12 columns</p>\n",
              "</div>"
            ],
            "text/plain": [
              "         Gender Married Dependents  ... Credit_History Property_Area  Loan_Status\n",
              "Loan_ID                             ...                                          \n",
              "LP001002   Male      No          0  ...            1.0         Urban            Y\n",
              "LP001003   Male     Yes          1  ...            1.0         Rural            N\n",
              "LP001005   Male     Yes          0  ...            1.0         Urban            Y\n",
              "LP001006   Male     Yes          0  ...            1.0         Urban            Y\n",
              "LP001008   Male      No          0  ...            1.0         Urban            Y\n",
              "...         ...     ...        ...  ...            ...           ...          ...\n",
              "LP002971   Male     Yes         3+  ...            1.0         Urban          NaN\n",
              "LP002975   Male     Yes          0  ...            1.0         Urban          NaN\n",
              "LP002980   Male      No          0  ...            NaN     Semiurban          NaN\n",
              "LP002986   Male     Yes          0  ...            1.0         Rural          NaN\n",
              "LP002989   Male      No          0  ...            1.0         Rural          NaN\n",
              "\n",
              "[981 rows x 12 columns]"
            ]
          },
          "metadata": {
            "tags": []
          },
          "execution_count": 6
        }
      ]
    },
    {
      "cell_type": "code",
      "metadata": {
        "id": "jK6wE7lf2kic",
        "colab_type": "code",
        "colab": {
          "base_uri": "https://localhost:8080/",
          "height": 34
        },
        "outputId": "1bb57089-83ed-497c-f082-b7fb6f20fc6a"
      },
      "source": [
        "td['LoanAmount'].dtype"
      ],
      "execution_count": null,
      "outputs": [
        {
          "output_type": "execute_result",
          "data": {
            "text/plain": [
              "dtype('float64')"
            ]
          },
          "metadata": {
            "tags": []
          },
          "execution_count": 219
        }
      ]
    },
    {
      "cell_type": "code",
      "metadata": {
        "id": "f3EGQ5cy2--v",
        "colab_type": "code",
        "colab": {
          "base_uri": "https://localhost:8080/",
          "height": 391
        },
        "outputId": "25a0fdc1-30be-43ef-a841-a764f937ee36"
      },
      "source": [
        "f = np.where(td['LoanAmount'].isnull() == True)\n",
        "for i in range(len(f[0])):\n",
        "  l = f[0][i]\n",
        "  print(td['Loan_Status'][l])"
      ],
      "execution_count": null,
      "outputs": [
        {
          "output_type": "stream",
          "text": [
            "Y\n",
            "Y\n",
            "N\n",
            "Y\n",
            "N\n",
            "Y\n",
            "Y\n",
            "Y\n",
            "Y\n",
            "N\n",
            "N\n",
            "N\n",
            "Y\n",
            "N\n",
            "N\n",
            "Y\n",
            "Y\n",
            "N\n",
            "N\n",
            "N\n",
            "Y\n",
            "N\n"
          ],
          "name": "stdout"
        }
      ]
    },
    {
      "cell_type": "code",
      "metadata": {
        "id": "Sfi6JYPI0SxS",
        "colab_type": "code",
        "colab": {
          "base_uri": "https://localhost:8080/",
          "height": 34
        },
        "outputId": "11b732c7-167e-4cef-fb31-0a6ac47dcf77"
      },
      "source": [
        "len(td['LoanAmount'].value_counts())"
      ],
      "execution_count": null,
      "outputs": [
        {
          "output_type": "execute_result",
          "data": {
            "text/plain": [
              "203"
            ]
          },
          "metadata": {
            "tags": []
          },
          "execution_count": 220
        }
      ]
    },
    {
      "cell_type": "code",
      "metadata": {
        "id": "tUxWWiPewRsc",
        "colab_type": "code",
        "colab": {}
      },
      "source": [
        "td = pd.read_csv('train.csv')\n",
        "td['CoapplicantIncome'].value_counts()\n",
        "s = []\n",
        "d = []\n",
        "for i in range(len(td)):\n",
        "  if td['LoanAmount'][i] == 'NaN':\n",
        "    d.append(i)\n",
        "    s.append(td['Loan_Status'][i])"
      ],
      "execution_count": null,
      "outputs": []
    },
    {
      "cell_type": "code",
      "metadata": {
        "id": "MDkHYcGT00tZ",
        "colab_type": "code",
        "colab": {
          "base_uri": "https://localhost:8080/",
          "height": 34
        },
        "outputId": "7ed9399d-8213-4121-d366-6fdc19a2e71c"
      },
      "source": [
        "d"
      ],
      "execution_count": null,
      "outputs": [
        {
          "output_type": "execute_result",
          "data": {
            "text/plain": [
              "[]"
            ]
          },
          "metadata": {
            "tags": []
          },
          "execution_count": 224
        }
      ]
    },
    {
      "cell_type": "code",
      "metadata": {
        "id": "0rlAuTJt0BuO",
        "colab_type": "code",
        "colab": {
          "base_uri": "https://localhost:8080/",
          "height": 68
        },
        "outputId": "b293596b-6964-47f3-c96d-2ed7f3aa1af0"
      },
      "source": [
        "new = pd.DataFrame(data=s)\n",
        "#print(s)\n",
        "new.columns = ['s']\n",
        "new.s.value_counts()"
      ],
      "execution_count": null,
      "outputs": [
        {
          "output_type": "execute_result",
          "data": {
            "text/plain": [
              "Y    422\n",
              "N    192\n",
              "Name: s, dtype: int64"
            ]
          },
          "metadata": {
            "tags": []
          },
          "execution_count": 206
        }
      ]
    },
    {
      "cell_type": "code",
      "metadata": {
        "id": "UTxMCEMcxRsz",
        "colab_type": "code",
        "colab": {
          "base_uri": "https://localhost:8080/",
          "height": 34
        },
        "outputId": "26115e1f-d4e0-4e44-9668-ab9c4908b2e6"
      },
      "source": [
        "td['LoanAmount'].isnull().sum()"
      ],
      "execution_count": null,
      "outputs": [
        {
          "output_type": "execute_result",
          "data": {
            "text/plain": [
              "22"
            ]
          },
          "metadata": {
            "tags": []
          },
          "execution_count": 183
        }
      ]
    },
    {
      "cell_type": "code",
      "metadata": {
        "id": "WRaxRssPAk3N",
        "colab_type": "code",
        "colab": {}
      },
      "source": [
        "#train_data.set_index('Loan_ID', inplace = True)"
      ],
      "execution_count": null,
      "outputs": []
    },
    {
      "cell_type": "code",
      "metadata": {
        "id": "0FB7FKtGAA4H",
        "colab_type": "code",
        "colab": {}
      },
      "source": [
        "#td = train_data['Loan_ID']\n",
        "#train_data.drop(['Loan_ID'], axis = 1, inplace = True)"
      ],
      "execution_count": null,
      "outputs": []
    },
    {
      "cell_type": "code",
      "metadata": {
        "id": "16LoI0GX8l-N",
        "colab_type": "code",
        "colab": {
          "base_uri": "https://localhost:8080/",
          "height": 268
        },
        "outputId": "677089bd-bc21-4eff-80db-907ba456e42a"
      },
      "source": [
        "plt.scatter(train_data['ApplicantIncome'], train_data['Loan_Amount_Term'], marker='+')\n",
        "plt.show()"
      ],
      "execution_count": null,
      "outputs": [
        {
          "output_type": "display_data",
          "data": {
            "image/png": "[encoded data removed]",
            "text/plain": [
              "<Figure size 432x288 with 1 Axes>"
            ]
          },
          "metadata": {
            "tags": [],
            "needs_background": "light"
          }
        }
      ]
    },
    {
      "cell_type": "code",
      "metadata": {
        "id": "6aUKFpAu6UBG",
        "colab_type": "code",
        "colab": {}
      },
      "source": [
        "\n",
        "train_data['Kids>3'] = 0"
      ],
      "execution_count": null,
      "outputs": []
    },
    {
      "cell_type": "code",
      "metadata": {
        "id": "EKUa4t7v6bqV",
        "colab_type": "code",
        "colab": {
          "base_uri": "https://localhost:8080/",
          "height": 136
        },
        "outputId": "342a68de-dbd3-45e5-945c-464273c5d30f"
      },
      "source": [
        "s = np.where(train_data.Dependents == '3+')\n",
        "s"
      ],
      "execution_count": null,
      "outputs": [
        {
          "output_type": "execute_result",
          "data": {
            "text/plain": [
              "(array([  7,  34,  61,  68,  73,  74,  78,  79, 109, 126, 135, 155, 171,\n",
              "        172, 177, 202, 211, 213, 215, 255, 257, 259, 267, 295, 321, 324,\n",
              "        338, 340, 343, 352, 359, 376, 390, 391, 409, 442, 461, 466, 472,\n",
              "        481, 515, 522, 531, 539, 557, 567, 574, 592, 600, 602, 610, 626,\n",
              "        631, 635, 663, 665, 673, 678, 694, 695, 705, 709, 712, 713, 721,\n",
              "        729, 736, 753, 755, 756, 782, 793, 798, 807, 815, 826, 843, 864,\n",
              "        874, 884, 889, 892, 925, 936, 942, 945, 956, 959, 968, 969, 976]),)"
            ]
          },
          "metadata": {
            "tags": []
          },
          "execution_count": 11
        }
      ]
    },
    {
      "cell_type": "code",
      "metadata": {
        "id": "_3sXTTTV63sF",
        "colab_type": "code",
        "colab": {
          "base_uri": "https://localhost:8080/",
          "height": 102
        },
        "outputId": "3222a2c4-b4d4-4f52-f9ca-f1138a25bab5"
      },
      "source": [
        "for i in range(len(s)):\n",
        "  j = s[i]\n",
        "  train_data['Kids>3'][j] = 1.0\n"
      ],
      "execution_count": null,
      "outputs": [
        {
          "output_type": "stream",
          "text": [
            "/usr/local/lib/python3.6/dist-packages/ipykernel_launcher.py:3: SettingWithCopyWarning: \n",
            "A value is trying to be set on a copy of a slice from a DataFrame\n",
            "\n",
            "See the caveats in the documentation: https://pandas.pydata.org/pandas-docs/stable/user_guide/indexing.html#returning-a-view-versus-a-copy\n",
            "  This is separate from the ipykernel package so we can avoid doing imports until\n"
          ],
          "name": "stderr"
        }
      ]
    },
    {
      "cell_type": "code",
      "metadata": {
        "id": "eREfKObQ7Wec",
        "colab_type": "code",
        "colab": {
          "base_uri": "https://localhost:8080/",
          "height": 504
        },
        "outputId": "8a689738-4bfc-49c2-b873-5b5cca813ed9"
      },
      "source": [
        "train_data"
      ],
      "execution_count": null,
      "outputs": [
        {
          "output_type": "execute_result",
          "data": {
            "text/html": [
              "<div>\n",
              "<style scoped>\n",
              "    .dataframe tbody tr th:only-of-type {\n",
              "        vertical-align: middle;\n",
              "    }\n",
              "\n",
              "    .dataframe tbody tr th {\n",
              "        vertical-align: top;\n",
              "    }\n",
              "\n",
              "    .dataframe thead th {\n",
              "        text-align: right;\n",
              "    }\n",
              "</style>\n",
              "<table border=\"1\" class=\"dataframe\">\n",
              "  <thead>\n",
              "    <tr style=\"text-align: right;\">\n",
              "      <th></th>\n",
              "      <th>Gender</th>\n",
              "      <th>Married</th>\n",
              "      <th>Dependents</th>\n",
              "      <th>Education</th>\n",
              "      <th>Self_Employed</th>\n",
              "      <th>ApplicantIncome</th>\n",
              "      <th>CoapplicantIncome</th>\n",
              "      <th>LoanAmount</th>\n",
              "      <th>Loan_Amount_Term</th>\n",
              "      <th>Credit_History</th>\n",
              "      <th>Property_Area</th>\n",
              "      <th>Loan_Status</th>\n",
              "      <th>Kids&gt;3</th>\n",
              "    </tr>\n",
              "    <tr>\n",
              "      <th>Loan_ID</th>\n",
              "      <th></th>\n",
              "      <th></th>\n",
              "      <th></th>\n",
              "      <th></th>\n",
              "      <th></th>\n",
              "      <th></th>\n",
              "      <th></th>\n",
              "      <th></th>\n",
              "      <th></th>\n",
              "      <th></th>\n",
              "      <th></th>\n",
              "      <th></th>\n",
              "      <th></th>\n",
              "    </tr>\n",
              "  </thead>\n",
              "  <tbody>\n",
              "    <tr>\n",
              "      <th>LP001002</th>\n",
              "      <td>Male</td>\n",
              "      <td>No</td>\n",
              "      <td>0</td>\n",
              "      <td>Graduate</td>\n",
              "      <td>No</td>\n",
              "      <td>5849</td>\n",
              "      <td>0.0</td>\n",
              "      <td>NaN</td>\n",
              "      <td>360.0</td>\n",
              "      <td>1.0</td>\n",
              "      <td>Urban</td>\n",
              "      <td>Y</td>\n",
              "      <td>0.0</td>\n",
              "    </tr>\n",
              "    <tr>\n",
              "      <th>LP001003</th>\n",
              "      <td>Male</td>\n",
              "      <td>Yes</td>\n",
              "      <td>1</td>\n",
              "      <td>Graduate</td>\n",
              "      <td>No</td>\n",
              "      <td>4583</td>\n",
              "      <td>1508.0</td>\n",
              "      <td>128.0</td>\n",
              "      <td>360.0</td>\n",
              "      <td>1.0</td>\n",
              "      <td>Rural</td>\n",
              "      <td>N</td>\n",
              "      <td>0.0</td>\n",
              "    </tr>\n",
              "    <tr>\n",
              "      <th>LP001005</th>\n",
              "      <td>Male</td>\n",
              "      <td>Yes</td>\n",
              "      <td>0</td>\n",
              "      <td>Graduate</td>\n",
              "      <td>Yes</td>\n",
              "      <td>3000</td>\n",
              "      <td>0.0</td>\n",
              "      <td>66.0</td>\n",
              "      <td>360.0</td>\n",
              "      <td>1.0</td>\n",
              "      <td>Urban</td>\n",
              "      <td>Y</td>\n",
              "      <td>0.0</td>\n",
              "    </tr>\n",
              "    <tr>\n",
              "      <th>LP001006</th>\n",
              "      <td>Male</td>\n",
              "      <td>Yes</td>\n",
              "      <td>0</td>\n",
              "      <td>Not Graduate</td>\n",
              "      <td>No</td>\n",
              "      <td>2583</td>\n",
              "      <td>2358.0</td>\n",
              "      <td>120.0</td>\n",
              "      <td>360.0</td>\n",
              "      <td>1.0</td>\n",
              "      <td>Urban</td>\n",
              "      <td>Y</td>\n",
              "      <td>0.0</td>\n",
              "    </tr>\n",
              "    <tr>\n",
              "      <th>LP001008</th>\n",
              "      <td>Male</td>\n",
              "      <td>No</td>\n",
              "      <td>0</td>\n",
              "      <td>Graduate</td>\n",
              "      <td>No</td>\n",
              "      <td>6000</td>\n",
              "      <td>0.0</td>\n",
              "      <td>141.0</td>\n",
              "      <td>360.0</td>\n",
              "      <td>1.0</td>\n",
              "      <td>Urban</td>\n",
              "      <td>Y</td>\n",
              "      <td>0.0</td>\n",
              "    </tr>\n",
              "    <tr>\n",
              "      <th>...</th>\n",
              "      <td>...</td>\n",
              "      <td>...</td>\n",
              "      <td>...</td>\n",
              "      <td>...</td>\n",
              "      <td>...</td>\n",
              "      <td>...</td>\n",
              "      <td>...</td>\n",
              "      <td>...</td>\n",
              "      <td>...</td>\n",
              "      <td>...</td>\n",
              "      <td>...</td>\n",
              "      <td>...</td>\n",
              "      <td>...</td>\n",
              "    </tr>\n",
              "    <tr>\n",
              "      <th>LP002971</th>\n",
              "      <td>Male</td>\n",
              "      <td>Yes</td>\n",
              "      <td>3+</td>\n",
              "      <td>Not Graduate</td>\n",
              "      <td>Yes</td>\n",
              "      <td>4009</td>\n",
              "      <td>1777.0</td>\n",
              "      <td>113.0</td>\n",
              "      <td>360.0</td>\n",
              "      <td>1.0</td>\n",
              "      <td>Urban</td>\n",
              "      <td>NaN</td>\n",
              "      <td>1.0</td>\n",
              "    </tr>\n",
              "    <tr>\n",
              "      <th>LP002975</th>\n",
              "      <td>Male</td>\n",
              "      <td>Yes</td>\n",
              "      <td>0</td>\n",
              "      <td>Graduate</td>\n",
              "      <td>No</td>\n",
              "      <td>4158</td>\n",
              "      <td>709.0</td>\n",
              "      <td>115.0</td>\n",
              "      <td>360.0</td>\n",
              "      <td>1.0</td>\n",
              "      <td>Urban</td>\n",
              "      <td>NaN</td>\n",
              "      <td>0.0</td>\n",
              "    </tr>\n",
              "    <tr>\n",
              "      <th>LP002980</th>\n",
              "      <td>Male</td>\n",
              "      <td>No</td>\n",
              "      <td>0</td>\n",
              "      <td>Graduate</td>\n",
              "      <td>No</td>\n",
              "      <td>3250</td>\n",
              "      <td>1993.0</td>\n",
              "      <td>126.0</td>\n",
              "      <td>360.0</td>\n",
              "      <td>NaN</td>\n",
              "      <td>Semiurban</td>\n",
              "      <td>NaN</td>\n",
              "      <td>0.0</td>\n",
              "    </tr>\n",
              "    <tr>\n",
              "      <th>LP002986</th>\n",
              "      <td>Male</td>\n",
              "      <td>Yes</td>\n",
              "      <td>0</td>\n",
              "      <td>Graduate</td>\n",
              "      <td>No</td>\n",
              "      <td>5000</td>\n",
              "      <td>2393.0</td>\n",
              "      <td>158.0</td>\n",
              "      <td>360.0</td>\n",
              "      <td>1.0</td>\n",
              "      <td>Rural</td>\n",
              "      <td>NaN</td>\n",
              "      <td>0.0</td>\n",
              "    </tr>\n",
              "    <tr>\n",
              "      <th>LP002989</th>\n",
              "      <td>Male</td>\n",
              "      <td>No</td>\n",
              "      <td>0</td>\n",
              "      <td>Graduate</td>\n",
              "      <td>Yes</td>\n",
              "      <td>9200</td>\n",
              "      <td>0.0</td>\n",
              "      <td>98.0</td>\n",
              "      <td>180.0</td>\n",
              "      <td>1.0</td>\n",
              "      <td>Rural</td>\n",
              "      <td>NaN</td>\n",
              "      <td>0.0</td>\n",
              "    </tr>\n",
              "  </tbody>\n",
              "</table>\n",
              "<p>981 rows × 13 columns</p>\n",
              "</div>"
            ],
            "text/plain": [
              "         Gender Married Dependents  ... Property_Area Loan_Status  Kids>3\n",
              "Loan_ID                             ...                                  \n",
              "LP001002   Male      No          0  ...         Urban           Y     0.0\n",
              "LP001003   Male     Yes          1  ...         Rural           N     0.0\n",
              "LP001005   Male     Yes          0  ...         Urban           Y     0.0\n",
              "LP001006   Male     Yes          0  ...         Urban           Y     0.0\n",
              "LP001008   Male      No          0  ...         Urban           Y     0.0\n",
              "...         ...     ...        ...  ...           ...         ...     ...\n",
              "LP002971   Male     Yes         3+  ...         Urban         NaN     1.0\n",
              "LP002975   Male     Yes          0  ...         Urban         NaN     0.0\n",
              "LP002980   Male      No          0  ...     Semiurban         NaN     0.0\n",
              "LP002986   Male     Yes          0  ...         Rural         NaN     0.0\n",
              "LP002989   Male      No          0  ...         Rural         NaN     0.0\n",
              "\n",
              "[981 rows x 13 columns]"
            ]
          },
          "metadata": {
            "tags": []
          },
          "execution_count": 13
        }
      ]
    },
    {
      "cell_type": "code",
      "metadata": {
        "id": "ERSNySKm-wNM",
        "colab_type": "code",
        "colab": {
          "base_uri": "https://localhost:8080/",
          "height": 504
        },
        "outputId": "0ee29883-cc7a-4e3d-f79c-04ac598e47af"
      },
      "source": [
        "train_data"
      ],
      "execution_count": null,
      "outputs": [
        {
          "output_type": "execute_result",
          "data": {
            "text/html": [
              "<div>\n",
              "<style scoped>\n",
              "    .dataframe tbody tr th:only-of-type {\n",
              "        vertical-align: middle;\n",
              "    }\n",
              "\n",
              "    .dataframe tbody tr th {\n",
              "        vertical-align: top;\n",
              "    }\n",
              "\n",
              "    .dataframe thead th {\n",
              "        text-align: right;\n",
              "    }\n",
              "</style>\n",
              "<table border=\"1\" class=\"dataframe\">\n",
              "  <thead>\n",
              "    <tr style=\"text-align: right;\">\n",
              "      <th></th>\n",
              "      <th>Gender</th>\n",
              "      <th>Married</th>\n",
              "      <th>Dependents</th>\n",
              "      <th>Education</th>\n",
              "      <th>Self_Employed</th>\n",
              "      <th>ApplicantIncome</th>\n",
              "      <th>CoapplicantIncome</th>\n",
              "      <th>LoanAmount</th>\n",
              "      <th>Loan_Amount_Term</th>\n",
              "      <th>Credit_History</th>\n",
              "      <th>Property_Area</th>\n",
              "      <th>Loan_Status</th>\n",
              "      <th>Kids&gt;3</th>\n",
              "    </tr>\n",
              "    <tr>\n",
              "      <th>Loan_ID</th>\n",
              "      <th></th>\n",
              "      <th></th>\n",
              "      <th></th>\n",
              "      <th></th>\n",
              "      <th></th>\n",
              "      <th></th>\n",
              "      <th></th>\n",
              "      <th></th>\n",
              "      <th></th>\n",
              "      <th></th>\n",
              "      <th></th>\n",
              "      <th></th>\n",
              "      <th></th>\n",
              "    </tr>\n",
              "  </thead>\n",
              "  <tbody>\n",
              "    <tr>\n",
              "      <th>LP001002</th>\n",
              "      <td>Male</td>\n",
              "      <td>No</td>\n",
              "      <td>0</td>\n",
              "      <td>Graduate</td>\n",
              "      <td>No</td>\n",
              "      <td>5849</td>\n",
              "      <td>0.0</td>\n",
              "      <td>NaN</td>\n",
              "      <td>360.0</td>\n",
              "      <td>1.0</td>\n",
              "      <td>Urban</td>\n",
              "      <td>Y</td>\n",
              "      <td>0.0</td>\n",
              "    </tr>\n",
              "    <tr>\n",
              "      <th>LP001003</th>\n",
              "      <td>Male</td>\n",
              "      <td>Yes</td>\n",
              "      <td>1</td>\n",
              "      <td>Graduate</td>\n",
              "      <td>No</td>\n",
              "      <td>4583</td>\n",
              "      <td>1508.0</td>\n",
              "      <td>128.0</td>\n",
              "      <td>360.0</td>\n",
              "      <td>1.0</td>\n",
              "      <td>Rural</td>\n",
              "      <td>N</td>\n",
              "      <td>0.0</td>\n",
              "    </tr>\n",
              "    <tr>\n",
              "      <th>LP001005</th>\n",
              "      <td>Male</td>\n",
              "      <td>Yes</td>\n",
              "      <td>0</td>\n",
              "      <td>Graduate</td>\n",
              "      <td>Yes</td>\n",
              "      <td>3000</td>\n",
              "      <td>0.0</td>\n",
              "      <td>66.0</td>\n",
              "      <td>360.0</td>\n",
              "      <td>1.0</td>\n",
              "      <td>Urban</td>\n",
              "      <td>Y</td>\n",
              "      <td>0.0</td>\n",
              "    </tr>\n",
              "    <tr>\n",
              "      <th>LP001006</th>\n",
              "      <td>Male</td>\n",
              "      <td>Yes</td>\n",
              "      <td>0</td>\n",
              "      <td>Not Graduate</td>\n",
              "      <td>No</td>\n",
              "      <td>2583</td>\n",
              "      <td>2358.0</td>\n",
              "      <td>120.0</td>\n",
              "      <td>360.0</td>\n",
              "      <td>1.0</td>\n",
              "      <td>Urban</td>\n",
              "      <td>Y</td>\n",
              "      <td>0.0</td>\n",
              "    </tr>\n",
              "    <tr>\n",
              "      <th>LP001008</th>\n",
              "      <td>Male</td>\n",
              "      <td>No</td>\n",
              "      <td>0</td>\n",
              "      <td>Graduate</td>\n",
              "      <td>No</td>\n",
              "      <td>6000</td>\n",
              "      <td>0.0</td>\n",
              "      <td>141.0</td>\n",
              "      <td>360.0</td>\n",
              "      <td>1.0</td>\n",
              "      <td>Urban</td>\n",
              "      <td>Y</td>\n",
              "      <td>0.0</td>\n",
              "    </tr>\n",
              "    <tr>\n",
              "      <th>...</th>\n",
              "      <td>...</td>\n",
              "      <td>...</td>\n",
              "      <td>...</td>\n",
              "      <td>...</td>\n",
              "      <td>...</td>\n",
              "      <td>...</td>\n",
              "      <td>...</td>\n",
              "      <td>...</td>\n",
              "      <td>...</td>\n",
              "      <td>...</td>\n",
              "      <td>...</td>\n",
              "      <td>...</td>\n",
              "      <td>...</td>\n",
              "    </tr>\n",
              "    <tr>\n",
              "      <th>LP002971</th>\n",
              "      <td>Male</td>\n",
              "      <td>Yes</td>\n",
              "      <td>3+</td>\n",
              "      <td>Not Graduate</td>\n",
              "      <td>Yes</td>\n",
              "      <td>4009</td>\n",
              "      <td>1777.0</td>\n",
              "      <td>113.0</td>\n",
              "      <td>360.0</td>\n",
              "      <td>1.0</td>\n",
              "      <td>Urban</td>\n",
              "      <td>NaN</td>\n",
              "      <td>1.0</td>\n",
              "    </tr>\n",
              "    <tr>\n",
              "      <th>LP002975</th>\n",
              "      <td>Male</td>\n",
              "      <td>Yes</td>\n",
              "      <td>0</td>\n",
              "      <td>Graduate</td>\n",
              "      <td>No</td>\n",
              "      <td>4158</td>\n",
              "      <td>709.0</td>\n",
              "      <td>115.0</td>\n",
              "      <td>360.0</td>\n",
              "      <td>1.0</td>\n",
              "      <td>Urban</td>\n",
              "      <td>NaN</td>\n",
              "      <td>0.0</td>\n",
              "    </tr>\n",
              "    <tr>\n",
              "      <th>LP002980</th>\n",
              "      <td>Male</td>\n",
              "      <td>No</td>\n",
              "      <td>0</td>\n",
              "      <td>Graduate</td>\n",
              "      <td>No</td>\n",
              "      <td>3250</td>\n",
              "      <td>1993.0</td>\n",
              "      <td>126.0</td>\n",
              "      <td>360.0</td>\n",
              "      <td>NaN</td>\n",
              "      <td>Semiurban</td>\n",
              "      <td>NaN</td>\n",
              "      <td>0.0</td>\n",
              "    </tr>\n",
              "    <tr>\n",
              "      <th>LP002986</th>\n",
              "      <td>Male</td>\n",
              "      <td>Yes</td>\n",
              "      <td>0</td>\n",
              "      <td>Graduate</td>\n",
              "      <td>No</td>\n",
              "      <td>5000</td>\n",
              "      <td>2393.0</td>\n",
              "      <td>158.0</td>\n",
              "      <td>360.0</td>\n",
              "      <td>1.0</td>\n",
              "      <td>Rural</td>\n",
              "      <td>NaN</td>\n",
              "      <td>0.0</td>\n",
              "    </tr>\n",
              "    <tr>\n",
              "      <th>LP002989</th>\n",
              "      <td>Male</td>\n",
              "      <td>No</td>\n",
              "      <td>0</td>\n",
              "      <td>Graduate</td>\n",
              "      <td>Yes</td>\n",
              "      <td>9200</td>\n",
              "      <td>0.0</td>\n",
              "      <td>98.0</td>\n",
              "      <td>180.0</td>\n",
              "      <td>1.0</td>\n",
              "      <td>Rural</td>\n",
              "      <td>NaN</td>\n",
              "      <td>0.0</td>\n",
              "    </tr>\n",
              "  </tbody>\n",
              "</table>\n",
              "<p>981 rows × 13 columns</p>\n",
              "</div>"
            ],
            "text/plain": [
              "         Gender Married Dependents  ... Property_Area Loan_Status  Kids>3\n",
              "Loan_ID                             ...                                  \n",
              "LP001002   Male      No          0  ...         Urban           Y     0.0\n",
              "LP001003   Male     Yes          1  ...         Rural           N     0.0\n",
              "LP001005   Male     Yes          0  ...         Urban           Y     0.0\n",
              "LP001006   Male     Yes          0  ...         Urban           Y     0.0\n",
              "LP001008   Male      No          0  ...         Urban           Y     0.0\n",
              "...         ...     ...        ...  ...           ...         ...     ...\n",
              "LP002971   Male     Yes         3+  ...         Urban         NaN     1.0\n",
              "LP002975   Male     Yes          0  ...         Urban         NaN     0.0\n",
              "LP002980   Male      No          0  ...     Semiurban         NaN     0.0\n",
              "LP002986   Male     Yes          0  ...         Rural         NaN     0.0\n",
              "LP002989   Male      No          0  ...         Rural         NaN     0.0\n",
              "\n",
              "[981 rows x 13 columns]"
            ]
          },
          "metadata": {
            "tags": []
          },
          "execution_count": 14
        }
      ]
    },
    {
      "cell_type": "code",
      "metadata": {
        "id": "rp3N0jL9-xhP",
        "colab_type": "code",
        "colab": {
          "base_uri": "https://localhost:8080/",
          "height": 255
        },
        "outputId": "acf026d9-0a20-44ff-c9b2-579891d5bc10"
      },
      "source": [
        "train_data.isnull().sum()"
      ],
      "execution_count": null,
      "outputs": [
        {
          "output_type": "execute_result",
          "data": {
            "text/plain": [
              "Gender                24\n",
              "Married                3\n",
              "Dependents            25\n",
              "Education              0\n",
              "Self_Employed         55\n",
              "ApplicantIncome        0\n",
              "CoapplicantIncome      0\n",
              "LoanAmount            27\n",
              "Loan_Amount_Term      20\n",
              "Credit_History        79\n",
              "Property_Area          0\n",
              "Loan_Status          367\n",
              "Kids>3                 0\n",
              "dtype: int64"
            ]
          },
          "metadata": {
            "tags": []
          },
          "execution_count": 15
        }
      ]
    },
    {
      "cell_type": "code",
      "metadata": {
        "id": "nv0yTuF1-2lv",
        "colab_type": "code",
        "colab": {}
      },
      "source": [
        "data = train_data"
      ],
      "execution_count": null,
      "outputs": []
    },
    {
      "cell_type": "code",
      "metadata": {
        "id": "Xd7n1MSN-7zu",
        "colab_type": "code",
        "colab": {
          "base_uri": "https://localhost:8080/",
          "height": 34
        },
        "outputId": "f035b625-d257-4344-aae0-5da2496f7e34"
      },
      "source": [
        "data.Gender.unique()"
      ],
      "execution_count": null,
      "outputs": [
        {
          "output_type": "execute_result",
          "data": {
            "text/plain": [
              "array(['Male', 'Female', nan], dtype=object)"
            ]
          },
          "metadata": {
            "tags": []
          },
          "execution_count": 17
        }
      ]
    },
    {
      "cell_type": "code",
      "metadata": {
        "id": "BS_9WPRC_r3T",
        "colab_type": "code",
        "colab": {
          "base_uri": "https://localhost:8080/",
          "height": 34
        },
        "outputId": "d69b8ed6-3386-4b80-b23f-13794516e7c0"
      },
      "source": [
        "np.where(data.Gender == 'NaN')"
      ],
      "execution_count": null,
      "outputs": [
        {
          "output_type": "execute_result",
          "data": {
            "text/plain": [
              "(array([], dtype=int64),)"
            ]
          },
          "metadata": {
            "tags": []
          },
          "execution_count": 18
        }
      ]
    },
    {
      "cell_type": "code",
      "metadata": {
        "id": "NXrBJFbbAKVt",
        "colab_type": "code",
        "colab": {
          "base_uri": "https://localhost:8080/",
          "height": 1000
        },
        "outputId": "557b09dc-1091-4db4-8f66-2e9529985360"
      },
      "source": [
        "for i in range(len(data)):\n",
        "  print('{i}'.format(i = i), data.Gender[i])"
      ],
      "execution_count": null,
      "outputs": [
        {
          "output_type": "stream",
          "text": [
            "0 Male\n",
            "1 Male\n",
            "2 Male\n",
            "3 Male\n",
            "4 Male\n",
            "5 Male\n",
            "6 Male\n",
            "7 Male\n",
            "8 Male\n",
            "9 Male\n",
            "10 Male\n",
            "11 Male\n",
            "12 Male\n",
            "13 Male\n",
            "14 Male\n",
            "15 Male\n",
            "16 Male\n",
            "17 Female\n",
            "18 Male\n",
            "19 Male\n",
            "20 Male\n",
            "21 Male\n",
            "22 Male\n",
            "23 nan\n",
            "24 Male\n",
            "25 Male\n",
            "26 Male\n",
            "27 Male\n",
            "28 Male\n",
            "29 Female\n",
            "30 Male\n",
            "31 Male\n",
            "32 Male\n",
            "33 Male\n",
            "34 Male\n",
            "35 Male\n",
            "36 Male\n",
            "37 Female\n",
            "38 Male\n",
            "39 Male\n",
            "40 Male\n",
            "41 Male\n",
            "42 Male\n",
            "43 Male\n",
            "44 Male\n",
            "45 Female\n",
            "46 Male\n",
            "47 Male\n",
            "48 Female\n",
            "49 Female\n",
            "50 Female\n",
            "51 Female\n",
            "52 Female\n",
            "53 Male\n",
            "54 Female\n",
            "55 Male\n",
            "56 Male\n",
            "57 Male\n",
            "58 Male\n",
            "59 Male\n",
            "60 Male\n",
            "61 Male\n",
            "62 Male\n",
            "63 Male\n",
            "64 Female\n",
            "65 Male\n",
            "66 Male\n",
            "67 Male\n",
            "68 Male\n",
            "69 Female\n",
            "70 Male\n",
            "71 Male\n",
            "72 Male\n",
            "73 Male\n",
            "74 Male\n",
            "75 Male\n",
            "76 Male\n",
            "77 Male\n",
            "78 Male\n",
            "79 Male\n",
            "80 Female\n",
            "81 Male\n",
            "82 Female\n",
            "83 Male\n",
            "84 Male\n",
            "85 Male\n",
            "86 Male\n",
            "87 Male\n",
            "88 Male\n",
            "89 Male\n",
            "90 Male\n",
            "91 Male\n",
            "92 Male\n",
            "93 Male\n",
            "94 Male\n",
            "95 Male\n",
            "96 Female\n",
            "97 Male\n",
            "98 Male\n",
            "99 Male\n",
            "100 Male\n",
            "101 Male\n",
            "102 Male\n",
            "103 Male\n",
            "104 Male\n",
            "105 Male\n",
            "106 Male\n",
            "107 Male\n",
            "108 Male\n",
            "109 Male\n",
            "110 Male\n",
            "111 Female\n",
            "112 Male\n",
            "113 Female\n",
            "114 Male\n",
            "115 Male\n",
            "116 Female\n",
            "117 Male\n",
            "118 Male\n",
            "119 Female\n",
            "120 Male\n",
            "121 Female\n",
            "122 Female\n",
            "123 Male\n",
            "124 Male\n",
            "125 Female\n",
            "126 nan\n",
            "127 Male\n",
            "128 Male\n",
            "129 Male\n",
            "130 Male\n",
            "131 Male\n",
            "132 Male\n",
            "133 Male\n",
            "134 Male\n",
            "135 Male\n",
            "136 Female\n",
            "137 Male\n",
            "138 Male\n",
            "139 Male\n",
            "140 Male\n",
            "141 Male\n",
            "142 Male\n",
            "143 Male\n",
            "144 Male\n",
            "145 Female\n",
            "146 Female\n",
            "147 Male\n",
            "148 Female\n",
            "149 Male\n",
            "150 Male\n",
            "151 Male\n",
            "152 Male\n",
            "153 Male\n",
            "154 Male\n",
            "155 Male\n",
            "156 Male\n",
            "157 Male\n",
            "158 Male\n",
            "159 Male\n",
            "160 Male\n",
            "161 Male\n",
            "162 Male\n",
            "163 Male\n",
            "164 Male\n",
            "165 Male\n",
            "166 Female\n",
            "167 Male\n",
            "168 Male\n",
            "169 Male\n",
            "170 Male\n",
            "171 nan\n",
            "172 Male\n",
            "173 Male\n",
            "174 Male\n",
            "175 Male\n",
            "176 Male\n",
            "177 Male\n",
            "178 Male\n",
            "179 Male\n",
            "180 Male\n",
            "181 Male\n",
            "182 Male\n",
            "183 Male\n",
            "184 Female\n",
            "185 Male\n",
            "186 Male\n",
            "187 Male\n",
            "188 nan\n",
            "189 Male\n",
            "190 Male\n",
            "191 Male\n",
            "192 Male\n",
            "193 Male\n",
            "194 Male\n",
            "195 Male\n",
            "196 Male\n",
            "197 Female\n",
            "198 Female\n",
            "199 Male\n",
            "200 Male\n",
            "201 Male\n",
            "202 Male\n",
            "203 Male\n",
            "204 Male\n",
            "205 Female\n",
            "206 Female\n",
            "207 Male\n",
            "208 Male\n",
            "209 Male\n",
            "210 Female\n",
            "211 Male\n",
            "212 Male\n",
            "213 Male\n",
            "214 Male\n",
            "215 Male\n",
            "216 Male\n",
            "217 Male\n",
            "218 Male\n",
            "219 Female\n",
            "220 Male\n",
            "221 Male\n",
            "222 Male\n",
            "223 Male\n",
            "224 Male\n",
            "225 Male\n",
            "226 Male\n",
            "227 Male\n",
            "228 Male\n",
            "229 Male\n",
            "230 Male\n",
            "231 Male\n",
            "232 Male\n",
            "233 Female\n",
            "234 Male\n",
            "235 Male\n",
            "236 Male\n",
            "237 Female\n",
            "238 Female\n",
            "239 Male\n",
            "240 Male\n",
            "241 Male\n",
            "242 Male\n",
            "243 Male\n",
            "244 Male\n",
            "245 Male\n",
            "246 Male\n",
            "247 Male\n",
            "248 Male\n",
            "249 Male\n",
            "250 Male\n",
            "251 Female\n",
            "252 Male\n",
            "253 Male\n",
            "254 Male\n",
            "255 Female\n",
            "256 Male\n",
            "257 Male\n",
            "258 Male\n",
            "259 Male\n",
            "260 Male\n",
            "261 Male\n",
            "262 Female\n",
            "263 Female\n",
            "264 Male\n",
            "265 Male\n",
            "266 Male\n",
            "267 Male\n",
            "268 Female\n",
            "269 Female\n",
            "270 Female\n",
            "271 Male\n",
            "272 Male\n",
            "273 Male\n",
            "274 Male\n",
            "275 Male\n",
            "276 Male\n",
            "277 Male\n",
            "278 Male\n",
            "279 Female\n",
            "280 Male\n",
            "281 Male\n",
            "282 Male\n",
            "283 Female\n",
            "284 Male\n",
            "285 Male\n",
            "286 Female\n",
            "287 Male\n",
            "288 Female\n",
            "289 Male\n",
            "290 Male\n",
            "291 Male\n",
            "292 Male\n",
            "293 Female\n",
            "294 Male\n",
            "295 Male\n",
            "296 Male\n",
            "297 Female\n",
            "298 Female\n",
            "299 Male\n",
            "300 Male\n",
            "301 Male\n",
            "302 Female\n",
            "303 Male\n",
            "304 Male\n",
            "305 Male\n",
            "306 Female\n",
            "307 Female\n",
            "308 Male\n",
            "309 Male\n",
            "310 Female\n",
            "311 Male\n",
            "312 Female\n",
            "313 Male\n",
            "314 nan\n",
            "315 Male\n",
            "316 Male\n",
            "317 Male\n",
            "318 Female\n",
            "319 Male\n",
            "320 Male\n",
            "321 Male\n",
            "322 Male\n",
            "323 Female\n",
            "324 Male\n",
            "325 Male\n",
            "326 Male\n",
            "327 Male\n",
            "328 Female\n",
            "329 Female\n",
            "330 Male\n",
            "331 Male\n",
            "332 Male\n",
            "333 Male\n",
            "334 nan\n",
            "335 Male\n",
            "336 Male\n",
            "337 Male\n",
            "338 Female\n",
            "339 Female\n",
            "340 Male\n",
            "341 Female\n",
            "342 Male\n",
            "343 Male\n",
            "344 Male\n",
            "345 Male\n",
            "346 Male\n",
            "347 Male\n",
            "348 Male\n",
            "349 Male\n",
            "350 Male\n",
            "351 Male\n",
            "352 Male\n",
            "353 Female\n",
            "354 Female\n",
            "355 Female\n",
            "356 Male\n",
            "357 Male\n",
            "358 Male\n",
            "359 Male\n",
            "360 Female\n",
            "361 Male\n",
            "362 Male\n",
            "363 Male\n",
            "364 Male\n",
            "365 Male\n",
            "366 Male\n",
            "367 Male\n",
            "368 Male\n",
            "369 Male\n",
            "370 Female\n",
            "371 Male\n",
            "372 Male\n",
            "373 Male\n",
            "374 Female\n",
            "375 Male\n",
            "376 Male\n",
            "377 Male\n",
            "378 Male\n",
            "379 Male\n",
            "380 Male\n",
            "381 Male\n",
            "382 Female\n",
            "383 Male\n",
            "384 Male\n",
            "385 Male\n",
            "386 Male\n",
            "387 Male\n",
            "388 Male\n",
            "389 Male\n",
            "390 Male\n",
            "391 Male\n",
            "392 Male\n",
            "393 Male\n",
            "394 Male\n",
            "395 Male\n",
            "396 Female\n",
            "397 Male\n",
            "398 Male\n",
            "399 Female\n",
            "400 Male\n",
            "401 Male\n",
            "402 Male\n",
            "403 Female\n",
            "404 Female\n",
            "405 Female\n",
            "406 Male\n",
            "407 Female\n",
            "408 Male\n",
            "409 Male\n",
            "410 Female\n",
            "411 Male\n",
            "412 Male\n",
            "413 Male\n",
            "414 Female\n",
            "415 Female\n",
            "416 Female\n",
            "417 Male\n",
            "418 Male\n",
            "419 Male\n",
            "420 Male\n",
            "421 Female\n",
            "422 Male\n",
            "423 Male\n",
            "424 Male\n",
            "425 Male\n",
            "426 Female\n",
            "427 Male\n",
            "428 Male\n",
            "429 Male\n",
            "430 Female\n",
            "431 Male\n",
            "432 Male\n",
            "433 Male\n",
            "434 Male\n",
            "435 Female\n",
            "436 Male\n",
            "437 Male\n",
            "438 Male\n",
            "439 Female\n",
            "440 Male\n",
            "441 Male\n",
            "442 Male\n",
            "443 Male\n",
            "444 Male\n",
            "445 Male\n",
            "446 Male\n",
            "447 Male\n",
            "448 Male\n",
            "449 Male\n",
            "450 Male\n",
            "451 Male\n",
            "452 Male\n",
            "453 Male\n",
            "454 Male\n",
            "455 Male\n",
            "456 Male\n",
            "457 Male\n",
            "458 Male\n",
            "459 Male\n",
            "460 nan\n",
            "461 Male\n",
            "462 Male\n",
            "463 Female\n",
            "464 Male\n",
            "465 Male\n",
            "466 Male\n",
            "467 nan\n",
            "468 Female\n",
            "469 Male\n",
            "470 Male\n",
            "471 Male\n",
            "472 Male\n",
            "473 Female\n",
            "474 Male\n",
            "475 Male\n",
            "476 Male\n",
            "477 nan\n",
            "478 Male\n",
            "479 Male\n",
            "480 Female\n",
            "481 Male\n",
            "482 Male\n",
            "483 Male\n",
            "484 Male\n",
            "485 Male\n",
            "486 Male\n",
            "487 Male\n",
            "488 Male\n",
            "489 Male\n",
            "490 Male\n",
            "491 Male\n",
            "492 Male\n",
            "493 Female\n",
            "494 Male\n",
            "495 Female\n",
            "496 Male\n",
            "497 Male\n",
            "498 Male\n",
            "499 Male\n",
            "500 Female\n",
            "501 Female\n",
            "502 Male\n",
            "503 Male\n",
            "504 Male\n",
            "505 Male\n",
            "506 Male\n",
            "507 nan\n",
            "508 Male\n",
            "509 Female\n",
            "510 Male\n",
            "511 Male\n",
            "512 Male\n",
            "513 Male\n",
            "514 Male\n",
            "515 Male\n",
            "516 Female\n",
            "517 Male\n",
            "518 Male\n",
            "519 Female\n",
            "520 Male\n",
            "521 Male\n",
            "522 Male\n",
            "523 Male\n",
            "524 Male\n",
            "525 Male\n",
            "526 Male\n",
            "527 Male\n",
            "528 Male\n",
            "529 Male\n",
            "530 Male\n",
            "531 Male\n",
            "532 Male\n",
            "533 Male\n",
            "534 Female\n",
            "535 Male\n",
            "536 Male\n",
            "537 Male\n",
            "538 Male\n",
            "539 Male\n",
            "540 Female\n",
            "541 Female\n",
            "542 Female\n",
            "543 Male\n",
            "544 Female\n",
            "545 Male\n",
            "546 Male\n",
            "547 Male\n",
            "548 Female\n",
            "549 Male\n",
            "550 Male\n",
            "551 Male\n",
            "552 Male\n",
            "553 Male\n",
            "554 Male\n",
            "555 Male\n",
            "556 Female\n",
            "557 Male\n",
            "558 Male\n",
            "559 Female\n",
            "560 Male\n",
            "561 Female\n",
            "562 Male\n",
            "563 Male\n",
            "564 Male\n",
            "565 Male\n",
            "566 Male\n",
            "567 Male\n",
            "568 Female\n",
            "569 Male\n",
            "570 Male\n",
            "571 Male\n",
            "572 Male\n",
            "573 Male\n",
            "574 Male\n",
            "575 Male\n",
            "576 nan\n",
            "577 Male\n",
            "578 Male\n",
            "579 Male\n",
            "580 Male\n",
            "581 Male\n",
            "582 Female\n",
            "583 Male\n",
            "584 Male\n",
            "585 Male\n",
            "586 Male\n",
            "587 Female\n",
            "588 nan\n",
            "589 Male\n",
            "590 Male\n",
            "591 Male\n",
            "592 nan\n",
            "593 Male\n",
            "594 Male\n",
            "595 Male\n",
            "596 Male\n",
            "597 Male\n",
            "598 Male\n",
            "599 Male\n",
            "600 Female\n",
            "601 Male\n",
            "602 Male\n",
            "603 Male\n",
            "604 Female\n",
            "605 Male\n",
            "606 Male\n",
            "607 Male\n",
            "608 Male\n",
            "609 Female\n",
            "610 Male\n",
            "611 Male\n",
            "612 Male\n",
            "613 Female\n",
            "614 Male\n",
            "615 Male\n",
            "616 Male\n",
            "617 Male\n",
            "618 Male\n",
            "619 Male\n",
            "620 Female\n",
            "621 Male\n",
            "622 Male\n",
            "623 Male\n",
            "624 Male\n",
            "625 Male\n",
            "626 Male\n",
            "627 Male\n",
            "628 Female\n",
            "629 Male\n",
            "630 Male\n",
            "631 Male\n",
            "632 Male\n",
            "633 Male\n",
            "634 Male\n",
            "635 Female\n",
            "636 nan\n",
            "637 Female\n",
            "638 Male\n",
            "639 Male\n",
            "640 Male\n",
            "641 Male\n",
            "642 Male\n",
            "643 Male\n",
            "644 Female\n",
            "645 Male\n",
            "646 Male\n",
            "647 Male\n",
            "648 Male\n",
            "649 Male\n",
            "650 Male\n",
            "651 Male\n",
            "652 Male\n",
            "653 Male\n",
            "654 Male\n",
            "655 Female\n",
            "656 Male\n",
            "657 Male\n",
            "658 Female\n",
            "659 Male\n",
            "660 Male\n",
            "661 Male\n",
            "662 Male\n",
            "663 Male\n",
            "664 Male\n",
            "665 nan\n",
            "666 Male\n",
            "667 Male\n",
            "668 Male\n",
            "669 Male\n",
            "670 Female\n",
            "671 Male\n",
            "672 Female\n",
            "673 Male\n",
            "674 Male\n",
            "675 Male\n",
            "676 Female\n",
            "677 Female\n",
            "678 Male\n",
            "679 Male\n",
            "680 Male\n",
            "681 Male\n",
            "682 Male\n",
            "683 Male\n",
            "684 Female\n",
            "685 Male\n",
            "686 Male\n",
            "687 Male\n",
            "688 Male\n",
            "689 Male\n",
            "690 Male\n",
            "691 Male\n",
            "692 Male\n",
            "693 Female\n",
            "694 Male\n",
            "695 Male\n",
            "696 Male\n",
            "697 Male\n",
            "698 Male\n",
            "699 Male\n",
            "700 Male\n",
            "701 Male\n",
            "702 Male\n",
            "703 Female\n",
            "704 Male\n",
            "705 Male\n",
            "706 Male\n",
            "707 Male\n",
            "708 Male\n",
            "709 Female\n",
            "710 Male\n",
            "711 Male\n",
            "712 Male\n",
            "713 Male\n",
            "714 Male\n",
            "715 Female\n",
            "716 Male\n",
            "717 Male\n",
            "718 Male\n",
            "719 Female\n",
            "720 nan\n",
            "721 Male\n",
            "722 Male\n",
            "723 Male\n",
            "724 Female\n",
            "725 Male\n",
            "726 Female\n",
            "727 Female\n",
            "728 Male\n",
            "729 Male\n",
            "730 Female\n",
            "731 Male\n",
            "732 Female\n",
            "733 Male\n",
            "734 Male\n",
            "735 Male\n",
            "736 Male\n",
            "737 Male\n",
            "738 Female\n",
            "739 Male\n",
            "740 Male\n",
            "741 Male\n",
            "742 Male\n",
            "743 Male\n",
            "744 Male\n",
            "745 Male\n",
            "746 Male\n",
            "747 Female\n",
            "748 Male\n",
            "749 Male\n",
            "750 Male\n",
            "751 Male\n",
            "752 nan\n",
            "753 Female\n",
            "754 Male\n",
            "755 Male\n",
            "756 Male\n",
            "757 Male\n",
            "758 Male\n",
            "759 Female\n",
            "760 Male\n",
            "761 Male\n",
            "762 Male\n",
            "763 Male\n",
            "764 Male\n",
            "765 Male\n",
            "766 Male\n",
            "767 Male\n",
            "768 Male\n",
            "769 Male\n",
            "770 Male\n",
            "771 Male\n",
            "772 Male\n",
            "773 Male\n",
            "774 Male\n",
            "775 Male\n",
            "776 Male\n",
            "777 Female\n",
            "778 Male\n",
            "779 Male\n",
            "780 Male\n",
            "781 Male\n",
            "782 Female\n",
            "783 Female\n",
            "784 Female\n",
            "785 Male\n",
            "786 Male\n",
            "787 Male\n",
            "788 Male\n",
            "789 Male\n",
            "790 Male\n",
            "791 Female\n",
            "792 Male\n",
            "793 Male\n",
            "794 Male\n",
            "795 Male\n",
            "796 Male\n",
            "797 Female\n",
            "798 Male\n",
            "799 Male\n",
            "800 Male\n",
            "801 Male\n",
            "802 Male\n",
            "803 Male\n",
            "804 Female\n",
            "805 Male\n",
            "806 Male\n",
            "807 Male\n",
            "808 Male\n",
            "809 Male\n",
            "810 Male\n",
            "811 Male\n",
            "812 Male\n",
            "813 Male\n",
            "814 Male\n",
            "815 Male\n",
            "816 Male\n",
            "817 Female\n",
            "818 Female\n",
            "819 Male\n",
            "820 Male\n",
            "821 Male\n",
            "822 Female\n",
            "823 nan\n",
            "824 Female\n",
            "825 Male\n",
            "826 Male\n",
            "827 Male\n",
            "828 Male\n",
            "829 Male\n",
            "830 Male\n",
            "831 Male\n",
            "832 Male\n",
            "833 Male\n",
            "834 Male\n",
            "835 Male\n",
            "836 Male\n",
            "837 Female\n",
            "838 Female\n",
            "839 Female\n",
            "840 Male\n",
            "841 Male\n",
            "842 Male\n",
            "843 Male\n",
            "844 Male\n",
            "845 nan\n",
            "846 Male\n",
            "847 Female\n",
            "848 Female\n",
            "849 Male\n",
            "850 Female\n",
            "851 Male\n",
            "852 Male\n",
            "853 Male\n",
            "854 Male\n",
            "855 Male\n",
            "856 Male\n",
            "857 Male\n",
            "858 Female\n",
            "859 nan\n",
            "860 Male\n",
            "861 Male\n",
            "862 Male\n",
            "863 Male\n",
            "864 Male\n",
            "865 Male\n",
            "866 Female\n",
            "867 Male\n",
            "868 Female\n",
            "869 Male\n",
            "870 Female\n",
            "871 Male\n",
            "872 Male\n",
            "873 Female\n",
            "874 Male\n",
            "875 Male\n",
            "876 Male\n",
            "877 Male\n",
            "878 Male\n",
            "879 Male\n",
            "880 Female\n",
            "881 Female\n",
            "882 Male\n",
            "883 Male\n",
            "884 Female\n",
            "885 Female\n",
            "886 Male\n",
            "887 Male\n",
            "888 Female\n",
            "889 Male\n",
            "890 Male\n",
            "891 Female\n",
            "892 Male\n",
            "893 nan\n",
            "894 Male\n",
            "895 Male\n",
            "896 Female\n",
            "897 Male\n",
            "898 Female\n",
            "899 Male\n",
            "900 Male\n",
            "901 Male\n",
            "902 Male\n",
            "903 Male\n",
            "904 Male\n",
            "905 Male\n",
            "906 Male\n",
            "907 Female\n",
            "908 Male\n",
            "909 Female\n",
            "910 nan\n",
            "911 Male\n",
            "912 Female\n",
            "913 Male\n",
            "914 Male\n",
            "915 Male\n",
            "916 Female\n",
            "917 nan\n",
            "918 Male\n",
            "919 Male\n",
            "920 Male\n",
            "921 Male\n",
            "922 Male\n",
            "923 Male\n",
            "924 Male\n",
            "925 Female\n",
            "926 Male\n",
            "927 Male\n",
            "928 Female\n",
            "929 Female\n",
            "930 Female\n",
            "931 Male\n",
            "932 nan\n",
            "933 Male\n",
            "934 Male\n",
            "935 Female\n",
            "936 Male\n",
            "937 Male\n",
            "938 Male\n",
            "939 Male\n",
            "940 Male\n",
            "941 Male\n",
            "942 Male\n",
            "943 Male\n",
            "944 Male\n",
            "945 Male\n",
            "946 Female\n",
            "947 Female\n",
            "948 Male\n",
            "949 Male\n",
            "950 Female\n",
            "951 Male\n",
            "952 Male\n",
            "953 Female\n",
            "954 Male\n",
            "955 Male\n",
            "956 Male\n",
            "957 Male\n",
            "958 Male\n",
            "959 Male\n",
            "960 Male\n",
            "961 Male\n",
            "962 Male\n",
            "963 Male\n",
            "964 Male\n",
            "965 Male\n",
            "966 Male\n",
            "967 Male\n",
            "968 Male\n",
            "969 Male\n",
            "970 Male\n",
            "971 Male\n",
            "972 Male\n",
            "973 Male\n",
            "974 Female\n",
            "975 Male\n",
            "976 Male\n",
            "977 Male\n",
            "978 Male\n",
            "979 Male\n",
            "980 Male\n"
          ],
          "name": "stdout"
        }
      ]
    },
    {
      "cell_type": "code",
      "metadata": {
        "id": "a68kjxEHA7Ix",
        "colab_type": "code",
        "colab": {
          "base_uri": "https://localhost:8080/",
          "height": 34
        },
        "outputId": "905daf66-eeac-4c02-daa9-b1387cfbcee7"
      },
      "source": [
        "data.Gender[592]"
      ],
      "execution_count": null,
      "outputs": [
        {
          "output_type": "execute_result",
          "data": {
            "text/plain": [
              "nan"
            ]
          },
          "metadata": {
            "tags": []
          },
          "execution_count": 20
        }
      ]
    },
    {
      "cell_type": "code",
      "metadata": {
        "id": "JVh4pjU0ASXn",
        "colab_type": "code",
        "colab": {}
      },
      "source": [
        ""
      ],
      "execution_count": null,
      "outputs": []
    },
    {
      "cell_type": "code",
      "metadata": {
        "id": "bpQN4dsv-9qj",
        "colab_type": "code",
        "colab": {
          "base_uri": "https://localhost:8080/",
          "height": 102
        },
        "outputId": "ec203db2-d21f-4a22-fc20-979de20e79b6"
      },
      "source": [
        "for i in range(len(data)):\n",
        "  if data.Gender[i] != 'Male' and data.Gender[i] != 'Female':\n",
        "    data.Gender[i] = np.random.choice(['Male', 'Female'])"
      ],
      "execution_count": null,
      "outputs": [
        {
          "output_type": "stream",
          "text": [
            "/usr/local/lib/python3.6/dist-packages/ipykernel_launcher.py:3: SettingWithCopyWarning: \n",
            "A value is trying to be set on a copy of a slice from a DataFrame\n",
            "\n",
            "See the caveats in the documentation: https://pandas.pydata.org/pandas-docs/stable/user_guide/indexing.html#returning-a-view-versus-a-copy\n",
            "  This is separate from the ipykernel package so we can avoid doing imports until\n"
          ],
          "name": "stderr"
        }
      ]
    },
    {
      "cell_type": "code",
      "metadata": {
        "id": "3_YCCzbc_aD9",
        "colab_type": "code",
        "colab": {
          "base_uri": "https://localhost:8080/",
          "height": 34
        },
        "outputId": "4d527dc7-3272-44bd-bc49-23fdfec6e210"
      },
      "source": [
        "data.Gender.unique()"
      ],
      "execution_count": null,
      "outputs": [
        {
          "output_type": "execute_result",
          "data": {
            "text/plain": [
              "array(['Male', 'Female'], dtype=object)"
            ]
          },
          "metadata": {
            "tags": []
          },
          "execution_count": 22
        }
      ]
    },
    {
      "cell_type": "code",
      "metadata": {
        "id": "LqnXr2Mf_csK",
        "colab_type": "code",
        "colab": {
          "base_uri": "https://localhost:8080/",
          "height": 255
        },
        "outputId": "4a4f27e6-0978-4c11-895d-2d6de97a6cd2"
      },
      "source": [
        "data.isnull().sum()"
      ],
      "execution_count": null,
      "outputs": [
        {
          "output_type": "execute_result",
          "data": {
            "text/plain": [
              "Gender                 0\n",
              "Married                3\n",
              "Dependents            25\n",
              "Education              0\n",
              "Self_Employed         55\n",
              "ApplicantIncome        0\n",
              "CoapplicantIncome      0\n",
              "LoanAmount            27\n",
              "Loan_Amount_Term      20\n",
              "Credit_History        79\n",
              "Property_Area          0\n",
              "Loan_Status          367\n",
              "Kids>3                 0\n",
              "dtype: int64"
            ]
          },
          "metadata": {
            "tags": []
          },
          "execution_count": 23
        }
      ]
    },
    {
      "cell_type": "code",
      "metadata": {
        "id": "wdTwIy1WBTXn",
        "colab_type": "code",
        "colab": {
          "base_uri": "https://localhost:8080/",
          "height": 34
        },
        "outputId": "7996efae-6faa-4aa5-818e-9de8fe5ae970"
      },
      "source": [
        "data.Dependents.dtype"
      ],
      "execution_count": null,
      "outputs": [
        {
          "output_type": "execute_result",
          "data": {
            "text/plain": [
              "dtype('O')"
            ]
          },
          "metadata": {
            "tags": []
          },
          "execution_count": 24
        }
      ]
    },
    {
      "cell_type": "code",
      "metadata": {
        "id": "nuaeEU3JCd9G",
        "colab_type": "code",
        "colab": {}
      },
      "source": [
        "data.Dependents.replace(to_replace ='3+', value = '3', inplace= True )"
      ],
      "execution_count": null,
      "outputs": []
    },
    {
      "cell_type": "code",
      "metadata": {
        "id": "C7ZHjs1_CsyD",
        "colab_type": "code",
        "colab": {
          "base_uri": "https://localhost:8080/",
          "height": 34
        },
        "outputId": "468eda05-9fd6-4ec1-ab36-86035c313fb1"
      },
      "source": [
        "data.Dependents.unique()"
      ],
      "execution_count": null,
      "outputs": [
        {
          "output_type": "execute_result",
          "data": {
            "text/plain": [
              "array(['0', '1', '2', '3', nan], dtype=object)"
            ]
          },
          "metadata": {
            "tags": []
          },
          "execution_count": 26
        }
      ]
    },
    {
      "cell_type": "code",
      "metadata": {
        "id": "O7SNLdlOCwjp",
        "colab_type": "code",
        "colab": {}
      },
      "source": [
        "from scipy import stats"
      ],
      "execution_count": null,
      "outputs": []
    },
    {
      "cell_type": "code",
      "metadata": {
        "id": "mcTkJCalDBEt",
        "colab_type": "code",
        "colab": {
          "base_uri": "https://localhost:8080/",
          "height": 34
        },
        "outputId": "7884d70e-a356-4e88-bdd8-c1c044ecf229"
      },
      "source": [
        "stats.mode(data.Dependents)"
      ],
      "execution_count": null,
      "outputs": [
        {
          "output_type": "execute_result",
          "data": {
            "text/plain": [
              "ModeResult(mode=array(['0'], dtype=object), count=array([545]))"
            ]
          },
          "metadata": {
            "tags": []
          },
          "execution_count": 28
        }
      ]
    },
    {
      "cell_type": "code",
      "metadata": {
        "id": "XWXpfg9PDIw3",
        "colab_type": "code",
        "colab": {}
      },
      "source": [
        "data.Dependents.fillna(value='0',inplace = True)"
      ],
      "execution_count": null,
      "outputs": []
    },
    {
      "cell_type": "code",
      "metadata": {
        "id": "Bkz4gAS3DZ35",
        "colab_type": "code",
        "colab": {
          "base_uri": "https://localhost:8080/",
          "height": 255
        },
        "outputId": "4ddfc8c4-256f-4a23-dedf-a40e1c2aa1c6"
      },
      "source": [
        "data.isnull().sum()"
      ],
      "execution_count": null,
      "outputs": [
        {
          "output_type": "execute_result",
          "data": {
            "text/plain": [
              "Gender                 0\n",
              "Married                3\n",
              "Dependents             0\n",
              "Education              0\n",
              "Self_Employed         55\n",
              "ApplicantIncome        0\n",
              "CoapplicantIncome      0\n",
              "LoanAmount            27\n",
              "Loan_Amount_Term      20\n",
              "Credit_History        79\n",
              "Property_Area          0\n",
              "Loan_Status          367\n",
              "Kids>3                 0\n",
              "dtype: int64"
            ]
          },
          "metadata": {
            "tags": []
          },
          "execution_count": 30
        }
      ]
    },
    {
      "cell_type": "code",
      "metadata": {
        "id": "5WSFSayTDbqU",
        "colab_type": "code",
        "colab": {
          "base_uri": "https://localhost:8080/",
          "height": 34
        },
        "outputId": "49580bfa-183d-4566-c5c9-66828165be20"
      },
      "source": [
        "stats.mode(data.Married)"
      ],
      "execution_count": null,
      "outputs": [
        {
          "output_type": "execute_result",
          "data": {
            "text/plain": [
              "ModeResult(mode=array(['Yes'], dtype=object), count=array([631]))"
            ]
          },
          "metadata": {
            "tags": []
          },
          "execution_count": 31
        }
      ]
    },
    {
      "cell_type": "code",
      "metadata": {
        "id": "nzE_zhhfDkpq",
        "colab_type": "code",
        "colab": {}
      },
      "source": [
        "data.Married.fillna('Yes', inplace = True)"
      ],
      "execution_count": null,
      "outputs": []
    },
    {
      "cell_type": "code",
      "metadata": {
        "id": "t-rQ1APDDrPa",
        "colab_type": "code",
        "colab": {
          "base_uri": "https://localhost:8080/",
          "height": 255
        },
        "outputId": "1e73fc5f-b3d4-46f4-dcaf-66359828dec8"
      },
      "source": [
        "data.isnull().sum()"
      ],
      "execution_count": null,
      "outputs": [
        {
          "output_type": "execute_result",
          "data": {
            "text/plain": [
              "Gender                 0\n",
              "Married                0\n",
              "Dependents             0\n",
              "Education              0\n",
              "Self_Employed         55\n",
              "ApplicantIncome        0\n",
              "CoapplicantIncome      0\n",
              "LoanAmount            27\n",
              "Loan_Amount_Term      20\n",
              "Credit_History        79\n",
              "Property_Area          0\n",
              "Loan_Status          367\n",
              "Kids>3                 0\n",
              "dtype: int64"
            ]
          },
          "metadata": {
            "tags": []
          },
          "execution_count": 33
        }
      ]
    },
    {
      "cell_type": "code",
      "metadata": {
        "id": "vdh_yidHDtLf",
        "colab_type": "code",
        "colab": {
          "base_uri": "https://localhost:8080/",
          "height": 34
        },
        "outputId": "4e3a42df-7172-44d6-eeb3-ddd486c99827"
      },
      "source": [
        "data.Self_Employed.unique()"
      ],
      "execution_count": null,
      "outputs": [
        {
          "output_type": "execute_result",
          "data": {
            "text/plain": [
              "array(['No', 'Yes', nan], dtype=object)"
            ]
          },
          "metadata": {
            "tags": []
          },
          "execution_count": 34
        }
      ]
    },
    {
      "cell_type": "code",
      "metadata": {
        "id": "w5P0WAHKDxhI",
        "colab_type": "code",
        "colab": {
          "base_uri": "https://localhost:8080/",
          "height": 68
        },
        "outputId": "1bbd92b9-0416-4633-bad1-cf1b5fbc8b05"
      },
      "source": [
        "data.Self_Employed.value_counts()"
      ],
      "execution_count": null,
      "outputs": [
        {
          "output_type": "execute_result",
          "data": {
            "text/plain": [
              "No     807\n",
              "Yes    119\n",
              "Name: Self_Employed, dtype: int64"
            ]
          },
          "metadata": {
            "tags": []
          },
          "execution_count": 35
        }
      ]
    },
    {
      "cell_type": "code",
      "metadata": {
        "id": "YGLcUyxdD02v",
        "colab_type": "code",
        "colab": {}
      },
      "source": [
        "data.Self_Employed.fillna('No', inplace = True)"
      ],
      "execution_count": null,
      "outputs": []
    },
    {
      "cell_type": "code",
      "metadata": {
        "id": "KhulqacaD9DJ",
        "colab_type": "code",
        "colab": {
          "base_uri": "https://localhost:8080/",
          "height": 255
        },
        "outputId": "2867fc6f-cd20-4e85-df71-441dc9cbc60a"
      },
      "source": [
        "data.isnull().sum()"
      ],
      "execution_count": null,
      "outputs": [
        {
          "output_type": "execute_result",
          "data": {
            "text/plain": [
              "Gender                 0\n",
              "Married                0\n",
              "Dependents             0\n",
              "Education              0\n",
              "Self_Employed          0\n",
              "ApplicantIncome        0\n",
              "CoapplicantIncome      0\n",
              "LoanAmount            27\n",
              "Loan_Amount_Term      20\n",
              "Credit_History        79\n",
              "Property_Area          0\n",
              "Loan_Status          367\n",
              "Kids>3                 0\n",
              "dtype: int64"
            ]
          },
          "metadata": {
            "tags": []
          },
          "execution_count": 37
        }
      ]
    },
    {
      "cell_type": "code",
      "metadata": {
        "id": "7OLRhUpOEAax",
        "colab_type": "code",
        "colab": {
          "base_uri": "https://localhost:8080/",
          "height": 391
        },
        "outputId": "e5e9996f-6635-4ca8-c7a7-c007fbce75e1"
      },
      "source": [
        "data.LoanAmount.unique()"
      ],
      "execution_count": null,
      "outputs": [
        {
          "output_type": "execute_result",
          "data": {
            "text/plain": [
              "array([ nan, 128.,  66., 120., 141., 267.,  95., 158., 168., 349.,  70.,\n",
              "       109., 200., 114.,  17., 125., 100.,  76., 133., 115., 104., 315.,\n",
              "       116., 112., 151., 191., 122., 110.,  35., 201.,  74., 106., 320.,\n",
              "       144., 184.,  80.,  47.,  75., 134.,  96.,  88.,  44., 286.,  97.,\n",
              "       135., 180.,  99., 165., 258., 126., 312., 136., 172.,  81., 187.,\n",
              "       113., 176., 130., 111., 167., 265.,  50., 210., 175., 131., 188.,\n",
              "        25., 137., 160., 225., 216.,  94., 139., 152., 118., 185., 154.,\n",
              "        85., 259., 194.,  93., 370., 182., 650., 102., 290.,  84., 242.,\n",
              "       129.,  30., 244., 600., 255.,  98., 275., 121.,  63., 700.,  87.,\n",
              "       101., 495.,  67.,  73., 260., 108.,  58.,  48., 164., 170.,  83.,\n",
              "        90., 166., 124.,  55.,  59., 127., 214., 240.,  72.,  60., 138.,\n",
              "        42., 280., 140., 155., 123., 279., 192., 304., 330., 150., 207.,\n",
              "       436.,  78.,  54.,  89., 143., 105., 132., 480.,  56., 159., 300.,\n",
              "       376., 117.,  71., 490., 173.,  46., 228., 308., 236., 570., 380.,\n",
              "       296., 156., 103.,  45.,  65.,  53., 360.,  62., 218., 178., 239.,\n",
              "       405., 148., 190., 149., 153., 162., 230.,  86., 234., 246., 500.,\n",
              "       186., 119., 107., 209., 208., 243.,  40., 250., 311., 400., 161.,\n",
              "       196., 324., 157., 145., 181.,  26., 211.,   9., 205.,  36.,  61.,\n",
              "       146., 292., 142., 350., 496., 253., 147.,  28.,  57.,  92., 189.,\n",
              "       232., 163., 257.,  77., 390., 256., 213., 550., 199.,  79., 235.,\n",
              "       336., 412., 212.,  64., 171.,  49., 460., 297., 177.,  68., 183.,\n",
              "       254., 197.])"
            ]
          },
          "metadata": {
            "tags": []
          },
          "execution_count": 38
        }
      ]
    },
    {
      "cell_type": "code",
      "metadata": {
        "id": "erj0-GKXEECH",
        "colab_type": "code",
        "colab": {
          "base_uri": "https://localhost:8080/",
          "height": 34
        },
        "outputId": "b7e9a937-f0bb-4d2e-f504-e5900a63c263"
      },
      "source": [
        "np.mean(data.LoanAmount)"
      ],
      "execution_count": null,
      "outputs": [
        {
          "output_type": "execute_result",
          "data": {
            "text/plain": [
              "142.51153039832286"
            ]
          },
          "metadata": {
            "tags": []
          },
          "execution_count": 39
        }
      ]
    },
    {
      "cell_type": "code",
      "metadata": {
        "id": "keK1My6uERNe",
        "colab_type": "code",
        "colab": {}
      },
      "source": [
        "data.LoanAmount.fillna(146, inplace = True)"
      ],
      "execution_count": null,
      "outputs": []
    },
    {
      "cell_type": "code",
      "metadata": {
        "id": "Vv8U3MibEafj",
        "colab_type": "code",
        "colab": {
          "base_uri": "https://localhost:8080/",
          "height": 255
        },
        "outputId": "1c5db779-9fe1-4cd6-cd1b-684c447d61c1"
      },
      "source": [
        "data.isnull().sum()"
      ],
      "execution_count": null,
      "outputs": [
        {
          "output_type": "execute_result",
          "data": {
            "text/plain": [
              "Gender                 0\n",
              "Married                0\n",
              "Dependents             0\n",
              "Education              0\n",
              "Self_Employed          0\n",
              "ApplicantIncome        0\n",
              "CoapplicantIncome      0\n",
              "LoanAmount             0\n",
              "Loan_Amount_Term      20\n",
              "Credit_History        79\n",
              "Property_Area          0\n",
              "Loan_Status          367\n",
              "Kids>3                 0\n",
              "dtype: int64"
            ]
          },
          "metadata": {
            "tags": []
          },
          "execution_count": 41
        }
      ]
    },
    {
      "cell_type": "code",
      "metadata": {
        "id": "_4cP96JEEee7",
        "colab_type": "code",
        "colab": {
          "base_uri": "https://localhost:8080/",
          "height": 51
        },
        "outputId": "ba78f2b5-a1f4-436e-d6f7-7fed4a1bcf3a"
      },
      "source": [
        "\n",
        "data.Loan_Amount_Term.unique()"
      ],
      "execution_count": null,
      "outputs": [
        {
          "output_type": "execute_result",
          "data": {
            "text/plain": [
              "array([360., 120., 240.,  nan, 180.,  60., 300., 480.,  36.,  84.,  12.,\n",
              "       350.,   6.])"
            ]
          },
          "metadata": {
            "tags": []
          },
          "execution_count": 42
        }
      ]
    },
    {
      "cell_type": "code",
      "metadata": {
        "id": "fIFbMoBXEiD7",
        "colab_type": "code",
        "colab": {
          "base_uri": "https://localhost:8080/",
          "height": 34
        },
        "outputId": "5c216319-5e8c-45d5-8705-8e45f6c7e9d5"
      },
      "source": [
        "stats.mode(data.Loan_Amount_Term)"
      ],
      "execution_count": null,
      "outputs": [
        {
          "output_type": "execute_result",
          "data": {
            "text/plain": [
              "ModeResult(mode=array([360.]), count=array([823]))"
            ]
          },
          "metadata": {
            "tags": []
          },
          "execution_count": 43
        }
      ]
    },
    {
      "cell_type": "code",
      "metadata": {
        "id": "mVAgkgUuExjv",
        "colab_type": "code",
        "colab": {}
      },
      "source": [
        "data.Loan_Amount_Term.fillna(360, inplace=True)"
      ],
      "execution_count": null,
      "outputs": []
    },
    {
      "cell_type": "code",
      "metadata": {
        "id": "2DVgF_xkE4P9",
        "colab_type": "code",
        "colab": {
          "base_uri": "https://localhost:8080/",
          "height": 255
        },
        "outputId": "9e863b66-3776-48cd-e313-1fcce51ff7ee"
      },
      "source": [
        "data.isnull().sum()"
      ],
      "execution_count": null,
      "outputs": [
        {
          "output_type": "execute_result",
          "data": {
            "text/plain": [
              "Gender                 0\n",
              "Married                0\n",
              "Dependents             0\n",
              "Education              0\n",
              "Self_Employed          0\n",
              "ApplicantIncome        0\n",
              "CoapplicantIncome      0\n",
              "LoanAmount             0\n",
              "Loan_Amount_Term       0\n",
              "Credit_History        79\n",
              "Property_Area          0\n",
              "Loan_Status          367\n",
              "Kids>3                 0\n",
              "dtype: int64"
            ]
          },
          "metadata": {
            "tags": []
          },
          "execution_count": 45
        }
      ]
    },
    {
      "cell_type": "code",
      "metadata": {
        "id": "UVQ3Xyl0E6DN",
        "colab_type": "code",
        "colab": {
          "base_uri": "https://localhost:8080/",
          "height": 34
        },
        "outputId": "e74da405-cce2-4513-f90f-f0fea7244d55"
      },
      "source": [
        "data.Credit_History.unique()"
      ],
      "execution_count": null,
      "outputs": [
        {
          "output_type": "execute_result",
          "data": {
            "text/plain": [
              "array([ 1.,  0., nan])"
            ]
          },
          "metadata": {
            "tags": []
          },
          "execution_count": 46
        }
      ]
    },
    {
      "cell_type": "code",
      "metadata": {
        "id": "qFnJaFLUE-Ui",
        "colab_type": "code",
        "colab": {
          "base_uri": "https://localhost:8080/",
          "height": 68
        },
        "outputId": "c6e4f1fb-2ece-43e5-db42-438ad48d08d4"
      },
      "source": [
        "data.Credit_History.value_counts()"
      ],
      "execution_count": null,
      "outputs": [
        {
          "output_type": "execute_result",
          "data": {
            "text/plain": [
              "1.0    754\n",
              "0.0    148\n",
              "Name: Credit_History, dtype: int64"
            ]
          },
          "metadata": {
            "tags": []
          },
          "execution_count": 47
        }
      ]
    },
    {
      "cell_type": "code",
      "metadata": {
        "id": "IIlDhF_ZFF9W",
        "colab_type": "code",
        "colab": {}
      },
      "source": [
        "data.Credit_History.fillna(1.0, inplace = True)"
      ],
      "execution_count": null,
      "outputs": []
    },
    {
      "cell_type": "code",
      "metadata": {
        "id": "Skeoelq7FNAf",
        "colab_type": "code",
        "colab": {
          "base_uri": "https://localhost:8080/",
          "height": 255
        },
        "outputId": "dc9d8a68-1a10-4bbc-b224-2bb8ec42ca88"
      },
      "source": [
        "data.isnull().sum()"
      ],
      "execution_count": null,
      "outputs": [
        {
          "output_type": "execute_result",
          "data": {
            "text/plain": [
              "Gender                 0\n",
              "Married                0\n",
              "Dependents             0\n",
              "Education              0\n",
              "Self_Employed          0\n",
              "ApplicantIncome        0\n",
              "CoapplicantIncome      0\n",
              "LoanAmount             0\n",
              "Loan_Amount_Term       0\n",
              "Credit_History         0\n",
              "Property_Area          0\n",
              "Loan_Status          367\n",
              "Kids>3                 0\n",
              "dtype: int64"
            ]
          },
          "metadata": {
            "tags": []
          },
          "execution_count": 49
        }
      ]
    },
    {
      "cell_type": "code",
      "metadata": {
        "id": "lfuNFT7hFPal",
        "colab_type": "code",
        "colab": {}
      },
      "source": [
        "train_data = data"
      ],
      "execution_count": null,
      "outputs": []
    },
    {
      "cell_type": "code",
      "metadata": {
        "id": "PCoT3lOFFSVb",
        "colab_type": "code",
        "colab": {
          "base_uri": "https://localhost:8080/",
          "height": 34
        },
        "outputId": "cdb4a1ab-0554-489f-dc10-a71182afbe8c"
      },
      "source": [
        "data.dtypes[1]"
      ],
      "execution_count": null,
      "outputs": [
        {
          "output_type": "execute_result",
          "data": {
            "text/plain": [
              "dtype('O')"
            ]
          },
          "metadata": {
            "tags": []
          },
          "execution_count": 51
        }
      ]
    },
    {
      "cell_type": "code",
      "metadata": {
        "id": "4CYpwtj0F2mf",
        "colab_type": "code",
        "colab": {
          "base_uri": "https://localhost:8080/",
          "height": 34
        },
        "outputId": "eed3cdbb-0b06-4be3-e746-55cc36a969ab"
      },
      "source": [
        "type(data.columns[1])"
      ],
      "execution_count": null,
      "outputs": [
        {
          "output_type": "execute_result",
          "data": {
            "text/plain": [
              "str"
            ]
          },
          "metadata": {
            "tags": []
          },
          "execution_count": 52
        }
      ]
    },
    {
      "cell_type": "code",
      "metadata": {
        "id": "VGvPZRcxFXbZ",
        "colab_type": "code",
        "colab": {}
      },
      "source": [
        "lst = []\n",
        "for i in range(len(data.columns)):\n",
        "  if data.dtypes[i] == data.dtypes[1]:\n",
        "    lst.append(data.columns[i])"
      ],
      "execution_count": null,
      "outputs": []
    },
    {
      "cell_type": "code",
      "metadata": {
        "id": "G5q-aG5aGJX9",
        "colab_type": "code",
        "colab": {}
      },
      "source": [
        "lst.remove('Loan_Status')"
      ],
      "execution_count": null,
      "outputs": []
    },
    {
      "cell_type": "code",
      "metadata": {
        "id": "jOKV8Ic5GKaz",
        "colab_type": "code",
        "colab": {
          "base_uri": "https://localhost:8080/",
          "height": 255
        },
        "outputId": "2f7a5445-f977-4959-ddeb-df5c5fc7dd8d"
      },
      "source": [
        "data.dtypes"
      ],
      "execution_count": null,
      "outputs": [
        {
          "output_type": "execute_result",
          "data": {
            "text/plain": [
              "Gender                object\n",
              "Married               object\n",
              "Dependents            object\n",
              "Education             object\n",
              "Self_Employed         object\n",
              "ApplicantIncome        int64\n",
              "CoapplicantIncome    float64\n",
              "LoanAmount           float64\n",
              "Loan_Amount_Term     float64\n",
              "Credit_History       float64\n",
              "Property_Area         object\n",
              "Loan_Status           object\n",
              "Kids>3               float64\n",
              "dtype: object"
            ]
          },
          "metadata": {
            "tags": []
          },
          "execution_count": 55
        }
      ]
    },
    {
      "cell_type": "code",
      "metadata": {
        "id": "8ObXLzaJi5zz",
        "colab_type": "code",
        "colab": {
          "base_uri": "https://localhost:8080/",
          "height": 255
        },
        "outputId": "e45b96d8-bbdb-429c-85dd-d94b61b5fb98"
      },
      "source": [
        "train_data.isnull().sum()"
      ],
      "execution_count": null,
      "outputs": [
        {
          "output_type": "execute_result",
          "data": {
            "text/plain": [
              "Gender                 0\n",
              "Married                0\n",
              "Dependents             0\n",
              "Education              0\n",
              "Self_Employed          0\n",
              "ApplicantIncome        0\n",
              "CoapplicantIncome      0\n",
              "LoanAmount             0\n",
              "Loan_Amount_Term       0\n",
              "Credit_History         0\n",
              "Property_Area          0\n",
              "Loan_Status          367\n",
              "Kids>3                 0\n",
              "dtype: int64"
            ]
          },
          "metadata": {
            "tags": []
          },
          "execution_count": 56
        }
      ]
    },
    {
      "cell_type": "code",
      "metadata": {
        "id": "34QW7UUYiuiZ",
        "colab_type": "code",
        "colab": {
          "base_uri": "https://localhost:8080/",
          "height": 504
        },
        "outputId": "8eb03eae-dcfc-4530-f062-82183c49d189"
      },
      "source": [
        "train_data"
      ],
      "execution_count": null,
      "outputs": [
        {
          "output_type": "execute_result",
          "data": {
            "text/html": [
              "<div>\n",
              "<style scoped>\n",
              "    .dataframe tbody tr th:only-of-type {\n",
              "        vertical-align: middle;\n",
              "    }\n",
              "\n",
              "    .dataframe tbody tr th {\n",
              "        vertical-align: top;\n",
              "    }\n",
              "\n",
              "    .dataframe thead th {\n",
              "        text-align: right;\n",
              "    }\n",
              "</style>\n",
              "<table border=\"1\" class=\"dataframe\">\n",
              "  <thead>\n",
              "    <tr style=\"text-align: right;\">\n",
              "      <th></th>\n",
              "      <th>Gender</th>\n",
              "      <th>Married</th>\n",
              "      <th>Dependents</th>\n",
              "      <th>Education</th>\n",
              "      <th>Self_Employed</th>\n",
              "      <th>ApplicantIncome</th>\n",
              "      <th>CoapplicantIncome</th>\n",
              "      <th>LoanAmount</th>\n",
              "      <th>Loan_Amount_Term</th>\n",
              "      <th>Credit_History</th>\n",
              "      <th>Property_Area</th>\n",
              "      <th>Loan_Status</th>\n",
              "      <th>Kids&gt;3</th>\n",
              "    </tr>\n",
              "    <tr>\n",
              "      <th>Loan_ID</th>\n",
              "      <th></th>\n",
              "      <th></th>\n",
              "      <th></th>\n",
              "      <th></th>\n",
              "      <th></th>\n",
              "      <th></th>\n",
              "      <th></th>\n",
              "      <th></th>\n",
              "      <th></th>\n",
              "      <th></th>\n",
              "      <th></th>\n",
              "      <th></th>\n",
              "      <th></th>\n",
              "    </tr>\n",
              "  </thead>\n",
              "  <tbody>\n",
              "    <tr>\n",
              "      <th>LP001002</th>\n",
              "      <td>Male</td>\n",
              "      <td>No</td>\n",
              "      <td>0</td>\n",
              "      <td>Graduate</td>\n",
              "      <td>No</td>\n",
              "      <td>5849</td>\n",
              "      <td>0.0</td>\n",
              "      <td>146.0</td>\n",
              "      <td>360.0</td>\n",
              "      <td>1.0</td>\n",
              "      <td>Urban</td>\n",
              "      <td>Y</td>\n",
              "      <td>0.0</td>\n",
              "    </tr>\n",
              "    <tr>\n",
              "      <th>LP001003</th>\n",
              "      <td>Male</td>\n",
              "      <td>Yes</td>\n",
              "      <td>1</td>\n",
              "      <td>Graduate</td>\n",
              "      <td>No</td>\n",
              "      <td>4583</td>\n",
              "      <td>1508.0</td>\n",
              "      <td>128.0</td>\n",
              "      <td>360.0</td>\n",
              "      <td>1.0</td>\n",
              "      <td>Rural</td>\n",
              "      <td>N</td>\n",
              "      <td>0.0</td>\n",
              "    </tr>\n",
              "    <tr>\n",
              "      <th>LP001005</th>\n",
              "      <td>Male</td>\n",
              "      <td>Yes</td>\n",
              "      <td>0</td>\n",
              "      <td>Graduate</td>\n",
              "      <td>Yes</td>\n",
              "      <td>3000</td>\n",
              "      <td>0.0</td>\n",
              "      <td>66.0</td>\n",
              "      <td>360.0</td>\n",
              "      <td>1.0</td>\n",
              "      <td>Urban</td>\n",
              "      <td>Y</td>\n",
              "      <td>0.0</td>\n",
              "    </tr>\n",
              "    <tr>\n",
              "      <th>LP001006</th>\n",
              "      <td>Male</td>\n",
              "      <td>Yes</td>\n",
              "      <td>0</td>\n",
              "      <td>Not Graduate</td>\n",
              "      <td>No</td>\n",
              "      <td>2583</td>\n",
              "      <td>2358.0</td>\n",
              "      <td>120.0</td>\n",
              "      <td>360.0</td>\n",
              "      <td>1.0</td>\n",
              "      <td>Urban</td>\n",
              "      <td>Y</td>\n",
              "      <td>0.0</td>\n",
              "    </tr>\n",
              "    <tr>\n",
              "      <th>LP001008</th>\n",
              "      <td>Male</td>\n",
              "      <td>No</td>\n",
              "      <td>0</td>\n",
              "      <td>Graduate</td>\n",
              "      <td>No</td>\n",
              "      <td>6000</td>\n",
              "      <td>0.0</td>\n",
              "      <td>141.0</td>\n",
              "      <td>360.0</td>\n",
              "      <td>1.0</td>\n",
              "      <td>Urban</td>\n",
              "      <td>Y</td>\n",
              "      <td>0.0</td>\n",
              "    </tr>\n",
              "    <tr>\n",
              "      <th>...</th>\n",
              "      <td>...</td>\n",
              "      <td>...</td>\n",
              "      <td>...</td>\n",
              "      <td>...</td>\n",
              "      <td>...</td>\n",
              "      <td>...</td>\n",
              "      <td>...</td>\n",
              "      <td>...</td>\n",
              "      <td>...</td>\n",
              "      <td>...</td>\n",
              "      <td>...</td>\n",
              "      <td>...</td>\n",
              "      <td>...</td>\n",
              "    </tr>\n",
              "    <tr>\n",
              "      <th>LP002971</th>\n",
              "      <td>Male</td>\n",
              "      <td>Yes</td>\n",
              "      <td>3</td>\n",
              "      <td>Not Graduate</td>\n",
              "      <td>Yes</td>\n",
              "      <td>4009</td>\n",
              "      <td>1777.0</td>\n",
              "      <td>113.0</td>\n",
              "      <td>360.0</td>\n",
              "      <td>1.0</td>\n",
              "      <td>Urban</td>\n",
              "      <td>NaN</td>\n",
              "      <td>1.0</td>\n",
              "    </tr>\n",
              "    <tr>\n",
              "      <th>LP002975</th>\n",
              "      <td>Male</td>\n",
              "      <td>Yes</td>\n",
              "      <td>0</td>\n",
              "      <td>Graduate</td>\n",
              "      <td>No</td>\n",
              "      <td>4158</td>\n",
              "      <td>709.0</td>\n",
              "      <td>115.0</td>\n",
              "      <td>360.0</td>\n",
              "      <td>1.0</td>\n",
              "      <td>Urban</td>\n",
              "      <td>NaN</td>\n",
              "      <td>0.0</td>\n",
              "    </tr>\n",
              "    <tr>\n",
              "      <th>LP002980</th>\n",
              "      <td>Male</td>\n",
              "      <td>No</td>\n",
              "      <td>0</td>\n",
              "      <td>Graduate</td>\n",
              "      <td>No</td>\n",
              "      <td>3250</td>\n",
              "      <td>1993.0</td>\n",
              "      <td>126.0</td>\n",
              "      <td>360.0</td>\n",
              "      <td>1.0</td>\n",
              "      <td>Semiurban</td>\n",
              "      <td>NaN</td>\n",
              "      <td>0.0</td>\n",
              "    </tr>\n",
              "    <tr>\n",
              "      <th>LP002986</th>\n",
              "      <td>Male</td>\n",
              "      <td>Yes</td>\n",
              "      <td>0</td>\n",
              "      <td>Graduate</td>\n",
              "      <td>No</td>\n",
              "      <td>5000</td>\n",
              "      <td>2393.0</td>\n",
              "      <td>158.0</td>\n",
              "      <td>360.0</td>\n",
              "      <td>1.0</td>\n",
              "      <td>Rural</td>\n",
              "      <td>NaN</td>\n",
              "      <td>0.0</td>\n",
              "    </tr>\n",
              "    <tr>\n",
              "      <th>LP002989</th>\n",
              "      <td>Male</td>\n",
              "      <td>No</td>\n",
              "      <td>0</td>\n",
              "      <td>Graduate</td>\n",
              "      <td>Yes</td>\n",
              "      <td>9200</td>\n",
              "      <td>0.0</td>\n",
              "      <td>98.0</td>\n",
              "      <td>180.0</td>\n",
              "      <td>1.0</td>\n",
              "      <td>Rural</td>\n",
              "      <td>NaN</td>\n",
              "      <td>0.0</td>\n",
              "    </tr>\n",
              "  </tbody>\n",
              "</table>\n",
              "<p>981 rows × 13 columns</p>\n",
              "</div>"
            ],
            "text/plain": [
              "         Gender Married Dependents  ... Property_Area Loan_Status  Kids>3\n",
              "Loan_ID                             ...                                  \n",
              "LP001002   Male      No          0  ...         Urban           Y     0.0\n",
              "LP001003   Male     Yes          1  ...         Rural           N     0.0\n",
              "LP001005   Male     Yes          0  ...         Urban           Y     0.0\n",
              "LP001006   Male     Yes          0  ...         Urban           Y     0.0\n",
              "LP001008   Male      No          0  ...         Urban           Y     0.0\n",
              "...         ...     ...        ...  ...           ...         ...     ...\n",
              "LP002971   Male     Yes          3  ...         Urban         NaN     1.0\n",
              "LP002975   Male     Yes          0  ...         Urban         NaN     0.0\n",
              "LP002980   Male      No          0  ...     Semiurban         NaN     0.0\n",
              "LP002986   Male     Yes          0  ...         Rural         NaN     0.0\n",
              "LP002989   Male      No          0  ...         Rural         NaN     0.0\n",
              "\n",
              "[981 rows x 13 columns]"
            ]
          },
          "metadata": {
            "tags": []
          },
          "execution_count": 57
        }
      ]
    },
    {
      "cell_type": "code",
      "metadata": {
        "id": "KlMthp-CqFr6",
        "colab_type": "code",
        "colab": {
          "base_uri": "https://localhost:8080/",
          "height": 102
        },
        "outputId": "42ab3a12-a3c2-4b64-fec7-07ee6d11f96e"
      },
      "source": [
        "category = np.array(['Not Graduate', 'Graduate'])\n",
        "category.shape\n",
        "train_data.columns"
      ],
      "execution_count": null,
      "outputs": [
        {
          "output_type": "execute_result",
          "data": {
            "text/plain": [
              "Index(['Gender', 'Married', 'Dependents', 'Education', 'Self_Employed',\n",
              "       'ApplicantIncome', 'CoapplicantIncome', 'LoanAmount',\n",
              "       'Loan_Amount_Term', 'Credit_History', 'Property_Area', 'Loan_Status',\n",
              "       'Kids>3'],\n",
              "      dtype='object')"
            ]
          },
          "metadata": {
            "tags": []
          },
          "execution_count": 58
        }
      ]
    },
    {
      "cell_type": "code",
      "metadata": {
        "id": "fNLXUDFmi1Ce",
        "colab_type": "code",
        "colab": {
          "base_uri": "https://localhost:8080/",
          "height": 561
        },
        "outputId": "bd66d343-88fa-446b-9edb-4fded207d88f"
      },
      "source": [
        "col = ['Gender', 'Married']\n",
        "ordi = ['Education', 'Self_Employed', 'Property_Area']\n",
        "from sklearn.preprocessing import OrdinalEncoder, OneHotEncoder\n",
        "for i in range(len(train_data)):\n",
        "  if train_data['Education'][i] == 'Not Graduate':\n",
        "    train_data['Education'][i] = 0\n",
        "  elif train_data['Education'][i] == 'Graduate':\n",
        "    train_data['Education'][i] = 1\n",
        "\n",
        "for i in range(len(train_data)):\n",
        "  if train_data['Self_Employed'][i] == 'No':\n",
        "    train_data['Self_Employed'][i] = 0\n",
        "  elif train_data['Self_Employed'][i] == 'Yes':\n",
        "    train_data['Self_Employed'][i] = 1\n",
        "\n",
        "for i in range(len(train_data)):\n",
        "  if train_data['Property_Area'][i] == 'Rural':\n",
        "    train_data['Property_Area'][i] = 0\n",
        "  elif train_data['Property_Area'][i] == 'Semiurban':\n",
        "    train_data['Property_Area'][i] = 1\n",
        "  elif train_data['Property_Area'][i] == 'Urban':\n",
        "    train_data['Property_Area'][i] = 2"
      ],
      "execution_count": null,
      "outputs": [
        {
          "output_type": "stream",
          "text": [
            "/usr/local/lib/python3.6/dist-packages/ipykernel_launcher.py:8: SettingWithCopyWarning: \n",
            "A value is trying to be set on a copy of a slice from a DataFrame\n",
            "\n",
            "See the caveats in the documentation: https://pandas.pydata.org/pandas-docs/stable/user_guide/indexing.html#returning-a-view-versus-a-copy\n",
            "  \n",
            "/usr/local/lib/python3.6/dist-packages/ipykernel_launcher.py:6: SettingWithCopyWarning: \n",
            "A value is trying to be set on a copy of a slice from a DataFrame\n",
            "\n",
            "See the caveats in the documentation: https://pandas.pydata.org/pandas-docs/stable/user_guide/indexing.html#returning-a-view-versus-a-copy\n",
            "  \n",
            "/usr/local/lib/python3.6/dist-packages/ipykernel_launcher.py:12: SettingWithCopyWarning: \n",
            "A value is trying to be set on a copy of a slice from a DataFrame\n",
            "\n",
            "See the caveats in the documentation: https://pandas.pydata.org/pandas-docs/stable/user_guide/indexing.html#returning-a-view-versus-a-copy\n",
            "  if sys.path[0] == '':\n",
            "/usr/local/lib/python3.6/dist-packages/ipykernel_launcher.py:14: SettingWithCopyWarning: \n",
            "A value is trying to be set on a copy of a slice from a DataFrame\n",
            "\n",
            "See the caveats in the documentation: https://pandas.pydata.org/pandas-docs/stable/user_guide/indexing.html#returning-a-view-versus-a-copy\n",
            "  \n",
            "/usr/local/lib/python3.6/dist-packages/ipykernel_launcher.py:22: SettingWithCopyWarning: \n",
            "A value is trying to be set on a copy of a slice from a DataFrame\n",
            "\n",
            "See the caveats in the documentation: https://pandas.pydata.org/pandas-docs/stable/user_guide/indexing.html#returning-a-view-versus-a-copy\n",
            "/usr/local/lib/python3.6/dist-packages/ipykernel_launcher.py:18: SettingWithCopyWarning: \n",
            "A value is trying to be set on a copy of a slice from a DataFrame\n",
            "\n",
            "See the caveats in the documentation: https://pandas.pydata.org/pandas-docs/stable/user_guide/indexing.html#returning-a-view-versus-a-copy\n",
            "/usr/local/lib/python3.6/dist-packages/ipykernel_launcher.py:20: SettingWithCopyWarning: \n",
            "A value is trying to be set on a copy of a slice from a DataFrame\n",
            "\n",
            "See the caveats in the documentation: https://pandas.pydata.org/pandas-docs/stable/user_guide/indexing.html#returning-a-view-versus-a-copy\n"
          ],
          "name": "stderr"
        }
      ]
    },
    {
      "cell_type": "code",
      "metadata": {
        "id": "XbVzFEV4nUZR",
        "colab_type": "code",
        "colab": {
          "base_uri": "https://localhost:8080/",
          "height": 470
        },
        "outputId": "6b3d35f7-b4ac-473c-f915-ec187e017d32"
      },
      "source": [
        "train_data"
      ],
      "execution_count": null,
      "outputs": [
        {
          "output_type": "execute_result",
          "data": {
            "text/html": [
              "<div>\n",
              "<style scoped>\n",
              "    .dataframe tbody tr th:only-of-type {\n",
              "        vertical-align: middle;\n",
              "    }\n",
              "\n",
              "    .dataframe tbody tr th {\n",
              "        vertical-align: top;\n",
              "    }\n",
              "\n",
              "    .dataframe thead th {\n",
              "        text-align: right;\n",
              "    }\n",
              "</style>\n",
              "<table border=\"1\" class=\"dataframe\">\n",
              "  <thead>\n",
              "    <tr style=\"text-align: right;\">\n",
              "      <th></th>\n",
              "      <th>Gender</th>\n",
              "      <th>Married</th>\n",
              "      <th>Dependents</th>\n",
              "      <th>Education</th>\n",
              "      <th>Self_Employed</th>\n",
              "      <th>ApplicantIncome</th>\n",
              "      <th>CoapplicantIncome</th>\n",
              "      <th>LoanAmount</th>\n",
              "      <th>Loan_Amount_Term</th>\n",
              "      <th>Credit_History</th>\n",
              "      <th>Property_Area</th>\n",
              "      <th>Loan_Status</th>\n",
              "      <th>Kids&gt;3</th>\n",
              "    </tr>\n",
              "    <tr>\n",
              "      <th>Loan_ID</th>\n",
              "      <th></th>\n",
              "      <th></th>\n",
              "      <th></th>\n",
              "      <th></th>\n",
              "      <th></th>\n",
              "      <th></th>\n",
              "      <th></th>\n",
              "      <th></th>\n",
              "      <th></th>\n",
              "      <th></th>\n",
              "      <th></th>\n",
              "      <th></th>\n",
              "      <th></th>\n",
              "    </tr>\n",
              "  </thead>\n",
              "  <tbody>\n",
              "    <tr>\n",
              "      <th>LP001002</th>\n",
              "      <td>Male</td>\n",
              "      <td>No</td>\n",
              "      <td>0</td>\n",
              "      <td>1</td>\n",
              "      <td>0</td>\n",
              "      <td>5849</td>\n",
              "      <td>0.0</td>\n",
              "      <td>146.0</td>\n",
              "      <td>360.0</td>\n",
              "      <td>1.0</td>\n",
              "      <td>2</td>\n",
              "      <td>Y</td>\n",
              "      <td>0.0</td>\n",
              "    </tr>\n",
              "    <tr>\n",
              "      <th>LP001003</th>\n",
              "      <td>Male</td>\n",
              "      <td>Yes</td>\n",
              "      <td>1</td>\n",
              "      <td>1</td>\n",
              "      <td>0</td>\n",
              "      <td>4583</td>\n",
              "      <td>1508.0</td>\n",
              "      <td>128.0</td>\n",
              "      <td>360.0</td>\n",
              "      <td>1.0</td>\n",
              "      <td>0</td>\n",
              "      <td>N</td>\n",
              "      <td>0.0</td>\n",
              "    </tr>\n",
              "    <tr>\n",
              "      <th>LP001005</th>\n",
              "      <td>Male</td>\n",
              "      <td>Yes</td>\n",
              "      <td>0</td>\n",
              "      <td>1</td>\n",
              "      <td>1</td>\n",
              "      <td>3000</td>\n",
              "      <td>0.0</td>\n",
              "      <td>66.0</td>\n",
              "      <td>360.0</td>\n",
              "      <td>1.0</td>\n",
              "      <td>2</td>\n",
              "      <td>Y</td>\n",
              "      <td>0.0</td>\n",
              "    </tr>\n",
              "    <tr>\n",
              "      <th>LP001006</th>\n",
              "      <td>Male</td>\n",
              "      <td>Yes</td>\n",
              "      <td>0</td>\n",
              "      <td>0</td>\n",
              "      <td>0</td>\n",
              "      <td>2583</td>\n",
              "      <td>2358.0</td>\n",
              "      <td>120.0</td>\n",
              "      <td>360.0</td>\n",
              "      <td>1.0</td>\n",
              "      <td>2</td>\n",
              "      <td>Y</td>\n",
              "      <td>0.0</td>\n",
              "    </tr>\n",
              "    <tr>\n",
              "      <th>LP001008</th>\n",
              "      <td>Male</td>\n",
              "      <td>No</td>\n",
              "      <td>0</td>\n",
              "      <td>1</td>\n",
              "      <td>0</td>\n",
              "      <td>6000</td>\n",
              "      <td>0.0</td>\n",
              "      <td>141.0</td>\n",
              "      <td>360.0</td>\n",
              "      <td>1.0</td>\n",
              "      <td>2</td>\n",
              "      <td>Y</td>\n",
              "      <td>0.0</td>\n",
              "    </tr>\n",
              "    <tr>\n",
              "      <th>...</th>\n",
              "      <td>...</td>\n",
              "      <td>...</td>\n",
              "      <td>...</td>\n",
              "      <td>...</td>\n",
              "      <td>...</td>\n",
              "      <td>...</td>\n",
              "      <td>...</td>\n",
              "      <td>...</td>\n",
              "      <td>...</td>\n",
              "      <td>...</td>\n",
              "      <td>...</td>\n",
              "      <td>...</td>\n",
              "      <td>...</td>\n",
              "    </tr>\n",
              "    <tr>\n",
              "      <th>LP002971</th>\n",
              "      <td>Male</td>\n",
              "      <td>Yes</td>\n",
              "      <td>3</td>\n",
              "      <td>0</td>\n",
              "      <td>1</td>\n",
              "      <td>4009</td>\n",
              "      <td>1777.0</td>\n",
              "      <td>113.0</td>\n",
              "      <td>360.0</td>\n",
              "      <td>1.0</td>\n",
              "      <td>2</td>\n",
              "      <td>NaN</td>\n",
              "      <td>1.0</td>\n",
              "    </tr>\n",
              "    <tr>\n",
              "      <th>LP002975</th>\n",
              "      <td>Male</td>\n",
              "      <td>Yes</td>\n",
              "      <td>0</td>\n",
              "      <td>1</td>\n",
              "      <td>0</td>\n",
              "      <td>4158</td>\n",
              "      <td>709.0</td>\n",
              "      <td>115.0</td>\n",
              "      <td>360.0</td>\n",
              "      <td>1.0</td>\n",
              "      <td>2</td>\n",
              "      <td>NaN</td>\n",
              "      <td>0.0</td>\n",
              "    </tr>\n",
              "    <tr>\n",
              "      <th>LP002980</th>\n",
              "      <td>Male</td>\n",
              "      <td>No</td>\n",
              "      <td>0</td>\n",
              "      <td>1</td>\n",
              "      <td>0</td>\n",
              "      <td>3250</td>\n",
              "      <td>1993.0</td>\n",
              "      <td>126.0</td>\n",
              "      <td>360.0</td>\n",
              "      <td>1.0</td>\n",
              "      <td>1</td>\n",
              "      <td>NaN</td>\n",
              "      <td>0.0</td>\n",
              "    </tr>\n",
              "    <tr>\n",
              "      <th>LP002986</th>\n",
              "      <td>Male</td>\n",
              "      <td>Yes</td>\n",
              "      <td>0</td>\n",
              "      <td>1</td>\n",
              "      <td>0</td>\n",
              "      <td>5000</td>\n",
              "      <td>2393.0</td>\n",
              "      <td>158.0</td>\n",
              "      <td>360.0</td>\n",
              "      <td>1.0</td>\n",
              "      <td>0</td>\n",
              "      <td>NaN</td>\n",
              "      <td>0.0</td>\n",
              "    </tr>\n",
              "    <tr>\n",
              "      <th>LP002989</th>\n",
              "      <td>Male</td>\n",
              "      <td>No</td>\n",
              "      <td>0</td>\n",
              "      <td>1</td>\n",
              "      <td>1</td>\n",
              "      <td>9200</td>\n",
              "      <td>0.0</td>\n",
              "      <td>98.0</td>\n",
              "      <td>180.0</td>\n",
              "      <td>1.0</td>\n",
              "      <td>0</td>\n",
              "      <td>NaN</td>\n",
              "      <td>0.0</td>\n",
              "    </tr>\n",
              "  </tbody>\n",
              "</table>\n",
              "<p>981 rows × 13 columns</p>\n",
              "</div>"
            ],
            "text/plain": [
              "         Gender Married Dependents  ... Property_Area Loan_Status  Kids>3\n",
              "Loan_ID                             ...                                  \n",
              "LP001002   Male      No          0  ...             2           Y     0.0\n",
              "LP001003   Male     Yes          1  ...             0           N     0.0\n",
              "LP001005   Male     Yes          0  ...             2           Y     0.0\n",
              "LP001006   Male     Yes          0  ...             2           Y     0.0\n",
              "LP001008   Male      No          0  ...             2           Y     0.0\n",
              "...         ...     ...        ...  ...           ...         ...     ...\n",
              "LP002971   Male     Yes          3  ...             2         NaN     1.0\n",
              "LP002975   Male     Yes          0  ...             2         NaN     0.0\n",
              "LP002980   Male      No          0  ...             1         NaN     0.0\n",
              "LP002986   Male     Yes          0  ...             0         NaN     0.0\n",
              "LP002989   Male      No          0  ...             0         NaN     0.0\n",
              "\n",
              "[981 rows x 13 columns]"
            ]
          },
          "metadata": {
            "tags": []
          },
          "execution_count": 60
        }
      ]
    },
    {
      "cell_type": "code",
      "metadata": {
        "id": "4TYCwOPFGh6U",
        "colab_type": "code",
        "colab": {}
      },
      "source": [
        "from sklearn.preprocessing import LabelEncoder\n",
        "le = LabelEncoder()\n",
        "one = OneHotEncoder()"
      ],
      "execution_count": null,
      "outputs": []
    },
    {
      "cell_type": "code",
      "metadata": {
        "id": "8nki39kHLe2q",
        "colab_type": "code",
        "colab": {
          "base_uri": "https://localhost:8080/",
          "height": 720
        },
        "outputId": "cf436a7e-b699-4d00-9d28-952be9d901ed"
      },
      "source": [
        "#for i in range(len(col)):\n",
        "#  train_data[col[i]] = one.fit_transform(train_data[col[i]].values.reshape(-1,1))\n",
        "train_data.head(20)"
      ],
      "execution_count": null,
      "outputs": [
        {
          "output_type": "execute_result",
          "data": {
            "text/html": [
              "<div>\n",
              "<style scoped>\n",
              "    .dataframe tbody tr th:only-of-type {\n",
              "        vertical-align: middle;\n",
              "    }\n",
              "\n",
              "    .dataframe tbody tr th {\n",
              "        vertical-align: top;\n",
              "    }\n",
              "\n",
              "    .dataframe thead th {\n",
              "        text-align: right;\n",
              "    }\n",
              "</style>\n",
              "<table border=\"1\" class=\"dataframe\">\n",
              "  <thead>\n",
              "    <tr style=\"text-align: right;\">\n",
              "      <th></th>\n",
              "      <th>Gender</th>\n",
              "      <th>Married</th>\n",
              "      <th>Dependents</th>\n",
              "      <th>Education</th>\n",
              "      <th>Self_Employed</th>\n",
              "      <th>ApplicantIncome</th>\n",
              "      <th>CoapplicantIncome</th>\n",
              "      <th>LoanAmount</th>\n",
              "      <th>Loan_Amount_Term</th>\n",
              "      <th>Credit_History</th>\n",
              "      <th>Property_Area</th>\n",
              "      <th>Loan_Status</th>\n",
              "      <th>Kids&gt;3</th>\n",
              "    </tr>\n",
              "    <tr>\n",
              "      <th>Loan_ID</th>\n",
              "      <th></th>\n",
              "      <th></th>\n",
              "      <th></th>\n",
              "      <th></th>\n",
              "      <th></th>\n",
              "      <th></th>\n",
              "      <th></th>\n",
              "      <th></th>\n",
              "      <th></th>\n",
              "      <th></th>\n",
              "      <th></th>\n",
              "      <th></th>\n",
              "      <th></th>\n",
              "    </tr>\n",
              "  </thead>\n",
              "  <tbody>\n",
              "    <tr>\n",
              "      <th>LP001002</th>\n",
              "      <td>Male</td>\n",
              "      <td>No</td>\n",
              "      <td>0</td>\n",
              "      <td>1</td>\n",
              "      <td>0</td>\n",
              "      <td>5849</td>\n",
              "      <td>0.0</td>\n",
              "      <td>146.0</td>\n",
              "      <td>360.0</td>\n",
              "      <td>1.0</td>\n",
              "      <td>2</td>\n",
              "      <td>Y</td>\n",
              "      <td>0.0</td>\n",
              "    </tr>\n",
              "    <tr>\n",
              "      <th>LP001003</th>\n",
              "      <td>Male</td>\n",
              "      <td>Yes</td>\n",
              "      <td>1</td>\n",
              "      <td>1</td>\n",
              "      <td>0</td>\n",
              "      <td>4583</td>\n",
              "      <td>1508.0</td>\n",
              "      <td>128.0</td>\n",
              "      <td>360.0</td>\n",
              "      <td>1.0</td>\n",
              "      <td>0</td>\n",
              "      <td>N</td>\n",
              "      <td>0.0</td>\n",
              "    </tr>\n",
              "    <tr>\n",
              "      <th>LP001005</th>\n",
              "      <td>Male</td>\n",
              "      <td>Yes</td>\n",
              "      <td>0</td>\n",
              "      <td>1</td>\n",
              "      <td>1</td>\n",
              "      <td>3000</td>\n",
              "      <td>0.0</td>\n",
              "      <td>66.0</td>\n",
              "      <td>360.0</td>\n",
              "      <td>1.0</td>\n",
              "      <td>2</td>\n",
              "      <td>Y</td>\n",
              "      <td>0.0</td>\n",
              "    </tr>\n",
              "    <tr>\n",
              "      <th>LP001006</th>\n",
              "      <td>Male</td>\n",
              "      <td>Yes</td>\n",
              "      <td>0</td>\n",
              "      <td>0</td>\n",
              "      <td>0</td>\n",
              "      <td>2583</td>\n",
              "      <td>2358.0</td>\n",
              "      <td>120.0</td>\n",
              "      <td>360.0</td>\n",
              "      <td>1.0</td>\n",
              "      <td>2</td>\n",
              "      <td>Y</td>\n",
              "      <td>0.0</td>\n",
              "    </tr>\n",
              "    <tr>\n",
              "      <th>LP001008</th>\n",
              "      <td>Male</td>\n",
              "      <td>No</td>\n",
              "      <td>0</td>\n",
              "      <td>1</td>\n",
              "      <td>0</td>\n",
              "      <td>6000</td>\n",
              "      <td>0.0</td>\n",
              "      <td>141.0</td>\n",
              "      <td>360.0</td>\n",
              "      <td>1.0</td>\n",
              "      <td>2</td>\n",
              "      <td>Y</td>\n",
              "      <td>0.0</td>\n",
              "    </tr>\n",
              "    <tr>\n",
              "      <th>LP001011</th>\n",
              "      <td>Male</td>\n",
              "      <td>Yes</td>\n",
              "      <td>2</td>\n",
              "      <td>1</td>\n",
              "      <td>1</td>\n",
              "      <td>5417</td>\n",
              "      <td>4196.0</td>\n",
              "      <td>267.0</td>\n",
              "      <td>360.0</td>\n",
              "      <td>1.0</td>\n",
              "      <td>2</td>\n",
              "      <td>Y</td>\n",
              "      <td>0.0</td>\n",
              "    </tr>\n",
              "    <tr>\n",
              "      <th>LP001013</th>\n",
              "      <td>Male</td>\n",
              "      <td>Yes</td>\n",
              "      <td>0</td>\n",
              "      <td>0</td>\n",
              "      <td>0</td>\n",
              "      <td>2333</td>\n",
              "      <td>1516.0</td>\n",
              "      <td>95.0</td>\n",
              "      <td>360.0</td>\n",
              "      <td>1.0</td>\n",
              "      <td>2</td>\n",
              "      <td>Y</td>\n",
              "      <td>0.0</td>\n",
              "    </tr>\n",
              "    <tr>\n",
              "      <th>LP001014</th>\n",
              "      <td>Male</td>\n",
              "      <td>Yes</td>\n",
              "      <td>3</td>\n",
              "      <td>1</td>\n",
              "      <td>0</td>\n",
              "      <td>3036</td>\n",
              "      <td>2504.0</td>\n",
              "      <td>158.0</td>\n",
              "      <td>360.0</td>\n",
              "      <td>0.0</td>\n",
              "      <td>1</td>\n",
              "      <td>N</td>\n",
              "      <td>1.0</td>\n",
              "    </tr>\n",
              "    <tr>\n",
              "      <th>LP001018</th>\n",
              "      <td>Male</td>\n",
              "      <td>Yes</td>\n",
              "      <td>2</td>\n",
              "      <td>1</td>\n",
              "      <td>0</td>\n",
              "      <td>4006</td>\n",
              "      <td>1526.0</td>\n",
              "      <td>168.0</td>\n",
              "      <td>360.0</td>\n",
              "      <td>1.0</td>\n",
              "      <td>2</td>\n",
              "      <td>Y</td>\n",
              "      <td>0.0</td>\n",
              "    </tr>\n",
              "    <tr>\n",
              "      <th>LP001020</th>\n",
              "      <td>Male</td>\n",
              "      <td>Yes</td>\n",
              "      <td>1</td>\n",
              "      <td>1</td>\n",
              "      <td>0</td>\n",
              "      <td>12841</td>\n",
              "      <td>10968.0</td>\n",
              "      <td>349.0</td>\n",
              "      <td>360.0</td>\n",
              "      <td>1.0</td>\n",
              "      <td>1</td>\n",
              "      <td>N</td>\n",
              "      <td>0.0</td>\n",
              "    </tr>\n",
              "    <tr>\n",
              "      <th>LP001024</th>\n",
              "      <td>Male</td>\n",
              "      <td>Yes</td>\n",
              "      <td>2</td>\n",
              "      <td>1</td>\n",
              "      <td>0</td>\n",
              "      <td>3200</td>\n",
              "      <td>700.0</td>\n",
              "      <td>70.0</td>\n",
              "      <td>360.0</td>\n",
              "      <td>1.0</td>\n",
              "      <td>2</td>\n",
              "      <td>Y</td>\n",
              "      <td>0.0</td>\n",
              "    </tr>\n",
              "    <tr>\n",
              "      <th>LP001027</th>\n",
              "      <td>Male</td>\n",
              "      <td>Yes</td>\n",
              "      <td>2</td>\n",
              "      <td>1</td>\n",
              "      <td>0</td>\n",
              "      <td>2500</td>\n",
              "      <td>1840.0</td>\n",
              "      <td>109.0</td>\n",
              "      <td>360.0</td>\n",
              "      <td>1.0</td>\n",
              "      <td>2</td>\n",
              "      <td>Y</td>\n",
              "      <td>0.0</td>\n",
              "    </tr>\n",
              "    <tr>\n",
              "      <th>LP001028</th>\n",
              "      <td>Male</td>\n",
              "      <td>Yes</td>\n",
              "      <td>2</td>\n",
              "      <td>1</td>\n",
              "      <td>0</td>\n",
              "      <td>3073</td>\n",
              "      <td>8106.0</td>\n",
              "      <td>200.0</td>\n",
              "      <td>360.0</td>\n",
              "      <td>1.0</td>\n",
              "      <td>2</td>\n",
              "      <td>Y</td>\n",
              "      <td>0.0</td>\n",
              "    </tr>\n",
              "    <tr>\n",
              "      <th>LP001029</th>\n",
              "      <td>Male</td>\n",
              "      <td>No</td>\n",
              "      <td>0</td>\n",
              "      <td>1</td>\n",
              "      <td>0</td>\n",
              "      <td>1853</td>\n",
              "      <td>2840.0</td>\n",
              "      <td>114.0</td>\n",
              "      <td>360.0</td>\n",
              "      <td>1.0</td>\n",
              "      <td>0</td>\n",
              "      <td>N</td>\n",
              "      <td>0.0</td>\n",
              "    </tr>\n",
              "    <tr>\n",
              "      <th>LP001030</th>\n",
              "      <td>Male</td>\n",
              "      <td>Yes</td>\n",
              "      <td>2</td>\n",
              "      <td>1</td>\n",
              "      <td>0</td>\n",
              "      <td>1299</td>\n",
              "      <td>1086.0</td>\n",
              "      <td>17.0</td>\n",
              "      <td>120.0</td>\n",
              "      <td>1.0</td>\n",
              "      <td>2</td>\n",
              "      <td>Y</td>\n",
              "      <td>0.0</td>\n",
              "    </tr>\n",
              "    <tr>\n",
              "      <th>LP001032</th>\n",
              "      <td>Male</td>\n",
              "      <td>No</td>\n",
              "      <td>0</td>\n",
              "      <td>1</td>\n",
              "      <td>0</td>\n",
              "      <td>4950</td>\n",
              "      <td>0.0</td>\n",
              "      <td>125.0</td>\n",
              "      <td>360.0</td>\n",
              "      <td>1.0</td>\n",
              "      <td>2</td>\n",
              "      <td>Y</td>\n",
              "      <td>0.0</td>\n",
              "    </tr>\n",
              "    <tr>\n",
              "      <th>LP001034</th>\n",
              "      <td>Male</td>\n",
              "      <td>No</td>\n",
              "      <td>1</td>\n",
              "      <td>0</td>\n",
              "      <td>0</td>\n",
              "      <td>3596</td>\n",
              "      <td>0.0</td>\n",
              "      <td>100.0</td>\n",
              "      <td>240.0</td>\n",
              "      <td>1.0</td>\n",
              "      <td>2</td>\n",
              "      <td>Y</td>\n",
              "      <td>0.0</td>\n",
              "    </tr>\n",
              "    <tr>\n",
              "      <th>LP001036</th>\n",
              "      <td>Female</td>\n",
              "      <td>No</td>\n",
              "      <td>0</td>\n",
              "      <td>1</td>\n",
              "      <td>0</td>\n",
              "      <td>3510</td>\n",
              "      <td>0.0</td>\n",
              "      <td>76.0</td>\n",
              "      <td>360.0</td>\n",
              "      <td>0.0</td>\n",
              "      <td>2</td>\n",
              "      <td>N</td>\n",
              "      <td>0.0</td>\n",
              "    </tr>\n",
              "    <tr>\n",
              "      <th>LP001038</th>\n",
              "      <td>Male</td>\n",
              "      <td>Yes</td>\n",
              "      <td>0</td>\n",
              "      <td>0</td>\n",
              "      <td>0</td>\n",
              "      <td>4887</td>\n",
              "      <td>0.0</td>\n",
              "      <td>133.0</td>\n",
              "      <td>360.0</td>\n",
              "      <td>1.0</td>\n",
              "      <td>0</td>\n",
              "      <td>N</td>\n",
              "      <td>0.0</td>\n",
              "    </tr>\n",
              "    <tr>\n",
              "      <th>LP001041</th>\n",
              "      <td>Male</td>\n",
              "      <td>Yes</td>\n",
              "      <td>0</td>\n",
              "      <td>1</td>\n",
              "      <td>0</td>\n",
              "      <td>2600</td>\n",
              "      <td>3500.0</td>\n",
              "      <td>115.0</td>\n",
              "      <td>360.0</td>\n",
              "      <td>1.0</td>\n",
              "      <td>2</td>\n",
              "      <td>Y</td>\n",
              "      <td>0.0</td>\n",
              "    </tr>\n",
              "  </tbody>\n",
              "</table>\n",
              "</div>"
            ],
            "text/plain": [
              "          Gender Married Dependents  ... Property_Area Loan_Status  Kids>3\n",
              "Loan_ID                              ...                                  \n",
              "LP001002    Male      No          0  ...             2           Y     0.0\n",
              "LP001003    Male     Yes          1  ...             0           N     0.0\n",
              "LP001005    Male     Yes          0  ...             2           Y     0.0\n",
              "LP001006    Male     Yes          0  ...             2           Y     0.0\n",
              "LP001008    Male      No          0  ...             2           Y     0.0\n",
              "LP001011    Male     Yes          2  ...             2           Y     0.0\n",
              "LP001013    Male     Yes          0  ...             2           Y     0.0\n",
              "LP001014    Male     Yes          3  ...             1           N     1.0\n",
              "LP001018    Male     Yes          2  ...             2           Y     0.0\n",
              "LP001020    Male     Yes          1  ...             1           N     0.0\n",
              "LP001024    Male     Yes          2  ...             2           Y     0.0\n",
              "LP001027    Male     Yes          2  ...             2           Y     0.0\n",
              "LP001028    Male     Yes          2  ...             2           Y     0.0\n",
              "LP001029    Male      No          0  ...             0           N     0.0\n",
              "LP001030    Male     Yes          2  ...             2           Y     0.0\n",
              "LP001032    Male      No          0  ...             2           Y     0.0\n",
              "LP001034    Male      No          1  ...             2           Y     0.0\n",
              "LP001036  Female      No          0  ...             2           N     0.0\n",
              "LP001038    Male     Yes          0  ...             0           N     0.0\n",
              "LP001041    Male     Yes          0  ...             2           Y     0.0\n",
              "\n",
              "[20 rows x 13 columns]"
            ]
          },
          "metadata": {
            "tags": []
          },
          "execution_count": 62
        }
      ]
    },
    {
      "cell_type": "code",
      "metadata": {
        "id": "GxQCAmubGsbR",
        "colab_type": "code",
        "colab": {}
      },
      "source": [
        "#for i in range(len(col)):\n",
        "z = pd.get_dummies(train_data['Gender'])\n",
        "y = pd.get_dummies(train_data['Married'])\n",
        "#for i in range(len(col)):\n",
        "#  train_data[col[i]] = le.fit_transform(train_data[col[i]])"
      ],
      "execution_count": null,
      "outputs": []
    },
    {
      "cell_type": "code",
      "metadata": {
        "id": "DJ7lCDOyPg6v",
        "colab_type": "code",
        "colab": {}
      },
      "source": [
        "train_data = pd.concat([train_data, z, y], axis = 1)"
      ],
      "execution_count": null,
      "outputs": []
    },
    {
      "cell_type": "code",
      "metadata": {
        "id": "z7dD64LQPMzy",
        "colab_type": "code",
        "colab": {}
      },
      "source": [
        "train_data.head(20)\n",
        "train_data.drop(['Gender', 'Married'], axis = 1, inplace = True)"
      ],
      "execution_count": null,
      "outputs": []
    },
    {
      "cell_type": "code",
      "metadata": {
        "id": "yskHCjMBHLcU",
        "colab_type": "code",
        "colab": {
          "base_uri": "https://localhost:8080/",
          "height": 470
        },
        "outputId": "4994a192-1704-4a32-835f-2405101b81e4"
      },
      "source": [
        "train_data"
      ],
      "execution_count": null,
      "outputs": [
        {
          "output_type": "execute_result",
          "data": {
            "text/html": [
              "<div>\n",
              "<style scoped>\n",
              "    .dataframe tbody tr th:only-of-type {\n",
              "        vertical-align: middle;\n",
              "    }\n",
              "\n",
              "    .dataframe tbody tr th {\n",
              "        vertical-align: top;\n",
              "    }\n",
              "\n",
              "    .dataframe thead th {\n",
              "        text-align: right;\n",
              "    }\n",
              "</style>\n",
              "<table border=\"1\" class=\"dataframe\">\n",
              "  <thead>\n",
              "    <tr style=\"text-align: right;\">\n",
              "      <th></th>\n",
              "      <th>Dependents</th>\n",
              "      <th>Education</th>\n",
              "      <th>Self_Employed</th>\n",
              "      <th>ApplicantIncome</th>\n",
              "      <th>CoapplicantIncome</th>\n",
              "      <th>LoanAmount</th>\n",
              "      <th>Loan_Amount_Term</th>\n",
              "      <th>Credit_History</th>\n",
              "      <th>Property_Area</th>\n",
              "      <th>Loan_Status</th>\n",
              "      <th>Kids&gt;3</th>\n",
              "      <th>Female</th>\n",
              "      <th>Male</th>\n",
              "      <th>No</th>\n",
              "      <th>Yes</th>\n",
              "    </tr>\n",
              "    <tr>\n",
              "      <th>Loan_ID</th>\n",
              "      <th></th>\n",
              "      <th></th>\n",
              "      <th></th>\n",
              "      <th></th>\n",
              "      <th></th>\n",
              "      <th></th>\n",
              "      <th></th>\n",
              "      <th></th>\n",
              "      <th></th>\n",
              "      <th></th>\n",
              "      <th></th>\n",
              "      <th></th>\n",
              "      <th></th>\n",
              "      <th></th>\n",
              "      <th></th>\n",
              "    </tr>\n",
              "  </thead>\n",
              "  <tbody>\n",
              "    <tr>\n",
              "      <th>LP001002</th>\n",
              "      <td>0</td>\n",
              "      <td>1</td>\n",
              "      <td>0</td>\n",
              "      <td>5849</td>\n",
              "      <td>0.0</td>\n",
              "      <td>146.0</td>\n",
              "      <td>360.0</td>\n",
              "      <td>1.0</td>\n",
              "      <td>2</td>\n",
              "      <td>Y</td>\n",
              "      <td>0.0</td>\n",
              "      <td>0</td>\n",
              "      <td>1</td>\n",
              "      <td>1</td>\n",
              "      <td>0</td>\n",
              "    </tr>\n",
              "    <tr>\n",
              "      <th>LP001003</th>\n",
              "      <td>1</td>\n",
              "      <td>1</td>\n",
              "      <td>0</td>\n",
              "      <td>4583</td>\n",
              "      <td>1508.0</td>\n",
              "      <td>128.0</td>\n",
              "      <td>360.0</td>\n",
              "      <td>1.0</td>\n",
              "      <td>0</td>\n",
              "      <td>N</td>\n",
              "      <td>0.0</td>\n",
              "      <td>0</td>\n",
              "      <td>1</td>\n",
              "      <td>0</td>\n",
              "      <td>1</td>\n",
              "    </tr>\n",
              "    <tr>\n",
              "      <th>LP001005</th>\n",
              "      <td>0</td>\n",
              "      <td>1</td>\n",
              "      <td>1</td>\n",
              "      <td>3000</td>\n",
              "      <td>0.0</td>\n",
              "      <td>66.0</td>\n",
              "      <td>360.0</td>\n",
              "      <td>1.0</td>\n",
              "      <td>2</td>\n",
              "      <td>Y</td>\n",
              "      <td>0.0</td>\n",
              "      <td>0</td>\n",
              "      <td>1</td>\n",
              "      <td>0</td>\n",
              "      <td>1</td>\n",
              "    </tr>\n",
              "    <tr>\n",
              "      <th>LP001006</th>\n",
              "      <td>0</td>\n",
              "      <td>0</td>\n",
              "      <td>0</td>\n",
              "      <td>2583</td>\n",
              "      <td>2358.0</td>\n",
              "      <td>120.0</td>\n",
              "      <td>360.0</td>\n",
              "      <td>1.0</td>\n",
              "      <td>2</td>\n",
              "      <td>Y</td>\n",
              "      <td>0.0</td>\n",
              "      <td>0</td>\n",
              "      <td>1</td>\n",
              "      <td>0</td>\n",
              "      <td>1</td>\n",
              "    </tr>\n",
              "    <tr>\n",
              "      <th>LP001008</th>\n",
              "      <td>0</td>\n",
              "      <td>1</td>\n",
              "      <td>0</td>\n",
              "      <td>6000</td>\n",
              "      <td>0.0</td>\n",
              "      <td>141.0</td>\n",
              "      <td>360.0</td>\n",
              "      <td>1.0</td>\n",
              "      <td>2</td>\n",
              "      <td>Y</td>\n",
              "      <td>0.0</td>\n",
              "      <td>0</td>\n",
              "      <td>1</td>\n",
              "      <td>1</td>\n",
              "      <td>0</td>\n",
              "    </tr>\n",
              "    <tr>\n",
              "      <th>...</th>\n",
              "      <td>...</td>\n",
              "      <td>...</td>\n",
              "      <td>...</td>\n",
              "      <td>...</td>\n",
              "      <td>...</td>\n",
              "      <td>...</td>\n",
              "      <td>...</td>\n",
              "      <td>...</td>\n",
              "      <td>...</td>\n",
              "      <td>...</td>\n",
              "      <td>...</td>\n",
              "      <td>...</td>\n",
              "      <td>...</td>\n",
              "      <td>...</td>\n",
              "      <td>...</td>\n",
              "    </tr>\n",
              "    <tr>\n",
              "      <th>LP002971</th>\n",
              "      <td>3</td>\n",
              "      <td>0</td>\n",
              "      <td>1</td>\n",
              "      <td>4009</td>\n",
              "      <td>1777.0</td>\n",
              "      <td>113.0</td>\n",
              "      <td>360.0</td>\n",
              "      <td>1.0</td>\n",
              "      <td>2</td>\n",
              "      <td>NaN</td>\n",
              "      <td>1.0</td>\n",
              "      <td>0</td>\n",
              "      <td>1</td>\n",
              "      <td>0</td>\n",
              "      <td>1</td>\n",
              "    </tr>\n",
              "    <tr>\n",
              "      <th>LP002975</th>\n",
              "      <td>0</td>\n",
              "      <td>1</td>\n",
              "      <td>0</td>\n",
              "      <td>4158</td>\n",
              "      <td>709.0</td>\n",
              "      <td>115.0</td>\n",
              "      <td>360.0</td>\n",
              "      <td>1.0</td>\n",
              "      <td>2</td>\n",
              "      <td>NaN</td>\n",
              "      <td>0.0</td>\n",
              "      <td>0</td>\n",
              "      <td>1</td>\n",
              "      <td>0</td>\n",
              "      <td>1</td>\n",
              "    </tr>\n",
              "    <tr>\n",
              "      <th>LP002980</th>\n",
              "      <td>0</td>\n",
              "      <td>1</td>\n",
              "      <td>0</td>\n",
              "      <td>3250</td>\n",
              "      <td>1993.0</td>\n",
              "      <td>126.0</td>\n",
              "      <td>360.0</td>\n",
              "      <td>1.0</td>\n",
              "      <td>1</td>\n",
              "      <td>NaN</td>\n",
              "      <td>0.0</td>\n",
              "      <td>0</td>\n",
              "      <td>1</td>\n",
              "      <td>1</td>\n",
              "      <td>0</td>\n",
              "    </tr>\n",
              "    <tr>\n",
              "      <th>LP002986</th>\n",
              "      <td>0</td>\n",
              "      <td>1</td>\n",
              "      <td>0</td>\n",
              "      <td>5000</td>\n",
              "      <td>2393.0</td>\n",
              "      <td>158.0</td>\n",
              "      <td>360.0</td>\n",
              "      <td>1.0</td>\n",
              "      <td>0</td>\n",
              "      <td>NaN</td>\n",
              "      <td>0.0</td>\n",
              "      <td>0</td>\n",
              "      <td>1</td>\n",
              "      <td>0</td>\n",
              "      <td>1</td>\n",
              "    </tr>\n",
              "    <tr>\n",
              "      <th>LP002989</th>\n",
              "      <td>0</td>\n",
              "      <td>1</td>\n",
              "      <td>1</td>\n",
              "      <td>9200</td>\n",
              "      <td>0.0</td>\n",
              "      <td>98.0</td>\n",
              "      <td>180.0</td>\n",
              "      <td>1.0</td>\n",
              "      <td>0</td>\n",
              "      <td>NaN</td>\n",
              "      <td>0.0</td>\n",
              "      <td>0</td>\n",
              "      <td>1</td>\n",
              "      <td>1</td>\n",
              "      <td>0</td>\n",
              "    </tr>\n",
              "  </tbody>\n",
              "</table>\n",
              "<p>981 rows × 15 columns</p>\n",
              "</div>"
            ],
            "text/plain": [
              "         Dependents Education Self_Employed  ...  Male  No  Yes\n",
              "Loan_ID                                      ...               \n",
              "LP001002          0         1             0  ...     1   1    0\n",
              "LP001003          1         1             0  ...     1   0    1\n",
              "LP001005          0         1             1  ...     1   0    1\n",
              "LP001006          0         0             0  ...     1   0    1\n",
              "LP001008          0         1             0  ...     1   1    0\n",
              "...             ...       ...           ...  ...   ...  ..  ...\n",
              "LP002971          3         0             1  ...     1   0    1\n",
              "LP002975          0         1             0  ...     1   0    1\n",
              "LP002980          0         1             0  ...     1   1    0\n",
              "LP002986          0         1             0  ...     1   0    1\n",
              "LP002989          0         1             1  ...     1   1    0\n",
              "\n",
              "[981 rows x 15 columns]"
            ]
          },
          "metadata": {
            "tags": []
          },
          "execution_count": 66
        }
      ]
    },
    {
      "cell_type": "code",
      "metadata": {
        "id": "HuEbUbckHOd9",
        "colab_type": "code",
        "colab": {}
      },
      "source": [
        "data = train_data"
      ],
      "execution_count": null,
      "outputs": []
    },
    {
      "cell_type": "code",
      "metadata": {
        "id": "Bc8CoZeZS6Tp",
        "colab_type": "code",
        "colab": {
          "base_uri": "https://localhost:8080/",
          "height": 470
        },
        "outputId": "f84705f6-f2bd-4429-92b1-25b1a2fc517c"
      },
      "source": [
        "data"
      ],
      "execution_count": null,
      "outputs": [
        {
          "output_type": "execute_result",
          "data": {
            "text/html": [
              "<div>\n",
              "<style scoped>\n",
              "    .dataframe tbody tr th:only-of-type {\n",
              "        vertical-align: middle;\n",
              "    }\n",
              "\n",
              "    .dataframe tbody tr th {\n",
              "        vertical-align: top;\n",
              "    }\n",
              "\n",
              "    .dataframe thead th {\n",
              "        text-align: right;\n",
              "    }\n",
              "</style>\n",
              "<table border=\"1\" class=\"dataframe\">\n",
              "  <thead>\n",
              "    <tr style=\"text-align: right;\">\n",
              "      <th></th>\n",
              "      <th>Dependents</th>\n",
              "      <th>Education</th>\n",
              "      <th>Self_Employed</th>\n",
              "      <th>ApplicantIncome</th>\n",
              "      <th>CoapplicantIncome</th>\n",
              "      <th>LoanAmount</th>\n",
              "      <th>Loan_Amount_Term</th>\n",
              "      <th>Credit_History</th>\n",
              "      <th>Property_Area</th>\n",
              "      <th>Loan_Status</th>\n",
              "      <th>Kids&gt;3</th>\n",
              "      <th>Female</th>\n",
              "      <th>Male</th>\n",
              "      <th>No</th>\n",
              "      <th>Yes</th>\n",
              "    </tr>\n",
              "    <tr>\n",
              "      <th>Loan_ID</th>\n",
              "      <th></th>\n",
              "      <th></th>\n",
              "      <th></th>\n",
              "      <th></th>\n",
              "      <th></th>\n",
              "      <th></th>\n",
              "      <th></th>\n",
              "      <th></th>\n",
              "      <th></th>\n",
              "      <th></th>\n",
              "      <th></th>\n",
              "      <th></th>\n",
              "      <th></th>\n",
              "      <th></th>\n",
              "      <th></th>\n",
              "    </tr>\n",
              "  </thead>\n",
              "  <tbody>\n",
              "    <tr>\n",
              "      <th>LP001002</th>\n",
              "      <td>0</td>\n",
              "      <td>1</td>\n",
              "      <td>0</td>\n",
              "      <td>5849</td>\n",
              "      <td>0.0</td>\n",
              "      <td>146.0</td>\n",
              "      <td>360.0</td>\n",
              "      <td>1.0</td>\n",
              "      <td>2</td>\n",
              "      <td>Y</td>\n",
              "      <td>0.0</td>\n",
              "      <td>0</td>\n",
              "      <td>1</td>\n",
              "      <td>1</td>\n",
              "      <td>0</td>\n",
              "    </tr>\n",
              "    <tr>\n",
              "      <th>LP001003</th>\n",
              "      <td>1</td>\n",
              "      <td>1</td>\n",
              "      <td>0</td>\n",
              "      <td>4583</td>\n",
              "      <td>1508.0</td>\n",
              "      <td>128.0</td>\n",
              "      <td>360.0</td>\n",
              "      <td>1.0</td>\n",
              "      <td>0</td>\n",
              "      <td>N</td>\n",
              "      <td>0.0</td>\n",
              "      <td>0</td>\n",
              "      <td>1</td>\n",
              "      <td>0</td>\n",
              "      <td>1</td>\n",
              "    </tr>\n",
              "    <tr>\n",
              "      <th>LP001005</th>\n",
              "      <td>0</td>\n",
              "      <td>1</td>\n",
              "      <td>1</td>\n",
              "      <td>3000</td>\n",
              "      <td>0.0</td>\n",
              "      <td>66.0</td>\n",
              "      <td>360.0</td>\n",
              "      <td>1.0</td>\n",
              "      <td>2</td>\n",
              "      <td>Y</td>\n",
              "      <td>0.0</td>\n",
              "      <td>0</td>\n",
              "      <td>1</td>\n",
              "      <td>0</td>\n",
              "      <td>1</td>\n",
              "    </tr>\n",
              "    <tr>\n",
              "      <th>LP001006</th>\n",
              "      <td>0</td>\n",
              "      <td>0</td>\n",
              "      <td>0</td>\n",
              "      <td>2583</td>\n",
              "      <td>2358.0</td>\n",
              "      <td>120.0</td>\n",
              "      <td>360.0</td>\n",
              "      <td>1.0</td>\n",
              "      <td>2</td>\n",
              "      <td>Y</td>\n",
              "      <td>0.0</td>\n",
              "      <td>0</td>\n",
              "      <td>1</td>\n",
              "      <td>0</td>\n",
              "      <td>1</td>\n",
              "    </tr>\n",
              "    <tr>\n",
              "      <th>LP001008</th>\n",
              "      <td>0</td>\n",
              "      <td>1</td>\n",
              "      <td>0</td>\n",
              "      <td>6000</td>\n",
              "      <td>0.0</td>\n",
              "      <td>141.0</td>\n",
              "      <td>360.0</td>\n",
              "      <td>1.0</td>\n",
              "      <td>2</td>\n",
              "      <td>Y</td>\n",
              "      <td>0.0</td>\n",
              "      <td>0</td>\n",
              "      <td>1</td>\n",
              "      <td>1</td>\n",
              "      <td>0</td>\n",
              "    </tr>\n",
              "    <tr>\n",
              "      <th>...</th>\n",
              "      <td>...</td>\n",
              "      <td>...</td>\n",
              "      <td>...</td>\n",
              "      <td>...</td>\n",
              "      <td>...</td>\n",
              "      <td>...</td>\n",
              "      <td>...</td>\n",
              "      <td>...</td>\n",
              "      <td>...</td>\n",
              "      <td>...</td>\n",
              "      <td>...</td>\n",
              "      <td>...</td>\n",
              "      <td>...</td>\n",
              "      <td>...</td>\n",
              "      <td>...</td>\n",
              "    </tr>\n",
              "    <tr>\n",
              "      <th>LP002971</th>\n",
              "      <td>3</td>\n",
              "      <td>0</td>\n",
              "      <td>1</td>\n",
              "      <td>4009</td>\n",
              "      <td>1777.0</td>\n",
              "      <td>113.0</td>\n",
              "      <td>360.0</td>\n",
              "      <td>1.0</td>\n",
              "      <td>2</td>\n",
              "      <td>NaN</td>\n",
              "      <td>1.0</td>\n",
              "      <td>0</td>\n",
              "      <td>1</td>\n",
              "      <td>0</td>\n",
              "      <td>1</td>\n",
              "    </tr>\n",
              "    <tr>\n",
              "      <th>LP002975</th>\n",
              "      <td>0</td>\n",
              "      <td>1</td>\n",
              "      <td>0</td>\n",
              "      <td>4158</td>\n",
              "      <td>709.0</td>\n",
              "      <td>115.0</td>\n",
              "      <td>360.0</td>\n",
              "      <td>1.0</td>\n",
              "      <td>2</td>\n",
              "      <td>NaN</td>\n",
              "      <td>0.0</td>\n",
              "      <td>0</td>\n",
              "      <td>1</td>\n",
              "      <td>0</td>\n",
              "      <td>1</td>\n",
              "    </tr>\n",
              "    <tr>\n",
              "      <th>LP002980</th>\n",
              "      <td>0</td>\n",
              "      <td>1</td>\n",
              "      <td>0</td>\n",
              "      <td>3250</td>\n",
              "      <td>1993.0</td>\n",
              "      <td>126.0</td>\n",
              "      <td>360.0</td>\n",
              "      <td>1.0</td>\n",
              "      <td>1</td>\n",
              "      <td>NaN</td>\n",
              "      <td>0.0</td>\n",
              "      <td>0</td>\n",
              "      <td>1</td>\n",
              "      <td>1</td>\n",
              "      <td>0</td>\n",
              "    </tr>\n",
              "    <tr>\n",
              "      <th>LP002986</th>\n",
              "      <td>0</td>\n",
              "      <td>1</td>\n",
              "      <td>0</td>\n",
              "      <td>5000</td>\n",
              "      <td>2393.0</td>\n",
              "      <td>158.0</td>\n",
              "      <td>360.0</td>\n",
              "      <td>1.0</td>\n",
              "      <td>0</td>\n",
              "      <td>NaN</td>\n",
              "      <td>0.0</td>\n",
              "      <td>0</td>\n",
              "      <td>1</td>\n",
              "      <td>0</td>\n",
              "      <td>1</td>\n",
              "    </tr>\n",
              "    <tr>\n",
              "      <th>LP002989</th>\n",
              "      <td>0</td>\n",
              "      <td>1</td>\n",
              "      <td>1</td>\n",
              "      <td>9200</td>\n",
              "      <td>0.0</td>\n",
              "      <td>98.0</td>\n",
              "      <td>180.0</td>\n",
              "      <td>1.0</td>\n",
              "      <td>0</td>\n",
              "      <td>NaN</td>\n",
              "      <td>0.0</td>\n",
              "      <td>0</td>\n",
              "      <td>1</td>\n",
              "      <td>1</td>\n",
              "      <td>0</td>\n",
              "    </tr>\n",
              "  </tbody>\n",
              "</table>\n",
              "<p>981 rows × 15 columns</p>\n",
              "</div>"
            ],
            "text/plain": [
              "         Dependents Education Self_Employed  ...  Male  No  Yes\n",
              "Loan_ID                                      ...               \n",
              "LP001002          0         1             0  ...     1   1    0\n",
              "LP001003          1         1             0  ...     1   0    1\n",
              "LP001005          0         1             1  ...     1   0    1\n",
              "LP001006          0         0             0  ...     1   0    1\n",
              "LP001008          0         1             0  ...     1   1    0\n",
              "...             ...       ...           ...  ...   ...  ..  ...\n",
              "LP002971          3         0             1  ...     1   0    1\n",
              "LP002975          0         1             0  ...     1   0    1\n",
              "LP002980          0         1             0  ...     1   1    0\n",
              "LP002986          0         1             0  ...     1   0    1\n",
              "LP002989          0         1             1  ...     1   1    0\n",
              "\n",
              "[981 rows x 15 columns]"
            ]
          },
          "metadata": {
            "tags": []
          },
          "execution_count": 68
        }
      ]
    },
    {
      "cell_type": "code",
      "metadata": {
        "id": "04yOF3iuHP8T",
        "colab_type": "code",
        "colab": {}
      },
      "source": [
        "#train_data = data"
      ],
      "execution_count": null,
      "outputs": []
    },
    {
      "cell_type": "code",
      "metadata": {
        "id": "m0eSqGS9HT6o",
        "colab_type": "code",
        "colab": {}
      },
      "source": [
        "ls = ['Dependents', 'Education', 'Self_Employed',\n",
        "       'ApplicantIncome', 'CoapplicantIncome', 'LoanAmount',\n",
        "       'Loan_Amount_Term', 'Credit_History', 'Property_Area',\n",
        "       'Kids>3']"
      ],
      "execution_count": null,
      "outputs": []
    },
    {
      "cell_type": "code",
      "metadata": {
        "id": "-Wp7PXr8HFYT",
        "colab_type": "code",
        "colab": {
          "base_uri": "https://localhost:8080/",
          "height": 102
        },
        "outputId": "161f5ea3-2f26-46c4-d196-b1fa345479f9"
      },
      "source": [
        "data.columns"
      ],
      "execution_count": null,
      "outputs": [
        {
          "output_type": "execute_result",
          "data": {
            "text/plain": [
              "Index(['Dependents', 'Education', 'Self_Employed', 'ApplicantIncome',\n",
              "       'CoapplicantIncome', 'LoanAmount', 'Loan_Amount_Term', 'Credit_History',\n",
              "       'Property_Area', 'Loan_Status', 'Kids>3', 'Female', 'Male', 'No',\n",
              "       'Yes'],\n",
              "      dtype='object')"
            ]
          },
          "metadata": {
            "tags": []
          },
          "execution_count": 71
        }
      ]
    },
    {
      "cell_type": "code",
      "metadata": {
        "id": "PtHqsdvzI4yB",
        "colab_type": "code",
        "colab": {
          "base_uri": "https://localhost:8080/",
          "height": 470
        },
        "outputId": "020e396b-bcb3-4928-e2fa-359d8f86ffec"
      },
      "source": [
        "data"
      ],
      "execution_count": null,
      "outputs": [
        {
          "output_type": "execute_result",
          "data": {
            "text/html": [
              "<div>\n",
              "<style scoped>\n",
              "    .dataframe tbody tr th:only-of-type {\n",
              "        vertical-align: middle;\n",
              "    }\n",
              "\n",
              "    .dataframe tbody tr th {\n",
              "        vertical-align: top;\n",
              "    }\n",
              "\n",
              "    .dataframe thead th {\n",
              "        text-align: right;\n",
              "    }\n",
              "</style>\n",
              "<table border=\"1\" class=\"dataframe\">\n",
              "  <thead>\n",
              "    <tr style=\"text-align: right;\">\n",
              "      <th></th>\n",
              "      <th>Dependents</th>\n",
              "      <th>Education</th>\n",
              "      <th>Self_Employed</th>\n",
              "      <th>ApplicantIncome</th>\n",
              "      <th>CoapplicantIncome</th>\n",
              "      <th>LoanAmount</th>\n",
              "      <th>Loan_Amount_Term</th>\n",
              "      <th>Credit_History</th>\n",
              "      <th>Property_Area</th>\n",
              "      <th>Loan_Status</th>\n",
              "      <th>Kids&gt;3</th>\n",
              "      <th>Female</th>\n",
              "      <th>Male</th>\n",
              "      <th>No</th>\n",
              "      <th>Yes</th>\n",
              "    </tr>\n",
              "    <tr>\n",
              "      <th>Loan_ID</th>\n",
              "      <th></th>\n",
              "      <th></th>\n",
              "      <th></th>\n",
              "      <th></th>\n",
              "      <th></th>\n",
              "      <th></th>\n",
              "      <th></th>\n",
              "      <th></th>\n",
              "      <th></th>\n",
              "      <th></th>\n",
              "      <th></th>\n",
              "      <th></th>\n",
              "      <th></th>\n",
              "      <th></th>\n",
              "      <th></th>\n",
              "    </tr>\n",
              "  </thead>\n",
              "  <tbody>\n",
              "    <tr>\n",
              "      <th>LP001002</th>\n",
              "      <td>0</td>\n",
              "      <td>1</td>\n",
              "      <td>0</td>\n",
              "      <td>5849</td>\n",
              "      <td>0.0</td>\n",
              "      <td>146.0</td>\n",
              "      <td>360.0</td>\n",
              "      <td>1.0</td>\n",
              "      <td>2</td>\n",
              "      <td>Y</td>\n",
              "      <td>0.0</td>\n",
              "      <td>0</td>\n",
              "      <td>1</td>\n",
              "      <td>1</td>\n",
              "      <td>0</td>\n",
              "    </tr>\n",
              "    <tr>\n",
              "      <th>LP001003</th>\n",
              "      <td>1</td>\n",
              "      <td>1</td>\n",
              "      <td>0</td>\n",
              "      <td>4583</td>\n",
              "      <td>1508.0</td>\n",
              "      <td>128.0</td>\n",
              "      <td>360.0</td>\n",
              "      <td>1.0</td>\n",
              "      <td>0</td>\n",
              "      <td>N</td>\n",
              "      <td>0.0</td>\n",
              "      <td>0</td>\n",
              "      <td>1</td>\n",
              "      <td>0</td>\n",
              "      <td>1</td>\n",
              "    </tr>\n",
              "    <tr>\n",
              "      <th>LP001005</th>\n",
              "      <td>0</td>\n",
              "      <td>1</td>\n",
              "      <td>1</td>\n",
              "      <td>3000</td>\n",
              "      <td>0.0</td>\n",
              "      <td>66.0</td>\n",
              "      <td>360.0</td>\n",
              "      <td>1.0</td>\n",
              "      <td>2</td>\n",
              "      <td>Y</td>\n",
              "      <td>0.0</td>\n",
              "      <td>0</td>\n",
              "      <td>1</td>\n",
              "      <td>0</td>\n",
              "      <td>1</td>\n",
              "    </tr>\n",
              "    <tr>\n",
              "      <th>LP001006</th>\n",
              "      <td>0</td>\n",
              "      <td>0</td>\n",
              "      <td>0</td>\n",
              "      <td>2583</td>\n",
              "      <td>2358.0</td>\n",
              "      <td>120.0</td>\n",
              "      <td>360.0</td>\n",
              "      <td>1.0</td>\n",
              "      <td>2</td>\n",
              "      <td>Y</td>\n",
              "      <td>0.0</td>\n",
              "      <td>0</td>\n",
              "      <td>1</td>\n",
              "      <td>0</td>\n",
              "      <td>1</td>\n",
              "    </tr>\n",
              "    <tr>\n",
              "      <th>LP001008</th>\n",
              "      <td>0</td>\n",
              "      <td>1</td>\n",
              "      <td>0</td>\n",
              "      <td>6000</td>\n",
              "      <td>0.0</td>\n",
              "      <td>141.0</td>\n",
              "      <td>360.0</td>\n",
              "      <td>1.0</td>\n",
              "      <td>2</td>\n",
              "      <td>Y</td>\n",
              "      <td>0.0</td>\n",
              "      <td>0</td>\n",
              "      <td>1</td>\n",
              "      <td>1</td>\n",
              "      <td>0</td>\n",
              "    </tr>\n",
              "    <tr>\n",
              "      <th>...</th>\n",
              "      <td>...</td>\n",
              "      <td>...</td>\n",
              "      <td>...</td>\n",
              "      <td>...</td>\n",
              "      <td>...</td>\n",
              "      <td>...</td>\n",
              "      <td>...</td>\n",
              "      <td>...</td>\n",
              "      <td>...</td>\n",
              "      <td>...</td>\n",
              "      <td>...</td>\n",
              "      <td>...</td>\n",
              "      <td>...</td>\n",
              "      <td>...</td>\n",
              "      <td>...</td>\n",
              "    </tr>\n",
              "    <tr>\n",
              "      <th>LP002971</th>\n",
              "      <td>3</td>\n",
              "      <td>0</td>\n",
              "      <td>1</td>\n",
              "      <td>4009</td>\n",
              "      <td>1777.0</td>\n",
              "      <td>113.0</td>\n",
              "      <td>360.0</td>\n",
              "      <td>1.0</td>\n",
              "      <td>2</td>\n",
              "      <td>NaN</td>\n",
              "      <td>1.0</td>\n",
              "      <td>0</td>\n",
              "      <td>1</td>\n",
              "      <td>0</td>\n",
              "      <td>1</td>\n",
              "    </tr>\n",
              "    <tr>\n",
              "      <th>LP002975</th>\n",
              "      <td>0</td>\n",
              "      <td>1</td>\n",
              "      <td>0</td>\n",
              "      <td>4158</td>\n",
              "      <td>709.0</td>\n",
              "      <td>115.0</td>\n",
              "      <td>360.0</td>\n",
              "      <td>1.0</td>\n",
              "      <td>2</td>\n",
              "      <td>NaN</td>\n",
              "      <td>0.0</td>\n",
              "      <td>0</td>\n",
              "      <td>1</td>\n",
              "      <td>0</td>\n",
              "      <td>1</td>\n",
              "    </tr>\n",
              "    <tr>\n",
              "      <th>LP002980</th>\n",
              "      <td>0</td>\n",
              "      <td>1</td>\n",
              "      <td>0</td>\n",
              "      <td>3250</td>\n",
              "      <td>1993.0</td>\n",
              "      <td>126.0</td>\n",
              "      <td>360.0</td>\n",
              "      <td>1.0</td>\n",
              "      <td>1</td>\n",
              "      <td>NaN</td>\n",
              "      <td>0.0</td>\n",
              "      <td>0</td>\n",
              "      <td>1</td>\n",
              "      <td>1</td>\n",
              "      <td>0</td>\n",
              "    </tr>\n",
              "    <tr>\n",
              "      <th>LP002986</th>\n",
              "      <td>0</td>\n",
              "      <td>1</td>\n",
              "      <td>0</td>\n",
              "      <td>5000</td>\n",
              "      <td>2393.0</td>\n",
              "      <td>158.0</td>\n",
              "      <td>360.0</td>\n",
              "      <td>1.0</td>\n",
              "      <td>0</td>\n",
              "      <td>NaN</td>\n",
              "      <td>0.0</td>\n",
              "      <td>0</td>\n",
              "      <td>1</td>\n",
              "      <td>0</td>\n",
              "      <td>1</td>\n",
              "    </tr>\n",
              "    <tr>\n",
              "      <th>LP002989</th>\n",
              "      <td>0</td>\n",
              "      <td>1</td>\n",
              "      <td>1</td>\n",
              "      <td>9200</td>\n",
              "      <td>0.0</td>\n",
              "      <td>98.0</td>\n",
              "      <td>180.0</td>\n",
              "      <td>1.0</td>\n",
              "      <td>0</td>\n",
              "      <td>NaN</td>\n",
              "      <td>0.0</td>\n",
              "      <td>0</td>\n",
              "      <td>1</td>\n",
              "      <td>1</td>\n",
              "      <td>0</td>\n",
              "    </tr>\n",
              "  </tbody>\n",
              "</table>\n",
              "<p>981 rows × 15 columns</p>\n",
              "</div>"
            ],
            "text/plain": [
              "         Dependents Education Self_Employed  ...  Male  No  Yes\n",
              "Loan_ID                                      ...               \n",
              "LP001002          0         1             0  ...     1   1    0\n",
              "LP001003          1         1             0  ...     1   0    1\n",
              "LP001005          0         1             1  ...     1   0    1\n",
              "LP001006          0         0             0  ...     1   0    1\n",
              "LP001008          0         1             0  ...     1   1    0\n",
              "...             ...       ...           ...  ...   ...  ..  ...\n",
              "LP002971          3         0             1  ...     1   0    1\n",
              "LP002975          0         1             0  ...     1   0    1\n",
              "LP002980          0         1             0  ...     1   1    0\n",
              "LP002986          0         1             0  ...     1   0    1\n",
              "LP002989          0         1             1  ...     1   1    0\n",
              "\n",
              "[981 rows x 15 columns]"
            ]
          },
          "metadata": {
            "tags": []
          },
          "execution_count": 72
        }
      ]
    },
    {
      "cell_type": "code",
      "metadata": {
        "id": "rQpzhEwyJb7H",
        "colab_type": "code",
        "colab": {}
      },
      "source": [
        "from sklearn.preprocessing import StandardScaler\n",
        "ss = StandardScaler()"
      ],
      "execution_count": null,
      "outputs": []
    },
    {
      "cell_type": "code",
      "metadata": {
        "id": "O83B2gqbd2ki",
        "colab_type": "code",
        "colab": {}
      },
      "source": [
        "for i in range(len(ls)):\n",
        "  train_data[[ls[i]]] = ss.fit_transform(train_data[[ls[i]]])"
      ],
      "execution_count": null,
      "outputs": []
    },
    {
      "cell_type": "code",
      "metadata": {
        "id": "wcK7tU5SJgKY",
        "colab_type": "code",
        "colab": {}
      },
      "source": [
        "#data[['ApplicantIncome']] = ss.fit_transform(data[['ApplicantIncome']])"
      ],
      "execution_count": null,
      "outputs": []
    },
    {
      "cell_type": "code",
      "metadata": {
        "id": "1Re013NIJrza",
        "colab_type": "code",
        "colab": {
          "base_uri": "https://localhost:8080/",
          "height": 470
        },
        "outputId": "724d1c8a-c648-4c52-abf6-17d81b57d5b9"
      },
      "source": [
        "data"
      ],
      "execution_count": null,
      "outputs": [
        {
          "output_type": "execute_result",
          "data": {
            "text/html": [
              "<div>\n",
              "<style scoped>\n",
              "    .dataframe tbody tr th:only-of-type {\n",
              "        vertical-align: middle;\n",
              "    }\n",
              "\n",
              "    .dataframe tbody tr th {\n",
              "        vertical-align: top;\n",
              "    }\n",
              "\n",
              "    .dataframe thead th {\n",
              "        text-align: right;\n",
              "    }\n",
              "</style>\n",
              "<table border=\"1\" class=\"dataframe\">\n",
              "  <thead>\n",
              "    <tr style=\"text-align: right;\">\n",
              "      <th></th>\n",
              "      <th>Dependents</th>\n",
              "      <th>Education</th>\n",
              "      <th>Self_Employed</th>\n",
              "      <th>ApplicantIncome</th>\n",
              "      <th>CoapplicantIncome</th>\n",
              "      <th>LoanAmount</th>\n",
              "      <th>Loan_Amount_Term</th>\n",
              "      <th>Credit_History</th>\n",
              "      <th>Property_Area</th>\n",
              "      <th>Loan_Status</th>\n",
              "      <th>Kids&gt;3</th>\n",
              "      <th>Female</th>\n",
              "      <th>Male</th>\n",
              "      <th>No</th>\n",
              "      <th>Yes</th>\n",
              "    </tr>\n",
              "    <tr>\n",
              "      <th>Loan_ID</th>\n",
              "      <th></th>\n",
              "      <th></th>\n",
              "      <th></th>\n",
              "      <th></th>\n",
              "      <th></th>\n",
              "      <th></th>\n",
              "      <th></th>\n",
              "      <th></th>\n",
              "      <th></th>\n",
              "      <th></th>\n",
              "      <th></th>\n",
              "      <th></th>\n",
              "      <th></th>\n",
              "      <th></th>\n",
              "      <th></th>\n",
              "    </tr>\n",
              "  </thead>\n",
              "  <tbody>\n",
              "    <tr>\n",
              "      <th>LP001002</th>\n",
              "      <td>-0.745132</td>\n",
              "      <td>0.534522</td>\n",
              "      <td>-0.371552</td>\n",
              "      <td>0.117565</td>\n",
              "      <td>-0.589506</td>\n",
              "      <td>0.044456</td>\n",
              "      <td>0.270528</td>\n",
              "      <td>0.42151</td>\n",
              "      <td>1.182420</td>\n",
              "      <td>Y</td>\n",
              "      <td>-0.319761</td>\n",
              "      <td>0</td>\n",
              "      <td>1</td>\n",
              "      <td>1</td>\n",
              "      <td>0</td>\n",
              "    </tr>\n",
              "    <tr>\n",
              "      <th>LP001003</th>\n",
              "      <td>0.225618</td>\n",
              "      <td>0.534522</td>\n",
              "      <td>-0.371552</td>\n",
              "      <td>-0.104844</td>\n",
              "      <td>-0.034561</td>\n",
              "      <td>-0.191421</td>\n",
              "      <td>0.270528</td>\n",
              "      <td>0.42151</td>\n",
              "      <td>-1.314790</td>\n",
              "      <td>N</td>\n",
              "      <td>-0.319761</td>\n",
              "      <td>0</td>\n",
              "      <td>1</td>\n",
              "      <td>0</td>\n",
              "      <td>1</td>\n",
              "    </tr>\n",
              "    <tr>\n",
              "      <th>LP001005</th>\n",
              "      <td>-0.745132</td>\n",
              "      <td>0.534522</td>\n",
              "      <td>2.691412</td>\n",
              "      <td>-0.382944</td>\n",
              "      <td>-0.589506</td>\n",
              "      <td>-1.003886</td>\n",
              "      <td>0.270528</td>\n",
              "      <td>0.42151</td>\n",
              "      <td>1.182420</td>\n",
              "      <td>Y</td>\n",
              "      <td>-0.319761</td>\n",
              "      <td>0</td>\n",
              "      <td>1</td>\n",
              "      <td>0</td>\n",
              "      <td>1</td>\n",
              "    </tr>\n",
              "    <tr>\n",
              "      <th>LP001006</th>\n",
              "      <td>-0.745132</td>\n",
              "      <td>-1.870829</td>\n",
              "      <td>-0.371552</td>\n",
              "      <td>-0.456202</td>\n",
              "      <td>0.278239</td>\n",
              "      <td>-0.296255</td>\n",
              "      <td>0.270528</td>\n",
              "      <td>0.42151</td>\n",
              "      <td>1.182420</td>\n",
              "      <td>Y</td>\n",
              "      <td>-0.319761</td>\n",
              "      <td>0</td>\n",
              "      <td>1</td>\n",
              "      <td>0</td>\n",
              "      <td>1</td>\n",
              "    </tr>\n",
              "    <tr>\n",
              "      <th>LP001008</th>\n",
              "      <td>-0.745132</td>\n",
              "      <td>0.534522</td>\n",
              "      <td>-0.371552</td>\n",
              "      <td>0.144093</td>\n",
              "      <td>-0.589506</td>\n",
              "      <td>-0.021066</td>\n",
              "      <td>0.270528</td>\n",
              "      <td>0.42151</td>\n",
              "      <td>1.182420</td>\n",
              "      <td>Y</td>\n",
              "      <td>-0.319761</td>\n",
              "      <td>0</td>\n",
              "      <td>1</td>\n",
              "      <td>1</td>\n",
              "      <td>0</td>\n",
              "    </tr>\n",
              "    <tr>\n",
              "      <th>...</th>\n",
              "      <td>...</td>\n",
              "      <td>...</td>\n",
              "      <td>...</td>\n",
              "      <td>...</td>\n",
              "      <td>...</td>\n",
              "      <td>...</td>\n",
              "      <td>...</td>\n",
              "      <td>...</td>\n",
              "      <td>...</td>\n",
              "      <td>...</td>\n",
              "      <td>...</td>\n",
              "      <td>...</td>\n",
              "      <td>...</td>\n",
              "      <td>...</td>\n",
              "      <td>...</td>\n",
              "    </tr>\n",
              "    <tr>\n",
              "      <th>LP002971</th>\n",
              "      <td>2.167117</td>\n",
              "      <td>-1.870829</td>\n",
              "      <td>2.691412</td>\n",
              "      <td>-0.205684</td>\n",
              "      <td>0.064431</td>\n",
              "      <td>-0.387985</td>\n",
              "      <td>0.270528</td>\n",
              "      <td>0.42151</td>\n",
              "      <td>1.182420</td>\n",
              "      <td>NaN</td>\n",
              "      <td>3.127334</td>\n",
              "      <td>0</td>\n",
              "      <td>1</td>\n",
              "      <td>0</td>\n",
              "      <td>1</td>\n",
              "    </tr>\n",
              "    <tr>\n",
              "      <th>LP002975</th>\n",
              "      <td>-0.745132</td>\n",
              "      <td>0.534522</td>\n",
              "      <td>-0.371552</td>\n",
              "      <td>-0.179508</td>\n",
              "      <td>-0.328594</td>\n",
              "      <td>-0.361777</td>\n",
              "      <td>0.270528</td>\n",
              "      <td>0.42151</td>\n",
              "      <td>1.182420</td>\n",
              "      <td>NaN</td>\n",
              "      <td>-0.319761</td>\n",
              "      <td>0</td>\n",
              "      <td>1</td>\n",
              "      <td>0</td>\n",
              "      <td>1</td>\n",
              "    </tr>\n",
              "    <tr>\n",
              "      <th>LP002980</th>\n",
              "      <td>-0.745132</td>\n",
              "      <td>0.534522</td>\n",
              "      <td>-0.371552</td>\n",
              "      <td>-0.339024</td>\n",
              "      <td>0.143919</td>\n",
              "      <td>-0.217630</td>\n",
              "      <td>0.270528</td>\n",
              "      <td>0.42151</td>\n",
              "      <td>-0.066185</td>\n",
              "      <td>NaN</td>\n",
              "      <td>-0.319761</td>\n",
              "      <td>0</td>\n",
              "      <td>1</td>\n",
              "      <td>1</td>\n",
              "      <td>0</td>\n",
              "    </tr>\n",
              "    <tr>\n",
              "      <th>LP002986</th>\n",
              "      <td>-0.745132</td>\n",
              "      <td>0.534522</td>\n",
              "      <td>-0.371552</td>\n",
              "      <td>-0.031586</td>\n",
              "      <td>0.291119</td>\n",
              "      <td>0.201707</td>\n",
              "      <td>0.270528</td>\n",
              "      <td>0.42151</td>\n",
              "      <td>-1.314790</td>\n",
              "      <td>NaN</td>\n",
              "      <td>-0.319761</td>\n",
              "      <td>0</td>\n",
              "      <td>1</td>\n",
              "      <td>0</td>\n",
              "      <td>1</td>\n",
              "    </tr>\n",
              "    <tr>\n",
              "      <th>LP002989</th>\n",
              "      <td>-0.745132</td>\n",
              "      <td>0.534522</td>\n",
              "      <td>2.691412</td>\n",
              "      <td>0.706265</td>\n",
              "      <td>-0.589506</td>\n",
              "      <td>-0.584549</td>\n",
              "      <td>-2.522372</td>\n",
              "      <td>0.42151</td>\n",
              "      <td>-1.314790</td>\n",
              "      <td>NaN</td>\n",
              "      <td>-0.319761</td>\n",
              "      <td>0</td>\n",
              "      <td>1</td>\n",
              "      <td>1</td>\n",
              "      <td>0</td>\n",
              "    </tr>\n",
              "  </tbody>\n",
              "</table>\n",
              "<p>981 rows × 15 columns</p>\n",
              "</div>"
            ],
            "text/plain": [
              "          Dependents  Education  Self_Employed  ...  Male  No  Yes\n",
              "Loan_ID                                         ...               \n",
              "LP001002   -0.745132   0.534522      -0.371552  ...     1   1    0\n",
              "LP001003    0.225618   0.534522      -0.371552  ...     1   0    1\n",
              "LP001005   -0.745132   0.534522       2.691412  ...     1   0    1\n",
              "LP001006   -0.745132  -1.870829      -0.371552  ...     1   0    1\n",
              "LP001008   -0.745132   0.534522      -0.371552  ...     1   1    0\n",
              "...              ...        ...            ...  ...   ...  ..  ...\n",
              "LP002971    2.167117  -1.870829       2.691412  ...     1   0    1\n",
              "LP002975   -0.745132   0.534522      -0.371552  ...     1   0    1\n",
              "LP002980   -0.745132   0.534522      -0.371552  ...     1   1    0\n",
              "LP002986   -0.745132   0.534522      -0.371552  ...     1   0    1\n",
              "LP002989   -0.745132   0.534522       2.691412  ...     1   1    0\n",
              "\n",
              "[981 rows x 15 columns]"
            ]
          },
          "metadata": {
            "tags": []
          },
          "execution_count": 76
        }
      ]
    },
    {
      "cell_type": "code",
      "metadata": {
        "id": "-9W78fN2jVez",
        "colab_type": "code",
        "colab": {
          "base_uri": "https://localhost:8080/",
          "height": 272
        },
        "outputId": "c1dec1cd-7cca-47df-b989-bc4b30df7834"
      },
      "source": [
        "print(len(test_data))\n",
        "981-367\n",
        "print(train_data[610:620])\n",
        "train_data = data[:614]\n",
        "test_data1 = data[614:]"
      ],
      "execution_count": null,
      "outputs": [
        {
          "output_type": "stream",
          "text": [
            "367\n",
            "          Dependents  Education  Self_Employed  ...  Male  No  Yes\n",
            "Loan_ID                                         ...               \n",
            "LP002979    2.167117   0.534522      -0.371552  ...     1   0    1\n",
            "LP002983    0.225618   0.534522      -0.371552  ...     1   0    1\n",
            "LP002984    1.196367   0.534522      -0.371552  ...     1   0    1\n",
            "LP002990   -0.745132   0.534522       2.691412  ...     0   1    0\n",
            "LP001015   -0.745132   0.534522      -0.371552  ...     1   0    1\n",
            "LP001022    0.225618   0.534522      -0.371552  ...     1   0    1\n",
            "LP001031    1.196367   0.534522      -0.371552  ...     1   0    1\n",
            "LP001035    1.196367   0.534522      -0.371552  ...     1   0    1\n",
            "LP001051   -0.745132  -1.870829      -0.371552  ...     1   1    0\n",
            "LP001054   -0.745132  -1.870829       2.691412  ...     1   0    1\n",
            "\n",
            "[10 rows x 15 columns]\n"
          ],
          "name": "stdout"
        }
      ]
    },
    {
      "cell_type": "code",
      "metadata": {
        "id": "na8RppMtlaCj",
        "colab_type": "code",
        "colab": {
          "base_uri": "https://localhost:8080/",
          "height": 34
        },
        "outputId": "88c42e0f-6ed8-4ccc-8964-a0e6a1e94783"
      },
      "source": [
        "data['Loan_Status'].unique()"
      ],
      "execution_count": null,
      "outputs": [
        {
          "output_type": "execute_result",
          "data": {
            "text/plain": [
              "array(['Y', 'N', nan], dtype=object)"
            ]
          },
          "metadata": {
            "tags": []
          },
          "execution_count": 78
        }
      ]
    },
    {
      "cell_type": "code",
      "metadata": {
        "id": "fQSTsN0Pj3em",
        "colab_type": "code",
        "colab": {
          "base_uri": "https://localhost:8080/",
          "height": 272
        },
        "outputId": "94d7bc2d-526c-4010-8f58-1bf2bbb2caf9"
      },
      "source": [
        "#train_data['Loan_Status'] = le.fit_transform(data['Loan_Status'])\n",
        "for i in range(len(train_data)):\n",
        "  if train_data['Loan_Status'][i] == 'Y':\n",
        "    train_data['Loan_Status'][i] = 1\n",
        "  elif train_data['Loan_Status'][i] == 'N':\n",
        "    train_data['Loan_Status'][i]= 0"
      ],
      "execution_count": null,
      "outputs": [
        {
          "output_type": "stream",
          "text": [
            "/usr/local/lib/python3.6/dist-packages/ipykernel_launcher.py:4: SettingWithCopyWarning: \n",
            "A value is trying to be set on a copy of a slice from a DataFrame\n",
            "\n",
            "See the caveats in the documentation: https://pandas.pydata.org/pandas-docs/stable/user_guide/indexing.html#returning-a-view-versus-a-copy\n",
            "  after removing the cwd from sys.path.\n",
            "/usr/local/lib/python3.6/dist-packages/IPython/core/interactiveshell.py:2882: SettingWithCopyWarning: \n",
            "A value is trying to be set on a copy of a slice from a DataFrame\n",
            "\n",
            "See the caveats in the documentation: https://pandas.pydata.org/pandas-docs/stable/user_guide/indexing.html#returning-a-view-versus-a-copy\n",
            "  exec(code_obj, self.user_global_ns, self.user_ns)\n",
            "/usr/local/lib/python3.6/dist-packages/ipykernel_launcher.py:6: SettingWithCopyWarning: \n",
            "A value is trying to be set on a copy of a slice from a DataFrame\n",
            "\n",
            "See the caveats in the documentation: https://pandas.pydata.org/pandas-docs/stable/user_guide/indexing.html#returning-a-view-versus-a-copy\n",
            "  \n"
          ],
          "name": "stderr"
        }
      ]
    },
    {
      "cell_type": "code",
      "metadata": {
        "id": "c-O746w8l2QU",
        "colab_type": "code",
        "colab": {
          "base_uri": "https://localhost:8080/",
          "height": 68
        },
        "outputId": "79ac8229-c104-42e9-ec0d-dd6694c97656"
      },
      "source": [
        "train_data['Loan_Status'].value_counts()"
      ],
      "execution_count": null,
      "outputs": [
        {
          "output_type": "execute_result",
          "data": {
            "text/plain": [
              "1    422\n",
              "0    192\n",
              "Name: Loan_Status, dtype: int64"
            ]
          },
          "metadata": {
            "tags": []
          },
          "execution_count": 80
        }
      ]
    },
    {
      "cell_type": "code",
      "metadata": {
        "id": "198Xy4HOnXJb",
        "colab_type": "code",
        "colab": {
          "base_uri": "https://localhost:8080/",
          "height": 105
        },
        "outputId": "801c21b6-cfd6-42f6-8a42-785afec4e9d4"
      },
      "source": [
        "from imblearn.over_sampling import RandomOverSampler\n",
        "os = RandomOverSampler(ratio = 0.5)\n",
        "#d = train_data.drop(['Loan_Status'], axis = 1)\n",
        "#e = train_data['Loan_Status']\n",
        "#x, y = os.fit_sample(d, e)"
      ],
      "execution_count": null,
      "outputs": [
        {
          "output_type": "stream",
          "text": [
            "/usr/local/lib/python3.6/dist-packages/sklearn/externals/six.py:31: FutureWarning: The module is deprecated in version 0.21 and will be removed in version 0.23 since we've dropped support for Python 2.7. Please rely on the official version of six (https://pypi.org/project/six/).\n",
            "  \"(https://pypi.org/project/six/).\", FutureWarning)\n",
            "/usr/local/lib/python3.6/dist-packages/sklearn/utils/deprecation.py:144: FutureWarning: The sklearn.neighbors.base module is  deprecated in version 0.22 and will be removed in version 0.24. The corresponding classes / functions should instead be imported from sklearn.neighbors. Anything that cannot be imported from sklearn.neighbors is now part of the private API.\n",
            "  warnings.warn(message, FutureWarning)\n"
          ],
          "name": "stderr"
        }
      ]
    },
    {
      "cell_type": "code",
      "metadata": {
        "id": "54tk8IFcl-2I",
        "colab_type": "code",
        "colab": {
          "base_uri": "https://localhost:8080/",
          "height": 503
        },
        "outputId": "9b704f88-d916-4dbe-fb11-765a023eaf9d"
      },
      "source": [
        "train_data.corr()"
      ],
      "execution_count": null,
      "outputs": [
        {
          "output_type": "execute_result",
          "data": {
            "text/html": [
              "<div>\n",
              "<style scoped>\n",
              "    .dataframe tbody tr th:only-of-type {\n",
              "        vertical-align: middle;\n",
              "    }\n",
              "\n",
              "    .dataframe tbody tr th {\n",
              "        vertical-align: top;\n",
              "    }\n",
              "\n",
              "    .dataframe thead th {\n",
              "        text-align: right;\n",
              "    }\n",
              "</style>\n",
              "<table border=\"1\" class=\"dataframe\">\n",
              "  <thead>\n",
              "    <tr style=\"text-align: right;\">\n",
              "      <th></th>\n",
              "      <th>Dependents</th>\n",
              "      <th>Education</th>\n",
              "      <th>Self_Employed</th>\n",
              "      <th>ApplicantIncome</th>\n",
              "      <th>CoapplicantIncome</th>\n",
              "      <th>LoanAmount</th>\n",
              "      <th>Loan_Amount_Term</th>\n",
              "      <th>Credit_History</th>\n",
              "      <th>Property_Area</th>\n",
              "      <th>Kids&gt;3</th>\n",
              "      <th>Female</th>\n",
              "      <th>Male</th>\n",
              "      <th>No</th>\n",
              "      <th>Yes</th>\n",
              "    </tr>\n",
              "  </thead>\n",
              "  <tbody>\n",
              "    <tr>\n",
              "      <th>Dependents</th>\n",
              "      <td>1.000000</td>\n",
              "      <td>-0.055752</td>\n",
              "      <td>0.056798</td>\n",
              "      <td>0.118202</td>\n",
              "      <td>0.030430</td>\n",
              "      <td>0.163108</td>\n",
              "      <td>-0.103864</td>\n",
              "      <td>-0.040160</td>\n",
              "      <td>-0.000244</td>\n",
              "      <td>0.672987</td>\n",
              "      <td>-0.171385</td>\n",
              "      <td>0.171385</td>\n",
              "      <td>-0.334216</td>\n",
              "      <td>0.334216</td>\n",
              "    </tr>\n",
              "    <tr>\n",
              "      <th>Education</th>\n",
              "      <td>-0.055752</td>\n",
              "      <td>1.000000</td>\n",
              "      <td>0.010383</td>\n",
              "      <td>0.140760</td>\n",
              "      <td>0.062290</td>\n",
              "      <td>0.167041</td>\n",
              "      <td>0.073928</td>\n",
              "      <td>0.073658</td>\n",
              "      <td>0.065243</td>\n",
              "      <td>-0.055288</td>\n",
              "      <td>0.057566</td>\n",
              "      <td>-0.057566</td>\n",
              "      <td>0.012304</td>\n",
              "      <td>-0.012304</td>\n",
              "    </tr>\n",
              "    <tr>\n",
              "      <th>Self_Employed</th>\n",
              "      <td>0.056798</td>\n",
              "      <td>0.010383</td>\n",
              "      <td>1.000000</td>\n",
              "      <td>0.127180</td>\n",
              "      <td>-0.016100</td>\n",
              "      <td>0.115259</td>\n",
              "      <td>-0.033739</td>\n",
              "      <td>-0.001550</td>\n",
              "      <td>-0.030860</td>\n",
              "      <td>0.003278</td>\n",
              "      <td>0.027232</td>\n",
              "      <td>-0.027232</td>\n",
              "      <td>-0.004489</td>\n",
              "      <td>0.004489</td>\n",
              "    </tr>\n",
              "    <tr>\n",
              "      <th>ApplicantIncome</th>\n",
              "      <td>0.118202</td>\n",
              "      <td>0.140760</td>\n",
              "      <td>0.127180</td>\n",
              "      <td>1.000000</td>\n",
              "      <td>-0.116605</td>\n",
              "      <td>0.565621</td>\n",
              "      <td>-0.046531</td>\n",
              "      <td>-0.018615</td>\n",
              "      <td>-0.009500</td>\n",
              "      <td>0.156687</td>\n",
              "      <td>-0.051185</td>\n",
              "      <td>0.051185</td>\n",
              "      <td>-0.051708</td>\n",
              "      <td>0.051708</td>\n",
              "    </tr>\n",
              "    <tr>\n",
              "      <th>CoapplicantIncome</th>\n",
              "      <td>0.030430</td>\n",
              "      <td>0.062290</td>\n",
              "      <td>-0.016100</td>\n",
              "      <td>-0.116605</td>\n",
              "      <td>1.000000</td>\n",
              "      <td>0.187863</td>\n",
              "      <td>-0.059383</td>\n",
              "      <td>0.011134</td>\n",
              "      <td>0.010522</td>\n",
              "      <td>0.041491</td>\n",
              "      <td>-0.073435</td>\n",
              "      <td>0.073435</td>\n",
              "      <td>-0.075948</td>\n",
              "      <td>0.075948</td>\n",
              "    </tr>\n",
              "    <tr>\n",
              "      <th>LoanAmount</th>\n",
              "      <td>0.163108</td>\n",
              "      <td>0.167041</td>\n",
              "      <td>0.115259</td>\n",
              "      <td>0.565621</td>\n",
              "      <td>0.187863</td>\n",
              "      <td>1.000000</td>\n",
              "      <td>0.036486</td>\n",
              "      <td>-0.001412</td>\n",
              "      <td>-0.044818</td>\n",
              "      <td>0.153195</td>\n",
              "      <td>-0.091162</td>\n",
              "      <td>0.091162</td>\n",
              "      <td>-0.147131</td>\n",
              "      <td>0.147131</td>\n",
              "    </tr>\n",
              "    <tr>\n",
              "      <th>Loan_Amount_Term</th>\n",
              "      <td>-0.103864</td>\n",
              "      <td>0.073928</td>\n",
              "      <td>-0.033739</td>\n",
              "      <td>-0.046531</td>\n",
              "      <td>-0.059383</td>\n",
              "      <td>0.036486</td>\n",
              "      <td>1.000000</td>\n",
              "      <td>-0.004705</td>\n",
              "      <td>-0.076120</td>\n",
              "      <td>-0.077273</td>\n",
              "      <td>0.067777</td>\n",
              "      <td>-0.067777</td>\n",
              "      <td>0.100912</td>\n",
              "      <td>-0.100912</td>\n",
              "    </tr>\n",
              "    <tr>\n",
              "      <th>Credit_History</th>\n",
              "      <td>-0.040160</td>\n",
              "      <td>0.073658</td>\n",
              "      <td>-0.001550</td>\n",
              "      <td>-0.018615</td>\n",
              "      <td>0.011134</td>\n",
              "      <td>-0.001412</td>\n",
              "      <td>-0.004705</td>\n",
              "      <td>1.000000</td>\n",
              "      <td>0.001963</td>\n",
              "      <td>-0.060473</td>\n",
              "      <td>-0.010517</td>\n",
              "      <td>0.010517</td>\n",
              "      <td>-0.010938</td>\n",
              "      <td>0.010938</td>\n",
              "    </tr>\n",
              "    <tr>\n",
              "      <th>Property_Area</th>\n",
              "      <td>-0.000244</td>\n",
              "      <td>0.065243</td>\n",
              "      <td>-0.030860</td>\n",
              "      <td>-0.009500</td>\n",
              "      <td>0.010522</td>\n",
              "      <td>-0.044818</td>\n",
              "      <td>-0.076120</td>\n",
              "      <td>0.001963</td>\n",
              "      <td>1.000000</td>\n",
              "      <td>-0.051830</td>\n",
              "      <td>0.013552</td>\n",
              "      <td>-0.013552</td>\n",
              "      <td>-0.004257</td>\n",
              "      <td>0.004257</td>\n",
              "    </tr>\n",
              "    <tr>\n",
              "      <th>Kids&gt;3</th>\n",
              "      <td>0.672987</td>\n",
              "      <td>-0.055288</td>\n",
              "      <td>0.003278</td>\n",
              "      <td>0.156687</td>\n",
              "      <td>0.041491</td>\n",
              "      <td>0.153195</td>\n",
              "      <td>-0.077273</td>\n",
              "      <td>-0.060473</td>\n",
              "      <td>-0.051830</td>\n",
              "      <td>1.000000</td>\n",
              "      <td>-0.086891</td>\n",
              "      <td>0.086891</td>\n",
              "      <td>-0.132566</td>\n",
              "      <td>0.132566</td>\n",
              "    </tr>\n",
              "    <tr>\n",
              "      <th>Female</th>\n",
              "      <td>-0.171385</td>\n",
              "      <td>0.057566</td>\n",
              "      <td>0.027232</td>\n",
              "      <td>-0.051185</td>\n",
              "      <td>-0.073435</td>\n",
              "      <td>-0.091162</td>\n",
              "      <td>0.067777</td>\n",
              "      <td>-0.010517</td>\n",
              "      <td>0.013552</td>\n",
              "      <td>-0.086891</td>\n",
              "      <td>1.000000</td>\n",
              "      <td>-1.000000</td>\n",
              "      <td>0.339245</td>\n",
              "      <td>-0.339245</td>\n",
              "    </tr>\n",
              "    <tr>\n",
              "      <th>Male</th>\n",
              "      <td>0.171385</td>\n",
              "      <td>-0.057566</td>\n",
              "      <td>-0.027232</td>\n",
              "      <td>0.051185</td>\n",
              "      <td>0.073435</td>\n",
              "      <td>0.091162</td>\n",
              "      <td>-0.067777</td>\n",
              "      <td>0.010517</td>\n",
              "      <td>-0.013552</td>\n",
              "      <td>0.086891</td>\n",
              "      <td>-1.000000</td>\n",
              "      <td>1.000000</td>\n",
              "      <td>-0.339245</td>\n",
              "      <td>0.339245</td>\n",
              "    </tr>\n",
              "    <tr>\n",
              "      <th>No</th>\n",
              "      <td>-0.334216</td>\n",
              "      <td>0.012304</td>\n",
              "      <td>-0.004489</td>\n",
              "      <td>-0.051708</td>\n",
              "      <td>-0.075948</td>\n",
              "      <td>-0.147131</td>\n",
              "      <td>0.100912</td>\n",
              "      <td>-0.010938</td>\n",
              "      <td>-0.004257</td>\n",
              "      <td>-0.132566</td>\n",
              "      <td>0.339245</td>\n",
              "      <td>-0.339245</td>\n",
              "      <td>1.000000</td>\n",
              "      <td>-1.000000</td>\n",
              "    </tr>\n",
              "    <tr>\n",
              "      <th>Yes</th>\n",
              "      <td>0.334216</td>\n",
              "      <td>-0.012304</td>\n",
              "      <td>0.004489</td>\n",
              "      <td>0.051708</td>\n",
              "      <td>0.075948</td>\n",
              "      <td>0.147131</td>\n",
              "      <td>-0.100912</td>\n",
              "      <td>0.010938</td>\n",
              "      <td>0.004257</td>\n",
              "      <td>0.132566</td>\n",
              "      <td>-0.339245</td>\n",
              "      <td>0.339245</td>\n",
              "      <td>-1.000000</td>\n",
              "      <td>1.000000</td>\n",
              "    </tr>\n",
              "  </tbody>\n",
              "</table>\n",
              "</div>"
            ],
            "text/plain": [
              "                   Dependents  Education  ...        No       Yes\n",
              "Dependents           1.000000  -0.055752  ... -0.334216  0.334216\n",
              "Education           -0.055752   1.000000  ...  0.012304 -0.012304\n",
              "Self_Employed        0.056798   0.010383  ... -0.004489  0.004489\n",
              "ApplicantIncome      0.118202   0.140760  ... -0.051708  0.051708\n",
              "CoapplicantIncome    0.030430   0.062290  ... -0.075948  0.075948\n",
              "LoanAmount           0.163108   0.167041  ... -0.147131  0.147131\n",
              "Loan_Amount_Term    -0.103864   0.073928  ...  0.100912 -0.100912\n",
              "Credit_History      -0.040160   0.073658  ... -0.010938  0.010938\n",
              "Property_Area       -0.000244   0.065243  ... -0.004257  0.004257\n",
              "Kids>3               0.672987  -0.055288  ... -0.132566  0.132566\n",
              "Female              -0.171385   0.057566  ...  0.339245 -0.339245\n",
              "Male                 0.171385  -0.057566  ... -0.339245  0.339245\n",
              "No                  -0.334216   0.012304  ...  1.000000 -1.000000\n",
              "Yes                  0.334216  -0.012304  ... -1.000000  1.000000\n",
              "\n",
              "[14 rows x 14 columns]"
            ]
          },
          "metadata": {
            "tags": []
          },
          "execution_count": 82
        }
      ]
    },
    {
      "cell_type": "code",
      "metadata": {
        "id": "8bkzSQoEGXjF",
        "colab_type": "code",
        "colab": {
          "base_uri": "https://localhost:8080/",
          "height": 737
        },
        "outputId": "762346c9-f507-4594-94a2-ee580591d557"
      },
      "source": [
        "import seaborn as sns\n",
        "fig, ax = plt.subplots(figsize=(10,10))\n",
        "sns.heatmap(train_data.corr(), annot = True)\n",
        "plt.show()"
      ],
      "execution_count": null,
      "outputs": [
        {
          "output_type": "stream",
          "text": [
            "/usr/local/lib/python3.6/dist-packages/statsmodels/tools/_testing.py:19: FutureWarning: pandas.util.testing is deprecated. Use the functions in the public API at pandas.testing instead.\n",
            "  import pandas.util.testing as tm\n"
          ],
          "name": "stderr"
        },
        {
          "output_type": "display_data",
          "data": {
            "image/png": "[encoded data removed]",
            "text/plain": [
              "<Figure size 720x720 with 2 Axes>"
            ]
          },
          "metadata": {
            "tags": [],
            "needs_background": "light"
          }
        }
      ]
    },
    {
      "cell_type": "code",
      "metadata": {
        "id": "DQtE_HKJer9K",
        "colab_type": "code",
        "colab": {}
      },
      "source": [
        "x = train_data.drop(['Loan_Status'], axis = 1)\n",
        "y = train_data['Loan_Status']\n",
        "y = y.astype(int)"
      ],
      "execution_count": null,
      "outputs": []
    },
    {
      "cell_type": "code",
      "metadata": {
        "id": "SSv2OiofhDDv",
        "colab_type": "code",
        "colab": {}
      },
      "source": [
        "from sklearn.model_selection import train_test_split\n",
        "train_x, test_x, train_y, test_y = train_test_split(x, y, test_size = 0.25)"
      ],
      "execution_count": null,
      "outputs": []
    },
    {
      "cell_type": "code",
      "metadata": {
        "id": "DxMhG8rcGBVW",
        "colab_type": "code",
        "colab": {
          "base_uri": "https://localhost:8080/",
          "height": 238
        },
        "outputId": "424edcf6-067c-4ce8-cdbb-b0eca0ae2b6e"
      },
      "source": [
        "test_y"
      ],
      "execution_count": null,
      "outputs": [
        {
          "output_type": "execute_result",
          "data": {
            "text/plain": [
              "Loan_ID\n",
              "LP001498    1\n",
              "LP002493    0\n",
              "LP001047    0\n",
              "LP002545    0\n",
              "LP002393    1\n",
              "           ..\n",
              "LP001760    1\n",
              "LP001151    1\n",
              "LP002536    1\n",
              "LP002804    1\n",
              "LP001758    1\n",
              "Name: Loan_Status, Length: 154, dtype: int64"
            ]
          },
          "metadata": {
            "tags": []
          },
          "execution_count": 86
        }
      ]
    },
    {
      "cell_type": "code",
      "metadata": {
        "id": "cTl0rWgtpTyx",
        "colab_type": "code",
        "colab": {
          "base_uri": "https://localhost:8080/",
          "height": 71
        },
        "outputId": "f888ac9b-caae-4ef7-effc-2adde65cc08a"
      },
      "source": [
        "train_x, train_y = os.fit_sample(train_x, train_y)\n",
        "#test_x, test_y = os.fit_sample(test_x, test_y)"
      ],
      "execution_count": null,
      "outputs": [
        {
          "output_type": "stream",
          "text": [
            "/usr/local/lib/python3.6/dist-packages/sklearn/utils/deprecation.py:87: FutureWarning: Function safe_indexing is deprecated; safe_indexing is deprecated in version 0.22 and will be removed in version 0.24.\n",
            "  warnings.warn(msg, category=FutureWarning)\n"
          ],
          "name": "stderr"
        }
      ]
    },
    {
      "cell_type": "code",
      "metadata": {
        "id": "Gv6dhAS8-Y-b",
        "colab_type": "code",
        "colab": {}
      },
      "source": [
        "from sklearn.decomposition import PCA\n",
        "pca = PCA(n_components = 12)"
      ],
      "execution_count": null,
      "outputs": []
    },
    {
      "cell_type": "code",
      "metadata": {
        "id": "6NdQ2iRhDQNT",
        "colab_type": "code",
        "colab": {
          "base_uri": "https://localhost:8080/",
          "height": 238
        },
        "outputId": "30941266-f18f-471d-e1ed-74c043f34897"
      },
      "source": [
        "train_x"
      ],
      "execution_count": null,
      "outputs": [
        {
          "output_type": "execute_result",
          "data": {
            "text/plain": [
              "array([[ 1.19636726,  0.53452248, -0.37155221, ...,  0.        ,\n",
              "         1.        ,  0.        ],\n",
              "       [ 0.22561765,  0.53452248, -0.37155221, ...,  0.        ,\n",
              "         1.        ,  0.        ],\n",
              "       [ 1.19636726,  0.53452248, -0.37155221, ...,  1.        ,\n",
              "         1.        ,  0.        ],\n",
              "       ...,\n",
              "       [-0.74513196,  0.53452248, -0.37155221, ...,  1.        ,\n",
              "         1.        ,  0.        ],\n",
              "       [-0.74513196,  0.53452248,  2.6914118 , ...,  0.        ,\n",
              "         1.        ,  0.        ],\n",
              "       [ 0.22561765,  0.53452248, -0.37155221, ...,  1.        ,\n",
              "         1.        ,  0.        ]])"
            ]
          },
          "metadata": {
            "tags": []
          },
          "execution_count": 89
        }
      ]
    },
    {
      "cell_type": "code",
      "metadata": {
        "id": "eybqpfKzE5f4",
        "colab_type": "code",
        "colab": {
          "base_uri": "https://localhost:8080/",
          "height": 51
        },
        "outputId": "26c2adbf-699e-42fb-e8bf-2e1f7a4595c9"
      },
      "source": [
        "print(train_x.shape)\n",
        "print(test_x.shape)"
      ],
      "execution_count": null,
      "outputs": [
        {
          "output_type": "stream",
          "text": [
            "(483, 14)\n",
            "(154, 14)\n"
          ],
          "name": "stdout"
        }
      ]
    },
    {
      "cell_type": "code",
      "metadata": {
        "id": "RoASfCqxF6IN",
        "colab_type": "code",
        "colab": {}
      },
      "source": [
        ""
      ],
      "execution_count": null,
      "outputs": []
    },
    {
      "cell_type": "code",
      "metadata": {
        "id": "LVNikmFO-les",
        "colab_type": "code",
        "colab": {}
      },
      "source": [
        "#train_x = pca.fit(train_x)\n",
        "train_x = pca.fit_transform(np.array(train_x))\n",
        "test_x = pca.transform(np.array(test_x))"
      ],
      "execution_count": null,
      "outputs": []
    },
    {
      "cell_type": "code",
      "metadata": {
        "id": "RKixqw6rGCgR",
        "colab_type": "code",
        "colab": {
          "base_uri": "https://localhost:8080/",
          "height": 51
        },
        "outputId": "3c4e49a6-c54f-41a6-e2dd-5048e670d75a"
      },
      "source": [
        "print(train_x.shape)\n",
        "print(test_x.shape)"
      ],
      "execution_count": null,
      "outputs": [
        {
          "output_type": "stream",
          "text": [
            "(483, 12)\n",
            "(154, 12)\n"
          ],
          "name": "stdout"
        }
      ]
    },
    {
      "cell_type": "code",
      "metadata": {
        "id": "HhYY6DRO-scj",
        "colab_type": "code",
        "colab": {
          "base_uri": "https://localhost:8080/",
          "height": 51
        },
        "outputId": "7f098698-3fe2-4e64-f6a4-60579dc477cc"
      },
      "source": [
        "pca.get_params"
      ],
      "execution_count": null,
      "outputs": [
        {
          "output_type": "execute_result",
          "data": {
            "text/plain": [
              "<bound method BaseEstimator.get_params of PCA(copy=True, iterated_power='auto', n_components=12, random_state=None,\n",
              "    svd_solver='auto', tol=0.0, whiten=False)>"
            ]
          },
          "metadata": {
            "tags": []
          },
          "execution_count": 93
        }
      ]
    },
    {
      "cell_type": "code",
      "metadata": {
        "id": "7cQMsDCHp8p2",
        "colab_type": "code",
        "colab": {
          "base_uri": "https://localhost:8080/",
          "height": 238
        },
        "outputId": "8ed485af-77ab-4e50-fa4c-8b63df706ba0"
      },
      "source": [
        "train_x"
      ],
      "execution_count": null,
      "outputs": [
        {
          "output_type": "execute_result",
          "data": {
            "text/plain": [
              "array([[-0.35213889,  0.24962034,  0.58178506, ..., -0.32054839,\n",
              "         1.63250061,  0.04366375],\n",
              "       [-0.69454508, -0.34281433, -0.02250355, ..., -0.60458817,\n",
              "         1.01064884,  0.28613104],\n",
              "       [ 0.33806598,  0.15043879,  1.10475626, ...,  0.09279052,\n",
              "         1.06075069, -1.07098266],\n",
              "       ...,\n",
              "       [ 1.41186078, -1.63607723,  0.94009568, ..., -0.88166393,\n",
              "        -0.10644553, -0.59986975],\n",
              "       [-0.240381  , -0.44512645, -2.4504815 , ..., -0.57091971,\n",
              "         0.20360161,  0.51417339],\n",
              "       [-0.58863192,  0.85499261, -0.6916321 , ..., -0.66251039,\n",
              "         0.41835348, -0.74672494]])"
            ]
          },
          "metadata": {
            "tags": []
          },
          "execution_count": 94
        }
      ]
    },
    {
      "cell_type": "code",
      "metadata": {
        "id": "U43kB5zNLAl6",
        "colab_type": "code",
        "colab": {}
      },
      "source": [
        "from sklearn.tree import DecisionTreeClassifier\n",
        "dt = DecisionTreeClassifier(random_state=4)"
      ],
      "execution_count": null,
      "outputs": []
    },
    {
      "cell_type": "code",
      "metadata": {
        "id": "riuusJVYfDyp",
        "colab_type": "code",
        "colab": {
          "base_uri": "https://localhost:8080/",
          "height": 119
        },
        "outputId": "b27124f5-7dea-42f9-eb0e-fd548b7f4b89"
      },
      "source": [
        "dt.fit(train_x, train_y)"
      ],
      "execution_count": null,
      "outputs": [
        {
          "output_type": "execute_result",
          "data": {
            "text/plain": [
              "DecisionTreeClassifier(ccp_alpha=0.0, class_weight=None, criterion='gini',\n",
              "                       max_depth=None, max_features=None, max_leaf_nodes=None,\n",
              "                       min_impurity_decrease=0.0, min_impurity_split=None,\n",
              "                       min_samples_leaf=1, min_samples_split=2,\n",
              "                       min_weight_fraction_leaf=0.0, presort='deprecated',\n",
              "                       random_state=4, splitter='best')"
            ]
          },
          "metadata": {
            "tags": []
          },
          "execution_count": 96
        }
      ]
    },
    {
      "cell_type": "code",
      "metadata": {
        "id": "bMmbFtvAfVBL",
        "colab_type": "code",
        "colab": {}
      },
      "source": [
        "pred = dt.predict(test_x)"
      ],
      "execution_count": null,
      "outputs": []
    },
    {
      "cell_type": "code",
      "metadata": {
        "id": "W-ria7O8fuSz",
        "colab_type": "code",
        "colab": {
          "base_uri": "https://localhost:8080/",
          "height": 136
        },
        "outputId": "f481a4f3-3066-4a77-be4e-e82688d56942"
      },
      "source": [
        "pred"
      ],
      "execution_count": null,
      "outputs": [
        {
          "output_type": "execute_result",
          "data": {
            "text/plain": [
              "array([1, 0, 0, 0, 1, 1, 1, 0, 1, 0, 1, 1, 1, 1, 1, 1, 1, 1, 1, 1, 1, 1,\n",
              "       1, 0, 1, 1, 1, 1, 1, 1, 1, 1, 1, 0, 1, 0, 0, 1, 1, 1, 1, 0, 0, 1,\n",
              "       0, 1, 0, 1, 1, 0, 0, 0, 0, 0, 1, 0, 1, 1, 1, 0, 1, 0, 0, 1, 1, 1,\n",
              "       0, 1, 1, 0, 1, 1, 0, 1, 1, 0, 1, 1, 1, 1, 1, 1, 1, 1, 0, 0, 0, 1,\n",
              "       1, 0, 0, 1, 1, 0, 0, 1, 1, 1, 0, 0, 0, 0, 0, 1, 1, 1, 0, 1, 1, 1,\n",
              "       1, 0, 1, 0, 0, 1, 1, 0, 1, 1, 1, 1, 1, 1, 1, 1, 1, 0, 1, 0, 1, 0,\n",
              "       0, 1, 1, 1, 1, 1, 1, 1, 0, 1, 0, 0, 1, 1, 0, 1, 1, 0, 1, 1, 1, 1])"
            ]
          },
          "metadata": {
            "tags": []
          },
          "execution_count": 98
        }
      ]
    },
    {
      "cell_type": "code",
      "metadata": {
        "id": "fbm8NzdlfvDA",
        "colab_type": "code",
        "colab": {}
      },
      "source": [
        "from sklearn.metrics import confusion_matrix"
      ],
      "execution_count": null,
      "outputs": []
    },
    {
      "cell_type": "code",
      "metadata": {
        "id": "PbRF7kpEf_hk",
        "colab_type": "code",
        "colab": {}
      },
      "source": [
        "from sklearn.metrics import accuracy_score\n",
        "from sklearn.metrics import f1_score"
      ],
      "execution_count": null,
      "outputs": []
    },
    {
      "cell_type": "code",
      "metadata": {
        "id": "ntLxHsVBgJ7X",
        "colab_type": "code",
        "colab": {
          "base_uri": "https://localhost:8080/",
          "height": 51
        },
        "outputId": "2b8cedac-0268-41aa-be76-bf992f66e797"
      },
      "source": [
        "conf_matrix = confusion_matrix(test_y, pred)\n",
        "conf_matrix"
      ],
      "execution_count": null,
      "outputs": [
        {
          "output_type": "execute_result",
          "data": {
            "text/plain": [
              "array([[30, 24],\n",
              "       [22, 78]])"
            ]
          },
          "metadata": {
            "tags": []
          },
          "execution_count": 101
        }
      ]
    },
    {
      "cell_type": "code",
      "metadata": {
        "id": "1kzfioIagkwa",
        "colab_type": "code",
        "colab": {
          "base_uri": "https://localhost:8080/",
          "height": 51
        },
        "outputId": "55431be0-68b5-489d-e199-463d235d4e10"
      },
      "source": [
        "print('accuracy_score: ', accuracy_score(test_y, pred))\n",
        "print('f1_score: ', f1_score(test_y, pred))"
      ],
      "execution_count": null,
      "outputs": [
        {
          "output_type": "stream",
          "text": [
            "accuracy_score:  0.7012987012987013\n",
            "f1_score:  0.7722772277227723\n"
          ],
          "name": "stdout"
        }
      ]
    },
    {
      "cell_type": "code",
      "metadata": {
        "id": "q50XvU67gxgS",
        "colab_type": "code",
        "colab": {
          "base_uri": "https://localhost:8080/",
          "height": 34
        },
        "outputId": "b7a5feaa-b15a-427b-850e-0a51d9f993c4"
      },
      "source": [
        "import keras\n",
        "from keras.models import Sequential\n",
        "from keras.layers import Dense, Dropout"
      ],
      "execution_count": null,
      "outputs": [
        {
          "output_type": "stream",
          "text": [
            "Using TensorFlow backend.\n"
          ],
          "name": "stderr"
        }
      ]
    },
    {
      "cell_type": "code",
      "metadata": {
        "id": "zOHMu88ChmXU",
        "colab_type": "code",
        "colab": {}
      },
      "source": [
        "model = Sequential()"
      ],
      "execution_count": null,
      "outputs": []
    },
    {
      "cell_type": "code",
      "metadata": {
        "id": "D0xExJfcjHFw",
        "colab_type": "code",
        "colab": {
          "base_uri": "https://localhost:8080/",
          "height": 34
        },
        "outputId": "a20b5435-7cc8-4a13-d3ca-fb84e200eadd"
      },
      "source": [
        "\n",
        "input_shape = x.shape\n",
        "input_shape"
      ],
      "execution_count": null,
      "outputs": [
        {
          "output_type": "execute_result",
          "data": {
            "text/plain": [
              "(614, 14)"
            ]
          },
          "metadata": {
            "tags": []
          },
          "execution_count": 105
        }
      ]
    },
    {
      "cell_type": "code",
      "metadata": {
        "id": "RN5cNUoZhuuf",
        "colab_type": "code",
        "colab": {}
      },
      "source": [
        "model.add(Dense(64, activation = 'relu', input_shape=(12,)))\n",
        "model.add(Dense(32, activation='relu'))\n",
        "model.add(Dense(16, activation='relu'))\n",
        "model.add(Dropout(0.25))\n",
        "model.add(Dense(32, activation='relu'))\n",
        "model.add(Dense(64, activation='relu'))\n",
        "model.add(Dropout(0.3))\n",
        "model.add(Dense(32, activation='relu'))\n",
        "model.add(Dense(2, activation='softmax'))"
      ],
      "execution_count": null,
      "outputs": []
    },
    {
      "cell_type": "code",
      "metadata": {
        "id": "Rx0WLJi4iXQR",
        "colab_type": "code",
        "colab": {}
      },
      "source": [
        "model.compile(\n",
        "    optimizer = 'adam',\n",
        "    loss = 'sparse_categorical_crossentropy',\n",
        "    metrics = ['accuracy']\n",
        ")"
      ],
      "execution_count": null,
      "outputs": []
    },
    {
      "cell_type": "code",
      "metadata": {
        "id": "G8XarhhWilhN",
        "colab_type": "code",
        "colab": {}
      },
      "source": [
        "#model.fit(train_x, train_y, epochs = 50, batch_size = 10, validation_data=(test_x, test_y))"
      ],
      "execution_count": null,
      "outputs": []
    },
    {
      "cell_type": "code",
      "metadata": {
        "id": "yXrv43cLfz6f",
        "colab_type": "code",
        "colab": {}
      },
      "source": [
        "#model.fit(train_x, train_y, epochs = 50, batch_size = 10, validation_data=(test_x, test_y))"
      ],
      "execution_count": null,
      "outputs": []
    },
    {
      "cell_type": "code",
      "metadata": {
        "id": "bTLkozqFi8zK",
        "colab_type": "code",
        "colab": {}
      },
      "source": [
        "from sklearn.linear_model import LogisticRegression\n",
        "lr = LogisticRegression(C = 0.5, random_state=1, tol=0.001, penalty='l1', solver='saga', max_iter=200)"
      ],
      "execution_count": null,
      "outputs": []
    },
    {
      "cell_type": "code",
      "metadata": {
        "id": "idW9N_hclqx1",
        "colab_type": "code",
        "colab": {
          "base_uri": "https://localhost:8080/",
          "height": 102
        },
        "outputId": "8f03d406-2880-4d03-8c4f-a305c2530c2a"
      },
      "source": [
        "lr.fit(train_x, train_y)"
      ],
      "execution_count": null,
      "outputs": [
        {
          "output_type": "execute_result",
          "data": {
            "text/plain": [
              "LogisticRegression(C=0.5, class_weight=None, dual=False, fit_intercept=True,\n",
              "                   intercept_scaling=1, l1_ratio=None, max_iter=200,\n",
              "                   multi_class='auto', n_jobs=None, penalty='l1',\n",
              "                   random_state=1, solver='saga', tol=0.001, verbose=0,\n",
              "                   warm_start=False)"
            ]
          },
          "metadata": {
            "tags": []
          },
          "execution_count": 111
        }
      ]
    },
    {
      "cell_type": "code",
      "metadata": {
        "id": "blQdZmzdltg8",
        "colab_type": "code",
        "colab": {
          "base_uri": "https://localhost:8080/",
          "height": 136
        },
        "outputId": "37bffa45-4f09-4d72-9557-723a511e95e8"
      },
      "source": [
        "pred_lr = lr.predict(test_x)\n",
        "pred_lr"
      ],
      "execution_count": null,
      "outputs": [
        {
          "output_type": "execute_result",
          "data": {
            "text/plain": [
              "array([1, 0, 0, 0, 1, 1, 1, 1, 1, 0, 1, 1, 1, 1, 1, 1, 1, 1, 1, 1, 1, 1,\n",
              "       1, 1, 1, 1, 1, 1, 1, 1, 1, 1, 1, 0, 1, 1, 1, 1, 1, 1, 1, 1, 0, 1,\n",
              "       1, 1, 0, 1, 1, 1, 0, 1, 0, 0, 1, 0, 1, 1, 1, 1, 1, 0, 1, 1, 1, 1,\n",
              "       1, 1, 1, 0, 1, 1, 0, 1, 1, 1, 1, 1, 1, 1, 1, 1, 1, 1, 1, 1, 0, 1,\n",
              "       1, 0, 0, 1, 1, 0, 0, 1, 1, 1, 1, 0, 1, 0, 1, 1, 1, 1, 1, 1, 1, 1,\n",
              "       1, 0, 1, 0, 1, 1, 1, 0, 1, 1, 1, 1, 1, 1, 1, 1, 1, 1, 1, 1, 1, 1,\n",
              "       0, 1, 1, 1, 1, 1, 1, 1, 0, 1, 0, 0, 1, 1, 1, 1, 1, 1, 1, 1, 1, 1])"
            ]
          },
          "metadata": {
            "tags": []
          },
          "execution_count": 112
        }
      ]
    },
    {
      "cell_type": "code",
      "metadata": {
        "id": "p23IJUqXlyTa",
        "colab_type": "code",
        "colab": {
          "base_uri": "https://localhost:8080/",
          "height": 51
        },
        "outputId": "dd78212e-5dc0-4646-885e-f0772202e2f3"
      },
      "source": [
        "print('accuracy_score: ', accuracy_score(test_y, pred_lr))\n",
        "print('f1_score: ', f1_score(test_y, pred_lr))"
      ],
      "execution_count": null,
      "outputs": [
        {
          "output_type": "stream",
          "text": [
            "accuracy_score:  0.7792207792207793\n",
            "f1_score:  0.8495575221238937\n"
          ],
          "name": "stdout"
        }
      ]
    },
    {
      "cell_type": "code",
      "metadata": {
        "id": "_OMzAJD0AqxR",
        "colab_type": "code",
        "colab": {}
      },
      "source": [
        "#accuracy_score:  0.8116883116883117\n",
        "#accuracy_score:  0.7922077922077922"
      ],
      "execution_count": null,
      "outputs": []
    },
    {
      "cell_type": "code",
      "metadata": {
        "id": "Y6atBN0RmBWp",
        "colab_type": "code",
        "colab": {}
      },
      "source": [
        "from sklearn.ensemble import RandomForestClassifier\n",
        "rfc = RandomForestClassifier(ccp_alpha=0.0, criterion='entropy',n_estimators=300)   # n_estimators = 300"
      ],
      "execution_count": null,
      "outputs": []
    },
    {
      "cell_type": "code",
      "metadata": {
        "id": "B1NPUCm7mbG-",
        "colab_type": "code",
        "colab": {
          "base_uri": "https://localhost:8080/",
          "height": 153
        },
        "outputId": "93541dd0-a235-4507-dd5a-26757742a1af"
      },
      "source": [
        "rfc.fit(train_x, train_y)"
      ],
      "execution_count": null,
      "outputs": [
        {
          "output_type": "execute_result",
          "data": {
            "text/plain": [
              "RandomForestClassifier(bootstrap=True, ccp_alpha=0.0, class_weight=None,\n",
              "                       criterion='entropy', max_depth=None, max_features='auto',\n",
              "                       max_leaf_nodes=None, max_samples=None,\n",
              "                       min_impurity_decrease=0.0, min_impurity_split=None,\n",
              "                       min_samples_leaf=1, min_samples_split=2,\n",
              "                       min_weight_fraction_leaf=0.0, n_estimators=300,\n",
              "                       n_jobs=None, oob_score=False, random_state=None,\n",
              "                       verbose=0, warm_start=False)"
            ]
          },
          "metadata": {
            "tags": []
          },
          "execution_count": 116
        }
      ]
    },
    {
      "cell_type": "code",
      "metadata": {
        "id": "_nKLHN5wmgNQ",
        "colab_type": "code",
        "colab": {}
      },
      "source": [
        "rfc_pred = rfc.predict(test_x)"
      ],
      "execution_count": null,
      "outputs": []
    },
    {
      "cell_type": "code",
      "metadata": {
        "id": "9vk3DIkdmntO",
        "colab_type": "code",
        "colab": {
          "base_uri": "https://localhost:8080/",
          "height": 51
        },
        "outputId": "0e497683-8cff-4e33-c188-618f2d978763"
      },
      "source": [
        "print('accuracy_score: ', accuracy_score(test_y, rfc_pred))\n",
        "print('f1_score: ', f1_score(test_y, rfc_pred))"
      ],
      "execution_count": null,
      "outputs": [
        {
          "output_type": "stream",
          "text": [
            "accuracy_score:  0.7727272727272727\n",
            "f1_score:  0.8387096774193549\n"
          ],
          "name": "stdout"
        }
      ]
    },
    {
      "cell_type": "code",
      "metadata": {
        "id": "yrpZLeItCc9b",
        "colab_type": "code",
        "colab": {}
      },
      "source": [
        "accuracy_score:  0.8051948051948052"
      ],
      "execution_count": null,
      "outputs": []
    },
    {
      "cell_type": "code",
      "metadata": {
        "id": "Fsr82sg_4aWE",
        "colab_type": "code",
        "colab": {}
      },
      "source": [
        "from sklearn.svm import LinearSVC\n",
        "svm = LinearSVC(C = 0.5, random_state=1, tol=0.001, max_iter=1500)"
      ],
      "execution_count": null,
      "outputs": []
    },
    {
      "cell_type": "code",
      "metadata": {
        "id": "HmvdigLK5uQ2",
        "colab_type": "code",
        "colab": {
          "base_uri": "https://localhost:8080/",
          "height": 119
        },
        "outputId": "4bfac473-7bd3-43e0-b384-1f6671be7cee"
      },
      "source": [
        "svm.fit(train_x, train_y)"
      ],
      "execution_count": null,
      "outputs": [
        {
          "output_type": "stream",
          "text": [
            "/usr/local/lib/python3.6/dist-packages/sklearn/svm/_base.py:947: ConvergenceWarning: Liblinear failed to converge, increase the number of iterations.\n",
            "  \"the number of iterations.\", ConvergenceWarning)\n"
          ],
          "name": "stderr"
        },
        {
          "output_type": "execute_result",
          "data": {
            "text/plain": [
              "LinearSVC(C=0.5, class_weight=None, dual=True, fit_intercept=True,\n",
              "          intercept_scaling=1, loss='squared_hinge', max_iter=1500,\n",
              "          multi_class='ovr', penalty='l2', random_state=1, tol=0.001,\n",
              "          verbose=0)"
            ]
          },
          "metadata": {
            "tags": []
          },
          "execution_count": 121
        }
      ]
    },
    {
      "cell_type": "code",
      "metadata": {
        "id": "Aw2jiS3D5wwo",
        "colab_type": "code",
        "colab": {}
      },
      "source": [
        "pred_svm = svm.predict(test_x)"
      ],
      "execution_count": null,
      "outputs": []
    },
    {
      "cell_type": "code",
      "metadata": {
        "id": "zXtHIsuc50GM",
        "colab_type": "code",
        "colab": {
          "base_uri": "https://localhost:8080/",
          "height": 51
        },
        "outputId": "01611f88-210c-43f4-9427-b551fc2cfb34"
      },
      "source": [
        "print('accuracy_score: ', accuracy_score(test_y, pred_svm))\n",
        "print('f1_score: ', f1_score(test_y, pred_svm))"
      ],
      "execution_count": null,
      "outputs": [
        {
          "output_type": "stream",
          "text": [
            "accuracy_score:  0.7792207792207793\n",
            "f1_score:  0.8495575221238937\n"
          ],
          "name": "stdout"
        }
      ]
    },
    {
      "cell_type": "code",
      "metadata": {
        "id": "ZOiW33-QEkEO",
        "colab_type": "code",
        "colab": {}
      },
      "source": [
        "#accuracy_score:  0.8181818181818182\n",
        "#accuracy_score:  0.8051948051948052"
      ],
      "execution_count": null,
      "outputs": []
    },
    {
      "cell_type": "code",
      "metadata": {
        "id": "C6-BxL7P5_OH",
        "colab_type": "code",
        "colab": {}
      },
      "source": [
        "from sklearn.naive_bayes import GaussianNB\n",
        "nb = GaussianNB()"
      ],
      "execution_count": null,
      "outputs": []
    },
    {
      "cell_type": "code",
      "metadata": {
        "id": "5hos_bhoCOMs",
        "colab_type": "code",
        "colab": {
          "base_uri": "https://localhost:8080/",
          "height": 34
        },
        "outputId": "882c8291-d36f-41bb-ab21-1733b9c6a182"
      },
      "source": [
        "nb.fit(train_x, train_y)"
      ],
      "execution_count": null,
      "outputs": [
        {
          "output_type": "execute_result",
          "data": {
            "text/plain": [
              "GaussianNB(priors=None, var_smoothing=1e-09)"
            ]
          },
          "metadata": {
            "tags": []
          },
          "execution_count": 126
        }
      ]
    },
    {
      "cell_type": "code",
      "metadata": {
        "id": "uQaia8kdCRww",
        "colab_type": "code",
        "colab": {}
      },
      "source": [
        "nb_pred = nb.predict(test_x)"
      ],
      "execution_count": null,
      "outputs": []
    },
    {
      "cell_type": "code",
      "metadata": {
        "id": "krGYO5XtCer5",
        "colab_type": "code",
        "colab": {
          "base_uri": "https://localhost:8080/",
          "height": 51
        },
        "outputId": "3cf18e22-abe5-4521-caaa-2abb5f1363fc"
      },
      "source": [
        "print('accuracy_score: ', accuracy_score(test_y, nb_pred))\n",
        "print('f1_score: ', f1_score(test_y, nb_pred))"
      ],
      "execution_count": null,
      "outputs": [
        {
          "output_type": "stream",
          "text": [
            "accuracy_score:  0.7662337662337663\n",
            "f1_score:  0.8348623853211009\n"
          ],
          "name": "stdout"
        }
      ]
    },
    {
      "cell_type": "code",
      "metadata": {
        "id": "_1YlFgrmQK9E",
        "colab_type": "code",
        "colab": {}
      },
      "source": [
        "from sklearn.neighbors import KNeighborsClassifier\n",
        "knn = KNeighborsClassifier(n_neighbors=2)"
      ],
      "execution_count": null,
      "outputs": []
    },
    {
      "cell_type": "code",
      "metadata": {
        "id": "Ozf0UPzwgQK8",
        "colab_type": "code",
        "colab": {
          "base_uri": "https://localhost:8080/",
          "height": 68
        },
        "outputId": "57703770-8475-4c4c-a1c0-7eba022f8e20"
      },
      "source": [
        "knn.fit(train_x, train_y)"
      ],
      "execution_count": null,
      "outputs": [
        {
          "output_type": "execute_result",
          "data": {
            "text/plain": [
              "KNeighborsClassifier(algorithm='auto', leaf_size=30, metric='minkowski',\n",
              "                     metric_params=None, n_jobs=None, n_neighbors=2, p=2,\n",
              "                     weights='uniform')"
            ]
          },
          "metadata": {
            "tags": []
          },
          "execution_count": 130
        }
      ]
    },
    {
      "cell_type": "code",
      "metadata": {
        "id": "Mnc85IPVgSv7",
        "colab_type": "code",
        "colab": {}
      },
      "source": [
        "pred_knn = knn.predict(test_x)"
      ],
      "execution_count": null,
      "outputs": []
    },
    {
      "cell_type": "code",
      "metadata": {
        "id": "-fWQboPugZ5J",
        "colab_type": "code",
        "colab": {
          "base_uri": "https://localhost:8080/",
          "height": 51
        },
        "outputId": "79e931b5-2149-428f-ad30-67a5056d01df"
      },
      "source": [
        "print('accuracy_score: ', accuracy_score(test_y, pred_knn))\n",
        "print('f1_score: ', f1_score(test_y, pred_knn))"
      ],
      "execution_count": null,
      "outputs": [
        {
          "output_type": "stream",
          "text": [
            "accuracy_score:  0.6363636363636364\n",
            "f1_score:  0.6989247311827957\n"
          ],
          "name": "stdout"
        }
      ]
    },
    {
      "cell_type": "code",
      "metadata": {
        "id": "bQPwg6dsoVi2",
        "colab_type": "code",
        "colab": {}
      },
      "source": [
        "from sklearn.ensemble import AdaBoostClassifier\n",
        "abc = AdaBoostClassifier()"
      ],
      "execution_count": null,
      "outputs": []
    },
    {
      "cell_type": "code",
      "metadata": {
        "id": "xn3kUHYzoUBB",
        "colab_type": "code",
        "colab": {}
      },
      "source": [
        "abc.fit(train_x, train_y)\n",
        "pred_abc = abc.predict(test_x)"
      ],
      "execution_count": null,
      "outputs": []
    },
    {
      "cell_type": "code",
      "metadata": {
        "id": "pDt33n-Ooezh",
        "colab_type": "code",
        "colab": {
          "base_uri": "https://localhost:8080/",
          "height": 51
        },
        "outputId": "3b442dc9-1eff-48ca-990a-530381b680d0"
      },
      "source": [
        "print('accuracy_score: ', accuracy_score(test_y, pred_abc))\n",
        "print('f1_score: ', f1_score(test_y, pred_abc))"
      ],
      "execution_count": null,
      "outputs": [
        {
          "output_type": "stream",
          "text": [
            "accuracy_score:  0.7597402597402597\n",
            "f1_score:  0.8279069767441859\n"
          ],
          "name": "stdout"
        }
      ]
    },
    {
      "cell_type": "code",
      "metadata": {
        "id": "GPddM9-Gpu11",
        "colab_type": "code",
        "colab": {}
      },
      "source": [
        "from sklearn.ensemble import BaggingClassifier\n",
        "bc = BaggingClassifier() "
      ],
      "execution_count": null,
      "outputs": []
    },
    {
      "cell_type": "code",
      "metadata": {
        "id": "PRuce4RHp4_D",
        "colab_type": "code",
        "colab": {}
      },
      "source": [
        "bc.fit(train_x, train_y)\n",
        "pred_bc = bc.predict(test_x)"
      ],
      "execution_count": null,
      "outputs": []
    },
    {
      "cell_type": "code",
      "metadata": {
        "id": "m0sPpTpEqHTv",
        "colab_type": "code",
        "colab": {
          "base_uri": "https://localhost:8080/",
          "height": 51
        },
        "outputId": "503e03f6-0397-4199-f510-6865c7f52c16"
      },
      "source": [
        "print('accuracy_score: ', accuracy_score(test_y, pred_bc))\n",
        "print('f1_score: ', f1_score(test_y, pred_bc))"
      ],
      "execution_count": null,
      "outputs": [
        {
          "output_type": "stream",
          "text": [
            "accuracy_score:  0.7402597402597403\n",
            "f1_score:  0.8058252427184467\n"
          ],
          "name": "stdout"
        }
      ]
    },
    {
      "cell_type": "code",
      "metadata": {
        "id": "yYO-bcUQ5Dif",
        "colab_type": "code",
        "colab": {}
      },
      "source": [
        "from sklearn.ensemble import ExtraTreesClassifier\n",
        "etc = ExtraTreesClassifier()"
      ],
      "execution_count": null,
      "outputs": []
    },
    {
      "cell_type": "code",
      "metadata": {
        "id": "GLpzEZQO5K6K",
        "colab_type": "code",
        "colab": {}
      },
      "source": [
        "etc.fit(train_x, train_y)\n",
        "pred_etc = etc.predict(test_x)"
      ],
      "execution_count": null,
      "outputs": []
    },
    {
      "cell_type": "code",
      "metadata": {
        "id": "IhHRV2hW5W2T",
        "colab_type": "code",
        "colab": {
          "base_uri": "https://localhost:8080/",
          "height": 51
        },
        "outputId": "8a4766ad-fa5e-47aa-d4cd-24b96c443c5c"
      },
      "source": [
        "print('accuracy_score: ', accuracy_score(test_y, pred_etc))\n",
        "print('f1_score: ', f1_score(test_y, pred_etc))"
      ],
      "execution_count": null,
      "outputs": [
        {
          "output_type": "stream",
          "text": [
            "accuracy_score:  0.7467532467532467\n",
            "f1_score:  0.8219178082191781\n"
          ],
          "name": "stdout"
        }
      ]
    },
    {
      "cell_type": "code",
      "metadata": {
        "id": "ryEnLdJN5jZ5",
        "colab_type": "code",
        "colab": {}
      },
      "source": [
        "from sklearn.ensemble import IsolationForest\n",
        "isf = IsolationForest()"
      ],
      "execution_count": null,
      "outputs": []
    },
    {
      "cell_type": "code",
      "metadata": {
        "id": "PJrFLVsE6PIN",
        "colab_type": "code",
        "colab": {}
      },
      "source": [
        "isf.fit(train_x, train_y)\n",
        "pred_isf = isf.predict(test_x)"
      ],
      "execution_count": null,
      "outputs": []
    },
    {
      "cell_type": "code",
      "metadata": {
        "id": "Br6KEcPd6YCM",
        "colab_type": "code",
        "colab": {
          "base_uri": "https://localhost:8080/",
          "height": 34
        },
        "outputId": "c11fd03c-f7d3-453f-8df0-37b1c91d0323"
      },
      "source": [
        "print('accuracy_score: ', accuracy_score(test_y, pred_isf))\n",
        "#print('f1_score: ', f1_score(test_y, pred_isf))"
      ],
      "execution_count": null,
      "outputs": [
        {
          "output_type": "stream",
          "text": [
            "accuracy_score:  0.5974025974025974\n"
          ],
          "name": "stdout"
        }
      ]
    },
    {
      "cell_type": "code",
      "metadata": {
        "id": "1f-f5XmfggyI",
        "colab_type": "code",
        "colab": {
          "base_uri": "https://localhost:8080/",
          "height": 419
        },
        "outputId": "5df724bc-a022-4688-c2bb-67c998fdefd3"
      },
      "source": [
        "submission"
      ],
      "execution_count": null,
      "outputs": [
        {
          "output_type": "execute_result",
          "data": {
            "text/html": [
              "<div>\n",
              "<style scoped>\n",
              "    .dataframe tbody tr th:only-of-type {\n",
              "        vertical-align: middle;\n",
              "    }\n",
              "\n",
              "    .dataframe tbody tr th {\n",
              "        vertical-align: top;\n",
              "    }\n",
              "\n",
              "    .dataframe thead th {\n",
              "        text-align: right;\n",
              "    }\n",
              "</style>\n",
              "<table border=\"1\" class=\"dataframe\">\n",
              "  <thead>\n",
              "    <tr style=\"text-align: right;\">\n",
              "      <th></th>\n",
              "      <th>Loan_ID</th>\n",
              "      <th>Loan_Status</th>\n",
              "    </tr>\n",
              "  </thead>\n",
              "  <tbody>\n",
              "    <tr>\n",
              "      <th>0</th>\n",
              "      <td>LP001015</td>\n",
              "      <td>N</td>\n",
              "    </tr>\n",
              "    <tr>\n",
              "      <th>1</th>\n",
              "      <td>LP001022</td>\n",
              "      <td>N</td>\n",
              "    </tr>\n",
              "    <tr>\n",
              "      <th>2</th>\n",
              "      <td>LP001031</td>\n",
              "      <td>N</td>\n",
              "    </tr>\n",
              "    <tr>\n",
              "      <th>3</th>\n",
              "      <td>LP001035</td>\n",
              "      <td>N</td>\n",
              "    </tr>\n",
              "    <tr>\n",
              "      <th>4</th>\n",
              "      <td>LP001051</td>\n",
              "      <td>N</td>\n",
              "    </tr>\n",
              "    <tr>\n",
              "      <th>...</th>\n",
              "      <td>...</td>\n",
              "      <td>...</td>\n",
              "    </tr>\n",
              "    <tr>\n",
              "      <th>362</th>\n",
              "      <td>LP002971</td>\n",
              "      <td>N</td>\n",
              "    </tr>\n",
              "    <tr>\n",
              "      <th>363</th>\n",
              "      <td>LP002975</td>\n",
              "      <td>N</td>\n",
              "    </tr>\n",
              "    <tr>\n",
              "      <th>364</th>\n",
              "      <td>LP002980</td>\n",
              "      <td>N</td>\n",
              "    </tr>\n",
              "    <tr>\n",
              "      <th>365</th>\n",
              "      <td>LP002986</td>\n",
              "      <td>N</td>\n",
              "    </tr>\n",
              "    <tr>\n",
              "      <th>366</th>\n",
              "      <td>LP002989</td>\n",
              "      <td>N</td>\n",
              "    </tr>\n",
              "  </tbody>\n",
              "</table>\n",
              "<p>367 rows × 2 columns</p>\n",
              "</div>"
            ],
            "text/plain": [
              "      Loan_ID Loan_Status\n",
              "0    LP001015           N\n",
              "1    LP001022           N\n",
              "2    LP001031           N\n",
              "3    LP001035           N\n",
              "4    LP001051           N\n",
              "..        ...         ...\n",
              "362  LP002971           N\n",
              "363  LP002975           N\n",
              "364  LP002980           N\n",
              "365  LP002986           N\n",
              "366  LP002989           N\n",
              "\n",
              "[367 rows x 2 columns]"
            ]
          },
          "metadata": {
            "tags": []
          },
          "execution_count": 145
        }
      ]
    },
    {
      "cell_type": "code",
      "metadata": {
        "id": "P4-tg2DVha-N",
        "colab_type": "code",
        "colab": {
          "base_uri": "https://localhost:8080/",
          "height": 221
        },
        "outputId": "f0e71229-a543-4c1f-b9cc-bdc97d0c02e0"
      },
      "source": [
        "submission['Loan_ID']"
      ],
      "execution_count": null,
      "outputs": [
        {
          "output_type": "execute_result",
          "data": {
            "text/plain": [
              "0      LP001015\n",
              "1      LP001022\n",
              "2      LP001031\n",
              "3      LP001035\n",
              "4      LP001051\n",
              "         ...   \n",
              "362    LP002971\n",
              "363    LP002975\n",
              "364    LP002980\n",
              "365    LP002986\n",
              "366    LP002989\n",
              "Name: Loan_ID, Length: 367, dtype: object"
            ]
          },
          "metadata": {
            "tags": []
          },
          "execution_count": 146
        }
      ]
    },
    {
      "cell_type": "code",
      "metadata": {
        "id": "3OU-swTmiCUa",
        "colab_type": "code",
        "colab": {
          "base_uri": "https://localhost:8080/",
          "height": 473
        },
        "outputId": "96e60f78-1596-49ff-d710-102abc143e25"
      },
      "source": [
        "test_data"
      ],
      "execution_count": null,
      "outputs": [
        {
          "output_type": "execute_result",
          "data": {
            "text/html": [
              "<div>\n",
              "<style scoped>\n",
              "    .dataframe tbody tr th:only-of-type {\n",
              "        vertical-align: middle;\n",
              "    }\n",
              "\n",
              "    .dataframe tbody tr th {\n",
              "        vertical-align: top;\n",
              "    }\n",
              "\n",
              "    .dataframe thead th {\n",
              "        text-align: right;\n",
              "    }\n",
              "</style>\n",
              "<table border=\"1\" class=\"dataframe\">\n",
              "  <thead>\n",
              "    <tr style=\"text-align: right;\">\n",
              "      <th></th>\n",
              "      <th>Loan_ID</th>\n",
              "      <th>Gender</th>\n",
              "      <th>Married</th>\n",
              "      <th>Dependents</th>\n",
              "      <th>Education</th>\n",
              "      <th>Self_Employed</th>\n",
              "      <th>ApplicantIncome</th>\n",
              "      <th>CoapplicantIncome</th>\n",
              "      <th>LoanAmount</th>\n",
              "      <th>Loan_Amount_Term</th>\n",
              "      <th>Credit_History</th>\n",
              "      <th>Property_Area</th>\n",
              "    </tr>\n",
              "  </thead>\n",
              "  <tbody>\n",
              "    <tr>\n",
              "      <th>0</th>\n",
              "      <td>LP001015</td>\n",
              "      <td>Male</td>\n",
              "      <td>Yes</td>\n",
              "      <td>0</td>\n",
              "      <td>Graduate</td>\n",
              "      <td>No</td>\n",
              "      <td>5720</td>\n",
              "      <td>0</td>\n",
              "      <td>110.0</td>\n",
              "      <td>360.0</td>\n",
              "      <td>1.0</td>\n",
              "      <td>Urban</td>\n",
              "    </tr>\n",
              "    <tr>\n",
              "      <th>1</th>\n",
              "      <td>LP001022</td>\n",
              "      <td>Male</td>\n",
              "      <td>Yes</td>\n",
              "      <td>1</td>\n",
              "      <td>Graduate</td>\n",
              "      <td>No</td>\n",
              "      <td>3076</td>\n",
              "      <td>1500</td>\n",
              "      <td>126.0</td>\n",
              "      <td>360.0</td>\n",
              "      <td>1.0</td>\n",
              "      <td>Urban</td>\n",
              "    </tr>\n",
              "    <tr>\n",
              "      <th>2</th>\n",
              "      <td>LP001031</td>\n",
              "      <td>Male</td>\n",
              "      <td>Yes</td>\n",
              "      <td>2</td>\n",
              "      <td>Graduate</td>\n",
              "      <td>No</td>\n",
              "      <td>5000</td>\n",
              "      <td>1800</td>\n",
              "      <td>208.0</td>\n",
              "      <td>360.0</td>\n",
              "      <td>1.0</td>\n",
              "      <td>Urban</td>\n",
              "    </tr>\n",
              "    <tr>\n",
              "      <th>3</th>\n",
              "      <td>LP001035</td>\n",
              "      <td>Male</td>\n",
              "      <td>Yes</td>\n",
              "      <td>2</td>\n",
              "      <td>Graduate</td>\n",
              "      <td>No</td>\n",
              "      <td>2340</td>\n",
              "      <td>2546</td>\n",
              "      <td>100.0</td>\n",
              "      <td>360.0</td>\n",
              "      <td>NaN</td>\n",
              "      <td>Urban</td>\n",
              "    </tr>\n",
              "    <tr>\n",
              "      <th>4</th>\n",
              "      <td>LP001051</td>\n",
              "      <td>Male</td>\n",
              "      <td>No</td>\n",
              "      <td>0</td>\n",
              "      <td>Not Graduate</td>\n",
              "      <td>No</td>\n",
              "      <td>3276</td>\n",
              "      <td>0</td>\n",
              "      <td>78.0</td>\n",
              "      <td>360.0</td>\n",
              "      <td>1.0</td>\n",
              "      <td>Urban</td>\n",
              "    </tr>\n",
              "    <tr>\n",
              "      <th>...</th>\n",
              "      <td>...</td>\n",
              "      <td>...</td>\n",
              "      <td>...</td>\n",
              "      <td>...</td>\n",
              "      <td>...</td>\n",
              "      <td>...</td>\n",
              "      <td>...</td>\n",
              "      <td>...</td>\n",
              "      <td>...</td>\n",
              "      <td>...</td>\n",
              "      <td>...</td>\n",
              "      <td>...</td>\n",
              "    </tr>\n",
              "    <tr>\n",
              "      <th>362</th>\n",
              "      <td>LP002971</td>\n",
              "      <td>Male</td>\n",
              "      <td>Yes</td>\n",
              "      <td>3+</td>\n",
              "      <td>Not Graduate</td>\n",
              "      <td>Yes</td>\n",
              "      <td>4009</td>\n",
              "      <td>1777</td>\n",
              "      <td>113.0</td>\n",
              "      <td>360.0</td>\n",
              "      <td>1.0</td>\n",
              "      <td>Urban</td>\n",
              "    </tr>\n",
              "    <tr>\n",
              "      <th>363</th>\n",
              "      <td>LP002975</td>\n",
              "      <td>Male</td>\n",
              "      <td>Yes</td>\n",
              "      <td>0</td>\n",
              "      <td>Graduate</td>\n",
              "      <td>No</td>\n",
              "      <td>4158</td>\n",
              "      <td>709</td>\n",
              "      <td>115.0</td>\n",
              "      <td>360.0</td>\n",
              "      <td>1.0</td>\n",
              "      <td>Urban</td>\n",
              "    </tr>\n",
              "    <tr>\n",
              "      <th>364</th>\n",
              "      <td>LP002980</td>\n",
              "      <td>Male</td>\n",
              "      <td>No</td>\n",
              "      <td>0</td>\n",
              "      <td>Graduate</td>\n",
              "      <td>No</td>\n",
              "      <td>3250</td>\n",
              "      <td>1993</td>\n",
              "      <td>126.0</td>\n",
              "      <td>360.0</td>\n",
              "      <td>NaN</td>\n",
              "      <td>Semiurban</td>\n",
              "    </tr>\n",
              "    <tr>\n",
              "      <th>365</th>\n",
              "      <td>LP002986</td>\n",
              "      <td>Male</td>\n",
              "      <td>Yes</td>\n",
              "      <td>0</td>\n",
              "      <td>Graduate</td>\n",
              "      <td>No</td>\n",
              "      <td>5000</td>\n",
              "      <td>2393</td>\n",
              "      <td>158.0</td>\n",
              "      <td>360.0</td>\n",
              "      <td>1.0</td>\n",
              "      <td>Rural</td>\n",
              "    </tr>\n",
              "    <tr>\n",
              "      <th>366</th>\n",
              "      <td>LP002989</td>\n",
              "      <td>Male</td>\n",
              "      <td>No</td>\n",
              "      <td>0</td>\n",
              "      <td>Graduate</td>\n",
              "      <td>Yes</td>\n",
              "      <td>9200</td>\n",
              "      <td>0</td>\n",
              "      <td>98.0</td>\n",
              "      <td>180.0</td>\n",
              "      <td>1.0</td>\n",
              "      <td>Rural</td>\n",
              "    </tr>\n",
              "  </tbody>\n",
              "</table>\n",
              "<p>367 rows × 12 columns</p>\n",
              "</div>"
            ],
            "text/plain": [
              "      Loan_ID Gender Married  ... Loan_Amount_Term Credit_History Property_Area\n",
              "0    LP001015   Male     Yes  ...            360.0            1.0         Urban\n",
              "1    LP001022   Male     Yes  ...            360.0            1.0         Urban\n",
              "2    LP001031   Male     Yes  ...            360.0            1.0         Urban\n",
              "3    LP001035   Male     Yes  ...            360.0            NaN         Urban\n",
              "4    LP001051   Male      No  ...            360.0            1.0         Urban\n",
              "..        ...    ...     ...  ...              ...            ...           ...\n",
              "362  LP002971   Male     Yes  ...            360.0            1.0         Urban\n",
              "363  LP002975   Male     Yes  ...            360.0            1.0         Urban\n",
              "364  LP002980   Male      No  ...            360.0            NaN     Semiurban\n",
              "365  LP002986   Male     Yes  ...            360.0            1.0         Rural\n",
              "366  LP002989   Male      No  ...            180.0            1.0         Rural\n",
              "\n",
              "[367 rows x 12 columns]"
            ]
          },
          "metadata": {
            "tags": []
          },
          "execution_count": 147
        }
      ]
    },
    {
      "cell_type": "code",
      "metadata": {
        "id": "2nf9_dG_iG_Z",
        "colab_type": "code",
        "colab": {
          "base_uri": "https://localhost:8080/",
          "height": 470
        },
        "outputId": "bb350e89-8d5b-43f0-95c8-744eae2ba533"
      },
      "source": [
        "test_data1"
      ],
      "execution_count": null,
      "outputs": [
        {
          "output_type": "execute_result",
          "data": {
            "text/html": [
              "<div>\n",
              "<style scoped>\n",
              "    .dataframe tbody tr th:only-of-type {\n",
              "        vertical-align: middle;\n",
              "    }\n",
              "\n",
              "    .dataframe tbody tr th {\n",
              "        vertical-align: top;\n",
              "    }\n",
              "\n",
              "    .dataframe thead th {\n",
              "        text-align: right;\n",
              "    }\n",
              "</style>\n",
              "<table border=\"1\" class=\"dataframe\">\n",
              "  <thead>\n",
              "    <tr style=\"text-align: right;\">\n",
              "      <th></th>\n",
              "      <th>Dependents</th>\n",
              "      <th>Education</th>\n",
              "      <th>Self_Employed</th>\n",
              "      <th>ApplicantIncome</th>\n",
              "      <th>CoapplicantIncome</th>\n",
              "      <th>LoanAmount</th>\n",
              "      <th>Loan_Amount_Term</th>\n",
              "      <th>Credit_History</th>\n",
              "      <th>Property_Area</th>\n",
              "      <th>Loan_Status</th>\n",
              "      <th>Kids&gt;3</th>\n",
              "      <th>Female</th>\n",
              "      <th>Male</th>\n",
              "      <th>No</th>\n",
              "      <th>Yes</th>\n",
              "    </tr>\n",
              "    <tr>\n",
              "      <th>Loan_ID</th>\n",
              "      <th></th>\n",
              "      <th></th>\n",
              "      <th></th>\n",
              "      <th></th>\n",
              "      <th></th>\n",
              "      <th></th>\n",
              "      <th></th>\n",
              "      <th></th>\n",
              "      <th></th>\n",
              "      <th></th>\n",
              "      <th></th>\n",
              "      <th></th>\n",
              "      <th></th>\n",
              "      <th></th>\n",
              "      <th></th>\n",
              "    </tr>\n",
              "  </thead>\n",
              "  <tbody>\n",
              "    <tr>\n",
              "      <th>LP001015</th>\n",
              "      <td>-0.745132</td>\n",
              "      <td>0.534522</td>\n",
              "      <td>-0.371552</td>\n",
              "      <td>0.094903</td>\n",
              "      <td>-0.589506</td>\n",
              "      <td>-0.427298</td>\n",
              "      <td>0.270528</td>\n",
              "      <td>0.42151</td>\n",
              "      <td>1.182420</td>\n",
              "      <td>NaN</td>\n",
              "      <td>-0.319761</td>\n",
              "      <td>0</td>\n",
              "      <td>1</td>\n",
              "      <td>0</td>\n",
              "      <td>1</td>\n",
              "    </tr>\n",
              "    <tr>\n",
              "      <th>LP001022</th>\n",
              "      <td>0.225618</td>\n",
              "      <td>0.534522</td>\n",
              "      <td>-0.371552</td>\n",
              "      <td>-0.369593</td>\n",
              "      <td>-0.037505</td>\n",
              "      <td>-0.217630</td>\n",
              "      <td>0.270528</td>\n",
              "      <td>0.42151</td>\n",
              "      <td>1.182420</td>\n",
              "      <td>NaN</td>\n",
              "      <td>-0.319761</td>\n",
              "      <td>0</td>\n",
              "      <td>1</td>\n",
              "      <td>0</td>\n",
              "      <td>1</td>\n",
              "    </tr>\n",
              "    <tr>\n",
              "      <th>LP001031</th>\n",
              "      <td>1.196367</td>\n",
              "      <td>0.534522</td>\n",
              "      <td>-0.371552</td>\n",
              "      <td>-0.031586</td>\n",
              "      <td>0.072895</td>\n",
              "      <td>0.856921</td>\n",
              "      <td>0.270528</td>\n",
              "      <td>0.42151</td>\n",
              "      <td>1.182420</td>\n",
              "      <td>NaN</td>\n",
              "      <td>-0.319761</td>\n",
              "      <td>0</td>\n",
              "      <td>1</td>\n",
              "      <td>0</td>\n",
              "      <td>1</td>\n",
              "    </tr>\n",
              "    <tr>\n",
              "      <th>LP001035</th>\n",
              "      <td>1.196367</td>\n",
              "      <td>0.534522</td>\n",
              "      <td>-0.371552</td>\n",
              "      <td>-0.498892</td>\n",
              "      <td>0.347423</td>\n",
              "      <td>-0.558341</td>\n",
              "      <td>0.270528</td>\n",
              "      <td>0.42151</td>\n",
              "      <td>1.182420</td>\n",
              "      <td>NaN</td>\n",
              "      <td>-0.319761</td>\n",
              "      <td>0</td>\n",
              "      <td>1</td>\n",
              "      <td>0</td>\n",
              "      <td>1</td>\n",
              "    </tr>\n",
              "    <tr>\n",
              "      <th>LP001051</th>\n",
              "      <td>-0.745132</td>\n",
              "      <td>-1.870829</td>\n",
              "      <td>-0.371552</td>\n",
              "      <td>-0.334457</td>\n",
              "      <td>-0.589506</td>\n",
              "      <td>-0.846635</td>\n",
              "      <td>0.270528</td>\n",
              "      <td>0.42151</td>\n",
              "      <td>1.182420</td>\n",
              "      <td>NaN</td>\n",
              "      <td>-0.319761</td>\n",
              "      <td>0</td>\n",
              "      <td>1</td>\n",
              "      <td>1</td>\n",
              "      <td>0</td>\n",
              "    </tr>\n",
              "    <tr>\n",
              "      <th>...</th>\n",
              "      <td>...</td>\n",
              "      <td>...</td>\n",
              "      <td>...</td>\n",
              "      <td>...</td>\n",
              "      <td>...</td>\n",
              "      <td>...</td>\n",
              "      <td>...</td>\n",
              "      <td>...</td>\n",
              "      <td>...</td>\n",
              "      <td>...</td>\n",
              "      <td>...</td>\n",
              "      <td>...</td>\n",
              "      <td>...</td>\n",
              "      <td>...</td>\n",
              "      <td>...</td>\n",
              "    </tr>\n",
              "    <tr>\n",
              "      <th>LP002971</th>\n",
              "      <td>2.167117</td>\n",
              "      <td>-1.870829</td>\n",
              "      <td>2.691412</td>\n",
              "      <td>-0.205684</td>\n",
              "      <td>0.064431</td>\n",
              "      <td>-0.387985</td>\n",
              "      <td>0.270528</td>\n",
              "      <td>0.42151</td>\n",
              "      <td>1.182420</td>\n",
              "      <td>NaN</td>\n",
              "      <td>3.127334</td>\n",
              "      <td>0</td>\n",
              "      <td>1</td>\n",
              "      <td>0</td>\n",
              "      <td>1</td>\n",
              "    </tr>\n",
              "    <tr>\n",
              "      <th>LP002975</th>\n",
              "      <td>-0.745132</td>\n",
              "      <td>0.534522</td>\n",
              "      <td>-0.371552</td>\n",
              "      <td>-0.179508</td>\n",
              "      <td>-0.328594</td>\n",
              "      <td>-0.361777</td>\n",
              "      <td>0.270528</td>\n",
              "      <td>0.42151</td>\n",
              "      <td>1.182420</td>\n",
              "      <td>NaN</td>\n",
              "      <td>-0.319761</td>\n",
              "      <td>0</td>\n",
              "      <td>1</td>\n",
              "      <td>0</td>\n",
              "      <td>1</td>\n",
              "    </tr>\n",
              "    <tr>\n",
              "      <th>LP002980</th>\n",
              "      <td>-0.745132</td>\n",
              "      <td>0.534522</td>\n",
              "      <td>-0.371552</td>\n",
              "      <td>-0.339024</td>\n",
              "      <td>0.143919</td>\n",
              "      <td>-0.217630</td>\n",
              "      <td>0.270528</td>\n",
              "      <td>0.42151</td>\n",
              "      <td>-0.066185</td>\n",
              "      <td>NaN</td>\n",
              "      <td>-0.319761</td>\n",
              "      <td>0</td>\n",
              "      <td>1</td>\n",
              "      <td>1</td>\n",
              "      <td>0</td>\n",
              "    </tr>\n",
              "    <tr>\n",
              "      <th>LP002986</th>\n",
              "      <td>-0.745132</td>\n",
              "      <td>0.534522</td>\n",
              "      <td>-0.371552</td>\n",
              "      <td>-0.031586</td>\n",
              "      <td>0.291119</td>\n",
              "      <td>0.201707</td>\n",
              "      <td>0.270528</td>\n",
              "      <td>0.42151</td>\n",
              "      <td>-1.314790</td>\n",
              "      <td>NaN</td>\n",
              "      <td>-0.319761</td>\n",
              "      <td>0</td>\n",
              "      <td>1</td>\n",
              "      <td>0</td>\n",
              "      <td>1</td>\n",
              "    </tr>\n",
              "    <tr>\n",
              "      <th>LP002989</th>\n",
              "      <td>-0.745132</td>\n",
              "      <td>0.534522</td>\n",
              "      <td>2.691412</td>\n",
              "      <td>0.706265</td>\n",
              "      <td>-0.589506</td>\n",
              "      <td>-0.584549</td>\n",
              "      <td>-2.522372</td>\n",
              "      <td>0.42151</td>\n",
              "      <td>-1.314790</td>\n",
              "      <td>NaN</td>\n",
              "      <td>-0.319761</td>\n",
              "      <td>0</td>\n",
              "      <td>1</td>\n",
              "      <td>1</td>\n",
              "      <td>0</td>\n",
              "    </tr>\n",
              "  </tbody>\n",
              "</table>\n",
              "<p>367 rows × 15 columns</p>\n",
              "</div>"
            ],
            "text/plain": [
              "          Dependents  Education  Self_Employed  ...  Male  No  Yes\n",
              "Loan_ID                                         ...               \n",
              "LP001015   -0.745132   0.534522      -0.371552  ...     1   0    1\n",
              "LP001022    0.225618   0.534522      -0.371552  ...     1   0    1\n",
              "LP001031    1.196367   0.534522      -0.371552  ...     1   0    1\n",
              "LP001035    1.196367   0.534522      -0.371552  ...     1   0    1\n",
              "LP001051   -0.745132  -1.870829      -0.371552  ...     1   1    0\n",
              "...              ...        ...            ...  ...   ...  ..  ...\n",
              "LP002971    2.167117  -1.870829       2.691412  ...     1   0    1\n",
              "LP002975   -0.745132   0.534522      -0.371552  ...     1   0    1\n",
              "LP002980   -0.745132   0.534522      -0.371552  ...     1   1    0\n",
              "LP002986   -0.745132   0.534522      -0.371552  ...     1   0    1\n",
              "LP002989   -0.745132   0.534522       2.691412  ...     1   1    0\n",
              "\n",
              "[367 rows x 15 columns]"
            ]
          },
          "metadata": {
            "tags": []
          },
          "execution_count": 148
        }
      ]
    },
    {
      "cell_type": "code",
      "metadata": {
        "id": "7ranQJFyqioH",
        "colab_type": "code",
        "colab": {}
      },
      "source": [
        "test_x1 = test_data1.drop(['Loan_Status'], axis = 1)\n",
        "test_y1 = test_data1['Loan_Status']"
      ],
      "execution_count": null,
      "outputs": []
    },
    {
      "cell_type": "code",
      "metadata": {
        "id": "QpHwOHCNqyLt",
        "colab_type": "code",
        "colab": {}
      },
      "source": [
        "#svm.predict(test_x1)"
      ],
      "execution_count": null,
      "outputs": []
    },
    {
      "cell_type": "code",
      "metadata": {
        "id": "p2uGrzb5GZ8O",
        "colab_type": "code",
        "colab": {}
      },
      "source": [
        "test_x1 = pca.transform(test_x1)"
      ],
      "execution_count": null,
      "outputs": []
    },
    {
      "cell_type": "code",
      "metadata": {
        "id": "Uuy8c27nq4LA",
        "colab_type": "code",
        "colab": {
          "base_uri": "https://localhost:8080/",
          "height": 119
        },
        "outputId": "348cc699-60fb-43ed-f718-c4652895d5f6"
      },
      "source": [
        "test_data1['Loan_Status'] = lr.predict(test_x1)"
      ],
      "execution_count": null,
      "outputs": [
        {
          "output_type": "stream",
          "text": [
            "/usr/local/lib/python3.6/dist-packages/ipykernel_launcher.py:1: SettingWithCopyWarning: \n",
            "A value is trying to be set on a copy of a slice from a DataFrame.\n",
            "Try using .loc[row_indexer,col_indexer] = value instead\n",
            "\n",
            "See the caveats in the documentation: https://pandas.pydata.org/pandas-docs/stable/user_guide/indexing.html#returning-a-view-versus-a-copy\n",
            "  \"\"\"Entry point for launching an IPython kernel.\n"
          ],
          "name": "stderr"
        }
      ]
    },
    {
      "cell_type": "code",
      "metadata": {
        "id": "l3esHDVdFYjj",
        "colab_type": "code",
        "colab": {
          "base_uri": "https://localhost:8080/",
          "height": 34
        },
        "outputId": "df847af8-6454-49de-e200-f31994d2a4ff"
      },
      "source": [
        "test_x.shape"
      ],
      "execution_count": null,
      "outputs": [
        {
          "output_type": "execute_result",
          "data": {
            "text/plain": [
              "(154, 12)"
            ]
          },
          "metadata": {
            "tags": []
          },
          "execution_count": 153
        }
      ]
    },
    {
      "cell_type": "code",
      "metadata": {
        "id": "av7WjuROFenv",
        "colab_type": "code",
        "colab": {
          "base_uri": "https://localhost:8080/",
          "height": 34
        },
        "outputId": "4b687f8a-d82e-4303-a1fd-78b495f722dd"
      },
      "source": [
        "test_x1.shape"
      ],
      "execution_count": null,
      "outputs": [
        {
          "output_type": "execute_result",
          "data": {
            "text/plain": [
              "(367, 12)"
            ]
          },
          "metadata": {
            "tags": []
          },
          "execution_count": 154
        }
      ]
    },
    {
      "cell_type": "code",
      "metadata": {
        "id": "u7f6ShiP60RV",
        "colab_type": "code",
        "colab": {
          "base_uri": "https://localhost:8080/",
          "height": 473
        },
        "outputId": "e1fbfeb5-bf2b-42fd-e23c-a797bceb71d7"
      },
      "source": [
        "test_data"
      ],
      "execution_count": null,
      "outputs": [
        {
          "output_type": "execute_result",
          "data": {
            "text/html": [
              "<div>\n",
              "<style scoped>\n",
              "    .dataframe tbody tr th:only-of-type {\n",
              "        vertical-align: middle;\n",
              "    }\n",
              "\n",
              "    .dataframe tbody tr th {\n",
              "        vertical-align: top;\n",
              "    }\n",
              "\n",
              "    .dataframe thead th {\n",
              "        text-align: right;\n",
              "    }\n",
              "</style>\n",
              "<table border=\"1\" class=\"dataframe\">\n",
              "  <thead>\n",
              "    <tr style=\"text-align: right;\">\n",
              "      <th></th>\n",
              "      <th>Loan_ID</th>\n",
              "      <th>Gender</th>\n",
              "      <th>Married</th>\n",
              "      <th>Dependents</th>\n",
              "      <th>Education</th>\n",
              "      <th>Self_Employed</th>\n",
              "      <th>ApplicantIncome</th>\n",
              "      <th>CoapplicantIncome</th>\n",
              "      <th>LoanAmount</th>\n",
              "      <th>Loan_Amount_Term</th>\n",
              "      <th>Credit_History</th>\n",
              "      <th>Property_Area</th>\n",
              "    </tr>\n",
              "  </thead>\n",
              "  <tbody>\n",
              "    <tr>\n",
              "      <th>0</th>\n",
              "      <td>LP001015</td>\n",
              "      <td>Male</td>\n",
              "      <td>Yes</td>\n",
              "      <td>0</td>\n",
              "      <td>Graduate</td>\n",
              "      <td>No</td>\n",
              "      <td>5720</td>\n",
              "      <td>0</td>\n",
              "      <td>110.0</td>\n",
              "      <td>360.0</td>\n",
              "      <td>1.0</td>\n",
              "      <td>Urban</td>\n",
              "    </tr>\n",
              "    <tr>\n",
              "      <th>1</th>\n",
              "      <td>LP001022</td>\n",
              "      <td>Male</td>\n",
              "      <td>Yes</td>\n",
              "      <td>1</td>\n",
              "      <td>Graduate</td>\n",
              "      <td>No</td>\n",
              "      <td>3076</td>\n",
              "      <td>1500</td>\n",
              "      <td>126.0</td>\n",
              "      <td>360.0</td>\n",
              "      <td>1.0</td>\n",
              "      <td>Urban</td>\n",
              "    </tr>\n",
              "    <tr>\n",
              "      <th>2</th>\n",
              "      <td>LP001031</td>\n",
              "      <td>Male</td>\n",
              "      <td>Yes</td>\n",
              "      <td>2</td>\n",
              "      <td>Graduate</td>\n",
              "      <td>No</td>\n",
              "      <td>5000</td>\n",
              "      <td>1800</td>\n",
              "      <td>208.0</td>\n",
              "      <td>360.0</td>\n",
              "      <td>1.0</td>\n",
              "      <td>Urban</td>\n",
              "    </tr>\n",
              "    <tr>\n",
              "      <th>3</th>\n",
              "      <td>LP001035</td>\n",
              "      <td>Male</td>\n",
              "      <td>Yes</td>\n",
              "      <td>2</td>\n",
              "      <td>Graduate</td>\n",
              "      <td>No</td>\n",
              "      <td>2340</td>\n",
              "      <td>2546</td>\n",
              "      <td>100.0</td>\n",
              "      <td>360.0</td>\n",
              "      <td>NaN</td>\n",
              "      <td>Urban</td>\n",
              "    </tr>\n",
              "    <tr>\n",
              "      <th>4</th>\n",
              "      <td>LP001051</td>\n",
              "      <td>Male</td>\n",
              "      <td>No</td>\n",
              "      <td>0</td>\n",
              "      <td>Not Graduate</td>\n",
              "      <td>No</td>\n",
              "      <td>3276</td>\n",
              "      <td>0</td>\n",
              "      <td>78.0</td>\n",
              "      <td>360.0</td>\n",
              "      <td>1.0</td>\n",
              "      <td>Urban</td>\n",
              "    </tr>\n",
              "    <tr>\n",
              "      <th>...</th>\n",
              "      <td>...</td>\n",
              "      <td>...</td>\n",
              "      <td>...</td>\n",
              "      <td>...</td>\n",
              "      <td>...</td>\n",
              "      <td>...</td>\n",
              "      <td>...</td>\n",
              "      <td>...</td>\n",
              "      <td>...</td>\n",
              "      <td>...</td>\n",
              "      <td>...</td>\n",
              "      <td>...</td>\n",
              "    </tr>\n",
              "    <tr>\n",
              "      <th>362</th>\n",
              "      <td>LP002971</td>\n",
              "      <td>Male</td>\n",
              "      <td>Yes</td>\n",
              "      <td>3+</td>\n",
              "      <td>Not Graduate</td>\n",
              "      <td>Yes</td>\n",
              "      <td>4009</td>\n",
              "      <td>1777</td>\n",
              "      <td>113.0</td>\n",
              "      <td>360.0</td>\n",
              "      <td>1.0</td>\n",
              "      <td>Urban</td>\n",
              "    </tr>\n",
              "    <tr>\n",
              "      <th>363</th>\n",
              "      <td>LP002975</td>\n",
              "      <td>Male</td>\n",
              "      <td>Yes</td>\n",
              "      <td>0</td>\n",
              "      <td>Graduate</td>\n",
              "      <td>No</td>\n",
              "      <td>4158</td>\n",
              "      <td>709</td>\n",
              "      <td>115.0</td>\n",
              "      <td>360.0</td>\n",
              "      <td>1.0</td>\n",
              "      <td>Urban</td>\n",
              "    </tr>\n",
              "    <tr>\n",
              "      <th>364</th>\n",
              "      <td>LP002980</td>\n",
              "      <td>Male</td>\n",
              "      <td>No</td>\n",
              "      <td>0</td>\n",
              "      <td>Graduate</td>\n",
              "      <td>No</td>\n",
              "      <td>3250</td>\n",
              "      <td>1993</td>\n",
              "      <td>126.0</td>\n",
              "      <td>360.0</td>\n",
              "      <td>NaN</td>\n",
              "      <td>Semiurban</td>\n",
              "    </tr>\n",
              "    <tr>\n",
              "      <th>365</th>\n",
              "      <td>LP002986</td>\n",
              "      <td>Male</td>\n",
              "      <td>Yes</td>\n",
              "      <td>0</td>\n",
              "      <td>Graduate</td>\n",
              "      <td>No</td>\n",
              "      <td>5000</td>\n",
              "      <td>2393</td>\n",
              "      <td>158.0</td>\n",
              "      <td>360.0</td>\n",
              "      <td>1.0</td>\n",
              "      <td>Rural</td>\n",
              "    </tr>\n",
              "    <tr>\n",
              "      <th>366</th>\n",
              "      <td>LP002989</td>\n",
              "      <td>Male</td>\n",
              "      <td>No</td>\n",
              "      <td>0</td>\n",
              "      <td>Graduate</td>\n",
              "      <td>Yes</td>\n",
              "      <td>9200</td>\n",
              "      <td>0</td>\n",
              "      <td>98.0</td>\n",
              "      <td>180.0</td>\n",
              "      <td>1.0</td>\n",
              "      <td>Rural</td>\n",
              "    </tr>\n",
              "  </tbody>\n",
              "</table>\n",
              "<p>367 rows × 12 columns</p>\n",
              "</div>"
            ],
            "text/plain": [
              "      Loan_ID Gender Married  ... Loan_Amount_Term Credit_History Property_Area\n",
              "0    LP001015   Male     Yes  ...            360.0            1.0         Urban\n",
              "1    LP001022   Male     Yes  ...            360.0            1.0         Urban\n",
              "2    LP001031   Male     Yes  ...            360.0            1.0         Urban\n",
              "3    LP001035   Male     Yes  ...            360.0            NaN         Urban\n",
              "4    LP001051   Male      No  ...            360.0            1.0         Urban\n",
              "..        ...    ...     ...  ...              ...            ...           ...\n",
              "362  LP002971   Male     Yes  ...            360.0            1.0         Urban\n",
              "363  LP002975   Male     Yes  ...            360.0            1.0         Urban\n",
              "364  LP002980   Male      No  ...            360.0            NaN     Semiurban\n",
              "365  LP002986   Male     Yes  ...            360.0            1.0         Rural\n",
              "366  LP002989   Male      No  ...            180.0            1.0         Rural\n",
              "\n",
              "[367 rows x 12 columns]"
            ]
          },
          "metadata": {
            "tags": []
          },
          "execution_count": 155
        }
      ]
    },
    {
      "cell_type": "code",
      "metadata": {
        "id": "4hXWuGbZq_3H",
        "colab_type": "code",
        "colab": {
          "base_uri": "https://localhost:8080/",
          "height": 470
        },
        "outputId": "4f3cbf78-e9aa-424a-98cb-6c7d2956c49c"
      },
      "source": [
        "test_data1"
      ],
      "execution_count": null,
      "outputs": [
        {
          "output_type": "execute_result",
          "data": {
            "text/html": [
              "<div>\n",
              "<style scoped>\n",
              "    .dataframe tbody tr th:only-of-type {\n",
              "        vertical-align: middle;\n",
              "    }\n",
              "\n",
              "    .dataframe tbody tr th {\n",
              "        vertical-align: top;\n",
              "    }\n",
              "\n",
              "    .dataframe thead th {\n",
              "        text-align: right;\n",
              "    }\n",
              "</style>\n",
              "<table border=\"1\" class=\"dataframe\">\n",
              "  <thead>\n",
              "    <tr style=\"text-align: right;\">\n",
              "      <th></th>\n",
              "      <th>Dependents</th>\n",
              "      <th>Education</th>\n",
              "      <th>Self_Employed</th>\n",
              "      <th>ApplicantIncome</th>\n",
              "      <th>CoapplicantIncome</th>\n",
              "      <th>LoanAmount</th>\n",
              "      <th>Loan_Amount_Term</th>\n",
              "      <th>Credit_History</th>\n",
              "      <th>Property_Area</th>\n",
              "      <th>Loan_Status</th>\n",
              "      <th>Kids&gt;3</th>\n",
              "      <th>Female</th>\n",
              "      <th>Male</th>\n",
              "      <th>No</th>\n",
              "      <th>Yes</th>\n",
              "    </tr>\n",
              "    <tr>\n",
              "      <th>Loan_ID</th>\n",
              "      <th></th>\n",
              "      <th></th>\n",
              "      <th></th>\n",
              "      <th></th>\n",
              "      <th></th>\n",
              "      <th></th>\n",
              "      <th></th>\n",
              "      <th></th>\n",
              "      <th></th>\n",
              "      <th></th>\n",
              "      <th></th>\n",
              "      <th></th>\n",
              "      <th></th>\n",
              "      <th></th>\n",
              "      <th></th>\n",
              "    </tr>\n",
              "  </thead>\n",
              "  <tbody>\n",
              "    <tr>\n",
              "      <th>LP001015</th>\n",
              "      <td>-0.745132</td>\n",
              "      <td>0.534522</td>\n",
              "      <td>-0.371552</td>\n",
              "      <td>0.094903</td>\n",
              "      <td>-0.589506</td>\n",
              "      <td>-0.427298</td>\n",
              "      <td>0.270528</td>\n",
              "      <td>0.42151</td>\n",
              "      <td>1.182420</td>\n",
              "      <td>1</td>\n",
              "      <td>-0.319761</td>\n",
              "      <td>0</td>\n",
              "      <td>1</td>\n",
              "      <td>0</td>\n",
              "      <td>1</td>\n",
              "    </tr>\n",
              "    <tr>\n",
              "      <th>LP001022</th>\n",
              "      <td>0.225618</td>\n",
              "      <td>0.534522</td>\n",
              "      <td>-0.371552</td>\n",
              "      <td>-0.369593</td>\n",
              "      <td>-0.037505</td>\n",
              "      <td>-0.217630</td>\n",
              "      <td>0.270528</td>\n",
              "      <td>0.42151</td>\n",
              "      <td>1.182420</td>\n",
              "      <td>1</td>\n",
              "      <td>-0.319761</td>\n",
              "      <td>0</td>\n",
              "      <td>1</td>\n",
              "      <td>0</td>\n",
              "      <td>1</td>\n",
              "    </tr>\n",
              "    <tr>\n",
              "      <th>LP001031</th>\n",
              "      <td>1.196367</td>\n",
              "      <td>0.534522</td>\n",
              "      <td>-0.371552</td>\n",
              "      <td>-0.031586</td>\n",
              "      <td>0.072895</td>\n",
              "      <td>0.856921</td>\n",
              "      <td>0.270528</td>\n",
              "      <td>0.42151</td>\n",
              "      <td>1.182420</td>\n",
              "      <td>1</td>\n",
              "      <td>-0.319761</td>\n",
              "      <td>0</td>\n",
              "      <td>1</td>\n",
              "      <td>0</td>\n",
              "      <td>1</td>\n",
              "    </tr>\n",
              "    <tr>\n",
              "      <th>LP001035</th>\n",
              "      <td>1.196367</td>\n",
              "      <td>0.534522</td>\n",
              "      <td>-0.371552</td>\n",
              "      <td>-0.498892</td>\n",
              "      <td>0.347423</td>\n",
              "      <td>-0.558341</td>\n",
              "      <td>0.270528</td>\n",
              "      <td>0.42151</td>\n",
              "      <td>1.182420</td>\n",
              "      <td>1</td>\n",
              "      <td>-0.319761</td>\n",
              "      <td>0</td>\n",
              "      <td>1</td>\n",
              "      <td>0</td>\n",
              "      <td>1</td>\n",
              "    </tr>\n",
              "    <tr>\n",
              "      <th>LP001051</th>\n",
              "      <td>-0.745132</td>\n",
              "      <td>-1.870829</td>\n",
              "      <td>-0.371552</td>\n",
              "      <td>-0.334457</td>\n",
              "      <td>-0.589506</td>\n",
              "      <td>-0.846635</td>\n",
              "      <td>0.270528</td>\n",
              "      <td>0.42151</td>\n",
              "      <td>1.182420</td>\n",
              "      <td>1</td>\n",
              "      <td>-0.319761</td>\n",
              "      <td>0</td>\n",
              "      <td>1</td>\n",
              "      <td>1</td>\n",
              "      <td>0</td>\n",
              "    </tr>\n",
              "    <tr>\n",
              "      <th>...</th>\n",
              "      <td>...</td>\n",
              "      <td>...</td>\n",
              "      <td>...</td>\n",
              "      <td>...</td>\n",
              "      <td>...</td>\n",
              "      <td>...</td>\n",
              "      <td>...</td>\n",
              "      <td>...</td>\n",
              "      <td>...</td>\n",
              "      <td>...</td>\n",
              "      <td>...</td>\n",
              "      <td>...</td>\n",
              "      <td>...</td>\n",
              "      <td>...</td>\n",
              "      <td>...</td>\n",
              "    </tr>\n",
              "    <tr>\n",
              "      <th>LP002971</th>\n",
              "      <td>2.167117</td>\n",
              "      <td>-1.870829</td>\n",
              "      <td>2.691412</td>\n",
              "      <td>-0.205684</td>\n",
              "      <td>0.064431</td>\n",
              "      <td>-0.387985</td>\n",
              "      <td>0.270528</td>\n",
              "      <td>0.42151</td>\n",
              "      <td>1.182420</td>\n",
              "      <td>1</td>\n",
              "      <td>3.127334</td>\n",
              "      <td>0</td>\n",
              "      <td>1</td>\n",
              "      <td>0</td>\n",
              "      <td>1</td>\n",
              "    </tr>\n",
              "    <tr>\n",
              "      <th>LP002975</th>\n",
              "      <td>-0.745132</td>\n",
              "      <td>0.534522</td>\n",
              "      <td>-0.371552</td>\n",
              "      <td>-0.179508</td>\n",
              "      <td>-0.328594</td>\n",
              "      <td>-0.361777</td>\n",
              "      <td>0.270528</td>\n",
              "      <td>0.42151</td>\n",
              "      <td>1.182420</td>\n",
              "      <td>1</td>\n",
              "      <td>-0.319761</td>\n",
              "      <td>0</td>\n",
              "      <td>1</td>\n",
              "      <td>0</td>\n",
              "      <td>1</td>\n",
              "    </tr>\n",
              "    <tr>\n",
              "      <th>LP002980</th>\n",
              "      <td>-0.745132</td>\n",
              "      <td>0.534522</td>\n",
              "      <td>-0.371552</td>\n",
              "      <td>-0.339024</td>\n",
              "      <td>0.143919</td>\n",
              "      <td>-0.217630</td>\n",
              "      <td>0.270528</td>\n",
              "      <td>0.42151</td>\n",
              "      <td>-0.066185</td>\n",
              "      <td>1</td>\n",
              "      <td>-0.319761</td>\n",
              "      <td>0</td>\n",
              "      <td>1</td>\n",
              "      <td>1</td>\n",
              "      <td>0</td>\n",
              "    </tr>\n",
              "    <tr>\n",
              "      <th>LP002986</th>\n",
              "      <td>-0.745132</td>\n",
              "      <td>0.534522</td>\n",
              "      <td>-0.371552</td>\n",
              "      <td>-0.031586</td>\n",
              "      <td>0.291119</td>\n",
              "      <td>0.201707</td>\n",
              "      <td>0.270528</td>\n",
              "      <td>0.42151</td>\n",
              "      <td>-1.314790</td>\n",
              "      <td>1</td>\n",
              "      <td>-0.319761</td>\n",
              "      <td>0</td>\n",
              "      <td>1</td>\n",
              "      <td>0</td>\n",
              "      <td>1</td>\n",
              "    </tr>\n",
              "    <tr>\n",
              "      <th>LP002989</th>\n",
              "      <td>-0.745132</td>\n",
              "      <td>0.534522</td>\n",
              "      <td>2.691412</td>\n",
              "      <td>0.706265</td>\n",
              "      <td>-0.589506</td>\n",
              "      <td>-0.584549</td>\n",
              "      <td>-2.522372</td>\n",
              "      <td>0.42151</td>\n",
              "      <td>-1.314790</td>\n",
              "      <td>1</td>\n",
              "      <td>-0.319761</td>\n",
              "      <td>0</td>\n",
              "      <td>1</td>\n",
              "      <td>1</td>\n",
              "      <td>0</td>\n",
              "    </tr>\n",
              "  </tbody>\n",
              "</table>\n",
              "<p>367 rows × 15 columns</p>\n",
              "</div>"
            ],
            "text/plain": [
              "          Dependents  Education  Self_Employed  ...  Male  No  Yes\n",
              "Loan_ID                                         ...               \n",
              "LP001015   -0.745132   0.534522      -0.371552  ...     1   0    1\n",
              "LP001022    0.225618   0.534522      -0.371552  ...     1   0    1\n",
              "LP001031    1.196367   0.534522      -0.371552  ...     1   0    1\n",
              "LP001035    1.196367   0.534522      -0.371552  ...     1   0    1\n",
              "LP001051   -0.745132  -1.870829      -0.371552  ...     1   1    0\n",
              "...              ...        ...            ...  ...   ...  ..  ...\n",
              "LP002971    2.167117  -1.870829       2.691412  ...     1   0    1\n",
              "LP002975   -0.745132   0.534522      -0.371552  ...     1   0    1\n",
              "LP002980   -0.745132   0.534522      -0.371552  ...     1   1    0\n",
              "LP002986   -0.745132   0.534522      -0.371552  ...     1   0    1\n",
              "LP002989   -0.745132   0.534522       2.691412  ...     1   1    0\n",
              "\n",
              "[367 rows x 15 columns]"
            ]
          },
          "metadata": {
            "tags": []
          },
          "execution_count": 156
        }
      ]
    },
    {
      "cell_type": "code",
      "metadata": {
        "id": "_xBS-clsrBgj",
        "colab_type": "code",
        "colab": {
          "base_uri": "https://localhost:8080/",
          "height": 34
        },
        "outputId": "d3d50919-c19e-4659-b780-e753dc0227d6"
      },
      "source": [
        "type(test_data1)"
      ],
      "execution_count": null,
      "outputs": [
        {
          "output_type": "execute_result",
          "data": {
            "text/plain": [
              "pandas.core.frame.DataFrame"
            ]
          },
          "metadata": {
            "tags": []
          },
          "execution_count": 157
        }
      ]
    },
    {
      "cell_type": "code",
      "metadata": {
        "id": "j_xyMek1rGyb",
        "colab_type": "code",
        "colab": {
          "base_uri": "https://localhost:8080/",
          "height": 68
        },
        "outputId": "afce6277-82fd-4eac-bef2-485a34254ce4"
      },
      "source": [
        "test_data1['Loan_Status'].value_counts()"
      ],
      "execution_count": null,
      "outputs": [
        {
          "output_type": "execute_result",
          "data": {
            "text/plain": [
              "1    307\n",
              "0     60\n",
              "Name: Loan_Status, dtype: int64"
            ]
          },
          "metadata": {
            "tags": []
          },
          "execution_count": 158
        }
      ]
    },
    {
      "cell_type": "code",
      "metadata": {
        "id": "KliWNqde7X1J",
        "colab_type": "code",
        "colab": {}
      },
      "source": [
        "test_data1.reset_index(inplace = True)"
      ],
      "execution_count": null,
      "outputs": []
    },
    {
      "cell_type": "code",
      "metadata": {
        "id": "zfsxF844rRUc",
        "colab_type": "code",
        "colab": {}
      },
      "source": [
        "dt = pd.DataFrame(\n",
        "    data = {\n",
        "        'Loan_ID': test_data1['Loan_ID'],\n",
        "        'Loan_Status': test_data1['Loan_Status']\n",
        "    }\n",
        ")"
      ],
      "execution_count": null,
      "outputs": []
    },
    {
      "cell_type": "code",
      "metadata": {
        "id": "mbPsiUDT9se7",
        "colab_type": "code",
        "colab": {
          "base_uri": "https://localhost:8080/",
          "height": 68
        },
        "outputId": "5c7babd0-8e55-4e0a-b699-b2b41042f7ef"
      },
      "source": [
        "test_data1.Loan_Status.value_counts()"
      ],
      "execution_count": null,
      "outputs": [
        {
          "output_type": "execute_result",
          "data": {
            "text/plain": [
              "1    307\n",
              "0     60\n",
              "Name: Loan_Status, dtype: int64"
            ]
          },
          "metadata": {
            "tags": []
          },
          "execution_count": 161
        }
      ]
    },
    {
      "cell_type": "code",
      "metadata": {
        "id": "d_Iw0h2296oG",
        "colab_type": "code",
        "colab": {
          "base_uri": "https://localhost:8080/",
          "height": 419
        },
        "outputId": "66cd59ce-0e97-474f-e4ff-470bf3b91c47"
      },
      "source": [
        "dt"
      ],
      "execution_count": null,
      "outputs": [
        {
          "output_type": "execute_result",
          "data": {
            "text/html": [
              "<div>\n",
              "<style scoped>\n",
              "    .dataframe tbody tr th:only-of-type {\n",
              "        vertical-align: middle;\n",
              "    }\n",
              "\n",
              "    .dataframe tbody tr th {\n",
              "        vertical-align: top;\n",
              "    }\n",
              "\n",
              "    .dataframe thead th {\n",
              "        text-align: right;\n",
              "    }\n",
              "</style>\n",
              "<table border=\"1\" class=\"dataframe\">\n",
              "  <thead>\n",
              "    <tr style=\"text-align: right;\">\n",
              "      <th></th>\n",
              "      <th>Loan_ID</th>\n",
              "      <th>Loan_Status</th>\n",
              "    </tr>\n",
              "  </thead>\n",
              "  <tbody>\n",
              "    <tr>\n",
              "      <th>0</th>\n",
              "      <td>LP001015</td>\n",
              "      <td>1</td>\n",
              "    </tr>\n",
              "    <tr>\n",
              "      <th>1</th>\n",
              "      <td>LP001022</td>\n",
              "      <td>1</td>\n",
              "    </tr>\n",
              "    <tr>\n",
              "      <th>2</th>\n",
              "      <td>LP001031</td>\n",
              "      <td>1</td>\n",
              "    </tr>\n",
              "    <tr>\n",
              "      <th>3</th>\n",
              "      <td>LP001035</td>\n",
              "      <td>1</td>\n",
              "    </tr>\n",
              "    <tr>\n",
              "      <th>4</th>\n",
              "      <td>LP001051</td>\n",
              "      <td>1</td>\n",
              "    </tr>\n",
              "    <tr>\n",
              "      <th>...</th>\n",
              "      <td>...</td>\n",
              "      <td>...</td>\n",
              "    </tr>\n",
              "    <tr>\n",
              "      <th>362</th>\n",
              "      <td>LP002971</td>\n",
              "      <td>1</td>\n",
              "    </tr>\n",
              "    <tr>\n",
              "      <th>363</th>\n",
              "      <td>LP002975</td>\n",
              "      <td>1</td>\n",
              "    </tr>\n",
              "    <tr>\n",
              "      <th>364</th>\n",
              "      <td>LP002980</td>\n",
              "      <td>1</td>\n",
              "    </tr>\n",
              "    <tr>\n",
              "      <th>365</th>\n",
              "      <td>LP002986</td>\n",
              "      <td>1</td>\n",
              "    </tr>\n",
              "    <tr>\n",
              "      <th>366</th>\n",
              "      <td>LP002989</td>\n",
              "      <td>1</td>\n",
              "    </tr>\n",
              "  </tbody>\n",
              "</table>\n",
              "<p>367 rows × 2 columns</p>\n",
              "</div>"
            ],
            "text/plain": [
              "      Loan_ID  Loan_Status\n",
              "0    LP001015            1\n",
              "1    LP001022            1\n",
              "2    LP001031            1\n",
              "3    LP001035            1\n",
              "4    LP001051            1\n",
              "..        ...          ...\n",
              "362  LP002971            1\n",
              "363  LP002975            1\n",
              "364  LP002980            1\n",
              "365  LP002986            1\n",
              "366  LP002989            1\n",
              "\n",
              "[367 rows x 2 columns]"
            ]
          },
          "metadata": {
            "tags": []
          },
          "execution_count": 162
        }
      ]
    },
    {
      "cell_type": "code",
      "metadata": {
        "id": "ud7eb_N9r4PR",
        "colab_type": "code",
        "colab": {
          "base_uri": "https://localhost:8080/",
          "height": 187
        },
        "outputId": "ba0772fe-f858-43b9-e151-355e792b45e8"
      },
      "source": [
        "dt['Loan_Status1'] = 'Na'\n",
        "for i in range(len(dt)):\n",
        "  if dt['Loan_Status'][i] == 0:\n",
        "    dt['Loan_Status1'][i] = 'N'\n",
        "  elif dt['Loan_Status'][i] == 1:\n",
        "    dt['Loan_Status1'][i] = 'Y'"
      ],
      "execution_count": null,
      "outputs": [
        {
          "output_type": "stream",
          "text": [
            "/usr/local/lib/python3.6/dist-packages/ipykernel_launcher.py:6: SettingWithCopyWarning: \n",
            "A value is trying to be set on a copy of a slice from a DataFrame\n",
            "\n",
            "See the caveats in the documentation: https://pandas.pydata.org/pandas-docs/stable/user_guide/indexing.html#returning-a-view-versus-a-copy\n",
            "  \n",
            "/usr/local/lib/python3.6/dist-packages/ipykernel_launcher.py:4: SettingWithCopyWarning: \n",
            "A value is trying to be set on a copy of a slice from a DataFrame\n",
            "\n",
            "See the caveats in the documentation: https://pandas.pydata.org/pandas-docs/stable/user_guide/indexing.html#returning-a-view-versus-a-copy\n",
            "  after removing the cwd from sys.path.\n"
          ],
          "name": "stderr"
        }
      ]
    },
    {
      "cell_type": "code",
      "metadata": {
        "id": "8CCEJJwk9kOf",
        "colab_type": "code",
        "colab": {
          "base_uri": "https://localhost:8080/",
          "height": 669
        },
        "outputId": "a27277ac-16f4-466d-b6e8-eb456cfa9b12"
      },
      "source": [
        "dt.head(20)"
      ],
      "execution_count": null,
      "outputs": [
        {
          "output_type": "execute_result",
          "data": {
            "text/html": [
              "<div>\n",
              "<style scoped>\n",
              "    .dataframe tbody tr th:only-of-type {\n",
              "        vertical-align: middle;\n",
              "    }\n",
              "\n",
              "    .dataframe tbody tr th {\n",
              "        vertical-align: top;\n",
              "    }\n",
              "\n",
              "    .dataframe thead th {\n",
              "        text-align: right;\n",
              "    }\n",
              "</style>\n",
              "<table border=\"1\" class=\"dataframe\">\n",
              "  <thead>\n",
              "    <tr style=\"text-align: right;\">\n",
              "      <th></th>\n",
              "      <th>Loan_ID</th>\n",
              "      <th>Loan_Status</th>\n",
              "      <th>Loan_Status1</th>\n",
              "    </tr>\n",
              "  </thead>\n",
              "  <tbody>\n",
              "    <tr>\n",
              "      <th>0</th>\n",
              "      <td>LP001015</td>\n",
              "      <td>1</td>\n",
              "      <td>Y</td>\n",
              "    </tr>\n",
              "    <tr>\n",
              "      <th>1</th>\n",
              "      <td>LP001022</td>\n",
              "      <td>1</td>\n",
              "      <td>Y</td>\n",
              "    </tr>\n",
              "    <tr>\n",
              "      <th>2</th>\n",
              "      <td>LP001031</td>\n",
              "      <td>1</td>\n",
              "      <td>Y</td>\n",
              "    </tr>\n",
              "    <tr>\n",
              "      <th>3</th>\n",
              "      <td>LP001035</td>\n",
              "      <td>1</td>\n",
              "      <td>Y</td>\n",
              "    </tr>\n",
              "    <tr>\n",
              "      <th>4</th>\n",
              "      <td>LP001051</td>\n",
              "      <td>1</td>\n",
              "      <td>Y</td>\n",
              "    </tr>\n",
              "    <tr>\n",
              "      <th>5</th>\n",
              "      <td>LP001054</td>\n",
              "      <td>1</td>\n",
              "      <td>Y</td>\n",
              "    </tr>\n",
              "    <tr>\n",
              "      <th>6</th>\n",
              "      <td>LP001055</td>\n",
              "      <td>1</td>\n",
              "      <td>Y</td>\n",
              "    </tr>\n",
              "    <tr>\n",
              "      <th>7</th>\n",
              "      <td>LP001056</td>\n",
              "      <td>0</td>\n",
              "      <td>N</td>\n",
              "    </tr>\n",
              "    <tr>\n",
              "      <th>8</th>\n",
              "      <td>LP001059</td>\n",
              "      <td>1</td>\n",
              "      <td>Y</td>\n",
              "    </tr>\n",
              "    <tr>\n",
              "      <th>9</th>\n",
              "      <td>LP001067</td>\n",
              "      <td>1</td>\n",
              "      <td>Y</td>\n",
              "    </tr>\n",
              "    <tr>\n",
              "      <th>10</th>\n",
              "      <td>LP001078</td>\n",
              "      <td>1</td>\n",
              "      <td>Y</td>\n",
              "    </tr>\n",
              "    <tr>\n",
              "      <th>11</th>\n",
              "      <td>LP001082</td>\n",
              "      <td>1</td>\n",
              "      <td>Y</td>\n",
              "    </tr>\n",
              "    <tr>\n",
              "      <th>12</th>\n",
              "      <td>LP001083</td>\n",
              "      <td>1</td>\n",
              "      <td>Y</td>\n",
              "    </tr>\n",
              "    <tr>\n",
              "      <th>13</th>\n",
              "      <td>LP001094</td>\n",
              "      <td>0</td>\n",
              "      <td>N</td>\n",
              "    </tr>\n",
              "    <tr>\n",
              "      <th>14</th>\n",
              "      <td>LP001096</td>\n",
              "      <td>1</td>\n",
              "      <td>Y</td>\n",
              "    </tr>\n",
              "    <tr>\n",
              "      <th>15</th>\n",
              "      <td>LP001099</td>\n",
              "      <td>1</td>\n",
              "      <td>Y</td>\n",
              "    </tr>\n",
              "    <tr>\n",
              "      <th>16</th>\n",
              "      <td>LP001105</td>\n",
              "      <td>1</td>\n",
              "      <td>Y</td>\n",
              "    </tr>\n",
              "    <tr>\n",
              "      <th>17</th>\n",
              "      <td>LP001107</td>\n",
              "      <td>1</td>\n",
              "      <td>Y</td>\n",
              "    </tr>\n",
              "    <tr>\n",
              "      <th>18</th>\n",
              "      <td>LP001108</td>\n",
              "      <td>1</td>\n",
              "      <td>Y</td>\n",
              "    </tr>\n",
              "    <tr>\n",
              "      <th>19</th>\n",
              "      <td>LP001115</td>\n",
              "      <td>1</td>\n",
              "      <td>Y</td>\n",
              "    </tr>\n",
              "  </tbody>\n",
              "</table>\n",
              "</div>"
            ],
            "text/plain": [
              "     Loan_ID  Loan_Status Loan_Status1\n",
              "0   LP001015            1            Y\n",
              "1   LP001022            1            Y\n",
              "2   LP001031            1            Y\n",
              "3   LP001035            1            Y\n",
              "4   LP001051            1            Y\n",
              "5   LP001054            1            Y\n",
              "6   LP001055            1            Y\n",
              "7   LP001056            0            N\n",
              "8   LP001059            1            Y\n",
              "9   LP001067            1            Y\n",
              "10  LP001078            1            Y\n",
              "11  LP001082            1            Y\n",
              "12  LP001083            1            Y\n",
              "13  LP001094            0            N\n",
              "14  LP001096            1            Y\n",
              "15  LP001099            1            Y\n",
              "16  LP001105            1            Y\n",
              "17  LP001107            1            Y\n",
              "18  LP001108            1            Y\n",
              "19  LP001115            1            Y"
            ]
          },
          "metadata": {
            "tags": []
          },
          "execution_count": 164
        }
      ]
    },
    {
      "cell_type": "code",
      "metadata": {
        "id": "viYmwb178pBZ",
        "colab_type": "code",
        "colab": {}
      },
      "source": [
        "dt.drop(['Loan_Status'], axis = 1, inplace = True)"
      ],
      "execution_count": null,
      "outputs": []
    },
    {
      "cell_type": "code",
      "metadata": {
        "id": "QV97C6Wk8xHd",
        "colab_type": "code",
        "colab": {}
      },
      "source": [
        "dt.set_index(['Loan_ID'], inplace = True)\n",
        "dt.columns = ['Loan_Status']\n"
      ],
      "execution_count": null,
      "outputs": []
    },
    {
      "cell_type": "code",
      "metadata": {
        "id": "xRY3iEMz87eX",
        "colab_type": "code",
        "colab": {}
      },
      "source": [
        "dt.to_csv('Sample_Submission.csv')"
      ],
      "execution_count": null,
      "outputs": []
    },
    {
      "cell_type": "code",
      "metadata": {
        "id": "e8p370l2r9Ux",
        "colab_type": "code",
        "colab": {
          "base_uri": "https://localhost:8080/",
          "height": 34
        },
        "outputId": "251fe6f0-e7f3-43ec-cdda-83e761e8c1b0"
      },
      "source": [
        "len(test_data)"
      ],
      "execution_count": null,
      "outputs": [
        {
          "output_type": "execute_result",
          "data": {
            "text/plain": [
              "367"
            ]
          },
          "metadata": {
            "tags": []
          },
          "execution_count": 168
        }
      ]
    },
    {
      "cell_type": "code",
      "metadata": {
        "id": "W09lH8-asGpf",
        "colab_type": "code",
        "colab": {}
      },
      "source": [
        "td = pd.concat([test_data['Loan_ID'], test_data1['Loan_Status']], axis = 0)"
      ],
      "execution_count": null,
      "outputs": []
    },
    {
      "cell_type": "code",
      "metadata": {
        "id": "K_7Df6QZsuQh",
        "colab_type": "code",
        "colab": {}
      },
      "source": [
        "#td['Loan_Status'] = td.Loan_Status.shift(367)"
      ],
      "execution_count": null,
      "outputs": []
    },
    {
      "cell_type": "code",
      "metadata": {
        "id": "xx9hgG98uIu5",
        "colab_type": "code",
        "colab": {
          "base_uri": "https://localhost:8080/",
          "height": 221
        },
        "outputId": "b0d9a4e3-73dd-4122-bcd8-91e5fd7d7240"
      },
      "source": [
        "td"
      ],
      "execution_count": null,
      "outputs": [
        {
          "output_type": "execute_result",
          "data": {
            "text/plain": [
              "0      LP001015\n",
              "1      LP001022\n",
              "2      LP001031\n",
              "3      LP001035\n",
              "4      LP001051\n",
              "         ...   \n",
              "362           1\n",
              "363           1\n",
              "364           1\n",
              "365           1\n",
              "366           1\n",
              "Length: 734, dtype: object"
            ]
          },
          "metadata": {
            "tags": []
          },
          "execution_count": 171
        }
      ]
    },
    {
      "cell_type": "code",
      "metadata": {
        "id": "rzFK1-b_svSr",
        "colab_type": "code",
        "colab": {
          "base_uri": "https://localhost:8080/",
          "height": 119
        },
        "outputId": "846cbb71-25b4-443a-cd77-bb5ead9c83fd"
      },
      "source": [
        "test_data1['Loan_ID'] = test_data['Loan_ID']"
      ],
      "execution_count": null,
      "outputs": [
        {
          "output_type": "stream",
          "text": [
            "/usr/local/lib/python3.6/dist-packages/ipykernel_launcher.py:1: SettingWithCopyWarning: \n",
            "A value is trying to be set on a copy of a slice from a DataFrame.\n",
            "Try using .loc[row_indexer,col_indexer] = value instead\n",
            "\n",
            "See the caveats in the documentation: https://pandas.pydata.org/pandas-docs/stable/user_guide/indexing.html#returning-a-view-versus-a-copy\n",
            "  \"\"\"Entry point for launching an IPython kernel.\n"
          ],
          "name": "stderr"
        }
      ]
    },
    {
      "cell_type": "code",
      "metadata": {
        "id": "ld8rUsXCs_Df",
        "colab_type": "code",
        "colab": {
          "base_uri": "https://localhost:8080/",
          "height": 102
        },
        "outputId": "ed7de783-c275-4a78-fd95-3796f0c334f8"
      },
      "source": [
        "test_data1.drop(['Loan_ID'], axis = 1, inplace = True)"
      ],
      "execution_count": null,
      "outputs": [
        {
          "output_type": "stream",
          "text": [
            "/usr/local/lib/python3.6/dist-packages/pandas/core/frame.py:3997: SettingWithCopyWarning: \n",
            "A value is trying to be set on a copy of a slice from a DataFrame\n",
            "\n",
            "See the caveats in the documentation: https://pandas.pydata.org/pandas-docs/stable/user_guide/indexing.html#returning-a-view-versus-a-copy\n",
            "  errors=errors,\n"
          ],
          "name": "stderr"
        }
      ]
    },
    {
      "cell_type": "code",
      "metadata": {
        "id": "Gwcl40w8tAL9",
        "colab_type": "code",
        "colab": {
          "base_uri": "https://localhost:8080/",
          "height": 289
        },
        "outputId": "b8dd8c93-5a72-49f9-a6cf-40f319462f95"
      },
      "source": [
        "test_data1['Loan_ID'] = ''\n",
        "for i in range(len(test_data1)):\n",
        "  test_data1['Loan_ID'][i] = test_data['Loan_ID'][i]"
      ],
      "execution_count": null,
      "outputs": [
        {
          "output_type": "stream",
          "text": [
            "/usr/local/lib/python3.6/dist-packages/ipykernel_launcher.py:1: SettingWithCopyWarning: \n",
            "A value is trying to be set on a copy of a slice from a DataFrame.\n",
            "Try using .loc[row_indexer,col_indexer] = value instead\n",
            "\n",
            "See the caveats in the documentation: https://pandas.pydata.org/pandas-docs/stable/user_guide/indexing.html#returning-a-view-versus-a-copy\n",
            "  \"\"\"Entry point for launching an IPython kernel.\n",
            "/usr/local/lib/python3.6/dist-packages/ipykernel_launcher.py:3: SettingWithCopyWarning: \n",
            "A value is trying to be set on a copy of a slice from a DataFrame\n",
            "\n",
            "See the caveats in the documentation: https://pandas.pydata.org/pandas-docs/stable/user_guide/indexing.html#returning-a-view-versus-a-copy\n",
            "  This is separate from the ipykernel package so we can avoid doing imports until\n",
            "/usr/local/lib/python3.6/dist-packages/IPython/core/interactiveshell.py:2882: SettingWithCopyWarning: \n",
            "A value is trying to be set on a copy of a slice from a DataFrame\n",
            "\n",
            "See the caveats in the documentation: https://pandas.pydata.org/pandas-docs/stable/user_guide/indexing.html#returning-a-view-versus-a-copy\n",
            "  exec(code_obj, self.user_global_ns, self.user_ns)\n"
          ],
          "name": "stderr"
        }
      ]
    },
    {
      "cell_type": "code",
      "metadata": {
        "id": "iBHtMapZtDEw",
        "colab_type": "code",
        "colab": {
          "base_uri": "https://localhost:8080/",
          "height": 221
        },
        "outputId": "eab9e0a6-9083-4bc3-c5c8-fc5e63c93621"
      },
      "source": [
        "test_data1['Loan_ID']"
      ],
      "execution_count": null,
      "outputs": [
        {
          "output_type": "execute_result",
          "data": {
            "text/plain": [
              "0      LP001015\n",
              "1      LP001022\n",
              "2      LP001031\n",
              "3      LP001035\n",
              "4      LP001051\n",
              "         ...   \n",
              "362    LP002971\n",
              "363    LP002975\n",
              "364    LP002980\n",
              "365    LP002986\n",
              "366    LP002989\n",
              "Name: Loan_ID, Length: 367, dtype: object"
            ]
          },
          "metadata": {
            "tags": []
          },
          "execution_count": 175
        }
      ]
    },
    {
      "cell_type": "code",
      "metadata": {
        "id": "1unS_hF5toJz",
        "colab_type": "code",
        "colab": {
          "base_uri": "https://localhost:8080/",
          "height": 439
        },
        "outputId": "ebb2e59b-0515-4e7c-d162-cf876e1018bc"
      },
      "source": [
        "test_data1"
      ],
      "execution_count": null,
      "outputs": [
        {
          "output_type": "execute_result",
          "data": {
            "text/html": [
              "<div>\n",
              "<style scoped>\n",
              "    .dataframe tbody tr th:only-of-type {\n",
              "        vertical-align: middle;\n",
              "    }\n",
              "\n",
              "    .dataframe tbody tr th {\n",
              "        vertical-align: top;\n",
              "    }\n",
              "\n",
              "    .dataframe thead th {\n",
              "        text-align: right;\n",
              "    }\n",
              "</style>\n",
              "<table border=\"1\" class=\"dataframe\">\n",
              "  <thead>\n",
              "    <tr style=\"text-align: right;\">\n",
              "      <th></th>\n",
              "      <th>Dependents</th>\n",
              "      <th>Education</th>\n",
              "      <th>Self_Employed</th>\n",
              "      <th>ApplicantIncome</th>\n",
              "      <th>CoapplicantIncome</th>\n",
              "      <th>LoanAmount</th>\n",
              "      <th>Loan_Amount_Term</th>\n",
              "      <th>Credit_History</th>\n",
              "      <th>Property_Area</th>\n",
              "      <th>Loan_Status</th>\n",
              "      <th>Kids&gt;3</th>\n",
              "      <th>Female</th>\n",
              "      <th>Male</th>\n",
              "      <th>No</th>\n",
              "      <th>Yes</th>\n",
              "      <th>Loan_ID</th>\n",
              "    </tr>\n",
              "  </thead>\n",
              "  <tbody>\n",
              "    <tr>\n",
              "      <th>0</th>\n",
              "      <td>-0.745132</td>\n",
              "      <td>0.534522</td>\n",
              "      <td>-0.371552</td>\n",
              "      <td>0.094903</td>\n",
              "      <td>-0.589506</td>\n",
              "      <td>-0.427298</td>\n",
              "      <td>0.270528</td>\n",
              "      <td>0.42151</td>\n",
              "      <td>1.182420</td>\n",
              "      <td>1</td>\n",
              "      <td>-0.319761</td>\n",
              "      <td>0</td>\n",
              "      <td>1</td>\n",
              "      <td>0</td>\n",
              "      <td>1</td>\n",
              "      <td>LP001015</td>\n",
              "    </tr>\n",
              "    <tr>\n",
              "      <th>1</th>\n",
              "      <td>0.225618</td>\n",
              "      <td>0.534522</td>\n",
              "      <td>-0.371552</td>\n",
              "      <td>-0.369593</td>\n",
              "      <td>-0.037505</td>\n",
              "      <td>-0.217630</td>\n",
              "      <td>0.270528</td>\n",
              "      <td>0.42151</td>\n",
              "      <td>1.182420</td>\n",
              "      <td>1</td>\n",
              "      <td>-0.319761</td>\n",
              "      <td>0</td>\n",
              "      <td>1</td>\n",
              "      <td>0</td>\n",
              "      <td>1</td>\n",
              "      <td>LP001022</td>\n",
              "    </tr>\n",
              "    <tr>\n",
              "      <th>2</th>\n",
              "      <td>1.196367</td>\n",
              "      <td>0.534522</td>\n",
              "      <td>-0.371552</td>\n",
              "      <td>-0.031586</td>\n",
              "      <td>0.072895</td>\n",
              "      <td>0.856921</td>\n",
              "      <td>0.270528</td>\n",
              "      <td>0.42151</td>\n",
              "      <td>1.182420</td>\n",
              "      <td>1</td>\n",
              "      <td>-0.319761</td>\n",
              "      <td>0</td>\n",
              "      <td>1</td>\n",
              "      <td>0</td>\n",
              "      <td>1</td>\n",
              "      <td>LP001031</td>\n",
              "    </tr>\n",
              "    <tr>\n",
              "      <th>3</th>\n",
              "      <td>1.196367</td>\n",
              "      <td>0.534522</td>\n",
              "      <td>-0.371552</td>\n",
              "      <td>-0.498892</td>\n",
              "      <td>0.347423</td>\n",
              "      <td>-0.558341</td>\n",
              "      <td>0.270528</td>\n",
              "      <td>0.42151</td>\n",
              "      <td>1.182420</td>\n",
              "      <td>1</td>\n",
              "      <td>-0.319761</td>\n",
              "      <td>0</td>\n",
              "      <td>1</td>\n",
              "      <td>0</td>\n",
              "      <td>1</td>\n",
              "      <td>LP001035</td>\n",
              "    </tr>\n",
              "    <tr>\n",
              "      <th>4</th>\n",
              "      <td>-0.745132</td>\n",
              "      <td>-1.870829</td>\n",
              "      <td>-0.371552</td>\n",
              "      <td>-0.334457</td>\n",
              "      <td>-0.589506</td>\n",
              "      <td>-0.846635</td>\n",
              "      <td>0.270528</td>\n",
              "      <td>0.42151</td>\n",
              "      <td>1.182420</td>\n",
              "      <td>1</td>\n",
              "      <td>-0.319761</td>\n",
              "      <td>0</td>\n",
              "      <td>1</td>\n",
              "      <td>1</td>\n",
              "      <td>0</td>\n",
              "      <td>LP001051</td>\n",
              "    </tr>\n",
              "    <tr>\n",
              "      <th>...</th>\n",
              "      <td>...</td>\n",
              "      <td>...</td>\n",
              "      <td>...</td>\n",
              "      <td>...</td>\n",
              "      <td>...</td>\n",
              "      <td>...</td>\n",
              "      <td>...</td>\n",
              "      <td>...</td>\n",
              "      <td>...</td>\n",
              "      <td>...</td>\n",
              "      <td>...</td>\n",
              "      <td>...</td>\n",
              "      <td>...</td>\n",
              "      <td>...</td>\n",
              "      <td>...</td>\n",
              "      <td>...</td>\n",
              "    </tr>\n",
              "    <tr>\n",
              "      <th>362</th>\n",
              "      <td>2.167117</td>\n",
              "      <td>-1.870829</td>\n",
              "      <td>2.691412</td>\n",
              "      <td>-0.205684</td>\n",
              "      <td>0.064431</td>\n",
              "      <td>-0.387985</td>\n",
              "      <td>0.270528</td>\n",
              "      <td>0.42151</td>\n",
              "      <td>1.182420</td>\n",
              "      <td>1</td>\n",
              "      <td>3.127334</td>\n",
              "      <td>0</td>\n",
              "      <td>1</td>\n",
              "      <td>0</td>\n",
              "      <td>1</td>\n",
              "      <td>LP002971</td>\n",
              "    </tr>\n",
              "    <tr>\n",
              "      <th>363</th>\n",
              "      <td>-0.745132</td>\n",
              "      <td>0.534522</td>\n",
              "      <td>-0.371552</td>\n",
              "      <td>-0.179508</td>\n",
              "      <td>-0.328594</td>\n",
              "      <td>-0.361777</td>\n",
              "      <td>0.270528</td>\n",
              "      <td>0.42151</td>\n",
              "      <td>1.182420</td>\n",
              "      <td>1</td>\n",
              "      <td>-0.319761</td>\n",
              "      <td>0</td>\n",
              "      <td>1</td>\n",
              "      <td>0</td>\n",
              "      <td>1</td>\n",
              "      <td>LP002975</td>\n",
              "    </tr>\n",
              "    <tr>\n",
              "      <th>364</th>\n",
              "      <td>-0.745132</td>\n",
              "      <td>0.534522</td>\n",
              "      <td>-0.371552</td>\n",
              "      <td>-0.339024</td>\n",
              "      <td>0.143919</td>\n",
              "      <td>-0.217630</td>\n",
              "      <td>0.270528</td>\n",
              "      <td>0.42151</td>\n",
              "      <td>-0.066185</td>\n",
              "      <td>1</td>\n",
              "      <td>-0.319761</td>\n",
              "      <td>0</td>\n",
              "      <td>1</td>\n",
              "      <td>1</td>\n",
              "      <td>0</td>\n",
              "      <td>LP002980</td>\n",
              "    </tr>\n",
              "    <tr>\n",
              "      <th>365</th>\n",
              "      <td>-0.745132</td>\n",
              "      <td>0.534522</td>\n",
              "      <td>-0.371552</td>\n",
              "      <td>-0.031586</td>\n",
              "      <td>0.291119</td>\n",
              "      <td>0.201707</td>\n",
              "      <td>0.270528</td>\n",
              "      <td>0.42151</td>\n",
              "      <td>-1.314790</td>\n",
              "      <td>1</td>\n",
              "      <td>-0.319761</td>\n",
              "      <td>0</td>\n",
              "      <td>1</td>\n",
              "      <td>0</td>\n",
              "      <td>1</td>\n",
              "      <td>LP002986</td>\n",
              "    </tr>\n",
              "    <tr>\n",
              "      <th>366</th>\n",
              "      <td>-0.745132</td>\n",
              "      <td>0.534522</td>\n",
              "      <td>2.691412</td>\n",
              "      <td>0.706265</td>\n",
              "      <td>-0.589506</td>\n",
              "      <td>-0.584549</td>\n",
              "      <td>-2.522372</td>\n",
              "      <td>0.42151</td>\n",
              "      <td>-1.314790</td>\n",
              "      <td>1</td>\n",
              "      <td>-0.319761</td>\n",
              "      <td>0</td>\n",
              "      <td>1</td>\n",
              "      <td>1</td>\n",
              "      <td>0</td>\n",
              "      <td>LP002989</td>\n",
              "    </tr>\n",
              "  </tbody>\n",
              "</table>\n",
              "<p>367 rows × 16 columns</p>\n",
              "</div>"
            ],
            "text/plain": [
              "     Dependents  Education  Self_Employed  ...  No  Yes   Loan_ID\n",
              "0     -0.745132   0.534522      -0.371552  ...   0    1  LP001015\n",
              "1      0.225618   0.534522      -0.371552  ...   0    1  LP001022\n",
              "2      1.196367   0.534522      -0.371552  ...   0    1  LP001031\n",
              "3      1.196367   0.534522      -0.371552  ...   0    1  LP001035\n",
              "4     -0.745132  -1.870829      -0.371552  ...   1    0  LP001051\n",
              "..          ...        ...            ...  ...  ..  ...       ...\n",
              "362    2.167117  -1.870829       2.691412  ...   0    1  LP002971\n",
              "363   -0.745132   0.534522      -0.371552  ...   0    1  LP002975\n",
              "364   -0.745132   0.534522      -0.371552  ...   1    0  LP002980\n",
              "365   -0.745132   0.534522      -0.371552  ...   0    1  LP002986\n",
              "366   -0.745132   0.534522       2.691412  ...   1    0  LP002989\n",
              "\n",
              "[367 rows x 16 columns]"
            ]
          },
          "metadata": {
            "tags": []
          },
          "execution_count": 176
        }
      ]
    },
    {
      "cell_type": "code",
      "metadata": {
        "id": "4eiBTGYlum_N",
        "colab_type": "code",
        "colab": {}
      },
      "source": [
        ""
      ],
      "execution_count": null,
      "outputs": []
    },
    {
      "cell_type": "code",
      "metadata": {
        "id": "kd4C9VFNoBo4",
        "colab_type": "code",
        "colab": {}
      },
      "source": [
        ""
      ],
      "execution_count": null,
      "outputs": []
    },
    {
      "cell_type": "code",
      "metadata": {
        "id": "yg8EfLWdoHU-",
        "colab_type": "code",
        "colab": {}
      },
      "source": [
        ""
      ],
      "execution_count": null,
      "outputs": []
    }
  ]
}