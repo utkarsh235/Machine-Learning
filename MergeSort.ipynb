{
  "nbformat": 4,
  "nbformat_minor": 0,
  "metadata": {
    "colab": {
      "name": "MergeSort.ipynb",
      "provenance": [],
      "collapsed_sections": [],
      "authorship_tag": "ABX9TyOFRwY8fG931UVpit8aCdTC",
      "include_colab_link": true
    },
    "kernelspec": {
      "name": "python3",
      "display_name": "Python 3"
    }
  },
  "cells": [
    {
      "cell_type": "markdown",
      "metadata": {
        "id": "view-in-github",
        "colab_type": "text"
      },
      "source": [
        "<a href=\"https://colab.research.google.com/github/utkarsh235/Machine-Learning-Projects/blob/master/MergeSort.ipynb\" target=\"_parent\"><img src=\"https://colab.research.google.com/assets/colab-badge.svg\" alt=\"Open In Colab\"/></a>"
      ]
    },
    {
      "cell_type": "code",
      "metadata": {
        "id": "l6158jdGsR10",
        "colab_type": "code",
        "colab": {
          "base_uri": "https://localhost:8080/",
          "height": 442
        },
        "outputId": "f343a43d-88d2-4323-9270-aa6b265f6c55"
      },
      "source": [
        "def mergesort(arr):\n",
        "  if len(arr)>1:\n",
        "    n = len(arr)\n",
        "    l = 0\n",
        "    r = n\n",
        "    mid = (l+r)//2\n",
        "    left = arr[:mid]\n",
        "    right = arr[mid:]\n",
        "\n",
        "    mergesort(left)\n",
        "    mergesort(right)\n",
        "    merge(arr, left, right)\n",
        "\n",
        "  return arr\n",
        "\n",
        "def merge(arr, left, right):\n",
        "  #Remove the below comments to print statements in order to get an intution of the working mechanism of the merge sort\n",
        "  #print(arr)\n",
        "  #print(left)\n",
        "  #print(right)\n",
        "  i = j = k = 0\n",
        "  while i<len(left) and j< len(right):\n",
        "    if left[i] < right[j]:\n",
        "      arr[k] = left[i]\n",
        "      i += 1\n",
        "    elif right[j] < left[i]:\n",
        "      arr[k] = right[j]\n",
        "      j += 1\n",
        "    k += 1\n",
        "  if i == len(left):\n",
        "    arr[k] = right[j]\n",
        "    k += 1\n",
        "    j += 1\n",
        "  elif j == len(right):\n",
        "    arr[k] = left[i]\n",
        "    i += 1\n",
        "    k += 1\n",
        "\n",
        "\n",
        "arr = [2,4,6,8,7,3,5,1,9]\n",
        "sorted = mergesort(arr)\n",
        "print(sorted)"
      ],
      "execution_count": 8,
      "outputs": [
        {
          "output_type": "stream",
          "text": [
            "[2, 4]\n",
            "[2]\n",
            "[4]\n",
            "[6, 8]\n",
            "[6]\n",
            "[8]\n",
            "[2, 4, 6, 8]\n",
            "[2, 4]\n",
            "[6, 8]\n",
            "[7, 3]\n",
            "[7]\n",
            "[3]\n",
            "[1, 9]\n",
            "[1]\n",
            "[9]\n",
            "[5, 1, 9]\n",
            "[5]\n",
            "[1, 9]\n",
            "[7, 3, 5, 1, 9]\n",
            "[3, 7]\n",
            "[1, 5, 9]\n",
            "[2, 4, 6, 8, 7, 3, 5, 1, 9]\n",
            "[2, 4, 6, 8]\n",
            "[1, 3, 5, 7, 9]\n",
            "[1, 2, 3, 4, 5, 6, 7, 8, 9]\n"
          ],
          "name": "stdout"
        }
      ]
    }
  ]
}