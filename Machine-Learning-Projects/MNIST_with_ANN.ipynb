{
  "nbformat": 4,
  "nbformat_minor": 0,
  "metadata": {
    "colab": {
      "name": "MNIST_with_ANN.ipynb",
      "provenance": [],
      "collapsed_sections": [],
      "authorship_tag": "ABX9TyPD4F4rxercvmy3l8OsEeBW",
      "include_colab_link": true
    },
    "kernelspec": {
      "name": "python3",
      "display_name": "Python 3"
    }
  },
  "cells": [
    {
      "cell_type": "markdown",
      "metadata": {
        "id": "view-in-github",
        "colab_type": "text"
      },
      "source": [
        "<a href=\"https://colab.research.google.com/github/utkarsh235/Machine-Learning-Projects/blob/master/Machine-Learning-Projects/MNIST_with_ANN.ipynb\" target=\"_parent\"><img src=\"https://colab.research.google.com/assets/colab-badge.svg\" alt=\"Open In Colab\"/></a>"
      ]
    },
    {
      "cell_type": "markdown",
      "metadata": {
        "id": "cDk3_6YBN2m4",
        "colab_type": "text"
      },
      "source": [
        "**Importing Required Libraries**"
      ]
    },
    {
      "cell_type": "code",
      "metadata": {
        "id": "OLqqyH_kYwfH",
        "colab_type": "code",
        "colab": {}
      },
      "source": [
        "import numpy as np\n",
        "import matplotlib.pyplot as plt\n",
        "import tensorflow as tf\n",
        "import keras\n",
        "from keras.models import Sequential, Model\n",
        "from keras.layers import Dense, Flatten, Dropout, BatchNormalization, Input\n",
        "from keras.utils import to_categorical"
      ],
      "execution_count": null,
      "outputs": []
    },
    {
      "cell_type": "markdown",
      "metadata": {
        "id": "96SRbGfiN_x_",
        "colab_type": "text"
      },
      "source": [
        "Loading the Dataset"
      ]
    },
    {
      "cell_type": "code",
      "metadata": {
        "id": "XiW7P0A0Zoj1",
        "colab_type": "code",
        "colab": {}
      },
      "source": [
        "(train_x, train_y), (test_x, test_y) = tf.keras.datasets.mnist.load_data()"
      ],
      "execution_count": null,
      "outputs": []
    },
    {
      "cell_type": "code",
      "metadata": {
        "id": "1va8EGnLZ_NM",
        "colab_type": "code",
        "colab": {
          "base_uri": "https://localhost:8080/",
          "height": 34
        },
        "outputId": "48cd03e1-d7c5-44a8-f1c0-654f7be19ed9"
      },
      "source": [
        "len(test_x)"
      ],
      "execution_count": null,
      "outputs": [
        {
          "output_type": "execute_result",
          "data": {
            "text/plain": [
              "10000"
            ]
          },
          "metadata": {
            "tags": []
          },
          "execution_count": 38
        }
      ]
    },
    {
      "cell_type": "code",
      "metadata": {
        "id": "kRWEjEU0aCAg",
        "colab_type": "code",
        "colab": {
          "base_uri": "https://localhost:8080/",
          "height": 34
        },
        "outputId": "bd3df59b-7edb-42b9-9837-125f28f14fae"
      },
      "source": [
        "len(test_y)"
      ],
      "execution_count": null,
      "outputs": [
        {
          "output_type": "execute_result",
          "data": {
            "text/plain": [
              "10000"
            ]
          },
          "metadata": {
            "tags": []
          },
          "execution_count": 39
        }
      ]
    },
    {
      "cell_type": "markdown",
      "metadata": {
        "id": "B-XHqx3vOCt4",
        "colab_type": "text"
      },
      "source": [
        "Dataset Preprocessing"
      ]
    },
    {
      "cell_type": "code",
      "metadata": {
        "id": "_cWAQDQUaDfV",
        "colab_type": "code",
        "colab": {
          "base_uri": "https://localhost:8080/",
          "height": 34
        },
        "outputId": "5054ba80-23c2-4da2-b33b-8064a54945a2"
      },
      "source": [
        "train_x[0].shape"
      ],
      "execution_count": null,
      "outputs": [
        {
          "output_type": "execute_result",
          "data": {
            "text/plain": [
              "(28, 28)"
            ]
          },
          "metadata": {
            "tags": []
          },
          "execution_count": 40
        }
      ]
    },
    {
      "cell_type": "code",
      "metadata": {
        "id": "lJ_X3je6aPT8",
        "colab_type": "code",
        "colab": {}
      },
      "source": [
        "batch_size = 10\n",
        "epochs = 20\n",
        "train_labels = len(np.unique(train_y))\n",
        "image_shape = (train_x.shape[1], train_x.shape[2])"
      ],
      "execution_count": null,
      "outputs": []
    },
    {
      "cell_type": "code",
      "metadata": {
        "id": "zs-Q6rksgFx7",
        "colab_type": "code",
        "colab": {
          "base_uri": "https://localhost:8080/",
          "height": 34
        },
        "outputId": "17a87e1c-f3ef-4596-b242-c0a8a5e8ad97"
      },
      "source": [
        "image_shape"
      ],
      "execution_count": null,
      "outputs": [
        {
          "output_type": "execute_result",
          "data": {
            "text/plain": [
              "(28, 28)"
            ]
          },
          "metadata": {
            "tags": []
          },
          "execution_count": 42
        }
      ]
    },
    {
      "cell_type": "code",
      "metadata": {
        "id": "Q4dhVuXRaqZV",
        "colab_type": "code",
        "colab": {}
      },
      "source": [
        "train_x = train_x.astype(float) / 255\n",
        "test_x = test_x.astype(float) / 255\n",
        "train_x = train_x.reshape([-1, train_x.shape[1], train_x.shape[2], 1])\n",
        "test_x = test_x.reshape([-1, test_x.shape[1], test_x.shape[2], 1])"
      ],
      "execution_count": null,
      "outputs": []
    },
    {
      "cell_type": "markdown",
      "metadata": {
        "id": "AQOTy-uJOJjo",
        "colab_type": "text"
      },
      "source": [
        "## ***Model build and training***"
      ]
    },
    {
      "cell_type": "code",
      "metadata": {
        "id": "8GQGTA6Ac9vE",
        "colab_type": "code",
        "colab": {}
      },
      "source": [
        "Inputs = Input(shape = (train_x.shape[1], train_x.shape[1], 1))\n",
        "y = Flatten()(Inputs)"
      ],
      "execution_count": null,
      "outputs": []
    },
    {
      "cell_type": "code",
      "metadata": {
        "id": "uRlVOHJkhPe8",
        "colab_type": "code",
        "colab": {}
      },
      "source": [
        "y = Dense(16, activation = 'relu')(y)\n",
        "y = Dense(64, activation = 'relu')(y)\n",
        "y = Dense(256, activation = 'relu')(y)\n",
        "y = Dense(256, activation = 'relu')(y)\n",
        "y = Dense(64, activation = 'relu')(y)\n",
        "y = Dense(16, activation = 'relu')(y)\n",
        "Output = Dense(train_labels, activation = 'softmax')(y)"
      ],
      "execution_count": null,
      "outputs": []
    },
    {
      "cell_type": "code",
      "metadata": {
        "id": "EAuOBC5mdokR",
        "colab_type": "code",
        "colab": {
          "base_uri": "https://localhost:8080/",
          "height": 71
        },
        "outputId": "88f1e9f1-25cc-4813-babe-00ae9a5f1c53"
      },
      "source": [
        "model = Model(input = Inputs, output = Output)"
      ],
      "execution_count": null,
      "outputs": [
        {
          "output_type": "stream",
          "text": [
            "/usr/local/lib/python3.6/dist-packages/ipykernel_launcher.py:1: UserWarning: Update your `Model` call to the Keras 2 API: `Model(inputs=Tensor(\"in..., outputs=Tensor(\"de...)`\n",
            "  \"\"\"Entry point for launching an IPython kernel.\n"
          ],
          "name": "stderr"
        }
      ]
    },
    {
      "cell_type": "code",
      "metadata": {
        "id": "BhI6vKwjfL9i",
        "colab_type": "code",
        "colab": {
          "base_uri": "https://localhost:8080/",
          "height": 459
        },
        "outputId": "ca197434-4d1d-42b2-9340-d9a4b4689571"
      },
      "source": [
        "model.summary()"
      ],
      "execution_count": null,
      "outputs": [
        {
          "output_type": "stream",
          "text": [
            "Model: \"model_4\"\n",
            "_________________________________________________________________\n",
            "Layer (type)                 Output Shape              Param #   \n",
            "=================================================================\n",
            "input_4 (InputLayer)         (None, 28, 28, 1)         0         \n",
            "_________________________________________________________________\n",
            "flatten_4 (Flatten)          (None, 784)               0         \n",
            "_________________________________________________________________\n",
            "dense_22 (Dense)             (None, 16)                12560     \n",
            "_________________________________________________________________\n",
            "dense_23 (Dense)             (None, 64)                1088      \n",
            "_________________________________________________________________\n",
            "dense_24 (Dense)             (None, 256)               16640     \n",
            "_________________________________________________________________\n",
            "dense_25 (Dense)             (None, 256)               65792     \n",
            "_________________________________________________________________\n",
            "dense_26 (Dense)             (None, 64)                16448     \n",
            "_________________________________________________________________\n",
            "dense_27 (Dense)             (None, 16)                1040      \n",
            "_________________________________________________________________\n",
            "dense_28 (Dense)             (None, 10)                170       \n",
            "=================================================================\n",
            "Total params: 113,738\n",
            "Trainable params: 113,738\n",
            "Non-trainable params: 0\n",
            "_________________________________________________________________\n"
          ],
          "name": "stdout"
        }
      ]
    },
    {
      "cell_type": "code",
      "metadata": {
        "id": "p9ykoTqAfbsE",
        "colab_type": "code",
        "colab": {}
      },
      "source": [
        "model.compile(\n",
        "    optimizer = 'Adam',\n",
        "    loss = 'categorical_crossentropy',\n",
        "    metrics = ['accuracy']\n",
        ")"
      ],
      "execution_count": null,
      "outputs": []
    },
    {
      "cell_type": "code",
      "metadata": {
        "id": "aqlzHahsifQ3",
        "colab_type": "code",
        "colab": {}
      },
      "source": [
        "train_y = to_categorical(train_y)\n",
        "test_y = to_categorical(test_y)"
      ],
      "execution_count": null,
      "outputs": []
    },
    {
      "cell_type": "code",
      "metadata": {
        "id": "JL0ozKn4fw-_",
        "colab_type": "code",
        "colab": {
          "base_uri": "https://localhost:8080/",
          "height": 731
        },
        "outputId": "9cf33dbc-c8ed-4e05-e4ce-3fe89e098395"
      },
      "source": [
        "model.fit(train_x, train_y, epochs = epochs, batch_size = batch_size, validation_data=(test_x, test_y))"
      ],
      "execution_count": null,
      "outputs": [
        {
          "output_type": "stream",
          "text": [
            "Train on 60000 samples, validate on 10000 samples\n",
            "Epoch 1/20\n",
            "60000/60000 [==============================] - 19s 317us/step - loss: 0.3619 - accuracy: 0.8923 - val_loss: 0.2232 - val_accuracy: 0.9352\n",
            "Epoch 2/20\n",
            "60000/60000 [==============================] - 18s 307us/step - loss: 0.2064 - accuracy: 0.9420 - val_loss: 0.1697 - val_accuracy: 0.9489\n",
            "Epoch 3/20\n",
            "60000/60000 [==============================] - 19s 310us/step - loss: 0.1699 - accuracy: 0.9508 - val_loss: 0.1977 - val_accuracy: 0.9433\n",
            "Epoch 4/20\n",
            "60000/60000 [==============================] - 18s 300us/step - loss: 0.1502 - accuracy: 0.9564 - val_loss: 0.1586 - val_accuracy: 0.9550\n",
            "Epoch 5/20\n",
            "60000/60000 [==============================] - 19s 319us/step - loss: 0.1385 - accuracy: 0.9600 - val_loss: 0.1814 - val_accuracy: 0.9502\n",
            "Epoch 6/20\n",
            "60000/60000 [==============================] - 18s 304us/step - loss: 0.1292 - accuracy: 0.9628 - val_loss: 0.1499 - val_accuracy: 0.9581\n",
            "Epoch 7/20\n",
            "60000/60000 [==============================] - 18s 300us/step - loss: 0.1193 - accuracy: 0.9650 - val_loss: 0.1592 - val_accuracy: 0.9550\n",
            "Epoch 8/20\n",
            "60000/60000 [==============================] - 19s 309us/step - loss: 0.1149 - accuracy: 0.9656 - val_loss: 0.1577 - val_accuracy: 0.9582\n",
            "Epoch 9/20\n",
            "60000/60000 [==============================] - 18s 303us/step - loss: 0.1070 - accuracy: 0.9684 - val_loss: 0.1750 - val_accuracy: 0.9566\n",
            "Epoch 10/20\n",
            "60000/60000 [==============================] - 18s 306us/step - loss: 0.1035 - accuracy: 0.9685 - val_loss: 0.1694 - val_accuracy: 0.9568\n",
            "Epoch 11/20\n",
            "60000/60000 [==============================] - 19s 318us/step - loss: 0.0999 - accuracy: 0.9703 - val_loss: 0.1705 - val_accuracy: 0.9598\n",
            "Epoch 12/20\n",
            "60000/60000 [==============================] - 19s 315us/step - loss: 0.0981 - accuracy: 0.9707 - val_loss: 0.1710 - val_accuracy: 0.9603\n",
            "Epoch 13/20\n",
            "60000/60000 [==============================] - 19s 321us/step - loss: 0.0925 - accuracy: 0.9727 - val_loss: 0.1545 - val_accuracy: 0.9618\n",
            "Epoch 14/20\n",
            "60000/60000 [==============================] - 18s 307us/step - loss: 0.0946 - accuracy: 0.9725 - val_loss: 0.1849 - val_accuracy: 0.9599\n",
            "Epoch 15/20\n",
            "60000/60000 [==============================] - 18s 303us/step - loss: 0.0923 - accuracy: 0.9733 - val_loss: 0.1769 - val_accuracy: 0.9574\n",
            "Epoch 16/20\n",
            "60000/60000 [==============================] - 18s 307us/step - loss: 0.0866 - accuracy: 0.9742 - val_loss: 0.1735 - val_accuracy: 0.9604\n",
            "Epoch 17/20\n",
            "60000/60000 [==============================] - 19s 316us/step - loss: 0.0861 - accuracy: 0.9744 - val_loss: 0.1923 - val_accuracy: 0.9610\n",
            "Epoch 18/20\n",
            "60000/60000 [==============================] - 19s 309us/step - loss: 0.0857 - accuracy: 0.9750 - val_loss: 0.1737 - val_accuracy: 0.9601\n",
            "Epoch 19/20\n",
            "60000/60000 [==============================] - 19s 318us/step - loss: 0.0824 - accuracy: 0.9752 - val_loss: 0.1893 - val_accuracy: 0.9563\n",
            "Epoch 20/20\n",
            "60000/60000 [==============================] - 19s 322us/step - loss: 0.0827 - accuracy: 0.9753 - val_loss: 0.1710 - val_accuracy: 0.9613\n"
          ],
          "name": "stdout"
        },
        {
          "output_type": "execute_result",
          "data": {
            "text/plain": [
              "<keras.callbacks.callbacks.History at 0x7f928afe2f28>"
            ]
          },
          "metadata": {
            "tags": []
          },
          "execution_count": 50
        }
      ]
    },
    {
      "cell_type": "code",
      "metadata": {
        "id": "UEj5YTUigCLF",
        "colab_type": "code",
        "colab": {}
      },
      "source": [
        "# At the end of 20th epoch, we achieved a Validation accuracy of 96.13 %"
      ],
      "execution_count": null,
      "outputs": []
    }
  ]
}