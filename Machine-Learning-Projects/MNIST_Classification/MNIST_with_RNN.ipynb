{
  "nbformat": 4,
  "nbformat_minor": 0,
  "metadata": {
    "colab": {
      "name": "MNIST with RNN.ipynb",
      "provenance": [],
      "collapsed_sections": [],
      "authorship_tag": "ABX9TyO8K0vnq6WQsyrsfy6glZic",
      "include_colab_link": true
    },
    "kernelspec": {
      "name": "python3",
      "display_name": "Python 3"
    }
  },
  "cells": [
    {
      "cell_type": "markdown",
      "metadata": {
        "id": "view-in-github",
        "colab_type": "text"
      },
      "source": [
        "<a href=\"https://colab.research.google.com/github/utkarsh235/Machine-Learning-Projects/blob/master/Machine-Learning-Projects/MNIST_Classification/MNIST_with_RNN.ipynb\" target=\"_parent\"><img src=\"https://colab.research.google.com/assets/colab-badge.svg\" alt=\"Open In Colab\"/></a>"
      ]
    },
    {
      "cell_type": "markdown",
      "metadata": {
        "id": "I79ck4iwlS6-",
        "colab_type": "text"
      },
      "source": [
        "### **Importing Required Libraries**"
      ]
    },
    {
      "cell_type": "code",
      "metadata": {
        "id": "YO2DpY7MaqVP",
        "colab_type": "code",
        "colab": {}
      },
      "source": [
        "import tensorflow as tf\n",
        "import numpy as np\n",
        "import keras \n",
        "from keras.layers import Dense, Dropout, SimpleRNN\n",
        "from keras.models import Sequential\n",
        "from keras.utils import to_categorical, plot_model"
      ],
      "execution_count": null,
      "outputs": []
    },
    {
      "cell_type": "markdown",
      "metadata": {
        "id": "lW7A6h9aleke",
        "colab_type": "text"
      },
      "source": [
        "**Loading Data from official Keras website**"
      ]
    },
    {
      "cell_type": "code",
      "metadata": {
        "id": "rg4bdiSda_rR",
        "colab_type": "code",
        "colab": {}
      },
      "source": [
        "(train_x, train_y), (test_x, test_y) = tf.keras.datasets.mnist.load_data()"
      ],
      "execution_count": null,
      "outputs": []
    },
    {
      "cell_type": "code",
      "metadata": {
        "id": "WUCrwM-VbMoZ",
        "colab_type": "code",
        "colab": {
          "base_uri": "https://localhost:8080/",
          "height": 34
        },
        "outputId": "d6e3811e-9419-48b6-d8af-bb60344a13ce"
      },
      "source": [
        "len(train_x)"
      ],
      "execution_count": null,
      "outputs": [
        {
          "output_type": "execute_result",
          "data": {
            "text/plain": [
              "60000"
            ]
          },
          "metadata": {
            "tags": []
          },
          "execution_count": 24
        }
      ]
    },
    {
      "cell_type": "code",
      "metadata": {
        "id": "rrITojLvbO7A",
        "colab_type": "code",
        "colab": {
          "base_uri": "https://localhost:8080/",
          "height": 34
        },
        "outputId": "1e540c44-fc5f-45c0-aaca-b9e08b91f346"
      },
      "source": [
        "len(train_y)"
      ],
      "execution_count": null,
      "outputs": [
        {
          "output_type": "execute_result",
          "data": {
            "text/plain": [
              "60000"
            ]
          },
          "metadata": {
            "tags": []
          },
          "execution_count": 25
        }
      ]
    },
    {
      "cell_type": "code",
      "metadata": {
        "id": "wuU7dRqmbTpq",
        "colab_type": "code",
        "colab": {
          "base_uri": "https://localhost:8080/",
          "height": 34
        },
        "outputId": "85edf8bd-22cd-4102-facb-ae1d010384af"
      },
      "source": [
        "train_x.shape[0]"
      ],
      "execution_count": null,
      "outputs": [
        {
          "output_type": "execute_result",
          "data": {
            "text/plain": [
              "60000"
            ]
          },
          "metadata": {
            "tags": []
          },
          "execution_count": 26
        }
      ]
    },
    {
      "cell_type": "markdown",
      "metadata": {
        "id": "xGyWjuk7loz3",
        "colab_type": "text"
      },
      "source": [
        "# **Preprocessing Data**"
      ]
    },
    {
      "cell_type": "code",
      "metadata": {
        "id": "gUlKQa_-bV8g",
        "colab_type": "code",
        "colab": {}
      },
      "source": [
        "num_labels = len(np.unique(train_y))"
      ],
      "execution_count": null,
      "outputs": []
    },
    {
      "cell_type": "code",
      "metadata": {
        "id": "bI1YwwGZbpZn",
        "colab_type": "code",
        "colab": {}
      },
      "source": [
        "train_y = to_categorical(train_y)\n",
        "test_y = to_categorical(test_y)"
      ],
      "execution_count": null,
      "outputs": []
    },
    {
      "cell_type": "code",
      "metadata": {
        "id": "OcTnMDWPbzwI",
        "colab_type": "code",
        "colab": {}
      },
      "source": [
        "image_size = train_x.shape[1]\n",
        "train_x = np.reshape(train_x, [-1, image_size, image_size])\n",
        "test_x = np.reshape(test_x, [-1, image_size, image_size])\n",
        "train_x = train_x.astype('float32') / 255\n",
        "test_x = test_x.astype('float32') / 255"
      ],
      "execution_count": null,
      "outputs": []
    },
    {
      "cell_type": "code",
      "metadata": {
        "id": "N1-loRD3cOtJ",
        "colab_type": "code",
        "colab": {}
      },
      "source": [
        "input_shape = (image_size, image_size)\n",
        "batch_size = 128\n",
        "units = 256\n",
        "dropout = 0.2"
      ],
      "execution_count": null,
      "outputs": []
    },
    {
      "cell_type": "markdown",
      "metadata": {
        "id": "cdvuq_GFlwo0",
        "colab_type": "text"
      },
      "source": [
        "## **Building and training the Model**"
      ]
    },
    {
      "cell_type": "code",
      "metadata": {
        "id": "CWtrGvIRcvFc",
        "colab_type": "code",
        "colab": {}
      },
      "source": [
        "model = Sequential()"
      ],
      "execution_count": null,
      "outputs": []
    },
    {
      "cell_type": "code",
      "metadata": {
        "id": "bD6HMBL-c3DY",
        "colab_type": "code",
        "colab": {}
      },
      "source": [
        "model.add(SimpleRNN(units = units, dropout = dropout, input_shape = input_shape))\n",
        "model.add(Dense(num_labels, activation='softmax'))"
      ],
      "execution_count": null,
      "outputs": []
    },
    {
      "cell_type": "code",
      "metadata": {
        "id": "Hah2XAbtdSZ9",
        "colab_type": "code",
        "colab": {
          "base_uri": "https://localhost:8080/",
          "height": 221
        },
        "outputId": "d053b626-78dc-44a8-b000-bb0f4c458ff8"
      },
      "source": [
        "model.summary()"
      ],
      "execution_count": null,
      "outputs": [
        {
          "output_type": "stream",
          "text": [
            "Model: \"sequential_2\"\n",
            "_________________________________________________________________\n",
            "Layer (type)                 Output Shape              Param #   \n",
            "=================================================================\n",
            "simple_rnn_2 (SimpleRNN)     (None, 256)               72960     \n",
            "_________________________________________________________________\n",
            "dense_1 (Dense)              (None, 10)                2570      \n",
            "=================================================================\n",
            "Total params: 75,530\n",
            "Trainable params: 75,530\n",
            "Non-trainable params: 0\n",
            "_________________________________________________________________\n"
          ],
          "name": "stdout"
        }
      ]
    },
    {
      "cell_type": "code",
      "metadata": {
        "id": "CBMLFNmmdc8a",
        "colab_type": "code",
        "colab": {}
      },
      "source": [
        "model.compile(\n",
        "    optimizer = 'adam',\n",
        "    loss = 'categorical_crossentropy',\n",
        "    metrics = ['accuracy']\n",
        ")"
      ],
      "execution_count": null,
      "outputs": []
    },
    {
      "cell_type": "code",
      "metadata": {
        "id": "fotg9Q7ld-LG",
        "colab_type": "code",
        "colab": {
          "base_uri": "https://localhost:8080/",
          "height": 731
        },
        "outputId": "4552c54f-9ba9-4ab0-86e8-ff70371e3144"
      },
      "source": [
        "model.fit(train_x, train_y, epochs=20, batch_size=batch_size, validation_data=(test_x, test_y))"
      ],
      "execution_count": null,
      "outputs": [
        {
          "output_type": "stream",
          "text": [
            "Train on 60000 samples, validate on 10000 samples\n",
            "Epoch 1/20\n",
            "60000/60000 [==============================] - 29s 475us/step - loss: 0.4330 - accuracy: 0.8640 - val_loss: 0.2088 - val_accuracy: 0.9393\n",
            "Epoch 2/20\n",
            "60000/60000 [==============================] - 28s 460us/step - loss: 0.2262 - accuracy: 0.9328 - val_loss: 0.1214 - val_accuracy: 0.9616\n",
            "Epoch 3/20\n",
            "60000/60000 [==============================] - 28s 462us/step - loss: 0.1848 - accuracy: 0.9446 - val_loss: 0.1345 - val_accuracy: 0.9592\n",
            "Epoch 4/20\n",
            "60000/60000 [==============================] - 27s 457us/step - loss: 0.1614 - accuracy: 0.9519 - val_loss: 0.1412 - val_accuracy: 0.9610\n",
            "Epoch 5/20\n",
            "60000/60000 [==============================] - 27s 457us/step - loss: 0.1556 - accuracy: 0.9533 - val_loss: 0.0875 - val_accuracy: 0.9739\n",
            "Epoch 6/20\n",
            "60000/60000 [==============================] - 28s 464us/step - loss: 0.1438 - accuracy: 0.9568 - val_loss: 0.1038 - val_accuracy: 0.9682\n",
            "Epoch 7/20\n",
            "60000/60000 [==============================] - 29s 490us/step - loss: 0.1366 - accuracy: 0.9587 - val_loss: 0.0967 - val_accuracy: 0.9726\n",
            "Epoch 8/20\n",
            "60000/60000 [==============================] - 28s 462us/step - loss: 0.1364 - accuracy: 0.9600 - val_loss: 0.1010 - val_accuracy: 0.9694\n",
            "Epoch 9/20\n",
            "60000/60000 [==============================] - 28s 461us/step - loss: 0.1288 - accuracy: 0.9617 - val_loss: 0.1016 - val_accuracy: 0.9716\n",
            "Epoch 10/20\n",
            "60000/60000 [==============================] - 28s 460us/step - loss: 0.1270 - accuracy: 0.9625 - val_loss: 0.0989 - val_accuracy: 0.9706\n",
            "Epoch 11/20\n",
            "60000/60000 [==============================] - 27s 457us/step - loss: 0.1284 - accuracy: 0.9619 - val_loss: 0.0887 - val_accuracy: 0.9748\n",
            "Epoch 12/20\n",
            "60000/60000 [==============================] - 28s 461us/step - loss: 0.1216 - accuracy: 0.9634 - val_loss: 0.0854 - val_accuracy: 0.9747\n",
            "Epoch 13/20\n",
            "60000/60000 [==============================] - 28s 467us/step - loss: 0.1187 - accuracy: 0.9641 - val_loss: 0.0843 - val_accuracy: 0.9779\n",
            "Epoch 14/20\n",
            "60000/60000 [==============================] - 28s 460us/step - loss: 0.1189 - accuracy: 0.9644 - val_loss: 0.0849 - val_accuracy: 0.9750\n",
            "Epoch 15/20\n",
            "60000/60000 [==============================] - 28s 459us/step - loss: 0.1220 - accuracy: 0.9639 - val_loss: 0.0893 - val_accuracy: 0.9737\n",
            "Epoch 16/20\n",
            "60000/60000 [==============================] - 27s 458us/step - loss: 0.1099 - accuracy: 0.9675 - val_loss: 0.1057 - val_accuracy: 0.9709\n",
            "Epoch 17/20\n",
            "60000/60000 [==============================] - 27s 456us/step - loss: 0.1197 - accuracy: 0.9649 - val_loss: 0.0754 - val_accuracy: 0.9787\n",
            "Epoch 18/20\n",
            "60000/60000 [==============================] - 28s 464us/step - loss: 0.1143 - accuracy: 0.9653 - val_loss: 0.0948 - val_accuracy: 0.9729\n",
            "Epoch 19/20\n",
            "60000/60000 [==============================] - 28s 473us/step - loss: 0.1113 - accuracy: 0.9666 - val_loss: 0.0912 - val_accuracy: 0.9748\n",
            "Epoch 20/20\n",
            "60000/60000 [==============================] - 27s 455us/step - loss: 0.1173 - accuracy: 0.9652 - val_loss: 0.0815 - val_accuracy: 0.9771\n"
          ],
          "name": "stdout"
        },
        {
          "output_type": "execute_result",
          "data": {
            "text/plain": [
              "<keras.callbacks.callbacks.History at 0x7f020329ef28>"
            ]
          },
          "metadata": {
            "tags": []
          },
          "execution_count": 36
        }
      ]
    },
    {
      "cell_type": "code",
      "metadata": {
        "id": "5qw6d7ObmJC5",
        "colab_type": "code",
        "colab": {}
      },
      "source": [
        "# We ended up with the testing accuracy of 97.71 %"
      ],
      "execution_count": null,
      "outputs": []
    }
  ]
}