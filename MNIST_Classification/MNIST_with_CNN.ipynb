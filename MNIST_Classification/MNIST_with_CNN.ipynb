{
  "nbformat": 4,
  "nbformat_minor": 0,
  "metadata": {
    "colab": {
      "name": "MNIST by FunctionalAPI.ipynb",
      "provenance": [],
      "collapsed_sections": [],
      "authorship_tag": "ABX9TyP50goHoI9OPMVJTsnmCDrw",
      "include_colab_link": true
    },
    "kernelspec": {
      "name": "python3",
      "display_name": "Python 3"
    }
  },
  "cells": [
    {
      "cell_type": "markdown",
      "metadata": {
        "id": "view-in-github",
        "colab_type": "text"
      },
      "source": [
        "<a href=\"https://colab.research.google.com/github/utkarsh235/Machine-Learning-Projects/blob/master/MNIST_Classification/MNIST_with_CNN.ipynb\" target=\"_parent\"><img src=\"https://colab.research.google.com/assets/colab-badge.svg\" alt=\"Open In Colab\"/></a>"
      ]
    },
    {
      "cell_type": "markdown",
      "metadata": {
        "id": "VgePkX5QW2ob",
        "colab_type": "text"
      },
      "source": [
        "### **Importing Required Libraries**"
      ]
    },
    {
      "cell_type": "code",
      "metadata": {
        "id": "-ZJROUw7wFkt",
        "colab_type": "code",
        "colab": {}
      },
      "source": [
        "import numpy as np\n",
        "import tensorflow as tf\n",
        "import keras \n",
        "from keras.models import Model\n",
        "from keras.layers import Dense, Conv2D, MaxPooling2D, Flatten, Dropout, Input\n",
        "from keras.utils import to_categorical"
      ],
      "execution_count": null,
      "outputs": []
    },
    {
      "cell_type": "markdown",
      "metadata": {
        "id": "1zX0-4kNXKDp",
        "colab_type": "text"
      },
      "source": [
        "### Loading data from Keras official website"
      ]
    },
    {
      "cell_type": "code",
      "metadata": {
        "id": "QmJYcHk3wSWT",
        "colab_type": "code",
        "colab": {}
      },
      "source": [
        "(train_x, train_y), (test_x, test_y) = tf.keras.datasets.mnist.load_data()"
      ],
      "execution_count": null,
      "outputs": []
    },
    {
      "cell_type": "code",
      "metadata": {
        "id": "yroy_eFhhQHe",
        "colab_type": "code",
        "colab": {
          "base_uri": "https://localhost:8080/",
          "height": 34
        },
        "outputId": "a047aaf9-7df0-4ad5-b397-96e479628b2c"
      },
      "source": [
        "len(train_x)"
      ],
      "execution_count": null,
      "outputs": [
        {
          "output_type": "execute_result",
          "data": {
            "text/plain": [
              "60000"
            ]
          },
          "metadata": {
            "tags": []
          },
          "execution_count": 51
        }
      ]
    },
    {
      "cell_type": "code",
      "metadata": {
        "id": "dQsyJVf0hR2H",
        "colab_type": "code",
        "colab": {
          "base_uri": "https://localhost:8080/",
          "height": 34
        },
        "outputId": "0f85251a-f5b6-46d7-e35b-7b19ceb2e70e"
      },
      "source": [
        "len(train_y)"
      ],
      "execution_count": null,
      "outputs": [
        {
          "output_type": "execute_result",
          "data": {
            "text/plain": [
              "60000"
            ]
          },
          "metadata": {
            "tags": []
          },
          "execution_count": 52
        }
      ]
    },
    {
      "cell_type": "markdown",
      "metadata": {
        "id": "0ILQn0ioXVMi",
        "colab_type": "text"
      },
      "source": [
        "##Data Preprocessing"
      ]
    },
    {
      "cell_type": "code",
      "metadata": {
        "id": "LH2961ClhTYi",
        "colab_type": "code",
        "colab": {
          "base_uri": "https://localhost:8080/",
          "height": 34
        },
        "outputId": "444903d6-3a2b-4608-fbae-72abdabdb266"
      },
      "source": [
        "train_x.shape"
      ],
      "execution_count": null,
      "outputs": [
        {
          "output_type": "execute_result",
          "data": {
            "text/plain": [
              "(60000, 28, 28)"
            ]
          },
          "metadata": {
            "tags": []
          },
          "execution_count": 53
        }
      ]
    },
    {
      "cell_type": "code",
      "metadata": {
        "id": "BotqReHihU45",
        "colab_type": "code",
        "colab": {}
      },
      "source": [
        "num_labels = len(np.unique(train_y))"
      ],
      "execution_count": null,
      "outputs": []
    },
    {
      "cell_type": "code",
      "metadata": {
        "id": "nUlHwdGMhlPA",
        "colab_type": "code",
        "colab": {}
      },
      "source": [
        "image_size = train_x.shape[1]"
      ],
      "execution_count": null,
      "outputs": []
    },
    {
      "cell_type": "code",
      "metadata": {
        "id": "2mLVdGoghsX1",
        "colab_type": "code",
        "colab": {}
      },
      "source": [
        "train_x = np.reshape(train_x, [-1, image_size, image_size, 1])\n",
        "test_x = np.reshape(test_x, [-1, image_size, image_size, 1])\n",
        "train_x = train_x.astype('float32') / 255\n",
        "test_x = test_x.astype('float32') / 255"
      ],
      "execution_count": null,
      "outputs": []
    },
    {
      "cell_type": "code",
      "metadata": {
        "id": "_Ai4F9JglJk8",
        "colab_type": "code",
        "colab": {}
      },
      "source": [
        "train_y = to_categorical(train_y)\n",
        "test_y = to_categorical(test_y)"
      ],
      "execution_count": null,
      "outputs": []
    },
    {
      "cell_type": "code",
      "metadata": {
        "id": "RX5PPkGwhtLg",
        "colab_type": "code",
        "colab": {}
      },
      "source": [
        "input_shape = (image_size, image_size, 1)\n",
        "batch_size = 128\n",
        "kernel_size = 3\n",
        "filters = 64\n",
        "dropout = 0.3 "
      ],
      "execution_count": null,
      "outputs": []
    },
    {
      "cell_type": "markdown",
      "metadata": {
        "id": "y_Gp4QIWXckQ",
        "colab_type": "text"
      },
      "source": [
        "##**Building and Training the Model**"
      ]
    },
    {
      "cell_type": "code",
      "metadata": {
        "id": "-N8gii2wiK1h",
        "colab_type": "code",
        "colab": {}
      },
      "source": [
        "Inputs = Input(shape=input_shape)\n",
        "y = Conv2D(filters = filters, kernel_size = kernel_size, activation = 'relu')(Inputs)\n",
        "y = MaxPooling2D()(y)\n",
        "y = Conv2D(filters = filters, kernel_size = kernel_size, activation = 'relu')(y)\n",
        "y = MaxPooling2D()(y)\n",
        "y = Conv2D(filters = filters, kernel_size = kernel_size, activation = 'relu')(y)\n",
        "y = MaxPooling2D()(y)\n",
        "y = Flatten()(y)\n",
        "#y = Dense(units = 128, activation = 'relu')(y)\n",
        "y = Dropout(dropout)(y)\n",
        "output = Dense(num_labels, activation = 'softmax')(y)"
      ],
      "execution_count": null,
      "outputs": []
    },
    {
      "cell_type": "code",
      "metadata": {
        "id": "tTiHajcBjLw_",
        "colab_type": "code",
        "colab": {
          "base_uri": "https://localhost:8080/",
          "height": 71
        },
        "outputId": "d0442978-362c-4f48-8f10-a679bc0b3b37"
      },
      "source": [
        "model = Model(input = Inputs, output = output)"
      ],
      "execution_count": null,
      "outputs": [
        {
          "output_type": "stream",
          "text": [
            "/usr/local/lib/python3.6/dist-packages/ipykernel_launcher.py:1: UserWarning: Update your `Model` call to the Keras 2 API: `Model(inputs=Tensor(\"in..., outputs=Tensor(\"de...)`\n",
            "  \"\"\"Entry point for launching an IPython kernel.\n"
          ],
          "name": "stderr"
        }
      ]
    },
    {
      "cell_type": "code",
      "metadata": {
        "id": "oTArjT-2jcPK",
        "colab_type": "code",
        "colab": {
          "base_uri": "https://localhost:8080/",
          "height": 493
        },
        "outputId": "3a7f8757-0797-4d96-d0c3-5ee34830b6aa"
      },
      "source": [
        "model.summary()"
      ],
      "execution_count": null,
      "outputs": [
        {
          "output_type": "stream",
          "text": [
            "Model: \"model_4\"\n",
            "_________________________________________________________________\n",
            "Layer (type)                 Output Shape              Param #   \n",
            "=================================================================\n",
            "input_5 (InputLayer)         (None, 28, 28, 1)         0         \n",
            "_________________________________________________________________\n",
            "conv2d_13 (Conv2D)           (None, 26, 26, 64)        640       \n",
            "_________________________________________________________________\n",
            "max_pooling2d_13 (MaxPooling (None, 13, 13, 64)        0         \n",
            "_________________________________________________________________\n",
            "conv2d_14 (Conv2D)           (None, 11, 11, 64)        36928     \n",
            "_________________________________________________________________\n",
            "max_pooling2d_14 (MaxPooling (None, 5, 5, 64)          0         \n",
            "_________________________________________________________________\n",
            "conv2d_15 (Conv2D)           (None, 3, 3, 64)          36928     \n",
            "_________________________________________________________________\n",
            "max_pooling2d_15 (MaxPooling (None, 1, 1, 64)          0         \n",
            "_________________________________________________________________\n",
            "flatten_5 (Flatten)          (None, 64)                0         \n",
            "_________________________________________________________________\n",
            "dropout_2 (Dropout)          (None, 64)                0         \n",
            "_________________________________________________________________\n",
            "dense_8 (Dense)              (None, 10)                650       \n",
            "=================================================================\n",
            "Total params: 75,146\n",
            "Trainable params: 75,146\n",
            "Non-trainable params: 0\n",
            "_________________________________________________________________\n"
          ],
          "name": "stdout"
        }
      ]
    },
    {
      "cell_type": "code",
      "metadata": {
        "id": "5cfa5BL1jm8v",
        "colab_type": "code",
        "colab": {}
      },
      "source": [
        "model.compile(\n",
        "    optimizer = 'Adam',\n",
        "    loss = 'categorical_crossentropy',\n",
        "    metrics = ['accuracy']\n",
        ")"
      ],
      "execution_count": null,
      "outputs": []
    },
    {
      "cell_type": "code",
      "metadata": {
        "id": "Jx8Xfs_aj2ha",
        "colab_type": "code",
        "colab": {
          "base_uri": "https://localhost:8080/",
          "height": 731
        },
        "outputId": "7dde6a3c-728c-48d7-e7b8-53eab61030dd"
      },
      "source": [
        "model.fit(train_x, train_y, epochs = 20, batch_size = batch_size, validation_data=(test_x, test_y))"
      ],
      "execution_count": null,
      "outputs": [
        {
          "output_type": "stream",
          "text": [
            "Train on 60000 samples, validate on 10000 samples\n",
            "Epoch 1/20\n",
            "60000/60000 [==============================] - 74s 1ms/step - loss: 0.4335 - accuracy: 0.8644 - val_loss: 0.1082 - val_accuracy: 0.9646\n",
            "Epoch 2/20\n",
            "60000/60000 [==============================] - 74s 1ms/step - loss: 0.1536 - accuracy: 0.9549 - val_loss: 0.0779 - val_accuracy: 0.9762\n",
            "Epoch 3/20\n",
            "60000/60000 [==============================] - 73s 1ms/step - loss: 0.1105 - accuracy: 0.9676 - val_loss: 0.0626 - val_accuracy: 0.9813\n",
            "Epoch 4/20\n",
            "60000/60000 [==============================] - 74s 1ms/step - loss: 0.0909 - accuracy: 0.9728 - val_loss: 0.0532 - val_accuracy: 0.9836\n",
            "Epoch 5/20\n",
            "60000/60000 [==============================] - 74s 1ms/step - loss: 0.0797 - accuracy: 0.9758 - val_loss: 0.0500 - val_accuracy: 0.9853\n",
            "Epoch 6/20\n",
            "60000/60000 [==============================] - 74s 1ms/step - loss: 0.0694 - accuracy: 0.9789 - val_loss: 0.0472 - val_accuracy: 0.9865\n",
            "Epoch 7/20\n",
            "60000/60000 [==============================] - 73s 1ms/step - loss: 0.0627 - accuracy: 0.9808 - val_loss: 0.0455 - val_accuracy: 0.9867\n",
            "Epoch 8/20\n",
            "60000/60000 [==============================] - 73s 1ms/step - loss: 0.0552 - accuracy: 0.9830 - val_loss: 0.0387 - val_accuracy: 0.9889\n",
            "Epoch 9/20\n",
            "60000/60000 [==============================] - 74s 1ms/step - loss: 0.0506 - accuracy: 0.9840 - val_loss: 0.0436 - val_accuracy: 0.9874\n",
            "Epoch 10/20\n",
            "60000/60000 [==============================] - 73s 1ms/step - loss: 0.0458 - accuracy: 0.9860 - val_loss: 0.0426 - val_accuracy: 0.9871\n",
            "Epoch 11/20\n",
            "60000/60000 [==============================] - 73s 1ms/step - loss: 0.0444 - accuracy: 0.9863 - val_loss: 0.0398 - val_accuracy: 0.9887\n",
            "Epoch 12/20\n",
            "60000/60000 [==============================] - 73s 1ms/step - loss: 0.0403 - accuracy: 0.9876 - val_loss: 0.0374 - val_accuracy: 0.9893\n",
            "Epoch 13/20\n",
            "60000/60000 [==============================] - 74s 1ms/step - loss: 0.0386 - accuracy: 0.9876 - val_loss: 0.0365 - val_accuracy: 0.9898\n",
            "Epoch 14/20\n",
            "60000/60000 [==============================] - 73s 1ms/step - loss: 0.0355 - accuracy: 0.9887 - val_loss: 0.0383 - val_accuracy: 0.9890\n",
            "Epoch 15/20\n",
            "60000/60000 [==============================] - 73s 1ms/step - loss: 0.0359 - accuracy: 0.9890 - val_loss: 0.0367 - val_accuracy: 0.9897\n",
            "Epoch 16/20\n",
            "60000/60000 [==============================] - 73s 1ms/step - loss: 0.0311 - accuracy: 0.9898 - val_loss: 0.0363 - val_accuracy: 0.9903\n",
            "Epoch 17/20\n",
            "60000/60000 [==============================] - 74s 1ms/step - loss: 0.0301 - accuracy: 0.9903 - val_loss: 0.0404 - val_accuracy: 0.9893\n",
            "Epoch 18/20\n",
            "60000/60000 [==============================] - 74s 1ms/step - loss: 0.0281 - accuracy: 0.9904 - val_loss: 0.0374 - val_accuracy: 0.9897\n",
            "Epoch 19/20\n",
            "60000/60000 [==============================] - 73s 1ms/step - loss: 0.0268 - accuracy: 0.9914 - val_loss: 0.0403 - val_accuracy: 0.9892\n",
            "Epoch 20/20\n",
            "60000/60000 [==============================] - 73s 1ms/step - loss: 0.0260 - accuracy: 0.9915 - val_loss: 0.0369 - val_accuracy: 0.9905\n"
          ],
          "name": "stdout"
        },
        {
          "output_type": "execute_result",
          "data": {
            "text/plain": [
              "<keras.callbacks.callbacks.History at 0x7fc72eac0748>"
            ]
          },
          "metadata": {
            "tags": []
          },
          "execution_count": 63
        }
      ]
    },
    {
      "cell_type": "code",
      "metadata": {
        "id": "XvfmODdYkDRv",
        "colab_type": "code",
        "colab": {}
      },
      "source": [
        "# After 20 epochs we achieved testing accuracy of 99.05 %"
      ],
      "execution_count": null,
      "outputs": []
    }
  ]
}