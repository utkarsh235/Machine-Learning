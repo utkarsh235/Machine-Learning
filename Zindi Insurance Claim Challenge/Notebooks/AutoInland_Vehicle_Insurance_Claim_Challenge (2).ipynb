{
  "nbformat": 4,
  "nbformat_minor": 0,
  "metadata": {
    "colab": {
      "name": "AutoInland Vehicle Insurance Claim Challenge.ipynb",
      "provenance": [],
      "collapsed_sections": []
    },
    "kernelspec": {
      "name": "python3",
      "display_name": "Python 3"
    },
    "language_info": {
      "name": "python"
    }
  },
  "cells": [
    {
      "cell_type": "code",
      "metadata": {
        "id": "HjBoVQhHBeNf"
      },
      "source": [
        "import pandas as pd\n",
        "import numpy as np\n",
        "import matplotlib.pyplot as plt\n",
        "import seaborn as sns\n",
        "import datetime\n",
        "from tqdm import tqdm as tqdm\n",
        "from collections import Counter"
      ],
      "execution_count": 203,
      "outputs": []
    },
    {
      "cell_type": "code",
      "metadata": {
        "id": "bw6bysuKBvnK"
      },
      "source": [
        "train_real = pd.read_csv('/content/Train.csv')\n",
        "test_real = pd.read_csv('/content/Test.csv')\n",
        "sample_submission = pd.read_csv('/content/SampleSubmission.csv')\n",
        "data_description = pd.read_csv('/content/VariableDefinitions.csv')"
      ],
      "execution_count": 204,
      "outputs": []
    },
    {
      "cell_type": "code",
      "metadata": {
        "id": "13wH1KFa1Ckd"
      },
      "source": [
        "train = train_real.copy()\n",
        "test = test_real.copy()"
      ],
      "execution_count": 205,
      "outputs": []
    },
    {
      "cell_type": "code",
      "metadata": {
        "colab": {
          "base_uri": "https://localhost:8080/",
          "height": 469
        },
        "id": "PKqx6R4dCDM7",
        "outputId": "b1a6e551-eaef-48a4-fba6-9396648fa505"
      },
      "source": [
        "train"
      ],
      "execution_count": 206,
      "outputs": [
        {
          "output_type": "execute_result",
          "data": {
            "text/html": [
              "<div>\n",
              "<style scoped>\n",
              "    .dataframe tbody tr th:only-of-type {\n",
              "        vertical-align: middle;\n",
              "    }\n",
              "\n",
              "    .dataframe tbody tr th {\n",
              "        vertical-align: top;\n",
              "    }\n",
              "\n",
              "    .dataframe thead th {\n",
              "        text-align: right;\n",
              "    }\n",
              "</style>\n",
              "<table border=\"1\" class=\"dataframe\">\n",
              "  <thead>\n",
              "    <tr style=\"text-align: right;\">\n",
              "      <th></th>\n",
              "      <th>ID</th>\n",
              "      <th>Policy Start Date</th>\n",
              "      <th>Policy End Date</th>\n",
              "      <th>Gender</th>\n",
              "      <th>Age</th>\n",
              "      <th>First Transaction Date</th>\n",
              "      <th>No_Pol</th>\n",
              "      <th>Car_Category</th>\n",
              "      <th>Subject_Car_Colour</th>\n",
              "      <th>Subject_Car_Make</th>\n",
              "      <th>LGA_Name</th>\n",
              "      <th>State</th>\n",
              "      <th>ProductName</th>\n",
              "      <th>target</th>\n",
              "    </tr>\n",
              "  </thead>\n",
              "  <tbody>\n",
              "    <tr>\n",
              "      <th>0</th>\n",
              "      <td>ID_0040R73</td>\n",
              "      <td>2010-05-14</td>\n",
              "      <td>2011-05-13</td>\n",
              "      <td>Male</td>\n",
              "      <td>30</td>\n",
              "      <td>2010-05-14</td>\n",
              "      <td>1</td>\n",
              "      <td>Saloon</td>\n",
              "      <td>Black</td>\n",
              "      <td>TOYOTA</td>\n",
              "      <td>NaN</td>\n",
              "      <td>NaN</td>\n",
              "      <td>Car Classic</td>\n",
              "      <td>0</td>\n",
              "    </tr>\n",
              "    <tr>\n",
              "      <th>1</th>\n",
              "      <td>ID_0046BNK</td>\n",
              "      <td>2010-11-29</td>\n",
              "      <td>2011-11-28</td>\n",
              "      <td>Female</td>\n",
              "      <td>79</td>\n",
              "      <td>2010-11-29</td>\n",
              "      <td>1</td>\n",
              "      <td>JEEP</td>\n",
              "      <td>Grey</td>\n",
              "      <td>TOYOTA</td>\n",
              "      <td>NaN</td>\n",
              "      <td>NaN</td>\n",
              "      <td>Car Classic</td>\n",
              "      <td>1</td>\n",
              "    </tr>\n",
              "    <tr>\n",
              "      <th>2</th>\n",
              "      <td>ID_005QMC3</td>\n",
              "      <td>2010-03-21</td>\n",
              "      <td>2011-03-20</td>\n",
              "      <td>Male</td>\n",
              "      <td>43</td>\n",
              "      <td>2010-03-21</td>\n",
              "      <td>1</td>\n",
              "      <td>Saloon</td>\n",
              "      <td>Red</td>\n",
              "      <td>TOYOTA</td>\n",
              "      <td>NaN</td>\n",
              "      <td>NaN</td>\n",
              "      <td>Car Classic</td>\n",
              "      <td>0</td>\n",
              "    </tr>\n",
              "    <tr>\n",
              "      <th>3</th>\n",
              "      <td>ID_0079OHW</td>\n",
              "      <td>2010-08-21</td>\n",
              "      <td>2011-08-20</td>\n",
              "      <td>Male</td>\n",
              "      <td>2</td>\n",
              "      <td>2010-08-21</td>\n",
              "      <td>1</td>\n",
              "      <td>NaN</td>\n",
              "      <td>NaN</td>\n",
              "      <td>NaN</td>\n",
              "      <td>NaN</td>\n",
              "      <td>NaN</td>\n",
              "      <td>CarSafe</td>\n",
              "      <td>0</td>\n",
              "    </tr>\n",
              "    <tr>\n",
              "      <th>4</th>\n",
              "      <td>ID_00BRP63</td>\n",
              "      <td>2010-08-29</td>\n",
              "      <td>2010-12-31</td>\n",
              "      <td>Entity</td>\n",
              "      <td>20</td>\n",
              "      <td>2010-08-29</td>\n",
              "      <td>3</td>\n",
              "      <td>NaN</td>\n",
              "      <td>NaN</td>\n",
              "      <td>NaN</td>\n",
              "      <td>Lagos</td>\n",
              "      <td>Lagos</td>\n",
              "      <td>Muuve</td>\n",
              "      <td>1</td>\n",
              "    </tr>\n",
              "    <tr>\n",
              "      <th>...</th>\n",
              "      <td>...</td>\n",
              "      <td>...</td>\n",
              "      <td>...</td>\n",
              "      <td>...</td>\n",
              "      <td>...</td>\n",
              "      <td>...</td>\n",
              "      <td>...</td>\n",
              "      <td>...</td>\n",
              "      <td>...</td>\n",
              "      <td>...</td>\n",
              "      <td>...</td>\n",
              "      <td>...</td>\n",
              "      <td>...</td>\n",
              "      <td>...</td>\n",
              "    </tr>\n",
              "    <tr>\n",
              "      <th>12074</th>\n",
              "      <td>ID_ZZA1SES</td>\n",
              "      <td>2010-05-25</td>\n",
              "      <td>2011-05-24</td>\n",
              "      <td>Female</td>\n",
              "      <td>30</td>\n",
              "      <td>2010-05-25</td>\n",
              "      <td>1</td>\n",
              "      <td>NaN</td>\n",
              "      <td>Black</td>\n",
              "      <td>Range Rover</td>\n",
              "      <td>Ibeju/Lekki</td>\n",
              "      <td>Ibeju-Lekki</td>\n",
              "      <td>Car Classic</td>\n",
              "      <td>1</td>\n",
              "    </tr>\n",
              "    <tr>\n",
              "      <th>12075</th>\n",
              "      <td>ID_ZZDAC3K</td>\n",
              "      <td>2010-10-03</td>\n",
              "      <td>2011-10-02</td>\n",
              "      <td>Female</td>\n",
              "      <td>59</td>\n",
              "      <td>2010-10-03</td>\n",
              "      <td>1</td>\n",
              "      <td>NaN</td>\n",
              "      <td>NaN</td>\n",
              "      <td>NaN</td>\n",
              "      <td>NaN</td>\n",
              "      <td>NaN</td>\n",
              "      <td>Car Classic</td>\n",
              "      <td>0</td>\n",
              "    </tr>\n",
              "    <tr>\n",
              "      <th>12076</th>\n",
              "      <td>ID_ZZIU2XC</td>\n",
              "      <td>2010-10-10</td>\n",
              "      <td>2011-10-08</td>\n",
              "      <td>Male</td>\n",
              "      <td>34</td>\n",
              "      <td>2010-10-10</td>\n",
              "      <td>1</td>\n",
              "      <td>NaN</td>\n",
              "      <td>NaN</td>\n",
              "      <td>NaN</td>\n",
              "      <td>NaN</td>\n",
              "      <td>NaN</td>\n",
              "      <td>CarSafe</td>\n",
              "      <td>0</td>\n",
              "    </tr>\n",
              "    <tr>\n",
              "      <th>12077</th>\n",
              "      <td>ID_ZZRQ1NF</td>\n",
              "      <td>2010-02-27</td>\n",
              "      <td>2011-02-26</td>\n",
              "      <td>NaN</td>\n",
              "      <td>120</td>\n",
              "      <td>2010-02-27</td>\n",
              "      <td>2</td>\n",
              "      <td>NaN</td>\n",
              "      <td>White</td>\n",
              "      <td>TOYOTA</td>\n",
              "      <td>Victoria Island</td>\n",
              "      <td>Lagos</td>\n",
              "      <td>CVTP</td>\n",
              "      <td>0</td>\n",
              "    </tr>\n",
              "    <tr>\n",
              "      <th>12078</th>\n",
              "      <td>ID_ZZWRIIE</td>\n",
              "      <td>2010-07-01</td>\n",
              "      <td>2011-06-30</td>\n",
              "      <td>Female</td>\n",
              "      <td>46</td>\n",
              "      <td>2010-07-01</td>\n",
              "      <td>2</td>\n",
              "      <td>JEEP</td>\n",
              "      <td>Black</td>\n",
              "      <td>Land Rover</td>\n",
              "      <td>Lagos Island</td>\n",
              "      <td>Lagos</td>\n",
              "      <td>Car Classic</td>\n",
              "      <td>0</td>\n",
              "    </tr>\n",
              "  </tbody>\n",
              "</table>\n",
              "<p>12079 rows × 14 columns</p>\n",
              "</div>"
            ],
            "text/plain": [
              "               ID Policy Start Date  ...  ProductName target\n",
              "0      ID_0040R73        2010-05-14  ...  Car Classic      0\n",
              "1      ID_0046BNK        2010-11-29  ...  Car Classic      1\n",
              "2      ID_005QMC3        2010-03-21  ...  Car Classic      0\n",
              "3      ID_0079OHW        2010-08-21  ...      CarSafe      0\n",
              "4      ID_00BRP63        2010-08-29  ...        Muuve      1\n",
              "...           ...               ...  ...          ...    ...\n",
              "12074  ID_ZZA1SES        2010-05-25  ...  Car Classic      1\n",
              "12075  ID_ZZDAC3K        2010-10-03  ...  Car Classic      0\n",
              "12076  ID_ZZIU2XC        2010-10-10  ...      CarSafe      0\n",
              "12077  ID_ZZRQ1NF        2010-02-27  ...         CVTP      0\n",
              "12078  ID_ZZWRIIE        2010-07-01  ...  Car Classic      0\n",
              "\n",
              "[12079 rows x 14 columns]"
            ]
          },
          "metadata": {
            "tags": []
          },
          "execution_count": 206
        }
      ]
    },
    {
      "cell_type": "markdown",
      "metadata": {
        "id": "Zz8id_POwaDR"
      },
      "source": [
        "Let's Start by dropping the ID Column"
      ]
    },
    {
      "cell_type": "code",
      "metadata": {
        "id": "ukNzxfnRwZWl"
      },
      "source": [
        "train.drop(['ID'], axis=1, inplace=True)\n",
        "test.drop(['ID'], axis=1, inplace=True)"
      ],
      "execution_count": 207,
      "outputs": []
    },
    {
      "cell_type": "code",
      "metadata": {
        "colab": {
          "base_uri": "https://localhost:8080/",
          "height": 284
        },
        "id": "kppDOiPhCNgE",
        "outputId": "abe82aa4-a84f-4758-f46e-af6f85cfa6c5"
      },
      "source": [
        "train.describe()"
      ],
      "execution_count": 208,
      "outputs": [
        {
          "output_type": "execute_result",
          "data": {
            "text/html": [
              "<div>\n",
              "<style scoped>\n",
              "    .dataframe tbody tr th:only-of-type {\n",
              "        vertical-align: middle;\n",
              "    }\n",
              "\n",
              "    .dataframe tbody tr th {\n",
              "        vertical-align: top;\n",
              "    }\n",
              "\n",
              "    .dataframe thead th {\n",
              "        text-align: right;\n",
              "    }\n",
              "</style>\n",
              "<table border=\"1\" class=\"dataframe\">\n",
              "  <thead>\n",
              "    <tr style=\"text-align: right;\">\n",
              "      <th></th>\n",
              "      <th>Age</th>\n",
              "      <th>No_Pol</th>\n",
              "      <th>target</th>\n",
              "    </tr>\n",
              "  </thead>\n",
              "  <tbody>\n",
              "    <tr>\n",
              "      <th>count</th>\n",
              "      <td>12079.000000</td>\n",
              "      <td>12079.000000</td>\n",
              "      <td>12079.000000</td>\n",
              "    </tr>\n",
              "    <tr>\n",
              "      <th>mean</th>\n",
              "      <td>42.234539</td>\n",
              "      <td>1.307227</td>\n",
              "      <td>0.120457</td>\n",
              "    </tr>\n",
              "    <tr>\n",
              "      <th>std</th>\n",
              "      <td>97.492565</td>\n",
              "      <td>0.733085</td>\n",
              "      <td>0.325509</td>\n",
              "    </tr>\n",
              "    <tr>\n",
              "      <th>min</th>\n",
              "      <td>-6099.000000</td>\n",
              "      <td>1.000000</td>\n",
              "      <td>0.000000</td>\n",
              "    </tr>\n",
              "    <tr>\n",
              "      <th>25%</th>\n",
              "      <td>35.000000</td>\n",
              "      <td>1.000000</td>\n",
              "      <td>0.000000</td>\n",
              "    </tr>\n",
              "    <tr>\n",
              "      <th>50%</th>\n",
              "      <td>41.000000</td>\n",
              "      <td>1.000000</td>\n",
              "      <td>0.000000</td>\n",
              "    </tr>\n",
              "    <tr>\n",
              "      <th>75%</th>\n",
              "      <td>50.000000</td>\n",
              "      <td>1.000000</td>\n",
              "      <td>0.000000</td>\n",
              "    </tr>\n",
              "    <tr>\n",
              "      <th>max</th>\n",
              "      <td>320.000000</td>\n",
              "      <td>10.000000</td>\n",
              "      <td>1.000000</td>\n",
              "    </tr>\n",
              "  </tbody>\n",
              "</table>\n",
              "</div>"
            ],
            "text/plain": [
              "                Age        No_Pol        target\n",
              "count  12079.000000  12079.000000  12079.000000\n",
              "mean      42.234539      1.307227      0.120457\n",
              "std       97.492565      0.733085      0.325509\n",
              "min    -6099.000000      1.000000      0.000000\n",
              "25%       35.000000      1.000000      0.000000\n",
              "50%       41.000000      1.000000      0.000000\n",
              "75%       50.000000      1.000000      0.000000\n",
              "max      320.000000     10.000000      1.000000"
            ]
          },
          "metadata": {
            "tags": []
          },
          "execution_count": 208
        }
      ]
    },
    {
      "cell_type": "code",
      "metadata": {
        "id": "tSjlc5jbC4kl",
        "colab": {
          "base_uri": "https://localhost:8080/"
        },
        "outputId": "b4751568-6428-4bc3-a427-c27e7092f711"
      },
      "source": [
        "age_median = np.median(train['Age'])  # Value of age_median is 41.0 \n",
        "for i in range(len(train)):\n",
        "    if train['Age'][i] > 80 or train['Age'][i] < 18:\n",
        "        train['Age'][i] = age_median\n",
        "for i in range(len(test)):\n",
        "    if test['Age'][i] > 80 or test['Age'][i] < 18:\n",
        "        test['Age'][i] = age_median"
      ],
      "execution_count": 209,
      "outputs": [
        {
          "output_type": "stream",
          "text": [
            "/usr/local/lib/python3.7/dist-packages/ipykernel_launcher.py:4: SettingWithCopyWarning: \n",
            "A value is trying to be set on a copy of a slice from a DataFrame\n",
            "\n",
            "See the caveats in the documentation: https://pandas.pydata.org/pandas-docs/stable/user_guide/indexing.html#returning-a-view-versus-a-copy\n",
            "  after removing the cwd from sys.path.\n",
            "/usr/local/lib/python3.7/dist-packages/ipykernel_launcher.py:7: SettingWithCopyWarning: \n",
            "A value is trying to be set on a copy of a slice from a DataFrame\n",
            "\n",
            "See the caveats in the documentation: https://pandas.pydata.org/pandas-docs/stable/user_guide/indexing.html#returning-a-view-versus-a-copy\n",
            "  import sys\n"
          ],
          "name": "stderr"
        }
      ]
    },
    {
      "cell_type": "code",
      "metadata": {
        "colab": {
          "base_uri": "https://localhost:8080/"
        },
        "id": "33Oy7Qwfsf4O",
        "outputId": "4181479e-90c7-49a5-8a2e-4497b1b6432b"
      },
      "source": [
        "train.isnull().sum()"
      ],
      "execution_count": 210,
      "outputs": [
        {
          "output_type": "execute_result",
          "data": {
            "text/plain": [
              "Policy Start Date            0\n",
              "Policy End Date              0\n",
              "Gender                     359\n",
              "Age                          0\n",
              "First Transaction Date       0\n",
              "No_Pol                       0\n",
              "Car_Category              3738\n",
              "Subject_Car_Colour        6962\n",
              "Subject_Car_Make          2476\n",
              "LGA_Name                  6476\n",
              "State                     6488\n",
              "ProductName                  0\n",
              "target                       0\n",
              "dtype: int64"
            ]
          },
          "metadata": {
            "tags": []
          },
          "execution_count": 210
        }
      ]
    },
    {
      "cell_type": "markdown",
      "metadata": {
        "id": "waefCY4GubjI"
      },
      "source": [
        "--------------------------------------------------------------------------------\n",
        "Since, The colour of the car is not (directly) related to whether the person would purchase the insurance or not, as well as due to a lot of null values (Almost 50%). Therefore I am dropping this column.\n",
        "--------------------------------------------------------------------------------"
      ]
    },
    {
      "cell_type": "code",
      "metadata": {
        "id": "8yim4YsrsgwR"
      },
      "source": [
        "train.drop(['Subject_Car_Colour'], axis=1, inplace=True)\n",
        "test.drop(['Subject_Car_Colour'], axis=1, inplace=True)"
      ],
      "execution_count": 211,
      "outputs": []
    },
    {
      "cell_type": "code",
      "metadata": {
        "colab": {
          "base_uri": "https://localhost:8080/",
          "height": 402
        },
        "id": "9yUKYyXou-Gt",
        "outputId": "60f9fa89-afa0-481c-f422-2bd36108cd96"
      },
      "source": [
        "train"
      ],
      "execution_count": 212,
      "outputs": [
        {
          "output_type": "execute_result",
          "data": {
            "text/html": [
              "<div>\n",
              "<style scoped>\n",
              "    .dataframe tbody tr th:only-of-type {\n",
              "        vertical-align: middle;\n",
              "    }\n",
              "\n",
              "    .dataframe tbody tr th {\n",
              "        vertical-align: top;\n",
              "    }\n",
              "\n",
              "    .dataframe thead th {\n",
              "        text-align: right;\n",
              "    }\n",
              "</style>\n",
              "<table border=\"1\" class=\"dataframe\">\n",
              "  <thead>\n",
              "    <tr style=\"text-align: right;\">\n",
              "      <th></th>\n",
              "      <th>Policy Start Date</th>\n",
              "      <th>Policy End Date</th>\n",
              "      <th>Gender</th>\n",
              "      <th>Age</th>\n",
              "      <th>First Transaction Date</th>\n",
              "      <th>No_Pol</th>\n",
              "      <th>Car_Category</th>\n",
              "      <th>Subject_Car_Make</th>\n",
              "      <th>LGA_Name</th>\n",
              "      <th>State</th>\n",
              "      <th>ProductName</th>\n",
              "      <th>target</th>\n",
              "    </tr>\n",
              "  </thead>\n",
              "  <tbody>\n",
              "    <tr>\n",
              "      <th>0</th>\n",
              "      <td>2010-05-14</td>\n",
              "      <td>2011-05-13</td>\n",
              "      <td>Male</td>\n",
              "      <td>30</td>\n",
              "      <td>2010-05-14</td>\n",
              "      <td>1</td>\n",
              "      <td>Saloon</td>\n",
              "      <td>TOYOTA</td>\n",
              "      <td>NaN</td>\n",
              "      <td>NaN</td>\n",
              "      <td>Car Classic</td>\n",
              "      <td>0</td>\n",
              "    </tr>\n",
              "    <tr>\n",
              "      <th>1</th>\n",
              "      <td>2010-11-29</td>\n",
              "      <td>2011-11-28</td>\n",
              "      <td>Female</td>\n",
              "      <td>79</td>\n",
              "      <td>2010-11-29</td>\n",
              "      <td>1</td>\n",
              "      <td>JEEP</td>\n",
              "      <td>TOYOTA</td>\n",
              "      <td>NaN</td>\n",
              "      <td>NaN</td>\n",
              "      <td>Car Classic</td>\n",
              "      <td>1</td>\n",
              "    </tr>\n",
              "    <tr>\n",
              "      <th>2</th>\n",
              "      <td>2010-03-21</td>\n",
              "      <td>2011-03-20</td>\n",
              "      <td>Male</td>\n",
              "      <td>43</td>\n",
              "      <td>2010-03-21</td>\n",
              "      <td>1</td>\n",
              "      <td>Saloon</td>\n",
              "      <td>TOYOTA</td>\n",
              "      <td>NaN</td>\n",
              "      <td>NaN</td>\n",
              "      <td>Car Classic</td>\n",
              "      <td>0</td>\n",
              "    </tr>\n",
              "    <tr>\n",
              "      <th>3</th>\n",
              "      <td>2010-08-21</td>\n",
              "      <td>2011-08-20</td>\n",
              "      <td>Male</td>\n",
              "      <td>41</td>\n",
              "      <td>2010-08-21</td>\n",
              "      <td>1</td>\n",
              "      <td>NaN</td>\n",
              "      <td>NaN</td>\n",
              "      <td>NaN</td>\n",
              "      <td>NaN</td>\n",
              "      <td>CarSafe</td>\n",
              "      <td>0</td>\n",
              "    </tr>\n",
              "    <tr>\n",
              "      <th>4</th>\n",
              "      <td>2010-08-29</td>\n",
              "      <td>2010-12-31</td>\n",
              "      <td>Entity</td>\n",
              "      <td>20</td>\n",
              "      <td>2010-08-29</td>\n",
              "      <td>3</td>\n",
              "      <td>NaN</td>\n",
              "      <td>NaN</td>\n",
              "      <td>Lagos</td>\n",
              "      <td>Lagos</td>\n",
              "      <td>Muuve</td>\n",
              "      <td>1</td>\n",
              "    </tr>\n",
              "    <tr>\n",
              "      <th>...</th>\n",
              "      <td>...</td>\n",
              "      <td>...</td>\n",
              "      <td>...</td>\n",
              "      <td>...</td>\n",
              "      <td>...</td>\n",
              "      <td>...</td>\n",
              "      <td>...</td>\n",
              "      <td>...</td>\n",
              "      <td>...</td>\n",
              "      <td>...</td>\n",
              "      <td>...</td>\n",
              "      <td>...</td>\n",
              "    </tr>\n",
              "    <tr>\n",
              "      <th>12074</th>\n",
              "      <td>2010-05-25</td>\n",
              "      <td>2011-05-24</td>\n",
              "      <td>Female</td>\n",
              "      <td>30</td>\n",
              "      <td>2010-05-25</td>\n",
              "      <td>1</td>\n",
              "      <td>NaN</td>\n",
              "      <td>Range Rover</td>\n",
              "      <td>Ibeju/Lekki</td>\n",
              "      <td>Ibeju-Lekki</td>\n",
              "      <td>Car Classic</td>\n",
              "      <td>1</td>\n",
              "    </tr>\n",
              "    <tr>\n",
              "      <th>12075</th>\n",
              "      <td>2010-10-03</td>\n",
              "      <td>2011-10-02</td>\n",
              "      <td>Female</td>\n",
              "      <td>59</td>\n",
              "      <td>2010-10-03</td>\n",
              "      <td>1</td>\n",
              "      <td>NaN</td>\n",
              "      <td>NaN</td>\n",
              "      <td>NaN</td>\n",
              "      <td>NaN</td>\n",
              "      <td>Car Classic</td>\n",
              "      <td>0</td>\n",
              "    </tr>\n",
              "    <tr>\n",
              "      <th>12076</th>\n",
              "      <td>2010-10-10</td>\n",
              "      <td>2011-10-08</td>\n",
              "      <td>Male</td>\n",
              "      <td>34</td>\n",
              "      <td>2010-10-10</td>\n",
              "      <td>1</td>\n",
              "      <td>NaN</td>\n",
              "      <td>NaN</td>\n",
              "      <td>NaN</td>\n",
              "      <td>NaN</td>\n",
              "      <td>CarSafe</td>\n",
              "      <td>0</td>\n",
              "    </tr>\n",
              "    <tr>\n",
              "      <th>12077</th>\n",
              "      <td>2010-02-27</td>\n",
              "      <td>2011-02-26</td>\n",
              "      <td>NaN</td>\n",
              "      <td>41</td>\n",
              "      <td>2010-02-27</td>\n",
              "      <td>2</td>\n",
              "      <td>NaN</td>\n",
              "      <td>TOYOTA</td>\n",
              "      <td>Victoria Island</td>\n",
              "      <td>Lagos</td>\n",
              "      <td>CVTP</td>\n",
              "      <td>0</td>\n",
              "    </tr>\n",
              "    <tr>\n",
              "      <th>12078</th>\n",
              "      <td>2010-07-01</td>\n",
              "      <td>2011-06-30</td>\n",
              "      <td>Female</td>\n",
              "      <td>46</td>\n",
              "      <td>2010-07-01</td>\n",
              "      <td>2</td>\n",
              "      <td>JEEP</td>\n",
              "      <td>Land Rover</td>\n",
              "      <td>Lagos Island</td>\n",
              "      <td>Lagos</td>\n",
              "      <td>Car Classic</td>\n",
              "      <td>0</td>\n",
              "    </tr>\n",
              "  </tbody>\n",
              "</table>\n",
              "<p>12079 rows × 12 columns</p>\n",
              "</div>"
            ],
            "text/plain": [
              "      Policy Start Date Policy End Date  ...  ProductName  target\n",
              "0            2010-05-14      2011-05-13  ...  Car Classic       0\n",
              "1            2010-11-29      2011-11-28  ...  Car Classic       1\n",
              "2            2010-03-21      2011-03-20  ...  Car Classic       0\n",
              "3            2010-08-21      2011-08-20  ...      CarSafe       0\n",
              "4            2010-08-29      2010-12-31  ...        Muuve       1\n",
              "...                 ...             ...  ...          ...     ...\n",
              "12074        2010-05-25      2011-05-24  ...  Car Classic       1\n",
              "12075        2010-10-03      2011-10-02  ...  Car Classic       0\n",
              "12076        2010-10-10      2011-10-08  ...      CarSafe       0\n",
              "12077        2010-02-27      2011-02-26  ...         CVTP       0\n",
              "12078        2010-07-01      2011-06-30  ...  Car Classic       0\n",
              "\n",
              "[12079 rows x 12 columns]"
            ]
          },
          "metadata": {
            "tags": []
          },
          "execution_count": 212
        }
      ]
    },
    {
      "cell_type": "code",
      "metadata": {
        "colab": {
          "base_uri": "https://localhost:8080/"
        },
        "id": "zlahPFnMu-mv",
        "outputId": "03deb004-1df4-4d1e-f285-337e68c55709"
      },
      "source": [
        "sum(train['First Transaction Date'] == train['Policy Start Date'])"
      ],
      "execution_count": 213,
      "outputs": [
        {
          "output_type": "execute_result",
          "data": {
            "text/plain": [
              "12079"
            ]
          },
          "metadata": {
            "tags": []
          },
          "execution_count": 213
        }
      ]
    },
    {
      "cell_type": "markdown",
      "metadata": {
        "id": "2E-bAfM4vkxR"
      },
      "source": [
        "--------------------------------------------------------------------------------\n",
        "Another Observation from the above analysis shows that Policy Start Date and First Transaction Date are same. Therefore we should drop one of them otherwise it would act as a reduntant feature and add unnessacary complexity to our model.\n",
        "--------------------------------------------------------------------------------"
      ]
    },
    {
      "cell_type": "code",
      "metadata": {
        "id": "dx9FTIFfvX4a"
      },
      "source": [
        "train.drop(['First Transaction Date'], axis=1, inplace=True)\n",
        "test.drop(['First Transaction Date'], axis=1, inplace=True)"
      ],
      "execution_count": 214,
      "outputs": []
    },
    {
      "cell_type": "code",
      "metadata": {
        "colab": {
          "base_uri": "https://localhost:8080/",
          "height": 402
        },
        "id": "yEqh27zfwLTS",
        "outputId": "2b46a590-b3a4-45b4-9ca8-07657272fed7"
      },
      "source": [
        "train"
      ],
      "execution_count": 215,
      "outputs": [
        {
          "output_type": "execute_result",
          "data": {
            "text/html": [
              "<div>\n",
              "<style scoped>\n",
              "    .dataframe tbody tr th:only-of-type {\n",
              "        vertical-align: middle;\n",
              "    }\n",
              "\n",
              "    .dataframe tbody tr th {\n",
              "        vertical-align: top;\n",
              "    }\n",
              "\n",
              "    .dataframe thead th {\n",
              "        text-align: right;\n",
              "    }\n",
              "</style>\n",
              "<table border=\"1\" class=\"dataframe\">\n",
              "  <thead>\n",
              "    <tr style=\"text-align: right;\">\n",
              "      <th></th>\n",
              "      <th>Policy Start Date</th>\n",
              "      <th>Policy End Date</th>\n",
              "      <th>Gender</th>\n",
              "      <th>Age</th>\n",
              "      <th>No_Pol</th>\n",
              "      <th>Car_Category</th>\n",
              "      <th>Subject_Car_Make</th>\n",
              "      <th>LGA_Name</th>\n",
              "      <th>State</th>\n",
              "      <th>ProductName</th>\n",
              "      <th>target</th>\n",
              "    </tr>\n",
              "  </thead>\n",
              "  <tbody>\n",
              "    <tr>\n",
              "      <th>0</th>\n",
              "      <td>2010-05-14</td>\n",
              "      <td>2011-05-13</td>\n",
              "      <td>Male</td>\n",
              "      <td>30</td>\n",
              "      <td>1</td>\n",
              "      <td>Saloon</td>\n",
              "      <td>TOYOTA</td>\n",
              "      <td>NaN</td>\n",
              "      <td>NaN</td>\n",
              "      <td>Car Classic</td>\n",
              "      <td>0</td>\n",
              "    </tr>\n",
              "    <tr>\n",
              "      <th>1</th>\n",
              "      <td>2010-11-29</td>\n",
              "      <td>2011-11-28</td>\n",
              "      <td>Female</td>\n",
              "      <td>79</td>\n",
              "      <td>1</td>\n",
              "      <td>JEEP</td>\n",
              "      <td>TOYOTA</td>\n",
              "      <td>NaN</td>\n",
              "      <td>NaN</td>\n",
              "      <td>Car Classic</td>\n",
              "      <td>1</td>\n",
              "    </tr>\n",
              "    <tr>\n",
              "      <th>2</th>\n",
              "      <td>2010-03-21</td>\n",
              "      <td>2011-03-20</td>\n",
              "      <td>Male</td>\n",
              "      <td>43</td>\n",
              "      <td>1</td>\n",
              "      <td>Saloon</td>\n",
              "      <td>TOYOTA</td>\n",
              "      <td>NaN</td>\n",
              "      <td>NaN</td>\n",
              "      <td>Car Classic</td>\n",
              "      <td>0</td>\n",
              "    </tr>\n",
              "    <tr>\n",
              "      <th>3</th>\n",
              "      <td>2010-08-21</td>\n",
              "      <td>2011-08-20</td>\n",
              "      <td>Male</td>\n",
              "      <td>41</td>\n",
              "      <td>1</td>\n",
              "      <td>NaN</td>\n",
              "      <td>NaN</td>\n",
              "      <td>NaN</td>\n",
              "      <td>NaN</td>\n",
              "      <td>CarSafe</td>\n",
              "      <td>0</td>\n",
              "    </tr>\n",
              "    <tr>\n",
              "      <th>4</th>\n",
              "      <td>2010-08-29</td>\n",
              "      <td>2010-12-31</td>\n",
              "      <td>Entity</td>\n",
              "      <td>20</td>\n",
              "      <td>3</td>\n",
              "      <td>NaN</td>\n",
              "      <td>NaN</td>\n",
              "      <td>Lagos</td>\n",
              "      <td>Lagos</td>\n",
              "      <td>Muuve</td>\n",
              "      <td>1</td>\n",
              "    </tr>\n",
              "    <tr>\n",
              "      <th>...</th>\n",
              "      <td>...</td>\n",
              "      <td>...</td>\n",
              "      <td>...</td>\n",
              "      <td>...</td>\n",
              "      <td>...</td>\n",
              "      <td>...</td>\n",
              "      <td>...</td>\n",
              "      <td>...</td>\n",
              "      <td>...</td>\n",
              "      <td>...</td>\n",
              "      <td>...</td>\n",
              "    </tr>\n",
              "    <tr>\n",
              "      <th>12074</th>\n",
              "      <td>2010-05-25</td>\n",
              "      <td>2011-05-24</td>\n",
              "      <td>Female</td>\n",
              "      <td>30</td>\n",
              "      <td>1</td>\n",
              "      <td>NaN</td>\n",
              "      <td>Range Rover</td>\n",
              "      <td>Ibeju/Lekki</td>\n",
              "      <td>Ibeju-Lekki</td>\n",
              "      <td>Car Classic</td>\n",
              "      <td>1</td>\n",
              "    </tr>\n",
              "    <tr>\n",
              "      <th>12075</th>\n",
              "      <td>2010-10-03</td>\n",
              "      <td>2011-10-02</td>\n",
              "      <td>Female</td>\n",
              "      <td>59</td>\n",
              "      <td>1</td>\n",
              "      <td>NaN</td>\n",
              "      <td>NaN</td>\n",
              "      <td>NaN</td>\n",
              "      <td>NaN</td>\n",
              "      <td>Car Classic</td>\n",
              "      <td>0</td>\n",
              "    </tr>\n",
              "    <tr>\n",
              "      <th>12076</th>\n",
              "      <td>2010-10-10</td>\n",
              "      <td>2011-10-08</td>\n",
              "      <td>Male</td>\n",
              "      <td>34</td>\n",
              "      <td>1</td>\n",
              "      <td>NaN</td>\n",
              "      <td>NaN</td>\n",
              "      <td>NaN</td>\n",
              "      <td>NaN</td>\n",
              "      <td>CarSafe</td>\n",
              "      <td>0</td>\n",
              "    </tr>\n",
              "    <tr>\n",
              "      <th>12077</th>\n",
              "      <td>2010-02-27</td>\n",
              "      <td>2011-02-26</td>\n",
              "      <td>NaN</td>\n",
              "      <td>41</td>\n",
              "      <td>2</td>\n",
              "      <td>NaN</td>\n",
              "      <td>TOYOTA</td>\n",
              "      <td>Victoria Island</td>\n",
              "      <td>Lagos</td>\n",
              "      <td>CVTP</td>\n",
              "      <td>0</td>\n",
              "    </tr>\n",
              "    <tr>\n",
              "      <th>12078</th>\n",
              "      <td>2010-07-01</td>\n",
              "      <td>2011-06-30</td>\n",
              "      <td>Female</td>\n",
              "      <td>46</td>\n",
              "      <td>2</td>\n",
              "      <td>JEEP</td>\n",
              "      <td>Land Rover</td>\n",
              "      <td>Lagos Island</td>\n",
              "      <td>Lagos</td>\n",
              "      <td>Car Classic</td>\n",
              "      <td>0</td>\n",
              "    </tr>\n",
              "  </tbody>\n",
              "</table>\n",
              "<p>12079 rows × 11 columns</p>\n",
              "</div>"
            ],
            "text/plain": [
              "      Policy Start Date Policy End Date  ...  ProductName  target\n",
              "0            2010-05-14      2011-05-13  ...  Car Classic       0\n",
              "1            2010-11-29      2011-11-28  ...  Car Classic       1\n",
              "2            2010-03-21      2011-03-20  ...  Car Classic       0\n",
              "3            2010-08-21      2011-08-20  ...      CarSafe       0\n",
              "4            2010-08-29      2010-12-31  ...        Muuve       1\n",
              "...                 ...             ...  ...          ...     ...\n",
              "12074        2010-05-25      2011-05-24  ...  Car Classic       1\n",
              "12075        2010-10-03      2011-10-02  ...  Car Classic       0\n",
              "12076        2010-10-10      2011-10-08  ...      CarSafe       0\n",
              "12077        2010-02-27      2011-02-26  ...         CVTP       0\n",
              "12078        2010-07-01      2011-06-30  ...  Car Classic       0\n",
              "\n",
              "[12079 rows x 11 columns]"
            ]
          },
          "metadata": {
            "tags": []
          },
          "execution_count": 215
        }
      ]
    },
    {
      "cell_type": "code",
      "metadata": {
        "colab": {
          "base_uri": "https://localhost:8080/"
        },
        "id": "0cIPt8opwMbC",
        "outputId": "a8c146a2-df04-4055-ed42-9de38d86f6be"
      },
      "source": [
        "train['Gender'].value_counts()"
      ],
      "execution_count": 216,
      "outputs": [
        {
          "output_type": "execute_result",
          "data": {
            "text/plain": [
              "Male            7617\n",
              "Female          3327\n",
              "Entity           277\n",
              "Joint Gender     223\n",
              "NOT STATED       175\n",
              "NO GENDER         66\n",
              "SEX               35\n",
              "Name: Gender, dtype: int64"
            ]
          },
          "metadata": {
            "tags": []
          },
          "execution_count": 216
        }
      ]
    },
    {
      "cell_type": "code",
      "metadata": {
        "colab": {
          "base_uri": "https://localhost:8080/"
        },
        "id": "RYqyNwgF1aoy",
        "outputId": "ca6ccffb-3b7e-4bce-ee57-f3ecdeeff0cc"
      },
      "source": [
        "train['Gender'].dtype"
      ],
      "execution_count": 217,
      "outputs": [
        {
          "output_type": "execute_result",
          "data": {
            "text/plain": [
              "dtype('O')"
            ]
          },
          "metadata": {
            "tags": []
          },
          "execution_count": 217
        }
      ]
    },
    {
      "cell_type": "code",
      "metadata": {
        "id": "G5vpBt5x2dN5"
      },
      "source": [
        "train['Gender'].fillna('Male', inplace=True)"
      ],
      "execution_count": 218,
      "outputs": []
    },
    {
      "cell_type": "code",
      "metadata": {
        "colab": {
          "base_uri": "https://localhost:8080/"
        },
        "id": "Rdhp-7HY2tkv",
        "outputId": "f0e08486-b2ea-4a95-a88a-3d998902fc70"
      },
      "source": [
        "train['Gender'].value_counts()"
      ],
      "execution_count": 219,
      "outputs": [
        {
          "output_type": "execute_result",
          "data": {
            "text/plain": [
              "Male            7976\n",
              "Female          3327\n",
              "Entity           277\n",
              "Joint Gender     223\n",
              "NOT STATED       175\n",
              "NO GENDER         66\n",
              "SEX               35\n",
              "Name: Gender, dtype: int64"
            ]
          },
          "metadata": {
            "tags": []
          },
          "execution_count": 219
        }
      ]
    },
    {
      "cell_type": "code",
      "metadata": {
        "id": "zt2HVq_k25KA"
      },
      "source": [
        "train['Gender'].replace(['Entity', 'Joint Gender', 'NOT STATED', 'NO GENDER', 'SEX'], 'Not Stated', inplace=True)\n",
        "test['Gender'].replace(['Entity', 'Joint Gender', 'NOT STATED', 'NO GENDER', 'SEX'], 'Not Stated', inplace=True)"
      ],
      "execution_count": 220,
      "outputs": []
    },
    {
      "cell_type": "code",
      "metadata": {
        "colab": {
          "base_uri": "https://localhost:8080/"
        },
        "id": "5WnrNLeU3P0N",
        "outputId": "5f992e5e-d9e7-4490-d37f-84643c08b1b7"
      },
      "source": [
        "train['Gender'].value_counts()"
      ],
      "execution_count": 221,
      "outputs": [
        {
          "output_type": "execute_result",
          "data": {
            "text/plain": [
              "Male          7976\n",
              "Female        3327\n",
              "Not Stated     776\n",
              "Name: Gender, dtype: int64"
            ]
          },
          "metadata": {
            "tags": []
          },
          "execution_count": 221
        }
      ]
    },
    {
      "cell_type": "code",
      "metadata": {
        "colab": {
          "base_uri": "https://localhost:8080/"
        },
        "id": "3kwAj6EYy0QN",
        "outputId": "4c032b6a-8b6e-44ce-f6f2-92f7ad3fdcd1"
      },
      "source": [
        "train.isnull().sum()"
      ],
      "execution_count": 222,
      "outputs": [
        {
          "output_type": "execute_result",
          "data": {
            "text/plain": [
              "Policy Start Date       0\n",
              "Policy End Date         0\n",
              "Gender                  0\n",
              "Age                     0\n",
              "No_Pol                  0\n",
              "Car_Category         3738\n",
              "Subject_Car_Make     2476\n",
              "LGA_Name             6476\n",
              "State                6488\n",
              "ProductName             0\n",
              "target                  0\n",
              "dtype: int64"
            ]
          },
          "metadata": {
            "tags": []
          },
          "execution_count": 222
        }
      ]
    },
    {
      "cell_type": "code",
      "metadata": {
        "colab": {
          "base_uri": "https://localhost:8080/"
        },
        "id": "d5mzp0Oky7ba",
        "outputId": "9233e810-71f5-4e5c-a5a6-3d7db67d1f97"
      },
      "source": [
        "train['Car_Category'].value_counts()"
      ],
      "execution_count": 223,
      "outputs": [
        {
          "output_type": "execute_result",
          "data": {
            "text/plain": [
              "Saloon                     6034\n",
              "JEEP                       2021\n",
              "Truck                        97\n",
              "Bus                          54\n",
              "Mini Bus                     36\n",
              "Pick Up                      30\n",
              "Motorcycle                   17\n",
              "Mini Van                     13\n",
              "Sedan                        12\n",
              "Wagon                        10\n",
              "Shape Of Vehicle Chasis       6\n",
              "Station 4 Wheel               5\n",
              "Van                           3\n",
              "Pick Up > 3 Tons              1\n",
              "CAMRY CAR HIRE                1\n",
              "Tipper Truck                  1\n",
              "Name: Car_Category, dtype: int64"
            ]
          },
          "metadata": {
            "tags": []
          },
          "execution_count": 223
        }
      ]
    },
    {
      "cell_type": "code",
      "metadata": {
        "id": "--WCe3W03wzG"
      },
      "source": [
        "train['Car_Category'].replace(['Shape Of Vehicle Chasis', 'Station 4 Wheel', 'Van', 'Pick Up > 3 Tons', 'CAMRY CAR HIRE', 'Tipper Truck'], 'Saloon', inplace=True)\n",
        "test['Car_Category'].replace(['Shape Of Vehicle Chasis', 'Station 4 Wheel', 'Van', 'Pick Up > 3 Tons', 'CAMRY CAR HIRE', 'Tipper Truck'], 'Saloon', inplace=True)"
      ],
      "execution_count": 224,
      "outputs": []
    },
    {
      "cell_type": "code",
      "metadata": {
        "id": "bgsToCy-4bVL"
      },
      "source": [
        "train['Car_Category'].fillna(method='ffill', inplace=True)\n",
        "test['Car_Category'].fillna(method='ffill', inplace=True)"
      ],
      "execution_count": 225,
      "outputs": []
    },
    {
      "cell_type": "code",
      "metadata": {
        "colab": {
          "base_uri": "https://localhost:8080/"
        },
        "id": "GF7YdME84nED",
        "outputId": "f2c0bd7d-c53f-46d5-aecf-f76f7fb84571"
      },
      "source": [
        "train.isnull().sum()"
      ],
      "execution_count": 226,
      "outputs": [
        {
          "output_type": "execute_result",
          "data": {
            "text/plain": [
              "Policy Start Date       0\n",
              "Policy End Date         0\n",
              "Gender                  0\n",
              "Age                     0\n",
              "No_Pol                  0\n",
              "Car_Category            0\n",
              "Subject_Car_Make     2476\n",
              "LGA_Name             6476\n",
              "State                6488\n",
              "ProductName             0\n",
              "target                  0\n",
              "dtype: int64"
            ]
          },
          "metadata": {
            "tags": []
          },
          "execution_count": 226
        }
      ]
    },
    {
      "cell_type": "code",
      "metadata": {
        "colab": {
          "base_uri": "https://localhost:8080/"
        },
        "id": "aJQFadAgw--3",
        "outputId": "5fe98caf-cc04-4ffc-94ab-4f5e376a207f"
      },
      "source": [
        "train['Subject_Car_Make'].value_counts().sort_values()[:45]"
      ],
      "execution_count": 227,
      "outputs": [
        {
          "output_type": "execute_result",
          "data": {
            "text/plain": [
              "Jincheng           1\n",
              "Buik               1\n",
              "Rols Royce         1\n",
              "KA                 1\n",
              "ABG                1\n",
              "Tata               1\n",
              "Raston             1\n",
              "COMMANDER          1\n",
              "CHANGAN            1\n",
              "Yamaha             1\n",
              "Ashok Leyland      1\n",
              "ZOYTE              1\n",
              "Motorcycle         1\n",
              "MG                 1\n",
              "Bajaj              1\n",
              "BRILLIANCE         1\n",
              "Geely              1\n",
              "Howo               1\n",
              "Caddillac          1\n",
              "REXTON             1\n",
              "Lincoln            1\n",
              "Black              2\n",
              "Fiat               2\n",
              "Astra              2\n",
              "FOTON              2\n",
              "Wrangler Jeep      2\n",
              "Chrysler           2\n",
              "Hummer             2\n",
              "Seat               2\n",
              "Grand Cherokee     2\n",
              "Innson             2\n",
              "MINI COOPER        3\n",
              "LIBERTY            3\n",
              "Jaguar             4\n",
              "Subaru             4\n",
              "Renault            4\n",
              "GAC                5\n",
              "GMC                5\n",
              "Man                5\n",
              "Land Rover.        6\n",
              "Dodge              6\n",
              "Opel               7\n",
              "Isuzu              8\n",
              "Suzuki             8\n",
              "As Attached       11\n",
              "Name: Subject_Car_Make, dtype: int64"
            ]
          },
          "metadata": {
            "tags": []
          },
          "execution_count": 227
        }
      ]
    },
    {
      "cell_type": "code",
      "metadata": {
        "colab": {
          "base_uri": "https://localhost:8080/"
        },
        "id": "87ND5Ot92xDh",
        "outputId": "b6d2868a-d564-479e-ae08-2a33d6a0f906"
      },
      "source": [
        "train['Subject_Car_Make'].value_counts().sort_values()"
      ],
      "execution_count": 228,
      "outputs": [
        {
          "output_type": "execute_result",
          "data": {
            "text/plain": [
              "Jincheng         1\n",
              "Buik             1\n",
              "Rols Royce       1\n",
              "KA               1\n",
              "ABG              1\n",
              "              ... \n",
              "Hyundai        457\n",
              "Mercedes       521\n",
              "Lexus          604\n",
              "Honda         1043\n",
              "TOYOTA        4975\n",
              "Name: Subject_Car_Make, Length: 74, dtype: int64"
            ]
          },
          "metadata": {
            "tags": []
          },
          "execution_count": 228
        }
      ]
    },
    {
      "cell_type": "code",
      "metadata": {
        "id": "ocOE86pvtgYp"
      },
      "source": [
        "# First 44 values have count as 1. we are gonna replace that.  \n",
        "rep = train['Subject_Car_Make'].value_counts().sort_values().index[:44]\n",
        "wit = train['Subject_Car_Make'].value_counts().sort_values().index[-5:]"
      ],
      "execution_count": 229,
      "outputs": []
    },
    {
      "cell_type": "code",
      "metadata": {
        "colab": {
          "base_uri": "https://localhost:8080/"
        },
        "id": "KPEXMc6R3Acb",
        "outputId": "1b19ea2a-325a-4167-d30a-dbf5f65ed7c6"
      },
      "source": [
        "rep"
      ],
      "execution_count": 230,
      "outputs": [
        {
          "output_type": "execute_result",
          "data": {
            "text/plain": [
              "Index(['Jincheng', 'Buik', 'Rols Royce', 'KA', 'ABG', 'Tata', 'Raston',\n",
              "       'COMMANDER', 'CHANGAN', 'Yamaha', 'Ashok Leyland', 'ZOYTE',\n",
              "       'Motorcycle', 'MG', 'Bajaj', 'BRILLIANCE', 'Geely', 'Howo', 'Caddillac',\n",
              "       'REXTON', 'Lincoln', 'Black', 'Fiat', 'Astra', 'FOTON', 'Wrangler Jeep',\n",
              "       'Chrysler', 'Hummer', 'Seat', 'Grand Cherokee', 'Innson', 'MINI COOPER',\n",
              "       'LIBERTY', 'Jaguar', 'Subaru', 'Renault', 'GAC', 'GMC', 'Man',\n",
              "       'Land Rover.', 'Dodge', 'Opel', 'Isuzu', 'Suzuki'],\n",
              "      dtype='object')"
            ]
          },
          "metadata": {
            "tags": []
          },
          "execution_count": 230
        }
      ]
    },
    {
      "cell_type": "code",
      "metadata": {
        "id": "aTx1LYeBurzU"
      },
      "source": [
        "#train['Subject_Car_Make'].replace(rep, np.random.choice(wit)).value_counts()\n",
        "#train['Subject_Car_Make'].replace('.', np.random.choice(wit)).value_counts()"
      ],
      "execution_count": 231,
      "outputs": []
    },
    {
      "cell_type": "code",
      "metadata": {
        "id": "LMzO_pKa3GAb",
        "colab": {
          "base_uri": "https://localhost:8080/"
        },
        "outputId": "859ed6f6-e162-40cf-80a8-61de02a7f27c"
      },
      "source": [
        "for i in range(len(train)):\n",
        "    if train['Subject_Car_Make'][i] in rep:\n",
        "        train['Subject_Car_Make'][i] = np.random.choice(wit)\n",
        "\n",
        "for i in range(len(test)):\n",
        "    if test['Subject_Car_Make'][i] in rep:\n",
        "        test['Subject_Car_Make'][i] = np.random.choice(wit)\n",
        "\n",
        "train['Subject_Car_Make'].fillna(method='ffill', inplace=True)\n",
        "test['Subject_Car_Make'].fillna(method='ffill', inplace=True)"
      ],
      "execution_count": 232,
      "outputs": [
        {
          "output_type": "stream",
          "text": [
            "/usr/local/lib/python3.7/dist-packages/ipykernel_launcher.py:3: SettingWithCopyWarning: \n",
            "A value is trying to be set on a copy of a slice from a DataFrame\n",
            "\n",
            "See the caveats in the documentation: https://pandas.pydata.org/pandas-docs/stable/user_guide/indexing.html#returning-a-view-versus-a-copy\n",
            "  This is separate from the ipykernel package so we can avoid doing imports until\n",
            "/usr/local/lib/python3.7/dist-packages/ipykernel_launcher.py:7: SettingWithCopyWarning: \n",
            "A value is trying to be set on a copy of a slice from a DataFrame\n",
            "\n",
            "See the caveats in the documentation: https://pandas.pydata.org/pandas-docs/stable/user_guide/indexing.html#returning-a-view-versus-a-copy\n",
            "  import sys\n"
          ],
          "name": "stderr"
        }
      ]
    },
    {
      "cell_type": "code",
      "metadata": {
        "colab": {
          "base_uri": "https://localhost:8080/"
        },
        "id": "82kfiCaO52ya",
        "outputId": "8c28092a-42a5-4e54-9736-eba1a2320c03"
      },
      "source": [
        "train['Subject_Car_Make'].value_counts()"
      ],
      "execution_count": 233,
      "outputs": [
        {
          "output_type": "execute_result",
          "data": {
            "text/plain": [
              "TOYOTA         6247\n",
              "Honda          1383\n",
              "Lexus           800\n",
              "Mercedes        675\n",
              "Hyundai         589\n",
              "Kia             426\n",
              "Ford            354\n",
              "Nissan          331\n",
              "Iveco           153\n",
              "Volkswagen      151\n",
              "Range Rover     140\n",
              "Mitsubishi      114\n",
              "Land Rover       84\n",
              "BMW              78\n",
              "ACURA            78\n",
              "Mazda            60\n",
              "Peugeot          54\n",
              ".                51\n",
              "Volvo            47\n",
              "Mack             41\n",
              "Audi             35\n",
              "Infiniti         31\n",
              "Pontiac          29\n",
              "Chevrolet        25\n",
              "DAF              23\n",
              "Skoda            21\n",
              "Jeep             19\n",
              "Porsche          14\n",
              "As Attached      13\n",
              "Scania           13\n",
              "Name: Subject_Car_Make, dtype: int64"
            ]
          },
          "metadata": {
            "tags": []
          },
          "execution_count": 233
        }
      ]
    },
    {
      "cell_type": "code",
      "metadata": {
        "colab": {
          "base_uri": "https://localhost:8080/"
        },
        "id": "u_E9CB7k57oi",
        "outputId": "944a8811-3a22-4dcb-8d0f-a4d5d5ac5287"
      },
      "source": [
        "train.isnull().sum()"
      ],
      "execution_count": 234,
      "outputs": [
        {
          "output_type": "execute_result",
          "data": {
            "text/plain": [
              "Policy Start Date       0\n",
              "Policy End Date         0\n",
              "Gender                  0\n",
              "Age                     0\n",
              "No_Pol                  0\n",
              "Car_Category            0\n",
              "Subject_Car_Make        0\n",
              "LGA_Name             6476\n",
              "State                6488\n",
              "ProductName             0\n",
              "target                  0\n",
              "dtype: int64"
            ]
          },
          "metadata": {
            "tags": []
          },
          "execution_count": 234
        }
      ]
    },
    {
      "cell_type": "code",
      "metadata": {
        "colab": {
          "base_uri": "https://localhost:8080/"
        },
        "id": "ypB6ZcuG6Rm4",
        "outputId": "6ef94c76-448b-4ee5-e7b1-c3417ad04443"
      },
      "source": [
        "train['LGA_Name'].value_counts()"
      ],
      "execution_count": 235,
      "outputs": [
        {
          "output_type": "execute_result",
          "data": {
            "text/plain": [
              "Victoria Island     1162\n",
              "Ikeja                401\n",
              "Surulere             288\n",
              "Abuja Municipal      232\n",
              "Lagos Mainland       222\n",
              "                    ... \n",
              "Ijora                  1\n",
              "Akoko North West       1\n",
              "IBA                    1\n",
              "Yorro                  1\n",
              "Ughelli North          1\n",
              "Name: LGA_Name, Length: 258, dtype: int64"
            ]
          },
          "metadata": {
            "tags": []
          },
          "execution_count": 235
        }
      ]
    },
    {
      "cell_type": "code",
      "metadata": {
        "colab": {
          "base_uri": "https://localhost:8080/"
        },
        "id": "7GAFQ_1f7U4m",
        "outputId": "1295f1ae-4bb5-42a6-9c74-a0663f425f5b"
      },
      "source": [
        "np.where(train['LGA_Name'].value_counts().sort_values()==1)"
      ],
      "execution_count": 236,
      "outputs": [
        {
          "output_type": "execute_result",
          "data": {
            "text/plain": [
              "(array([ 0,  1,  2,  3,  4,  5,  6,  7,  8,  9, 10, 11, 12, 13, 14, 15, 16,\n",
              "        17, 18, 19, 20, 21, 22, 23, 24, 25, 26, 27, 28, 29, 30, 31, 32, 33,\n",
              "        34, 35, 36, 37, 38, 39, 40, 41, 42, 43, 44, 45, 46, 47, 48, 49, 50,\n",
              "        51, 52, 53, 54, 55, 56, 57, 58, 59, 60, 61, 62, 63, 64, 65, 66, 67,\n",
              "        68, 69, 70, 71]),)"
            ]
          },
          "metadata": {
            "tags": []
          },
          "execution_count": 236
        }
      ]
    },
    {
      "cell_type": "code",
      "metadata": {
        "colab": {
          "base_uri": "https://localhost:8080/"
        },
        "id": "kvhgsiPt8EGd",
        "outputId": "0fbe56ff-e3bd-4145-c0ae-3777d463e684"
      },
      "source": [
        "train['LGA_Name'].value_counts().sort_values()[:90]"
      ],
      "execution_count": 237,
      "outputs": [
        {
          "output_type": "execute_result",
          "data": {
            "text/plain": [
              "Ughelli North           1\n",
              "kumbotso                1\n",
              "Ogba/Egbema/Ndoni       1\n",
              "Ovia SouthWest          1\n",
              "Isoko North             1\n",
              "                       ..\n",
              "Orile-Iganmu            2\n",
              "ONDO                    2\n",
              "Jibia                   2\n",
              "Gombe                   2\n",
              "Calabar Municipality    2\n",
              "Name: LGA_Name, Length: 90, dtype: int64"
            ]
          },
          "metadata": {
            "tags": []
          },
          "execution_count": 237
        }
      ]
    },
    {
      "cell_type": "code",
      "metadata": {
        "id": "yAn1jyY18X1B"
      },
      "source": [
        "rep = train['LGA_Name'].value_counts().sort_values().index[:90]\n",
        "wit = train['LGA_Name'].value_counts().sort_values().index[-5:]"
      ],
      "execution_count": 238,
      "outputs": []
    },
    {
      "cell_type": "code",
      "metadata": {
        "id": "p1ZamvikFshx",
        "colab": {
          "base_uri": "https://localhost:8080/"
        },
        "outputId": "8e50e63e-217e-42e9-968d-3b5204233a9f"
      },
      "source": [
        "for i in range(len(train)):\n",
        "    if train['LGA_Name'][i] in rep:\n",
        "        train['LGA_Name'][i] = np.random.choice(wit)\n",
        "\n",
        "for i in range(len(test)):\n",
        "    if test['LGA_Name'][i] in rep:\n",
        "        test['LGA_Name'][i] = np.random.choice(wit)\n",
        "\n",
        "train['LGA_Name'].fillna(method='ffill', inplace=True)\n",
        "test['LGA_Name'].fillna(method='ffill', inplace=True)\n",
        "\n",
        "train['LGA_Name'].fillna('Lagos', inplace=True)"
      ],
      "execution_count": 239,
      "outputs": [
        {
          "output_type": "stream",
          "text": [
            "/usr/local/lib/python3.7/dist-packages/ipykernel_launcher.py:3: SettingWithCopyWarning: \n",
            "A value is trying to be set on a copy of a slice from a DataFrame\n",
            "\n",
            "See the caveats in the documentation: https://pandas.pydata.org/pandas-docs/stable/user_guide/indexing.html#returning-a-view-versus-a-copy\n",
            "  This is separate from the ipykernel package so we can avoid doing imports until\n",
            "/usr/local/lib/python3.7/dist-packages/ipykernel_launcher.py:7: SettingWithCopyWarning: \n",
            "A value is trying to be set on a copy of a slice from a DataFrame\n",
            "\n",
            "See the caveats in the documentation: https://pandas.pydata.org/pandas-docs/stable/user_guide/indexing.html#returning-a-view-versus-a-copy\n",
            "  import sys\n"
          ],
          "name": "stderr"
        }
      ]
    },
    {
      "cell_type": "code",
      "metadata": {
        "colab": {
          "base_uri": "https://localhost:8080/"
        },
        "id": "CXAblVSFF0KF",
        "outputId": "0e98e0f5-0086-46c8-f7e9-a509d19ed04a"
      },
      "source": [
        "train['LGA_Name'].value_counts()"
      ],
      "execution_count": 240,
      "outputs": [
        {
          "output_type": "execute_result",
          "data": {
            "text/plain": [
              "Victoria Island    2569\n",
              "Ikeja               888\n",
              "Surulere            654\n",
              "Abuja Municipal     592\n",
              "Lagos Mainland      518\n",
              "                   ... \n",
              "Aboh-Mbaise           2\n",
              " IFAKO                2\n",
              "AJAO ESTATE           2\n",
              "Ado-Ekiti             2\n",
              "Umuahia South         2\n",
              "Name: LGA_Name, Length: 168, dtype: int64"
            ]
          },
          "metadata": {
            "tags": []
          },
          "execution_count": 240
        }
      ]
    },
    {
      "cell_type": "code",
      "metadata": {
        "colab": {
          "base_uri": "https://localhost:8080/"
        },
        "id": "iXSjfBr0HdIY",
        "outputId": "66befb16-c109-499e-d29f-59343d193958"
      },
      "source": [
        "train.isnull().sum()"
      ],
      "execution_count": 241,
      "outputs": [
        {
          "output_type": "execute_result",
          "data": {
            "text/plain": [
              "Policy Start Date       0\n",
              "Policy End Date         0\n",
              "Gender                  0\n",
              "Age                     0\n",
              "No_Pol                  0\n",
              "Car_Category            0\n",
              "Subject_Car_Make        0\n",
              "LGA_Name                0\n",
              "State                6488\n",
              "ProductName             0\n",
              "target                  0\n",
              "dtype: int64"
            ]
          },
          "metadata": {
            "tags": []
          },
          "execution_count": 241
        }
      ]
    },
    {
      "cell_type": "markdown",
      "metadata": {
        "id": "kqqa9uL2Im7G"
      },
      "source": [
        "Let's just drop the state column for now."
      ]
    },
    {
      "cell_type": "code",
      "metadata": {
        "id": "82aVXlT1HdFe"
      },
      "source": [
        "train.drop(['State'], axis=1, inplace=True)\n",
        "test.drop(['State'], axis=1, inplace=True)"
      ],
      "execution_count": 242,
      "outputs": []
    },
    {
      "cell_type": "code",
      "metadata": {
        "colab": {
          "base_uri": "https://localhost:8080/",
          "height": 402
        },
        "id": "vuST7izvHdCV",
        "outputId": "c6dd6b21-7653-4b3e-9309-dcf2dd6e2d56"
      },
      "source": [
        "train"
      ],
      "execution_count": 243,
      "outputs": [
        {
          "output_type": "execute_result",
          "data": {
            "text/html": [
              "<div>\n",
              "<style scoped>\n",
              "    .dataframe tbody tr th:only-of-type {\n",
              "        vertical-align: middle;\n",
              "    }\n",
              "\n",
              "    .dataframe tbody tr th {\n",
              "        vertical-align: top;\n",
              "    }\n",
              "\n",
              "    .dataframe thead th {\n",
              "        text-align: right;\n",
              "    }\n",
              "</style>\n",
              "<table border=\"1\" class=\"dataframe\">\n",
              "  <thead>\n",
              "    <tr style=\"text-align: right;\">\n",
              "      <th></th>\n",
              "      <th>Policy Start Date</th>\n",
              "      <th>Policy End Date</th>\n",
              "      <th>Gender</th>\n",
              "      <th>Age</th>\n",
              "      <th>No_Pol</th>\n",
              "      <th>Car_Category</th>\n",
              "      <th>Subject_Car_Make</th>\n",
              "      <th>LGA_Name</th>\n",
              "      <th>ProductName</th>\n",
              "      <th>target</th>\n",
              "    </tr>\n",
              "  </thead>\n",
              "  <tbody>\n",
              "    <tr>\n",
              "      <th>0</th>\n",
              "      <td>2010-05-14</td>\n",
              "      <td>2011-05-13</td>\n",
              "      <td>Male</td>\n",
              "      <td>30</td>\n",
              "      <td>1</td>\n",
              "      <td>Saloon</td>\n",
              "      <td>TOYOTA</td>\n",
              "      <td>Lagos</td>\n",
              "      <td>Car Classic</td>\n",
              "      <td>0</td>\n",
              "    </tr>\n",
              "    <tr>\n",
              "      <th>1</th>\n",
              "      <td>2010-11-29</td>\n",
              "      <td>2011-11-28</td>\n",
              "      <td>Female</td>\n",
              "      <td>79</td>\n",
              "      <td>1</td>\n",
              "      <td>JEEP</td>\n",
              "      <td>TOYOTA</td>\n",
              "      <td>Lagos</td>\n",
              "      <td>Car Classic</td>\n",
              "      <td>1</td>\n",
              "    </tr>\n",
              "    <tr>\n",
              "      <th>2</th>\n",
              "      <td>2010-03-21</td>\n",
              "      <td>2011-03-20</td>\n",
              "      <td>Male</td>\n",
              "      <td>43</td>\n",
              "      <td>1</td>\n",
              "      <td>Saloon</td>\n",
              "      <td>TOYOTA</td>\n",
              "      <td>Lagos</td>\n",
              "      <td>Car Classic</td>\n",
              "      <td>0</td>\n",
              "    </tr>\n",
              "    <tr>\n",
              "      <th>3</th>\n",
              "      <td>2010-08-21</td>\n",
              "      <td>2011-08-20</td>\n",
              "      <td>Male</td>\n",
              "      <td>41</td>\n",
              "      <td>1</td>\n",
              "      <td>Saloon</td>\n",
              "      <td>TOYOTA</td>\n",
              "      <td>Lagos</td>\n",
              "      <td>CarSafe</td>\n",
              "      <td>0</td>\n",
              "    </tr>\n",
              "    <tr>\n",
              "      <th>4</th>\n",
              "      <td>2010-08-29</td>\n",
              "      <td>2010-12-31</td>\n",
              "      <td>Not Stated</td>\n",
              "      <td>20</td>\n",
              "      <td>3</td>\n",
              "      <td>Saloon</td>\n",
              "      <td>TOYOTA</td>\n",
              "      <td>Lagos</td>\n",
              "      <td>Muuve</td>\n",
              "      <td>1</td>\n",
              "    </tr>\n",
              "    <tr>\n",
              "      <th>...</th>\n",
              "      <td>...</td>\n",
              "      <td>...</td>\n",
              "      <td>...</td>\n",
              "      <td>...</td>\n",
              "      <td>...</td>\n",
              "      <td>...</td>\n",
              "      <td>...</td>\n",
              "      <td>...</td>\n",
              "      <td>...</td>\n",
              "      <td>...</td>\n",
              "    </tr>\n",
              "    <tr>\n",
              "      <th>12074</th>\n",
              "      <td>2010-05-25</td>\n",
              "      <td>2011-05-24</td>\n",
              "      <td>Female</td>\n",
              "      <td>30</td>\n",
              "      <td>1</td>\n",
              "      <td>Saloon</td>\n",
              "      <td>Range Rover</td>\n",
              "      <td>Ibeju/Lekki</td>\n",
              "      <td>Car Classic</td>\n",
              "      <td>1</td>\n",
              "    </tr>\n",
              "    <tr>\n",
              "      <th>12075</th>\n",
              "      <td>2010-10-03</td>\n",
              "      <td>2011-10-02</td>\n",
              "      <td>Female</td>\n",
              "      <td>59</td>\n",
              "      <td>1</td>\n",
              "      <td>Saloon</td>\n",
              "      <td>Range Rover</td>\n",
              "      <td>Ibeju/Lekki</td>\n",
              "      <td>Car Classic</td>\n",
              "      <td>0</td>\n",
              "    </tr>\n",
              "    <tr>\n",
              "      <th>12076</th>\n",
              "      <td>2010-10-10</td>\n",
              "      <td>2011-10-08</td>\n",
              "      <td>Male</td>\n",
              "      <td>34</td>\n",
              "      <td>1</td>\n",
              "      <td>Saloon</td>\n",
              "      <td>Range Rover</td>\n",
              "      <td>Ibeju/Lekki</td>\n",
              "      <td>CarSafe</td>\n",
              "      <td>0</td>\n",
              "    </tr>\n",
              "    <tr>\n",
              "      <th>12077</th>\n",
              "      <td>2010-02-27</td>\n",
              "      <td>2011-02-26</td>\n",
              "      <td>Male</td>\n",
              "      <td>41</td>\n",
              "      <td>2</td>\n",
              "      <td>Saloon</td>\n",
              "      <td>TOYOTA</td>\n",
              "      <td>Victoria Island</td>\n",
              "      <td>CVTP</td>\n",
              "      <td>0</td>\n",
              "    </tr>\n",
              "    <tr>\n",
              "      <th>12078</th>\n",
              "      <td>2010-07-01</td>\n",
              "      <td>2011-06-30</td>\n",
              "      <td>Female</td>\n",
              "      <td>46</td>\n",
              "      <td>2</td>\n",
              "      <td>JEEP</td>\n",
              "      <td>Land Rover</td>\n",
              "      <td>Lagos Island</td>\n",
              "      <td>Car Classic</td>\n",
              "      <td>0</td>\n",
              "    </tr>\n",
              "  </tbody>\n",
              "</table>\n",
              "<p>12079 rows × 10 columns</p>\n",
              "</div>"
            ],
            "text/plain": [
              "      Policy Start Date Policy End Date  ...  ProductName  target\n",
              "0            2010-05-14      2011-05-13  ...  Car Classic       0\n",
              "1            2010-11-29      2011-11-28  ...  Car Classic       1\n",
              "2            2010-03-21      2011-03-20  ...  Car Classic       0\n",
              "3            2010-08-21      2011-08-20  ...      CarSafe       0\n",
              "4            2010-08-29      2010-12-31  ...        Muuve       1\n",
              "...                 ...             ...  ...          ...     ...\n",
              "12074        2010-05-25      2011-05-24  ...  Car Classic       1\n",
              "12075        2010-10-03      2011-10-02  ...  Car Classic       0\n",
              "12076        2010-10-10      2011-10-08  ...      CarSafe       0\n",
              "12077        2010-02-27      2011-02-26  ...         CVTP       0\n",
              "12078        2010-07-01      2011-06-30  ...  Car Classic       0\n",
              "\n",
              "[12079 rows x 10 columns]"
            ]
          },
          "metadata": {
            "tags": []
          },
          "execution_count": 243
        }
      ]
    },
    {
      "cell_type": "code",
      "metadata": {
        "colab": {
          "base_uri": "https://localhost:8080/"
        },
        "id": "f3qatyJ8JDYx",
        "outputId": "8244bd27-7bf2-4269-9e8d-a0a50732a128"
      },
      "source": [
        "test.isnull().sum()"
      ],
      "execution_count": 244,
      "outputs": [
        {
          "output_type": "execute_result",
          "data": {
            "text/plain": [
              "Policy Start Date      0\n",
              "Policy End Date        0\n",
              "Gender               156\n",
              "Age                    0\n",
              "No_Pol                 0\n",
              "Car_Category           5\n",
              "Subject_Car_Make       0\n",
              "LGA_Name               0\n",
              "ProductName            0\n",
              "dtype: int64"
            ]
          },
          "metadata": {
            "tags": []
          },
          "execution_count": 244
        }
      ]
    },
    {
      "cell_type": "code",
      "metadata": {
        "id": "gPfWMJ6DF3xZ"
      },
      "source": [
        "test['Gender'].fillna(method='ffill', inplace=True)\n",
        "test['Car_Category'].fillna(method='ffill', inplace=True)\n",
        "test['Car_Category'].fillna('Saloon', inplace=True)"
      ],
      "execution_count": 245,
      "outputs": []
    },
    {
      "cell_type": "code",
      "metadata": {
        "colab": {
          "base_uri": "https://localhost:8080/"
        },
        "id": "8WRmZebeGVlM",
        "outputId": "5a4d0ced-3d3c-41d3-ef05-b42d35a3ea0d"
      },
      "source": [
        "test.isnull().sum()"
      ],
      "execution_count": 246,
      "outputs": [
        {
          "output_type": "execute_result",
          "data": {
            "text/plain": [
              "Policy Start Date    0\n",
              "Policy End Date      0\n",
              "Gender               0\n",
              "Age                  0\n",
              "No_Pol               0\n",
              "Car_Category         0\n",
              "Subject_Car_Make     0\n",
              "LGA_Name             0\n",
              "ProductName          0\n",
              "dtype: int64"
            ]
          },
          "metadata": {
            "tags": []
          },
          "execution_count": 246
        }
      ]
    },
    {
      "cell_type": "code",
      "metadata": {
        "colab": {
          "base_uri": "https://localhost:8080/",
          "height": 402
        },
        "id": "pxscHFiJHZol",
        "outputId": "d2929193-78be-4fa9-ab34-bb3bba17607d"
      },
      "source": [
        "test"
      ],
      "execution_count": 247,
      "outputs": [
        {
          "output_type": "execute_result",
          "data": {
            "text/html": [
              "<div>\n",
              "<style scoped>\n",
              "    .dataframe tbody tr th:only-of-type {\n",
              "        vertical-align: middle;\n",
              "    }\n",
              "\n",
              "    .dataframe tbody tr th {\n",
              "        vertical-align: top;\n",
              "    }\n",
              "\n",
              "    .dataframe thead th {\n",
              "        text-align: right;\n",
              "    }\n",
              "</style>\n",
              "<table border=\"1\" class=\"dataframe\">\n",
              "  <thead>\n",
              "    <tr style=\"text-align: right;\">\n",
              "      <th></th>\n",
              "      <th>Policy Start Date</th>\n",
              "      <th>Policy End Date</th>\n",
              "      <th>Gender</th>\n",
              "      <th>Age</th>\n",
              "      <th>No_Pol</th>\n",
              "      <th>Car_Category</th>\n",
              "      <th>Subject_Car_Make</th>\n",
              "      <th>LGA_Name</th>\n",
              "      <th>ProductName</th>\n",
              "    </tr>\n",
              "  </thead>\n",
              "  <tbody>\n",
              "    <tr>\n",
              "      <th>0</th>\n",
              "      <td>2010-04-24</td>\n",
              "      <td>2011-03-27</td>\n",
              "      <td>Not Stated</td>\n",
              "      <td>25</td>\n",
              "      <td>1</td>\n",
              "      <td>Saloon</td>\n",
              "      <td>Iveco</td>\n",
              "      <td>Victoria Island</td>\n",
              "      <td>CVTP</td>\n",
              "    </tr>\n",
              "    <tr>\n",
              "      <th>1</th>\n",
              "      <td>2010-01-01</td>\n",
              "      <td>2010-12-31</td>\n",
              "      <td>Not Stated</td>\n",
              "      <td>41</td>\n",
              "      <td>4</td>\n",
              "      <td>Saloon</td>\n",
              "      <td>TOYOTA</td>\n",
              "      <td>Victoria Island</td>\n",
              "      <td>Muuve</td>\n",
              "    </tr>\n",
              "    <tr>\n",
              "      <th>2</th>\n",
              "      <td>2010-10-23</td>\n",
              "      <td>2011-10-22</td>\n",
              "      <td>Female</td>\n",
              "      <td>46</td>\n",
              "      <td>1</td>\n",
              "      <td>Saloon</td>\n",
              "      <td>Ford</td>\n",
              "      <td>Abuja Municipal</td>\n",
              "      <td>Car Classic</td>\n",
              "    </tr>\n",
              "    <tr>\n",
              "      <th>3</th>\n",
              "      <td>2010-10-14</td>\n",
              "      <td>2011-10-13</td>\n",
              "      <td>Male</td>\n",
              "      <td>32</td>\n",
              "      <td>1</td>\n",
              "      <td>Saloon</td>\n",
              "      <td>Ford</td>\n",
              "      <td>Kosofe</td>\n",
              "      <td>Car Classic</td>\n",
              "    </tr>\n",
              "    <tr>\n",
              "      <th>4</th>\n",
              "      <td>2010-09-16</td>\n",
              "      <td>2010-12-31</td>\n",
              "      <td>Male</td>\n",
              "      <td>41</td>\n",
              "      <td>4</td>\n",
              "      <td>Saloon</td>\n",
              "      <td>TOYOTA</td>\n",
              "      <td>Victoria Island</td>\n",
              "      <td>Muuve</td>\n",
              "    </tr>\n",
              "    <tr>\n",
              "      <th>...</th>\n",
              "      <td>...</td>\n",
              "      <td>...</td>\n",
              "      <td>...</td>\n",
              "      <td>...</td>\n",
              "      <td>...</td>\n",
              "      <td>...</td>\n",
              "      <td>...</td>\n",
              "      <td>...</td>\n",
              "      <td>...</td>\n",
              "    </tr>\n",
              "    <tr>\n",
              "      <th>5172</th>\n",
              "      <td>2010-07-18</td>\n",
              "      <td>2011-07-17</td>\n",
              "      <td>Male</td>\n",
              "      <td>48</td>\n",
              "      <td>1</td>\n",
              "      <td>Saloon</td>\n",
              "      <td>Honda</td>\n",
              "      <td>Lagos Island</td>\n",
              "      <td>CarSafe</td>\n",
              "    </tr>\n",
              "    <tr>\n",
              "      <th>5173</th>\n",
              "      <td>2010-12-04</td>\n",
              "      <td>2011-12-03</td>\n",
              "      <td>Male</td>\n",
              "      <td>50</td>\n",
              "      <td>1</td>\n",
              "      <td>Saloon</td>\n",
              "      <td>Honda</td>\n",
              "      <td>Victoria Island</td>\n",
              "      <td>Car Classic</td>\n",
              "    </tr>\n",
              "    <tr>\n",
              "      <th>5174</th>\n",
              "      <td>2010-09-24</td>\n",
              "      <td>2011-09-23</td>\n",
              "      <td>Male</td>\n",
              "      <td>41</td>\n",
              "      <td>1</td>\n",
              "      <td>Saloon</td>\n",
              "      <td>Honda</td>\n",
              "      <td>Victoria Island</td>\n",
              "      <td>CarSafe</td>\n",
              "    </tr>\n",
              "    <tr>\n",
              "      <th>5175</th>\n",
              "      <td>2010-07-17</td>\n",
              "      <td>2011-07-16</td>\n",
              "      <td>Female</td>\n",
              "      <td>52</td>\n",
              "      <td>1</td>\n",
              "      <td>Saloon</td>\n",
              "      <td>TOYOTA</td>\n",
              "      <td>Victoria Island</td>\n",
              "      <td>Car Classic</td>\n",
              "    </tr>\n",
              "    <tr>\n",
              "      <th>5176</th>\n",
              "      <td>2010-07-17</td>\n",
              "      <td>2011-07-16</td>\n",
              "      <td>Male</td>\n",
              "      <td>68</td>\n",
              "      <td>1</td>\n",
              "      <td>Saloon</td>\n",
              "      <td>Peugeot</td>\n",
              "      <td>Victoria Island</td>\n",
              "      <td>CarSafe</td>\n",
              "    </tr>\n",
              "  </tbody>\n",
              "</table>\n",
              "<p>5177 rows × 9 columns</p>\n",
              "</div>"
            ],
            "text/plain": [
              "     Policy Start Date Policy End Date  ...         LGA_Name  ProductName\n",
              "0           2010-04-24      2011-03-27  ...  Victoria Island         CVTP\n",
              "1           2010-01-01      2010-12-31  ...  Victoria Island        Muuve\n",
              "2           2010-10-23      2011-10-22  ...  Abuja Municipal  Car Classic\n",
              "3           2010-10-14      2011-10-13  ...           Kosofe  Car Classic\n",
              "4           2010-09-16      2010-12-31  ...  Victoria Island        Muuve\n",
              "...                ...             ...  ...              ...          ...\n",
              "5172        2010-07-18      2011-07-17  ...     Lagos Island      CarSafe\n",
              "5173        2010-12-04      2011-12-03  ...  Victoria Island  Car Classic\n",
              "5174        2010-09-24      2011-09-23  ...  Victoria Island      CarSafe\n",
              "5175        2010-07-17      2011-07-16  ...  Victoria Island  Car Classic\n",
              "5176        2010-07-17      2011-07-16  ...  Victoria Island      CarSafe\n",
              "\n",
              "[5177 rows x 9 columns]"
            ]
          },
          "metadata": {
            "tags": []
          },
          "execution_count": 247
        }
      ]
    },
    {
      "cell_type": "code",
      "metadata": {
        "colab": {
          "base_uri": "https://localhost:8080/"
        },
        "id": "ZVk1wkz9JW8t",
        "outputId": "787ffbc5-54b7-4dce-9c0a-9e45903914a5"
      },
      "source": [
        "train.info()"
      ],
      "execution_count": 248,
      "outputs": [
        {
          "output_type": "stream",
          "text": [
            "<class 'pandas.core.frame.DataFrame'>\n",
            "RangeIndex: 12079 entries, 0 to 12078\n",
            "Data columns (total 10 columns):\n",
            " #   Column             Non-Null Count  Dtype \n",
            "---  ------             --------------  ----- \n",
            " 0   Policy Start Date  12079 non-null  object\n",
            " 1   Policy End Date    12079 non-null  object\n",
            " 2   Gender             12079 non-null  object\n",
            " 3   Age                12079 non-null  int64 \n",
            " 4   No_Pol             12079 non-null  int64 \n",
            " 5   Car_Category       12079 non-null  object\n",
            " 6   Subject_Car_Make   12079 non-null  object\n",
            " 7   LGA_Name           12079 non-null  object\n",
            " 8   ProductName        12079 non-null  object\n",
            " 9   target             12079 non-null  int64 \n",
            "dtypes: int64(3), object(7)\n",
            "memory usage: 943.8+ KB\n"
          ],
          "name": "stdout"
        }
      ]
    },
    {
      "cell_type": "code",
      "metadata": {
        "id": "j3hGbW2QJqJr"
      },
      "source": [
        "train['Policy Start Date'] = pd.to_datetime(train['Policy Start Date'])\n",
        "train['Policy End Date'] = pd.to_datetime(train['Policy End Date'])\n",
        "\n",
        "test['Policy Start Date'] = pd.to_datetime(test['Policy Start Date'])\n",
        "test['Policy End Date'] = pd.to_datetime(test['Policy End Date'])"
      ],
      "execution_count": 249,
      "outputs": []
    },
    {
      "cell_type": "code",
      "metadata": {
        "colab": {
          "base_uri": "https://localhost:8080/"
        },
        "id": "LnXsUKDrKT7S",
        "outputId": "17c6bcca-490b-43b8-c890-ce61a3468d7e"
      },
      "source": [
        "train.info()"
      ],
      "execution_count": 250,
      "outputs": [
        {
          "output_type": "stream",
          "text": [
            "<class 'pandas.core.frame.DataFrame'>\n",
            "RangeIndex: 12079 entries, 0 to 12078\n",
            "Data columns (total 10 columns):\n",
            " #   Column             Non-Null Count  Dtype         \n",
            "---  ------             --------------  -----         \n",
            " 0   Policy Start Date  12079 non-null  datetime64[ns]\n",
            " 1   Policy End Date    12079 non-null  datetime64[ns]\n",
            " 2   Gender             12079 non-null  object        \n",
            " 3   Age                12079 non-null  int64         \n",
            " 4   No_Pol             12079 non-null  int64         \n",
            " 5   Car_Category       12079 non-null  object        \n",
            " 6   Subject_Car_Make   12079 non-null  object        \n",
            " 7   LGA_Name           12079 non-null  object        \n",
            " 8   ProductName        12079 non-null  object        \n",
            " 9   target             12079 non-null  int64         \n",
            "dtypes: datetime64[ns](2), int64(3), object(5)\n",
            "memory usage: 943.8+ KB\n"
          ],
          "name": "stdout"
        }
      ]
    },
    {
      "cell_type": "code",
      "metadata": {
        "colab": {
          "base_uri": "https://localhost:8080/",
          "height": 402
        },
        "id": "gYzwSMhMKVZz",
        "outputId": "1ce4f115-f76e-428e-bb1c-208dc09496c5"
      },
      "source": [
        "train"
      ],
      "execution_count": 251,
      "outputs": [
        {
          "output_type": "execute_result",
          "data": {
            "text/html": [
              "<div>\n",
              "<style scoped>\n",
              "    .dataframe tbody tr th:only-of-type {\n",
              "        vertical-align: middle;\n",
              "    }\n",
              "\n",
              "    .dataframe tbody tr th {\n",
              "        vertical-align: top;\n",
              "    }\n",
              "\n",
              "    .dataframe thead th {\n",
              "        text-align: right;\n",
              "    }\n",
              "</style>\n",
              "<table border=\"1\" class=\"dataframe\">\n",
              "  <thead>\n",
              "    <tr style=\"text-align: right;\">\n",
              "      <th></th>\n",
              "      <th>Policy Start Date</th>\n",
              "      <th>Policy End Date</th>\n",
              "      <th>Gender</th>\n",
              "      <th>Age</th>\n",
              "      <th>No_Pol</th>\n",
              "      <th>Car_Category</th>\n",
              "      <th>Subject_Car_Make</th>\n",
              "      <th>LGA_Name</th>\n",
              "      <th>ProductName</th>\n",
              "      <th>target</th>\n",
              "    </tr>\n",
              "  </thead>\n",
              "  <tbody>\n",
              "    <tr>\n",
              "      <th>0</th>\n",
              "      <td>2010-05-14</td>\n",
              "      <td>2011-05-13</td>\n",
              "      <td>Male</td>\n",
              "      <td>30</td>\n",
              "      <td>1</td>\n",
              "      <td>Saloon</td>\n",
              "      <td>TOYOTA</td>\n",
              "      <td>Lagos</td>\n",
              "      <td>Car Classic</td>\n",
              "      <td>0</td>\n",
              "    </tr>\n",
              "    <tr>\n",
              "      <th>1</th>\n",
              "      <td>2010-11-29</td>\n",
              "      <td>2011-11-28</td>\n",
              "      <td>Female</td>\n",
              "      <td>79</td>\n",
              "      <td>1</td>\n",
              "      <td>JEEP</td>\n",
              "      <td>TOYOTA</td>\n",
              "      <td>Lagos</td>\n",
              "      <td>Car Classic</td>\n",
              "      <td>1</td>\n",
              "    </tr>\n",
              "    <tr>\n",
              "      <th>2</th>\n",
              "      <td>2010-03-21</td>\n",
              "      <td>2011-03-20</td>\n",
              "      <td>Male</td>\n",
              "      <td>43</td>\n",
              "      <td>1</td>\n",
              "      <td>Saloon</td>\n",
              "      <td>TOYOTA</td>\n",
              "      <td>Lagos</td>\n",
              "      <td>Car Classic</td>\n",
              "      <td>0</td>\n",
              "    </tr>\n",
              "    <tr>\n",
              "      <th>3</th>\n",
              "      <td>2010-08-21</td>\n",
              "      <td>2011-08-20</td>\n",
              "      <td>Male</td>\n",
              "      <td>41</td>\n",
              "      <td>1</td>\n",
              "      <td>Saloon</td>\n",
              "      <td>TOYOTA</td>\n",
              "      <td>Lagos</td>\n",
              "      <td>CarSafe</td>\n",
              "      <td>0</td>\n",
              "    </tr>\n",
              "    <tr>\n",
              "      <th>4</th>\n",
              "      <td>2010-08-29</td>\n",
              "      <td>2010-12-31</td>\n",
              "      <td>Not Stated</td>\n",
              "      <td>20</td>\n",
              "      <td>3</td>\n",
              "      <td>Saloon</td>\n",
              "      <td>TOYOTA</td>\n",
              "      <td>Lagos</td>\n",
              "      <td>Muuve</td>\n",
              "      <td>1</td>\n",
              "    </tr>\n",
              "    <tr>\n",
              "      <th>...</th>\n",
              "      <td>...</td>\n",
              "      <td>...</td>\n",
              "      <td>...</td>\n",
              "      <td>...</td>\n",
              "      <td>...</td>\n",
              "      <td>...</td>\n",
              "      <td>...</td>\n",
              "      <td>...</td>\n",
              "      <td>...</td>\n",
              "      <td>...</td>\n",
              "    </tr>\n",
              "    <tr>\n",
              "      <th>12074</th>\n",
              "      <td>2010-05-25</td>\n",
              "      <td>2011-05-24</td>\n",
              "      <td>Female</td>\n",
              "      <td>30</td>\n",
              "      <td>1</td>\n",
              "      <td>Saloon</td>\n",
              "      <td>Range Rover</td>\n",
              "      <td>Ibeju/Lekki</td>\n",
              "      <td>Car Classic</td>\n",
              "      <td>1</td>\n",
              "    </tr>\n",
              "    <tr>\n",
              "      <th>12075</th>\n",
              "      <td>2010-10-03</td>\n",
              "      <td>2011-10-02</td>\n",
              "      <td>Female</td>\n",
              "      <td>59</td>\n",
              "      <td>1</td>\n",
              "      <td>Saloon</td>\n",
              "      <td>Range Rover</td>\n",
              "      <td>Ibeju/Lekki</td>\n",
              "      <td>Car Classic</td>\n",
              "      <td>0</td>\n",
              "    </tr>\n",
              "    <tr>\n",
              "      <th>12076</th>\n",
              "      <td>2010-10-10</td>\n",
              "      <td>2011-10-08</td>\n",
              "      <td>Male</td>\n",
              "      <td>34</td>\n",
              "      <td>1</td>\n",
              "      <td>Saloon</td>\n",
              "      <td>Range Rover</td>\n",
              "      <td>Ibeju/Lekki</td>\n",
              "      <td>CarSafe</td>\n",
              "      <td>0</td>\n",
              "    </tr>\n",
              "    <tr>\n",
              "      <th>12077</th>\n",
              "      <td>2010-02-27</td>\n",
              "      <td>2011-02-26</td>\n",
              "      <td>Male</td>\n",
              "      <td>41</td>\n",
              "      <td>2</td>\n",
              "      <td>Saloon</td>\n",
              "      <td>TOYOTA</td>\n",
              "      <td>Victoria Island</td>\n",
              "      <td>CVTP</td>\n",
              "      <td>0</td>\n",
              "    </tr>\n",
              "    <tr>\n",
              "      <th>12078</th>\n",
              "      <td>2010-07-01</td>\n",
              "      <td>2011-06-30</td>\n",
              "      <td>Female</td>\n",
              "      <td>46</td>\n",
              "      <td>2</td>\n",
              "      <td>JEEP</td>\n",
              "      <td>Land Rover</td>\n",
              "      <td>Lagos Island</td>\n",
              "      <td>Car Classic</td>\n",
              "      <td>0</td>\n",
              "    </tr>\n",
              "  </tbody>\n",
              "</table>\n",
              "<p>12079 rows × 10 columns</p>\n",
              "</div>"
            ],
            "text/plain": [
              "      Policy Start Date Policy End Date  ...  ProductName  target\n",
              "0            2010-05-14      2011-05-13  ...  Car Classic       0\n",
              "1            2010-11-29      2011-11-28  ...  Car Classic       1\n",
              "2            2010-03-21      2011-03-20  ...  Car Classic       0\n",
              "3            2010-08-21      2011-08-20  ...      CarSafe       0\n",
              "4            2010-08-29      2010-12-31  ...        Muuve       1\n",
              "...                 ...             ...  ...          ...     ...\n",
              "12074        2010-05-25      2011-05-24  ...  Car Classic       1\n",
              "12075        2010-10-03      2011-10-02  ...  Car Classic       0\n",
              "12076        2010-10-10      2011-10-08  ...      CarSafe       0\n",
              "12077        2010-02-27      2011-02-26  ...         CVTP       0\n",
              "12078        2010-07-01      2011-06-30  ...  Car Classic       0\n",
              "\n",
              "[12079 rows x 10 columns]"
            ]
          },
          "metadata": {
            "tags": []
          },
          "execution_count": 251
        }
      ]
    },
    {
      "cell_type": "code",
      "metadata": {
        "colab": {
          "base_uri": "https://localhost:8080/"
        },
        "id": "FCG_IwxSLvbC",
        "outputId": "1441fdca-228b-4f41-ff78-379e0c592848"
      },
      "source": [
        "(train['Policy End Date'] - train['Policy Start Date']).value_counts()"
      ],
      "execution_count": 252,
      "outputs": [
        {
          "output_type": "execute_result",
          "data": {
            "text/plain": [
              "364 days     9542\n",
              "363 days      566\n",
              "181 days      160\n",
              "365 days       83\n",
              "182 days       63\n",
              "             ... \n",
              "214 days        1\n",
              "3651 days       1\n",
              "157 days        1\n",
              "100 days        1\n",
              "158 days        1\n",
              "Length: 301, dtype: int64"
            ]
          },
          "metadata": {
            "tags": []
          },
          "execution_count": 252
        }
      ]
    },
    {
      "cell_type": "code",
      "metadata": {
        "colab": {
          "base_uri": "https://localhost:8080/"
        },
        "id": "N2l58-HJM7P6",
        "outputId": "ca1506e1-888b-4a92-8323-b261e2035246"
      },
      "source": [
        "train['Policy Start Month'] = 0\n",
        "test['Policy Start Month'] = 0\n",
        "train['Policy Start Year'] = 0\n",
        "test['Policy Start Year'] = 0\n",
        "\n",
        "\n",
        "train['Policy End Month'] = 0\n",
        "test['Policy End Month'] = 0\n",
        "train['Policy End Year'] = 0\n",
        "test['Policy End Year'] = 0\n",
        "\n",
        "\n",
        "for i in tqdm(range(len(train))):\n",
        "    sts = train['Policy Start Date'][i].month\n",
        "    ets = train['Policy End Date'][i].month \n",
        "    sts1 = train['Policy Start Date'][i].year\n",
        "    ets1 = train['Policy End Date'][i].year \n",
        "\n",
        "    train['Policy Start Month'][i] = sts\n",
        "    train['Policy End Month'][i] = ets\n",
        "    train['Policy Start Year'][i] = sts1\n",
        "    train['Policy End Year'][i] = ets1\n",
        "\n",
        "for i in tqdm(range(len(test))):\n",
        "    sts = test['Policy Start Date'][i].month\n",
        "    ets = test['Policy End Date'][i].month \n",
        "    sts1 = test['Policy Start Date'][i].year\n",
        "    ets1 = test['Policy End Date'][i].year \n",
        "    \n",
        "    test['Policy Start Month'][i] = sts\n",
        "    test['Policy End Month'][i] = ets\n",
        "    test['Policy Start Year'][i] = sts1\n",
        "    test['Policy End Year'][i] = ets1"
      ],
      "execution_count": 253,
      "outputs": [
        {
          "output_type": "stream",
          "text": [
            "  0%|          | 0/12079 [00:00<?, ?it/s]/usr/local/lib/python3.7/dist-packages/ipykernel_launcher.py:19: SettingWithCopyWarning: \n",
            "A value is trying to be set on a copy of a slice from a DataFrame\n",
            "\n",
            "See the caveats in the documentation: https://pandas.pydata.org/pandas-docs/stable/user_guide/indexing.html#returning-a-view-versus-a-copy\n",
            "/usr/local/lib/python3.7/dist-packages/ipykernel_launcher.py:20: SettingWithCopyWarning: \n",
            "A value is trying to be set on a copy of a slice from a DataFrame\n",
            "\n",
            "See the caveats in the documentation: https://pandas.pydata.org/pandas-docs/stable/user_guide/indexing.html#returning-a-view-versus-a-copy\n",
            "/usr/local/lib/python3.7/dist-packages/ipykernel_launcher.py:21: SettingWithCopyWarning: \n",
            "A value is trying to be set on a copy of a slice from a DataFrame\n",
            "\n",
            "See the caveats in the documentation: https://pandas.pydata.org/pandas-docs/stable/user_guide/indexing.html#returning-a-view-versus-a-copy\n",
            "/usr/local/lib/python3.7/dist-packages/ipykernel_launcher.py:22: SettingWithCopyWarning: \n",
            "A value is trying to be set on a copy of a slice from a DataFrame\n",
            "\n",
            "See the caveats in the documentation: https://pandas.pydata.org/pandas-docs/stable/user_guide/indexing.html#returning-a-view-versus-a-copy\n",
            "100%|██████████| 12079/12079 [00:04<00:00, 2567.10it/s]\n",
            "  0%|          | 0/5177 [00:00<?, ?it/s]/usr/local/lib/python3.7/dist-packages/ipykernel_launcher.py:30: SettingWithCopyWarning: \n",
            "A value is trying to be set on a copy of a slice from a DataFrame\n",
            "\n",
            "See the caveats in the documentation: https://pandas.pydata.org/pandas-docs/stable/user_guide/indexing.html#returning-a-view-versus-a-copy\n",
            "/usr/local/lib/python3.7/dist-packages/ipykernel_launcher.py:31: SettingWithCopyWarning: \n",
            "A value is trying to be set on a copy of a slice from a DataFrame\n",
            "\n",
            "See the caveats in the documentation: https://pandas.pydata.org/pandas-docs/stable/user_guide/indexing.html#returning-a-view-versus-a-copy\n",
            "/usr/local/lib/python3.7/dist-packages/ipykernel_launcher.py:32: SettingWithCopyWarning: \n",
            "A value is trying to be set on a copy of a slice from a DataFrame\n",
            "\n",
            "See the caveats in the documentation: https://pandas.pydata.org/pandas-docs/stable/user_guide/indexing.html#returning-a-view-versus-a-copy\n",
            "/usr/local/lib/python3.7/dist-packages/ipykernel_launcher.py:33: SettingWithCopyWarning: \n",
            "A value is trying to be set on a copy of a slice from a DataFrame\n",
            "\n",
            "See the caveats in the documentation: https://pandas.pydata.org/pandas-docs/stable/user_guide/indexing.html#returning-a-view-versus-a-copy\n",
            "100%|██████████| 5177/5177 [00:02<00:00, 2463.72it/s]\n"
          ],
          "name": "stderr"
        }
      ]
    },
    {
      "cell_type": "code",
      "metadata": {
        "colab": {
          "base_uri": "https://localhost:8080/",
          "height": 469
        },
        "id": "8PIIaSFrN5WZ",
        "outputId": "943eb852-db48-4896-9e71-2bb3e2f2711c"
      },
      "source": [
        "train"
      ],
      "execution_count": 254,
      "outputs": [
        {
          "output_type": "execute_result",
          "data": {
            "text/html": [
              "<div>\n",
              "<style scoped>\n",
              "    .dataframe tbody tr th:only-of-type {\n",
              "        vertical-align: middle;\n",
              "    }\n",
              "\n",
              "    .dataframe tbody tr th {\n",
              "        vertical-align: top;\n",
              "    }\n",
              "\n",
              "    .dataframe thead th {\n",
              "        text-align: right;\n",
              "    }\n",
              "</style>\n",
              "<table border=\"1\" class=\"dataframe\">\n",
              "  <thead>\n",
              "    <tr style=\"text-align: right;\">\n",
              "      <th></th>\n",
              "      <th>Policy Start Date</th>\n",
              "      <th>Policy End Date</th>\n",
              "      <th>Gender</th>\n",
              "      <th>Age</th>\n",
              "      <th>No_Pol</th>\n",
              "      <th>Car_Category</th>\n",
              "      <th>Subject_Car_Make</th>\n",
              "      <th>LGA_Name</th>\n",
              "      <th>ProductName</th>\n",
              "      <th>target</th>\n",
              "      <th>Policy Start Month</th>\n",
              "      <th>Policy Start Year</th>\n",
              "      <th>Policy End Month</th>\n",
              "      <th>Policy End Year</th>\n",
              "    </tr>\n",
              "  </thead>\n",
              "  <tbody>\n",
              "    <tr>\n",
              "      <th>0</th>\n",
              "      <td>2010-05-14</td>\n",
              "      <td>2011-05-13</td>\n",
              "      <td>Male</td>\n",
              "      <td>30</td>\n",
              "      <td>1</td>\n",
              "      <td>Saloon</td>\n",
              "      <td>TOYOTA</td>\n",
              "      <td>Lagos</td>\n",
              "      <td>Car Classic</td>\n",
              "      <td>0</td>\n",
              "      <td>5</td>\n",
              "      <td>2010</td>\n",
              "      <td>5</td>\n",
              "      <td>2011</td>\n",
              "    </tr>\n",
              "    <tr>\n",
              "      <th>1</th>\n",
              "      <td>2010-11-29</td>\n",
              "      <td>2011-11-28</td>\n",
              "      <td>Female</td>\n",
              "      <td>79</td>\n",
              "      <td>1</td>\n",
              "      <td>JEEP</td>\n",
              "      <td>TOYOTA</td>\n",
              "      <td>Lagos</td>\n",
              "      <td>Car Classic</td>\n",
              "      <td>1</td>\n",
              "      <td>11</td>\n",
              "      <td>2010</td>\n",
              "      <td>11</td>\n",
              "      <td>2011</td>\n",
              "    </tr>\n",
              "    <tr>\n",
              "      <th>2</th>\n",
              "      <td>2010-03-21</td>\n",
              "      <td>2011-03-20</td>\n",
              "      <td>Male</td>\n",
              "      <td>43</td>\n",
              "      <td>1</td>\n",
              "      <td>Saloon</td>\n",
              "      <td>TOYOTA</td>\n",
              "      <td>Lagos</td>\n",
              "      <td>Car Classic</td>\n",
              "      <td>0</td>\n",
              "      <td>3</td>\n",
              "      <td>2010</td>\n",
              "      <td>3</td>\n",
              "      <td>2011</td>\n",
              "    </tr>\n",
              "    <tr>\n",
              "      <th>3</th>\n",
              "      <td>2010-08-21</td>\n",
              "      <td>2011-08-20</td>\n",
              "      <td>Male</td>\n",
              "      <td>41</td>\n",
              "      <td>1</td>\n",
              "      <td>Saloon</td>\n",
              "      <td>TOYOTA</td>\n",
              "      <td>Lagos</td>\n",
              "      <td>CarSafe</td>\n",
              "      <td>0</td>\n",
              "      <td>8</td>\n",
              "      <td>2010</td>\n",
              "      <td>8</td>\n",
              "      <td>2011</td>\n",
              "    </tr>\n",
              "    <tr>\n",
              "      <th>4</th>\n",
              "      <td>2010-08-29</td>\n",
              "      <td>2010-12-31</td>\n",
              "      <td>Not Stated</td>\n",
              "      <td>20</td>\n",
              "      <td>3</td>\n",
              "      <td>Saloon</td>\n",
              "      <td>TOYOTA</td>\n",
              "      <td>Lagos</td>\n",
              "      <td>Muuve</td>\n",
              "      <td>1</td>\n",
              "      <td>8</td>\n",
              "      <td>2010</td>\n",
              "      <td>12</td>\n",
              "      <td>2010</td>\n",
              "    </tr>\n",
              "    <tr>\n",
              "      <th>...</th>\n",
              "      <td>...</td>\n",
              "      <td>...</td>\n",
              "      <td>...</td>\n",
              "      <td>...</td>\n",
              "      <td>...</td>\n",
              "      <td>...</td>\n",
              "      <td>...</td>\n",
              "      <td>...</td>\n",
              "      <td>...</td>\n",
              "      <td>...</td>\n",
              "      <td>...</td>\n",
              "      <td>...</td>\n",
              "      <td>...</td>\n",
              "      <td>...</td>\n",
              "    </tr>\n",
              "    <tr>\n",
              "      <th>12074</th>\n",
              "      <td>2010-05-25</td>\n",
              "      <td>2011-05-24</td>\n",
              "      <td>Female</td>\n",
              "      <td>30</td>\n",
              "      <td>1</td>\n",
              "      <td>Saloon</td>\n",
              "      <td>Range Rover</td>\n",
              "      <td>Ibeju/Lekki</td>\n",
              "      <td>Car Classic</td>\n",
              "      <td>1</td>\n",
              "      <td>5</td>\n",
              "      <td>2010</td>\n",
              "      <td>5</td>\n",
              "      <td>2011</td>\n",
              "    </tr>\n",
              "    <tr>\n",
              "      <th>12075</th>\n",
              "      <td>2010-10-03</td>\n",
              "      <td>2011-10-02</td>\n",
              "      <td>Female</td>\n",
              "      <td>59</td>\n",
              "      <td>1</td>\n",
              "      <td>Saloon</td>\n",
              "      <td>Range Rover</td>\n",
              "      <td>Ibeju/Lekki</td>\n",
              "      <td>Car Classic</td>\n",
              "      <td>0</td>\n",
              "      <td>10</td>\n",
              "      <td>2010</td>\n",
              "      <td>10</td>\n",
              "      <td>2011</td>\n",
              "    </tr>\n",
              "    <tr>\n",
              "      <th>12076</th>\n",
              "      <td>2010-10-10</td>\n",
              "      <td>2011-10-08</td>\n",
              "      <td>Male</td>\n",
              "      <td>34</td>\n",
              "      <td>1</td>\n",
              "      <td>Saloon</td>\n",
              "      <td>Range Rover</td>\n",
              "      <td>Ibeju/Lekki</td>\n",
              "      <td>CarSafe</td>\n",
              "      <td>0</td>\n",
              "      <td>10</td>\n",
              "      <td>2010</td>\n",
              "      <td>10</td>\n",
              "      <td>2011</td>\n",
              "    </tr>\n",
              "    <tr>\n",
              "      <th>12077</th>\n",
              "      <td>2010-02-27</td>\n",
              "      <td>2011-02-26</td>\n",
              "      <td>Male</td>\n",
              "      <td>41</td>\n",
              "      <td>2</td>\n",
              "      <td>Saloon</td>\n",
              "      <td>TOYOTA</td>\n",
              "      <td>Victoria Island</td>\n",
              "      <td>CVTP</td>\n",
              "      <td>0</td>\n",
              "      <td>2</td>\n",
              "      <td>2010</td>\n",
              "      <td>2</td>\n",
              "      <td>2011</td>\n",
              "    </tr>\n",
              "    <tr>\n",
              "      <th>12078</th>\n",
              "      <td>2010-07-01</td>\n",
              "      <td>2011-06-30</td>\n",
              "      <td>Female</td>\n",
              "      <td>46</td>\n",
              "      <td>2</td>\n",
              "      <td>JEEP</td>\n",
              "      <td>Land Rover</td>\n",
              "      <td>Lagos Island</td>\n",
              "      <td>Car Classic</td>\n",
              "      <td>0</td>\n",
              "      <td>7</td>\n",
              "      <td>2010</td>\n",
              "      <td>6</td>\n",
              "      <td>2011</td>\n",
              "    </tr>\n",
              "  </tbody>\n",
              "</table>\n",
              "<p>12079 rows × 14 columns</p>\n",
              "</div>"
            ],
            "text/plain": [
              "      Policy Start Date Policy End Date  ... Policy End Month  Policy End Year\n",
              "0            2010-05-14      2011-05-13  ...                5             2011\n",
              "1            2010-11-29      2011-11-28  ...               11             2011\n",
              "2            2010-03-21      2011-03-20  ...                3             2011\n",
              "3            2010-08-21      2011-08-20  ...                8             2011\n",
              "4            2010-08-29      2010-12-31  ...               12             2010\n",
              "...                 ...             ...  ...              ...              ...\n",
              "12074        2010-05-25      2011-05-24  ...                5             2011\n",
              "12075        2010-10-03      2011-10-02  ...               10             2011\n",
              "12076        2010-10-10      2011-10-08  ...               10             2011\n",
              "12077        2010-02-27      2011-02-26  ...                2             2011\n",
              "12078        2010-07-01      2011-06-30  ...                6             2011\n",
              "\n",
              "[12079 rows x 14 columns]"
            ]
          },
          "metadata": {
            "tags": []
          },
          "execution_count": 254
        }
      ]
    },
    {
      "cell_type": "markdown",
      "metadata": {
        "id": "QkhWV3OEQzEY"
      },
      "source": [
        "Now that we're done with the date time fields, as of now. therefore we can drop them for now."
      ]
    },
    {
      "cell_type": "code",
      "metadata": {
        "id": "JT2B5W0DQJHt"
      },
      "source": [
        "train.drop(['Policy Start Date', 'Policy End Date'], axis=1, inplace=True)\n",
        "test.drop(['Policy Start Date', 'Policy End Date'], axis=1, inplace=True)"
      ],
      "execution_count": 255,
      "outputs": []
    },
    {
      "cell_type": "code",
      "metadata": {
        "colab": {
          "base_uri": "https://localhost:8080/",
          "height": 402
        },
        "id": "T7tS_3MmROCf",
        "outputId": "6011a936-121a-4b32-a22b-d1a46d6fc6fc"
      },
      "source": [
        "train"
      ],
      "execution_count": 256,
      "outputs": [
        {
          "output_type": "execute_result",
          "data": {
            "text/html": [
              "<div>\n",
              "<style scoped>\n",
              "    .dataframe tbody tr th:only-of-type {\n",
              "        vertical-align: middle;\n",
              "    }\n",
              "\n",
              "    .dataframe tbody tr th {\n",
              "        vertical-align: top;\n",
              "    }\n",
              "\n",
              "    .dataframe thead th {\n",
              "        text-align: right;\n",
              "    }\n",
              "</style>\n",
              "<table border=\"1\" class=\"dataframe\">\n",
              "  <thead>\n",
              "    <tr style=\"text-align: right;\">\n",
              "      <th></th>\n",
              "      <th>Gender</th>\n",
              "      <th>Age</th>\n",
              "      <th>No_Pol</th>\n",
              "      <th>Car_Category</th>\n",
              "      <th>Subject_Car_Make</th>\n",
              "      <th>LGA_Name</th>\n",
              "      <th>ProductName</th>\n",
              "      <th>target</th>\n",
              "      <th>Policy Start Month</th>\n",
              "      <th>Policy Start Year</th>\n",
              "      <th>Policy End Month</th>\n",
              "      <th>Policy End Year</th>\n",
              "    </tr>\n",
              "  </thead>\n",
              "  <tbody>\n",
              "    <tr>\n",
              "      <th>0</th>\n",
              "      <td>Male</td>\n",
              "      <td>30</td>\n",
              "      <td>1</td>\n",
              "      <td>Saloon</td>\n",
              "      <td>TOYOTA</td>\n",
              "      <td>Lagos</td>\n",
              "      <td>Car Classic</td>\n",
              "      <td>0</td>\n",
              "      <td>5</td>\n",
              "      <td>2010</td>\n",
              "      <td>5</td>\n",
              "      <td>2011</td>\n",
              "    </tr>\n",
              "    <tr>\n",
              "      <th>1</th>\n",
              "      <td>Female</td>\n",
              "      <td>79</td>\n",
              "      <td>1</td>\n",
              "      <td>JEEP</td>\n",
              "      <td>TOYOTA</td>\n",
              "      <td>Lagos</td>\n",
              "      <td>Car Classic</td>\n",
              "      <td>1</td>\n",
              "      <td>11</td>\n",
              "      <td>2010</td>\n",
              "      <td>11</td>\n",
              "      <td>2011</td>\n",
              "    </tr>\n",
              "    <tr>\n",
              "      <th>2</th>\n",
              "      <td>Male</td>\n",
              "      <td>43</td>\n",
              "      <td>1</td>\n",
              "      <td>Saloon</td>\n",
              "      <td>TOYOTA</td>\n",
              "      <td>Lagos</td>\n",
              "      <td>Car Classic</td>\n",
              "      <td>0</td>\n",
              "      <td>3</td>\n",
              "      <td>2010</td>\n",
              "      <td>3</td>\n",
              "      <td>2011</td>\n",
              "    </tr>\n",
              "    <tr>\n",
              "      <th>3</th>\n",
              "      <td>Male</td>\n",
              "      <td>41</td>\n",
              "      <td>1</td>\n",
              "      <td>Saloon</td>\n",
              "      <td>TOYOTA</td>\n",
              "      <td>Lagos</td>\n",
              "      <td>CarSafe</td>\n",
              "      <td>0</td>\n",
              "      <td>8</td>\n",
              "      <td>2010</td>\n",
              "      <td>8</td>\n",
              "      <td>2011</td>\n",
              "    </tr>\n",
              "    <tr>\n",
              "      <th>4</th>\n",
              "      <td>Not Stated</td>\n",
              "      <td>20</td>\n",
              "      <td>3</td>\n",
              "      <td>Saloon</td>\n",
              "      <td>TOYOTA</td>\n",
              "      <td>Lagos</td>\n",
              "      <td>Muuve</td>\n",
              "      <td>1</td>\n",
              "      <td>8</td>\n",
              "      <td>2010</td>\n",
              "      <td>12</td>\n",
              "      <td>2010</td>\n",
              "    </tr>\n",
              "    <tr>\n",
              "      <th>...</th>\n",
              "      <td>...</td>\n",
              "      <td>...</td>\n",
              "      <td>...</td>\n",
              "      <td>...</td>\n",
              "      <td>...</td>\n",
              "      <td>...</td>\n",
              "      <td>...</td>\n",
              "      <td>...</td>\n",
              "      <td>...</td>\n",
              "      <td>...</td>\n",
              "      <td>...</td>\n",
              "      <td>...</td>\n",
              "    </tr>\n",
              "    <tr>\n",
              "      <th>12074</th>\n",
              "      <td>Female</td>\n",
              "      <td>30</td>\n",
              "      <td>1</td>\n",
              "      <td>Saloon</td>\n",
              "      <td>Range Rover</td>\n",
              "      <td>Ibeju/Lekki</td>\n",
              "      <td>Car Classic</td>\n",
              "      <td>1</td>\n",
              "      <td>5</td>\n",
              "      <td>2010</td>\n",
              "      <td>5</td>\n",
              "      <td>2011</td>\n",
              "    </tr>\n",
              "    <tr>\n",
              "      <th>12075</th>\n",
              "      <td>Female</td>\n",
              "      <td>59</td>\n",
              "      <td>1</td>\n",
              "      <td>Saloon</td>\n",
              "      <td>Range Rover</td>\n",
              "      <td>Ibeju/Lekki</td>\n",
              "      <td>Car Classic</td>\n",
              "      <td>0</td>\n",
              "      <td>10</td>\n",
              "      <td>2010</td>\n",
              "      <td>10</td>\n",
              "      <td>2011</td>\n",
              "    </tr>\n",
              "    <tr>\n",
              "      <th>12076</th>\n",
              "      <td>Male</td>\n",
              "      <td>34</td>\n",
              "      <td>1</td>\n",
              "      <td>Saloon</td>\n",
              "      <td>Range Rover</td>\n",
              "      <td>Ibeju/Lekki</td>\n",
              "      <td>CarSafe</td>\n",
              "      <td>0</td>\n",
              "      <td>10</td>\n",
              "      <td>2010</td>\n",
              "      <td>10</td>\n",
              "      <td>2011</td>\n",
              "    </tr>\n",
              "    <tr>\n",
              "      <th>12077</th>\n",
              "      <td>Male</td>\n",
              "      <td>41</td>\n",
              "      <td>2</td>\n",
              "      <td>Saloon</td>\n",
              "      <td>TOYOTA</td>\n",
              "      <td>Victoria Island</td>\n",
              "      <td>CVTP</td>\n",
              "      <td>0</td>\n",
              "      <td>2</td>\n",
              "      <td>2010</td>\n",
              "      <td>2</td>\n",
              "      <td>2011</td>\n",
              "    </tr>\n",
              "    <tr>\n",
              "      <th>12078</th>\n",
              "      <td>Female</td>\n",
              "      <td>46</td>\n",
              "      <td>2</td>\n",
              "      <td>JEEP</td>\n",
              "      <td>Land Rover</td>\n",
              "      <td>Lagos Island</td>\n",
              "      <td>Car Classic</td>\n",
              "      <td>0</td>\n",
              "      <td>7</td>\n",
              "      <td>2010</td>\n",
              "      <td>6</td>\n",
              "      <td>2011</td>\n",
              "    </tr>\n",
              "  </tbody>\n",
              "</table>\n",
              "<p>12079 rows × 12 columns</p>\n",
              "</div>"
            ],
            "text/plain": [
              "           Gender  Age  ...  Policy End Month Policy End Year\n",
              "0            Male   30  ...                 5            2011\n",
              "1          Female   79  ...                11            2011\n",
              "2            Male   43  ...                 3            2011\n",
              "3            Male   41  ...                 8            2011\n",
              "4      Not Stated   20  ...                12            2010\n",
              "...           ...  ...  ...               ...             ...\n",
              "12074      Female   30  ...                 5            2011\n",
              "12075      Female   59  ...                10            2011\n",
              "12076        Male   34  ...                10            2011\n",
              "12077        Male   41  ...                 2            2011\n",
              "12078      Female   46  ...                 6            2011\n",
              "\n",
              "[12079 rows x 12 columns]"
            ]
          },
          "metadata": {
            "tags": []
          },
          "execution_count": 256
        }
      ]
    },
    {
      "cell_type": "code",
      "metadata": {
        "colab": {
          "base_uri": "https://localhost:8080/"
        },
        "id": "HiMevrnUSOME",
        "outputId": "5490eb9c-b8d8-4910-c79c-5102ce6a7e51"
      },
      "source": [
        "train['target'].value_counts()"
      ],
      "execution_count": 257,
      "outputs": [
        {
          "output_type": "execute_result",
          "data": {
            "text/plain": [
              "0    10624\n",
              "1     1455\n",
              "Name: target, dtype: int64"
            ]
          },
          "metadata": {
            "tags": []
          },
          "execution_count": 257
        }
      ]
    },
    {
      "cell_type": "code",
      "metadata": {
        "colab": {
          "base_uri": "https://localhost:8080/",
          "height": 402
        },
        "id": "vC77VLP0lj4D",
        "outputId": "c495ea7b-5a8a-4059-d856-58758cf3b4c6"
      },
      "source": [
        "all_data = pd.concat((train, test), axis=0)\n",
        "all_data"
      ],
      "execution_count": 258,
      "outputs": [
        {
          "output_type": "execute_result",
          "data": {
            "text/html": [
              "<div>\n",
              "<style scoped>\n",
              "    .dataframe tbody tr th:only-of-type {\n",
              "        vertical-align: middle;\n",
              "    }\n",
              "\n",
              "    .dataframe tbody tr th {\n",
              "        vertical-align: top;\n",
              "    }\n",
              "\n",
              "    .dataframe thead th {\n",
              "        text-align: right;\n",
              "    }\n",
              "</style>\n",
              "<table border=\"1\" class=\"dataframe\">\n",
              "  <thead>\n",
              "    <tr style=\"text-align: right;\">\n",
              "      <th></th>\n",
              "      <th>Gender</th>\n",
              "      <th>Age</th>\n",
              "      <th>No_Pol</th>\n",
              "      <th>Car_Category</th>\n",
              "      <th>Subject_Car_Make</th>\n",
              "      <th>LGA_Name</th>\n",
              "      <th>ProductName</th>\n",
              "      <th>target</th>\n",
              "      <th>Policy Start Month</th>\n",
              "      <th>Policy Start Year</th>\n",
              "      <th>Policy End Month</th>\n",
              "      <th>Policy End Year</th>\n",
              "    </tr>\n",
              "  </thead>\n",
              "  <tbody>\n",
              "    <tr>\n",
              "      <th>0</th>\n",
              "      <td>Male</td>\n",
              "      <td>30</td>\n",
              "      <td>1</td>\n",
              "      <td>Saloon</td>\n",
              "      <td>TOYOTA</td>\n",
              "      <td>Lagos</td>\n",
              "      <td>Car Classic</td>\n",
              "      <td>0.0</td>\n",
              "      <td>5</td>\n",
              "      <td>2010</td>\n",
              "      <td>5</td>\n",
              "      <td>2011</td>\n",
              "    </tr>\n",
              "    <tr>\n",
              "      <th>1</th>\n",
              "      <td>Female</td>\n",
              "      <td>79</td>\n",
              "      <td>1</td>\n",
              "      <td>JEEP</td>\n",
              "      <td>TOYOTA</td>\n",
              "      <td>Lagos</td>\n",
              "      <td>Car Classic</td>\n",
              "      <td>1.0</td>\n",
              "      <td>11</td>\n",
              "      <td>2010</td>\n",
              "      <td>11</td>\n",
              "      <td>2011</td>\n",
              "    </tr>\n",
              "    <tr>\n",
              "      <th>2</th>\n",
              "      <td>Male</td>\n",
              "      <td>43</td>\n",
              "      <td>1</td>\n",
              "      <td>Saloon</td>\n",
              "      <td>TOYOTA</td>\n",
              "      <td>Lagos</td>\n",
              "      <td>Car Classic</td>\n",
              "      <td>0.0</td>\n",
              "      <td>3</td>\n",
              "      <td>2010</td>\n",
              "      <td>3</td>\n",
              "      <td>2011</td>\n",
              "    </tr>\n",
              "    <tr>\n",
              "      <th>3</th>\n",
              "      <td>Male</td>\n",
              "      <td>41</td>\n",
              "      <td>1</td>\n",
              "      <td>Saloon</td>\n",
              "      <td>TOYOTA</td>\n",
              "      <td>Lagos</td>\n",
              "      <td>CarSafe</td>\n",
              "      <td>0.0</td>\n",
              "      <td>8</td>\n",
              "      <td>2010</td>\n",
              "      <td>8</td>\n",
              "      <td>2011</td>\n",
              "    </tr>\n",
              "    <tr>\n",
              "      <th>4</th>\n",
              "      <td>Not Stated</td>\n",
              "      <td>20</td>\n",
              "      <td>3</td>\n",
              "      <td>Saloon</td>\n",
              "      <td>TOYOTA</td>\n",
              "      <td>Lagos</td>\n",
              "      <td>Muuve</td>\n",
              "      <td>1.0</td>\n",
              "      <td>8</td>\n",
              "      <td>2010</td>\n",
              "      <td>12</td>\n",
              "      <td>2010</td>\n",
              "    </tr>\n",
              "    <tr>\n",
              "      <th>...</th>\n",
              "      <td>...</td>\n",
              "      <td>...</td>\n",
              "      <td>...</td>\n",
              "      <td>...</td>\n",
              "      <td>...</td>\n",
              "      <td>...</td>\n",
              "      <td>...</td>\n",
              "      <td>...</td>\n",
              "      <td>...</td>\n",
              "      <td>...</td>\n",
              "      <td>...</td>\n",
              "      <td>...</td>\n",
              "    </tr>\n",
              "    <tr>\n",
              "      <th>5172</th>\n",
              "      <td>Male</td>\n",
              "      <td>48</td>\n",
              "      <td>1</td>\n",
              "      <td>Saloon</td>\n",
              "      <td>Honda</td>\n",
              "      <td>Lagos Island</td>\n",
              "      <td>CarSafe</td>\n",
              "      <td>NaN</td>\n",
              "      <td>7</td>\n",
              "      <td>2010</td>\n",
              "      <td>7</td>\n",
              "      <td>2011</td>\n",
              "    </tr>\n",
              "    <tr>\n",
              "      <th>5173</th>\n",
              "      <td>Male</td>\n",
              "      <td>50</td>\n",
              "      <td>1</td>\n",
              "      <td>Saloon</td>\n",
              "      <td>Honda</td>\n",
              "      <td>Victoria Island</td>\n",
              "      <td>Car Classic</td>\n",
              "      <td>NaN</td>\n",
              "      <td>12</td>\n",
              "      <td>2010</td>\n",
              "      <td>12</td>\n",
              "      <td>2011</td>\n",
              "    </tr>\n",
              "    <tr>\n",
              "      <th>5174</th>\n",
              "      <td>Male</td>\n",
              "      <td>41</td>\n",
              "      <td>1</td>\n",
              "      <td>Saloon</td>\n",
              "      <td>Honda</td>\n",
              "      <td>Victoria Island</td>\n",
              "      <td>CarSafe</td>\n",
              "      <td>NaN</td>\n",
              "      <td>9</td>\n",
              "      <td>2010</td>\n",
              "      <td>9</td>\n",
              "      <td>2011</td>\n",
              "    </tr>\n",
              "    <tr>\n",
              "      <th>5175</th>\n",
              "      <td>Female</td>\n",
              "      <td>52</td>\n",
              "      <td>1</td>\n",
              "      <td>Saloon</td>\n",
              "      <td>TOYOTA</td>\n",
              "      <td>Victoria Island</td>\n",
              "      <td>Car Classic</td>\n",
              "      <td>NaN</td>\n",
              "      <td>7</td>\n",
              "      <td>2010</td>\n",
              "      <td>7</td>\n",
              "      <td>2011</td>\n",
              "    </tr>\n",
              "    <tr>\n",
              "      <th>5176</th>\n",
              "      <td>Male</td>\n",
              "      <td>68</td>\n",
              "      <td>1</td>\n",
              "      <td>Saloon</td>\n",
              "      <td>Peugeot</td>\n",
              "      <td>Victoria Island</td>\n",
              "      <td>CarSafe</td>\n",
              "      <td>NaN</td>\n",
              "      <td>7</td>\n",
              "      <td>2010</td>\n",
              "      <td>7</td>\n",
              "      <td>2011</td>\n",
              "    </tr>\n",
              "  </tbody>\n",
              "</table>\n",
              "<p>17256 rows × 12 columns</p>\n",
              "</div>"
            ],
            "text/plain": [
              "          Gender  Age  ...  Policy End Month Policy End Year\n",
              "0           Male   30  ...                 5            2011\n",
              "1         Female   79  ...                11            2011\n",
              "2           Male   43  ...                 3            2011\n",
              "3           Male   41  ...                 8            2011\n",
              "4     Not Stated   20  ...                12            2010\n",
              "...          ...  ...  ...               ...             ...\n",
              "5172        Male   48  ...                 7            2011\n",
              "5173        Male   50  ...                12            2011\n",
              "5174        Male   41  ...                 9            2011\n",
              "5175      Female   52  ...                 7            2011\n",
              "5176        Male   68  ...                 7            2011\n",
              "\n",
              "[17256 rows x 12 columns]"
            ]
          },
          "metadata": {
            "tags": []
          },
          "execution_count": 258
        }
      ]
    },
    {
      "cell_type": "code",
      "metadata": {
        "id": "NhxGYcHuSMbn",
        "colab": {
          "base_uri": "https://localhost:8080/",
          "height": 53
        },
        "outputId": "bfca7d00-687a-4b00-ea50-ebe5987e8f34"
      },
      "source": [
        "'''from sklearn.model_selection import train_test_split\n",
        "X = train.drop(['target'], axis=1)\n",
        "y = train['target']\n",
        "train_x, test_x, train_y, test_y = train_test_split(X, y, shuffle=True, random_state=42, test_size=0.25, stratify=y)'''"
      ],
      "execution_count": 259,
      "outputs": [
        {
          "output_type": "execute_result",
          "data": {
            "application/vnd.google.colaboratory.intrinsic+json": {
              "type": "string"
            },
            "text/plain": [
              "\"from sklearn.model_selection import train_test_split\\nX = train.drop(['target'], axis=1)\\ny = train['target']\\ntrain_x, test_x, train_y, test_y = train_test_split(X, y, shuffle=True, random_state=42, test_size=0.25, stratify=y)\""
            ]
          },
          "metadata": {
            "tags": []
          },
          "execution_count": 259
        }
      ]
    },
    {
      "cell_type": "code",
      "metadata": {
        "colab": {
          "base_uri": "https://localhost:8080/",
          "height": 124
        },
        "id": "EET99dKrRQuT",
        "outputId": "c4c1751e-ed00-4d2c-dc7d-3866159e7529"
      },
      "source": [
        "'''from sklearn.preprocessing import LabelEncoder\n",
        "le_gender = LabelEncoder()\n",
        "train_x['Gender'] = le_gender.fit_transform(train_x['Gender'])\n",
        "text_x['Gender'] = le_gender.transform(train_x['Gender'])\n",
        "test['Gender'] = le_gender.transform(test['Gender'])\n",
        "\n",
        "le_car_category = LabelEncoder()\n",
        "train_x['Car_Category'] = le_car_category.fit_transform(train_x['Car_Category'])\n",
        "text_x['Car_Category'] = le_car_category.transform(train_x['Car_Category'])\n",
        "test['Car_Category'] = le_car_category.transform(test['Car_Category'])\n",
        "\n",
        "le_car_make = LabelEncoder()\n",
        "train_x['Subject_Car_Make'] = le_car_make.fit_transform(train_x['Subject_Car_Make'])\n",
        "text_x['Subject_Car_Make'] = le_car_make.transform(train_x['Subject_Car_Make'])\n",
        "test['Subject_Car_Make'] = le_car_make.transform(test['Subject_Car_Make'])\n",
        "\n",
        "le_lga = LabelEncoder()\n",
        "train_x['LGA_Name'] = le_lga.fit_transform(train_x['LGA_Name'])\n",
        "text_x['LGA_Name'] = le_lga.transform(train_x['LGA_Name'])\n",
        "test['LGA_Name'] = le_lga.transform(test['LGA_Name'])\n",
        "\n",
        "le_product_name = LabelEncoder()\n",
        "train_x['ProductName'] = le_product_name.fit_transform(train_x['ProductName'])\n",
        "text_x['ProductName'] = le_product_name.transform(train_x['ProductName'])\n",
        "test['ProductName'] = le_product_name.transform(test['ProductName'])'''"
      ],
      "execution_count": 260,
      "outputs": [
        {
          "output_type": "execute_result",
          "data": {
            "application/vnd.google.colaboratory.intrinsic+json": {
              "type": "string"
            },
            "text/plain": [
              "\"from sklearn.preprocessing import LabelEncoder\\nle_gender = LabelEncoder()\\ntrain_x['Gender'] = le_gender.fit_transform(train_x['Gender'])\\ntext_x['Gender'] = le_gender.transform(train_x['Gender'])\\ntest['Gender'] = le_gender.transform(test['Gender'])\\n\\nle_car_category = LabelEncoder()\\ntrain_x['Car_Category'] = le_car_category.fit_transform(train_x['Car_Category'])\\ntext_x['Car_Category'] = le_car_category.transform(train_x['Car_Category'])\\ntest['Car_Category'] = le_car_category.transform(test['Car_Category'])\\n\\nle_car_make = LabelEncoder()\\ntrain_x['Subject_Car_Make'] = le_car_make.fit_transform(train_x['Subject_Car_Make'])\\ntext_x['Subject_Car_Make'] = le_car_make.transform(train_x['Subject_Car_Make'])\\ntest['Subject_Car_Make'] = le_car_make.transform(test['Subject_Car_Make'])\\n\\nle_lga = LabelEncoder()\\ntrain_x['LGA_Name'] = le_lga.fit_transform(train_x['LGA_Name'])\\ntext_x['LGA_Name'] = le_lga.transform(train_x['LGA_Name'])\\ntest['LGA_Name'] = le_lga.transform(test['LGA_Name'])\\n\\nle_product_name = LabelEncoder()\\ntrain_x['ProductName'] = le_product_name.fit_transform(train_x['ProductName'])\\ntext_x['ProductName'] = le_product_name.transform(train_x['ProductName'])\\ntest['ProductName'] = le_product_name.transform(test['ProductName'])\""
            ]
          },
          "metadata": {
            "tags": []
          },
          "execution_count": 260
        }
      ]
    },
    {
      "cell_type": "code",
      "metadata": {
        "id": "cGI1K8phau4u"
      },
      "source": [
        "from sklearn.preprocessing import LabelEncoder\n",
        "\n",
        "cat_cols = ['Gender', 'Car_Category', 'Subject_Car_Make', 'LGA_Name', 'ProductName']\n",
        "for i in cat_cols:\n",
        "    le = LabelEncoder()\n",
        "    all_data[i] = le.fit_transform(all_data[i])\n"
      ],
      "execution_count": 261,
      "outputs": []
    },
    {
      "cell_type": "code",
      "metadata": {
        "colab": {
          "base_uri": "https://localhost:8080/",
          "height": 402
        },
        "id": "95kCtkbjm8c6",
        "outputId": "ca13e5c6-aff1-4440-fe48-1b766d9fdc92"
      },
      "source": [
        "all_data"
      ],
      "execution_count": 262,
      "outputs": [
        {
          "output_type": "execute_result",
          "data": {
            "text/html": [
              "<div>\n",
              "<style scoped>\n",
              "    .dataframe tbody tr th:only-of-type {\n",
              "        vertical-align: middle;\n",
              "    }\n",
              "\n",
              "    .dataframe tbody tr th {\n",
              "        vertical-align: top;\n",
              "    }\n",
              "\n",
              "    .dataframe thead th {\n",
              "        text-align: right;\n",
              "    }\n",
              "</style>\n",
              "<table border=\"1\" class=\"dataframe\">\n",
              "  <thead>\n",
              "    <tr style=\"text-align: right;\">\n",
              "      <th></th>\n",
              "      <th>Gender</th>\n",
              "      <th>Age</th>\n",
              "      <th>No_Pol</th>\n",
              "      <th>Car_Category</th>\n",
              "      <th>Subject_Car_Make</th>\n",
              "      <th>LGA_Name</th>\n",
              "      <th>ProductName</th>\n",
              "      <th>target</th>\n",
              "      <th>Policy Start Month</th>\n",
              "      <th>Policy Start Year</th>\n",
              "      <th>Policy End Month</th>\n",
              "      <th>Policy End Year</th>\n",
              "    </tr>\n",
              "  </thead>\n",
              "  <tbody>\n",
              "    <tr>\n",
              "      <th>0</th>\n",
              "      <td>1</td>\n",
              "      <td>30</td>\n",
              "      <td>1</td>\n",
              "      <td>6</td>\n",
              "      <td>28</td>\n",
              "      <td>112</td>\n",
              "      <td>1</td>\n",
              "      <td>0.0</td>\n",
              "      <td>5</td>\n",
              "      <td>2010</td>\n",
              "      <td>5</td>\n",
              "      <td>2011</td>\n",
              "    </tr>\n",
              "    <tr>\n",
              "      <th>1</th>\n",
              "      <td>0</td>\n",
              "      <td>79</td>\n",
              "      <td>1</td>\n",
              "      <td>1</td>\n",
              "      <td>28</td>\n",
              "      <td>112</td>\n",
              "      <td>1</td>\n",
              "      <td>1.0</td>\n",
              "      <td>11</td>\n",
              "      <td>2010</td>\n",
              "      <td>11</td>\n",
              "      <td>2011</td>\n",
              "    </tr>\n",
              "    <tr>\n",
              "      <th>2</th>\n",
              "      <td>1</td>\n",
              "      <td>43</td>\n",
              "      <td>1</td>\n",
              "      <td>6</td>\n",
              "      <td>28</td>\n",
              "      <td>112</td>\n",
              "      <td>1</td>\n",
              "      <td>0.0</td>\n",
              "      <td>3</td>\n",
              "      <td>2010</td>\n",
              "      <td>3</td>\n",
              "      <td>2011</td>\n",
              "    </tr>\n",
              "    <tr>\n",
              "      <th>3</th>\n",
              "      <td>1</td>\n",
              "      <td>41</td>\n",
              "      <td>1</td>\n",
              "      <td>6</td>\n",
              "      <td>28</td>\n",
              "      <td>112</td>\n",
              "      <td>5</td>\n",
              "      <td>0.0</td>\n",
              "      <td>8</td>\n",
              "      <td>2010</td>\n",
              "      <td>8</td>\n",
              "      <td>2011</td>\n",
              "    </tr>\n",
              "    <tr>\n",
              "      <th>4</th>\n",
              "      <td>2</td>\n",
              "      <td>20</td>\n",
              "      <td>3</td>\n",
              "      <td>6</td>\n",
              "      <td>28</td>\n",
              "      <td>112</td>\n",
              "      <td>8</td>\n",
              "      <td>1.0</td>\n",
              "      <td>8</td>\n",
              "      <td>2010</td>\n",
              "      <td>12</td>\n",
              "      <td>2010</td>\n",
              "    </tr>\n",
              "    <tr>\n",
              "      <th>...</th>\n",
              "      <td>...</td>\n",
              "      <td>...</td>\n",
              "      <td>...</td>\n",
              "      <td>...</td>\n",
              "      <td>...</td>\n",
              "      <td>...</td>\n",
              "      <td>...</td>\n",
              "      <td>...</td>\n",
              "      <td>...</td>\n",
              "      <td>...</td>\n",
              "      <td>...</td>\n",
              "      <td>...</td>\n",
              "    </tr>\n",
              "    <tr>\n",
              "      <th>5172</th>\n",
              "      <td>1</td>\n",
              "      <td>48</td>\n",
              "      <td>1</td>\n",
              "      <td>6</td>\n",
              "      <td>9</td>\n",
              "      <td>113</td>\n",
              "      <td>5</td>\n",
              "      <td>NaN</td>\n",
              "      <td>7</td>\n",
              "      <td>2010</td>\n",
              "      <td>7</td>\n",
              "      <td>2011</td>\n",
              "    </tr>\n",
              "    <tr>\n",
              "      <th>5173</th>\n",
              "      <td>1</td>\n",
              "      <td>50</td>\n",
              "      <td>1</td>\n",
              "      <td>6</td>\n",
              "      <td>9</td>\n",
              "      <td>172</td>\n",
              "      <td>1</td>\n",
              "      <td>NaN</td>\n",
              "      <td>12</td>\n",
              "      <td>2010</td>\n",
              "      <td>12</td>\n",
              "      <td>2011</td>\n",
              "    </tr>\n",
              "    <tr>\n",
              "      <th>5174</th>\n",
              "      <td>1</td>\n",
              "      <td>41</td>\n",
              "      <td>1</td>\n",
              "      <td>6</td>\n",
              "      <td>9</td>\n",
              "      <td>172</td>\n",
              "      <td>5</td>\n",
              "      <td>NaN</td>\n",
              "      <td>9</td>\n",
              "      <td>2010</td>\n",
              "      <td>9</td>\n",
              "      <td>2011</td>\n",
              "    </tr>\n",
              "    <tr>\n",
              "      <th>5175</th>\n",
              "      <td>0</td>\n",
              "      <td>52</td>\n",
              "      <td>1</td>\n",
              "      <td>6</td>\n",
              "      <td>28</td>\n",
              "      <td>172</td>\n",
              "      <td>1</td>\n",
              "      <td>NaN</td>\n",
              "      <td>7</td>\n",
              "      <td>2010</td>\n",
              "      <td>7</td>\n",
              "      <td>2011</td>\n",
              "    </tr>\n",
              "    <tr>\n",
              "      <th>5176</th>\n",
              "      <td>1</td>\n",
              "      <td>68</td>\n",
              "      <td>1</td>\n",
              "      <td>6</td>\n",
              "      <td>22</td>\n",
              "      <td>172</td>\n",
              "      <td>5</td>\n",
              "      <td>NaN</td>\n",
              "      <td>7</td>\n",
              "      <td>2010</td>\n",
              "      <td>7</td>\n",
              "      <td>2011</td>\n",
              "    </tr>\n",
              "  </tbody>\n",
              "</table>\n",
              "<p>17256 rows × 12 columns</p>\n",
              "</div>"
            ],
            "text/plain": [
              "      Gender  Age  No_Pol  ...  Policy Start Year  Policy End Month  Policy End Year\n",
              "0          1   30       1  ...               2010                 5             2011\n",
              "1          0   79       1  ...               2010                11             2011\n",
              "2          1   43       1  ...               2010                 3             2011\n",
              "3          1   41       1  ...               2010                 8             2011\n",
              "4          2   20       3  ...               2010                12             2010\n",
              "...      ...  ...     ...  ...                ...               ...              ...\n",
              "5172       1   48       1  ...               2010                 7             2011\n",
              "5173       1   50       1  ...               2010                12             2011\n",
              "5174       1   41       1  ...               2010                 9             2011\n",
              "5175       0   52       1  ...               2010                 7             2011\n",
              "5176       1   68       1  ...               2010                 7             2011\n",
              "\n",
              "[17256 rows x 12 columns]"
            ]
          },
          "metadata": {
            "tags": []
          },
          "execution_count": 262
        }
      ]
    },
    {
      "cell_type": "code",
      "metadata": {
        "id": "zW6R8nFwnC-V"
      },
      "source": [
        "train = all_data.iloc[:len(train)]\n",
        "test = all_data.iloc[len(train):]"
      ],
      "execution_count": 263,
      "outputs": []
    },
    {
      "cell_type": "code",
      "metadata": {
        "colab": {
          "base_uri": "https://localhost:8080/"
        },
        "id": "k4516iWJuylM",
        "outputId": "b4b58f98-d0bb-48a8-c058-b20454a8f6c7"
      },
      "source": [
        "test.drop(['target'], axis=1, inplace=True)"
      ],
      "execution_count": 264,
      "outputs": [
        {
          "output_type": "stream",
          "text": [
            "/usr/local/lib/python3.7/dist-packages/pandas/core/frame.py:4174: SettingWithCopyWarning: \n",
            "A value is trying to be set on a copy of a slice from a DataFrame\n",
            "\n",
            "See the caveats in the documentation: https://pandas.pydata.org/pandas-docs/stable/user_guide/indexing.html#returning-a-view-versus-a-copy\n",
            "  errors=errors,\n"
          ],
          "name": "stderr"
        }
      ]
    },
    {
      "cell_type": "code",
      "metadata": {
        "colab": {
          "base_uri": "https://localhost:8080/",
          "height": 402
        },
        "id": "CIQaF3uXnPRd",
        "outputId": "1fe1bcb5-59c2-4929-8acb-f6a3330ae68f"
      },
      "source": [
        "train"
      ],
      "execution_count": 265,
      "outputs": [
        {
          "output_type": "execute_result",
          "data": {
            "text/html": [
              "<div>\n",
              "<style scoped>\n",
              "    .dataframe tbody tr th:only-of-type {\n",
              "        vertical-align: middle;\n",
              "    }\n",
              "\n",
              "    .dataframe tbody tr th {\n",
              "        vertical-align: top;\n",
              "    }\n",
              "\n",
              "    .dataframe thead th {\n",
              "        text-align: right;\n",
              "    }\n",
              "</style>\n",
              "<table border=\"1\" class=\"dataframe\">\n",
              "  <thead>\n",
              "    <tr style=\"text-align: right;\">\n",
              "      <th></th>\n",
              "      <th>Gender</th>\n",
              "      <th>Age</th>\n",
              "      <th>No_Pol</th>\n",
              "      <th>Car_Category</th>\n",
              "      <th>Subject_Car_Make</th>\n",
              "      <th>LGA_Name</th>\n",
              "      <th>ProductName</th>\n",
              "      <th>target</th>\n",
              "      <th>Policy Start Month</th>\n",
              "      <th>Policy Start Year</th>\n",
              "      <th>Policy End Month</th>\n",
              "      <th>Policy End Year</th>\n",
              "    </tr>\n",
              "  </thead>\n",
              "  <tbody>\n",
              "    <tr>\n",
              "      <th>0</th>\n",
              "      <td>1</td>\n",
              "      <td>30</td>\n",
              "      <td>1</td>\n",
              "      <td>6</td>\n",
              "      <td>28</td>\n",
              "      <td>112</td>\n",
              "      <td>1</td>\n",
              "      <td>0.0</td>\n",
              "      <td>5</td>\n",
              "      <td>2010</td>\n",
              "      <td>5</td>\n",
              "      <td>2011</td>\n",
              "    </tr>\n",
              "    <tr>\n",
              "      <th>1</th>\n",
              "      <td>0</td>\n",
              "      <td>79</td>\n",
              "      <td>1</td>\n",
              "      <td>1</td>\n",
              "      <td>28</td>\n",
              "      <td>112</td>\n",
              "      <td>1</td>\n",
              "      <td>1.0</td>\n",
              "      <td>11</td>\n",
              "      <td>2010</td>\n",
              "      <td>11</td>\n",
              "      <td>2011</td>\n",
              "    </tr>\n",
              "    <tr>\n",
              "      <th>2</th>\n",
              "      <td>1</td>\n",
              "      <td>43</td>\n",
              "      <td>1</td>\n",
              "      <td>6</td>\n",
              "      <td>28</td>\n",
              "      <td>112</td>\n",
              "      <td>1</td>\n",
              "      <td>0.0</td>\n",
              "      <td>3</td>\n",
              "      <td>2010</td>\n",
              "      <td>3</td>\n",
              "      <td>2011</td>\n",
              "    </tr>\n",
              "    <tr>\n",
              "      <th>3</th>\n",
              "      <td>1</td>\n",
              "      <td>41</td>\n",
              "      <td>1</td>\n",
              "      <td>6</td>\n",
              "      <td>28</td>\n",
              "      <td>112</td>\n",
              "      <td>5</td>\n",
              "      <td>0.0</td>\n",
              "      <td>8</td>\n",
              "      <td>2010</td>\n",
              "      <td>8</td>\n",
              "      <td>2011</td>\n",
              "    </tr>\n",
              "    <tr>\n",
              "      <th>4</th>\n",
              "      <td>2</td>\n",
              "      <td>20</td>\n",
              "      <td>3</td>\n",
              "      <td>6</td>\n",
              "      <td>28</td>\n",
              "      <td>112</td>\n",
              "      <td>8</td>\n",
              "      <td>1.0</td>\n",
              "      <td>8</td>\n",
              "      <td>2010</td>\n",
              "      <td>12</td>\n",
              "      <td>2010</td>\n",
              "    </tr>\n",
              "    <tr>\n",
              "      <th>...</th>\n",
              "      <td>...</td>\n",
              "      <td>...</td>\n",
              "      <td>...</td>\n",
              "      <td>...</td>\n",
              "      <td>...</td>\n",
              "      <td>...</td>\n",
              "      <td>...</td>\n",
              "      <td>...</td>\n",
              "      <td>...</td>\n",
              "      <td>...</td>\n",
              "      <td>...</td>\n",
              "      <td>...</td>\n",
              "    </tr>\n",
              "    <tr>\n",
              "      <th>12074</th>\n",
              "      <td>0</td>\n",
              "      <td>30</td>\n",
              "      <td>1</td>\n",
              "      <td>6</td>\n",
              "      <td>25</td>\n",
              "      <td>75</td>\n",
              "      <td>1</td>\n",
              "      <td>1.0</td>\n",
              "      <td>5</td>\n",
              "      <td>2010</td>\n",
              "      <td>5</td>\n",
              "      <td>2011</td>\n",
              "    </tr>\n",
              "    <tr>\n",
              "      <th>12075</th>\n",
              "      <td>0</td>\n",
              "      <td>59</td>\n",
              "      <td>1</td>\n",
              "      <td>6</td>\n",
              "      <td>25</td>\n",
              "      <td>75</td>\n",
              "      <td>1</td>\n",
              "      <td>0.0</td>\n",
              "      <td>10</td>\n",
              "      <td>2010</td>\n",
              "      <td>10</td>\n",
              "      <td>2011</td>\n",
              "    </tr>\n",
              "    <tr>\n",
              "      <th>12076</th>\n",
              "      <td>1</td>\n",
              "      <td>34</td>\n",
              "      <td>1</td>\n",
              "      <td>6</td>\n",
              "      <td>25</td>\n",
              "      <td>75</td>\n",
              "      <td>5</td>\n",
              "      <td>0.0</td>\n",
              "      <td>10</td>\n",
              "      <td>2010</td>\n",
              "      <td>10</td>\n",
              "      <td>2011</td>\n",
              "    </tr>\n",
              "    <tr>\n",
              "      <th>12077</th>\n",
              "      <td>1</td>\n",
              "      <td>41</td>\n",
              "      <td>2</td>\n",
              "      <td>6</td>\n",
              "      <td>28</td>\n",
              "      <td>172</td>\n",
              "      <td>0</td>\n",
              "      <td>0.0</td>\n",
              "      <td>2</td>\n",
              "      <td>2010</td>\n",
              "      <td>2</td>\n",
              "      <td>2011</td>\n",
              "    </tr>\n",
              "    <tr>\n",
              "      <th>12078</th>\n",
              "      <td>0</td>\n",
              "      <td>46</td>\n",
              "      <td>2</td>\n",
              "      <td>1</td>\n",
              "      <td>15</td>\n",
              "      <td>113</td>\n",
              "      <td>1</td>\n",
              "      <td>0.0</td>\n",
              "      <td>7</td>\n",
              "      <td>2010</td>\n",
              "      <td>6</td>\n",
              "      <td>2011</td>\n",
              "    </tr>\n",
              "  </tbody>\n",
              "</table>\n",
              "<p>12079 rows × 12 columns</p>\n",
              "</div>"
            ],
            "text/plain": [
              "       Gender  Age  ...  Policy End Month  Policy End Year\n",
              "0           1   30  ...                 5             2011\n",
              "1           0   79  ...                11             2011\n",
              "2           1   43  ...                 3             2011\n",
              "3           1   41  ...                 8             2011\n",
              "4           2   20  ...                12             2010\n",
              "...       ...  ...  ...               ...              ...\n",
              "12074       0   30  ...                 5             2011\n",
              "12075       0   59  ...                10             2011\n",
              "12076       1   34  ...                10             2011\n",
              "12077       1   41  ...                 2             2011\n",
              "12078       0   46  ...                 6             2011\n",
              "\n",
              "[12079 rows x 12 columns]"
            ]
          },
          "metadata": {
            "tags": []
          },
          "execution_count": 265
        }
      ]
    },
    {
      "cell_type": "code",
      "metadata": {
        "id": "d3-UKkxvnPxO"
      },
      "source": [
        "from sklearn.model_selection import train_test_split\n",
        "X = train.drop(['target'], axis=1)\n",
        "y = train['target']\n",
        "train_x_orig, test_x_orig, train_y_orig, test_y_orig = train_test_split(X, y, shuffle=True, random_state=42, test_size=0.25, stratify=y)"
      ],
      "execution_count": 266,
      "outputs": []
    },
    {
      "cell_type": "code",
      "metadata": {
        "colab": {
          "base_uri": "https://localhost:8080/"
        },
        "id": "EXc23Tqzp6L6",
        "outputId": "71cdd8b2-e0bf-44a4-9f59-84504b1cebdf"
      },
      "source": [
        "from imblearn.over_sampling import RandomOverSampler\n",
        "ros = RandomOverSampler(sampling_strategy=1)\n",
        "train_x, train_y = ros.fit_resample(train_x_orig, train_y_orig)"
      ],
      "execution_count": 281,
      "outputs": [
        {
          "output_type": "stream",
          "text": [
            "/usr/local/lib/python3.7/dist-packages/sklearn/utils/deprecation.py:87: FutureWarning: Function safe_indexing is deprecated; safe_indexing is deprecated in version 0.22 and will be removed in version 0.24.\n",
            "  warnings.warn(msg, category=FutureWarning)\n"
          ],
          "name": "stderr"
        }
      ]
    },
    {
      "cell_type": "code",
      "metadata": {
        "colab": {
          "base_uri": "https://localhost:8080/"
        },
        "id": "p0hatJZmqUlX",
        "outputId": "f19ef07e-c14e-4140-a476-f2d8d6a567d7"
      },
      "source": [
        "Counter(train_y)"
      ],
      "execution_count": 282,
      "outputs": [
        {
          "output_type": "execute_result",
          "data": {
            "text/plain": [
              "Counter({0.0: 7968, 1.0: 7968})"
            ]
          },
          "metadata": {
            "tags": []
          },
          "execution_count": 282
        }
      ]
    },
    {
      "cell_type": "code",
      "metadata": {
        "id": "LkO0ydGlnp64"
      },
      "source": [
        "from sklearn.linear_model import LogisticRegression\n",
        "from sklearn.tree import DecisionTreeClassifier\n",
        "from sklearn.naive_bayes import GaussianNB\n",
        "from sklearn.svm import SVC\n",
        "from sklearn.ensemble import RandomForestClassifier\n",
        "from xgboost import XGBClassifier\n",
        "from sklearn.ensemble import GradientBoostingClassifier\n",
        "from sklearn.ensemble import VotingClassifier\n",
        "from sklearn.ensemble import BaggingClassifier\n",
        "\n",
        "from sklearn.model_selection import RandomizedSearchCV, RepeatedStratifiedKFold\n",
        "from sklearn.metrics import confusion_matrix, accuracy_score, f1_score"
      ],
      "execution_count": 283,
      "outputs": []
    },
    {
      "cell_type": "code",
      "metadata": {
        "colab": {
          "base_uri": "https://localhost:8080/"
        },
        "id": "8dgaHG8QoIBm",
        "outputId": "b159fd4f-5afe-4652-f2e7-2356ce8ab183"
      },
      "source": [
        "lr = LogisticRegression(max_iter=1500, C=1, class_weight={0: 0.5, 1: 1})\n",
        "lr.fit(train_x, train_y)\n",
        "\n",
        "pred_lr = lr.predict(test_x)\n",
        "print(confusion_matrix(test_y, pred_lr))\n",
        "print('Accuracy_Score: ', accuracy_score(test_y, pred_lr))\n",
        "print('F1_score: ', f1_score(test_y, pred_lr))"
      ],
      "execution_count": 284,
      "outputs": [
        {
          "output_type": "stream",
          "text": [
            "[[1112 1544]\n",
            " [  21  343]]\n",
            "Accuracy_Score:  0.4817880794701987\n",
            "F1_score:  0.3047534429142603\n"
          ],
          "name": "stdout"
        }
      ]
    },
    {
      "cell_type": "code",
      "metadata": {
        "colab": {
          "base_uri": "https://localhost:8080/"
        },
        "id": "RU7u0QVHovqs",
        "outputId": "7ee9f11f-b0e5-44ba-cc20-f1a865c69ef9"
      },
      "source": [
        "dtc = DecisionTreeClassifier()\n",
        "dtc.fit(train_x, train_y)\n",
        "\n",
        "pred_dtc = dtc.predict(test_x)\n",
        "print(confusion_matrix(test_y, pred_dtc))\n",
        "print('Accuracy_Score: ', accuracy_score(test_y, pred_dtc))\n",
        "print('F1_score: ', f1_score(test_y, pred_dtc))"
      ],
      "execution_count": 269,
      "outputs": [
        {
          "output_type": "stream",
          "text": [
            "[[2297  359]\n",
            " [ 244  120]]\n",
            "Accuracy_Score:  0.8003311258278145\n",
            "F1_score:  0.2846975088967972\n"
          ],
          "name": "stdout"
        }
      ]
    },
    {
      "cell_type": "code",
      "metadata": {
        "colab": {
          "base_uri": "https://localhost:8080/"
        },
        "id": "84LBsYm_o2Xa",
        "outputId": "ff029c2c-575d-4d5f-cc0c-cde30b29de10"
      },
      "source": [
        "nb = GaussianNB()\n",
        "nb.fit(train_x, train_y)\n",
        "\n",
        "pred_nb = nb.predict(test_x)\n",
        "print(confusion_matrix(test_y, pred_nb))\n",
        "print('Accuracy_Score: ', accuracy_score(test_y, pred_nb))\n",
        "print('F1_score: ', f1_score(test_y, pred_nb))"
      ],
      "execution_count": 270,
      "outputs": [
        {
          "output_type": "stream",
          "text": [
            "[[ 183 2473]\n",
            " [  20  344]]\n",
            "Accuracy_Score:  0.17450331125827814\n",
            "F1_score:  0.21628418736246463\n"
          ],
          "name": "stdout"
        }
      ]
    },
    {
      "cell_type": "code",
      "metadata": {
        "colab": {
          "base_uri": "https://localhost:8080/"
        },
        "id": "3wpo13TKo2T-",
        "outputId": "faf8e1a2-a294-4bc3-8988-2102b76ddec4"
      },
      "source": [
        "svc = SVC(kernel='sigmoid', degree=5, cache_size=500, tol=0.0001)\n",
        "svc.fit(train_x, train_y)\n",
        "\n",
        "pred_svc = svc.predict(test_x)\n",
        "print(confusion_matrix(test_y, pred_svc))\n",
        "print('Accuracy_Score: ', accuracy_score(test_y, pred_svc))\n",
        "print('F1_score: ', f1_score(test_y, pred_svc))"
      ],
      "execution_count": 271,
      "outputs": [
        {
          "output_type": "stream",
          "text": [
            "[[2656    0]\n",
            " [ 364    0]]\n",
            "Accuracy_Score:  0.8794701986754967\n",
            "F1_score:  0.0\n"
          ],
          "name": "stdout"
        }
      ]
    },
    {
      "cell_type": "code",
      "metadata": {
        "colab": {
          "base_uri": "https://localhost:8080/"
        },
        "id": "qr_8MH23o2Qk",
        "outputId": "0ea77f43-5c1f-4747-bdb3-b4dba5a5eff1"
      },
      "source": [
        "rfc = RandomForestClassifier(n_estimators=1000, criterion='gini')\n",
        "rfc.fit(train_x, train_y)\n",
        "\n",
        "pred_rfc = rfc.predict(test_x)\n",
        "print(confusion_matrix(test_y, pred_rfc))\n",
        "print('Accuracy_Score: ', accuracy_score(test_y, pred_rfc))\n",
        "print('F1_score: ', f1_score(test_y, pred_rfc))"
      ],
      "execution_count": 272,
      "outputs": [
        {
          "output_type": "stream",
          "text": [
            "[[2459  197]\n",
            " [ 260  104]]\n",
            "Accuracy_Score:  0.8486754966887418\n",
            "F1_score:  0.31278195488721805\n"
          ],
          "name": "stdout"
        }
      ]
    },
    {
      "cell_type": "markdown",
      "metadata": {
        "id": "3yqJUKxf2AJk"
      },
      "source": [
        "Hyperparameter Optimization"
      ]
    },
    {
      "cell_type": "code",
      "metadata": {
        "colab": {
          "base_uri": "https://localhost:8080/"
        },
        "id": "iKgLpnM21_Vz",
        "outputId": "543028d0-278b-4560-eeb0-d0a8c1b63086"
      },
      "source": [
        "rfc1 = RandomForestClassifier()\n",
        "\n",
        "search_space = dict()\n",
        "search_space['n_estimators'] = [100, 300, 500, 600, 800, 1000, 1200]\n",
        "search_space['criterion'] = ['gini', 'entropy']\n",
        "search_space['max_depth'] = [5, 8, 15, 25, 30]\n",
        "search_space['min_samples_split'] = [2, 5, 10, 15, 100]\n",
        "search_space['min_samples_leaf'] = [1, 2, 5, 10]\n",
        "\n",
        "cv = RepeatedStratifiedKFold(n_splits=5, n_repeats=3, random_state=1)\n",
        "\n",
        "search = RandomizedSearchCV(rfc1, search_space, n_iter=100, scoring='f1_micro', n_jobs=-1, cv=cv, random_state=1)\n",
        "\n",
        "result = search.fit(train_x, train_y)"
      ],
      "execution_count": null,
      "outputs": [
        {
          "output_type": "stream",
          "text": [
            "/usr/local/lib/python3.7/dist-packages/joblib/externals/loky/process_executor.py:691: UserWarning: A worker stopped while some jobs were given to the executor. This can be caused by a too short worker timeout or by a memory leak.\n",
            "  \"timeout or by a memory leak.\", UserWarning\n"
          ],
          "name": "stderr"
        }
      ]
    },
    {
      "cell_type": "code",
      "metadata": {
        "colab": {
          "base_uri": "https://localhost:8080/"
        },
        "id": "qfCxXHpf3nO3",
        "outputId": "f9ccacc5-4cb3-4025-b1e2-41dc7eefa1c8"
      },
      "source": [
        "from sklearn.metrics import SCORERS\n",
        "sorted(SCORERS.keys())"
      ],
      "execution_count": null,
      "outputs": [
        {
          "output_type": "execute_result",
          "data": {
            "text/plain": [
              "['accuracy',\n",
              " 'adjusted_mutual_info_score',\n",
              " 'adjusted_rand_score',\n",
              " 'average_precision',\n",
              " 'balanced_accuracy',\n",
              " 'completeness_score',\n",
              " 'explained_variance',\n",
              " 'f1',\n",
              " 'f1_macro',\n",
              " 'f1_micro',\n",
              " 'f1_samples',\n",
              " 'f1_weighted',\n",
              " 'fowlkes_mallows_score',\n",
              " 'homogeneity_score',\n",
              " 'jaccard',\n",
              " 'jaccard_macro',\n",
              " 'jaccard_micro',\n",
              " 'jaccard_samples',\n",
              " 'jaccard_weighted',\n",
              " 'max_error',\n",
              " 'mutual_info_score',\n",
              " 'neg_brier_score',\n",
              " 'neg_log_loss',\n",
              " 'neg_mean_absolute_error',\n",
              " 'neg_mean_gamma_deviance',\n",
              " 'neg_mean_poisson_deviance',\n",
              " 'neg_mean_squared_error',\n",
              " 'neg_mean_squared_log_error',\n",
              " 'neg_median_absolute_error',\n",
              " 'neg_root_mean_squared_error',\n",
              " 'normalized_mutual_info_score',\n",
              " 'precision',\n",
              " 'precision_macro',\n",
              " 'precision_micro',\n",
              " 'precision_samples',\n",
              " 'precision_weighted',\n",
              " 'r2',\n",
              " 'recall',\n",
              " 'recall_macro',\n",
              " 'recall_micro',\n",
              " 'recall_samples',\n",
              " 'recall_weighted',\n",
              " 'roc_auc',\n",
              " 'roc_auc_ovo',\n",
              " 'roc_auc_ovo_weighted',\n",
              " 'roc_auc_ovr',\n",
              " 'roc_auc_ovr_weighted',\n",
              " 'v_measure_score']"
            ]
          },
          "metadata": {
            "tags": []
          },
          "execution_count": 209
        }
      ]
    },
    {
      "cell_type": "code",
      "metadata": {
        "colab": {
          "base_uri": "https://localhost:8080/"
        },
        "id": "KuK656tAttMS",
        "outputId": "0c7bf904-31ca-4806-821b-a1bcbd684a73"
      },
      "source": [
        "xgb = GradientBoostingClassifier(n_estimators=1000)\n",
        "xgb.fit(train_x, train_y)\n",
        "\n",
        "pred_xgb = xgb.predict(test_x)\n",
        "print(confusion_matrix(test_y, pred_xgb))\n",
        "print('Accuracy_Score: ', accuracy_score(test_y, pred_xgb))\n",
        "print('F1_score: ', f1_score(test_y, pred_xgb))"
      ],
      "execution_count": 273,
      "outputs": [
        {
          "output_type": "stream",
          "text": [
            "[[2228  428]\n",
            " [ 184  180]]\n",
            "Accuracy_Score:  0.7973509933774835\n",
            "F1_score:  0.37037037037037035\n"
          ],
          "name": "stdout"
        }
      ]
    },
    {
      "cell_type": "code",
      "metadata": {
        "colab": {
          "base_uri": "https://localhost:8080/"
        },
        "id": "trViBrrFIvLf",
        "outputId": "814ec405-33f9-4bbf-9004-0911733a3ecb"
      },
      "source": [
        "vc = VotingClassifier(estimators=[\n",
        "                                  ('lr', lr), ('rfc', rfc)\n",
        "], voting='hard')\n",
        "vc.fit(train_x, train_y)\n",
        "\n",
        "pred_vc = vc.predict(test_x)\n",
        "print(confusion_matrix(test_y, pred_vc))\n",
        "print('Accuracy_Score: ', accuracy_score(test_y, pred_vc))\n",
        "print('F1_score: ', f1_score(test_y, pred_vc))"
      ],
      "execution_count": 274,
      "outputs": [
        {
          "output_type": "stream",
          "text": [
            "[[2519  137]\n",
            " [ 292   72]]\n",
            "Accuracy_Score:  0.8579470198675496\n",
            "F1_score:  0.25130890052356025\n"
          ],
          "name": "stdout"
        }
      ]
    },
    {
      "cell_type": "code",
      "metadata": {
        "colab": {
          "base_uri": "https://localhost:8080/"
        },
        "id": "vDbhatoIMC1w",
        "outputId": "5ecea826-22dd-4079-8f8b-3c561e34f62a"
      },
      "source": [
        "bc = BaggingClassifier(base_estimator=RandomForestClassifier(), n_estimators=100)\n",
        "bc.fit(train_x, train_y)\n",
        "\n",
        "pred_bc = bc.predict(test_x)\n",
        "print(confusion_matrix(test_y, pred_bc))\n",
        "print('Accuracy_Score: ', accuracy_score(test_y, pred_bc))\n",
        "print('F1_score: ', f1_score(test_y, pred_bc))"
      ],
      "execution_count": 90,
      "outputs": [
        {
          "output_type": "stream",
          "text": [
            "[[2395  261]\n",
            " [ 233  131]]\n",
            "Accuracy_Score:  0.8364238410596027\n",
            "F1_score:  0.34656084656084657\n"
          ],
          "name": "stdout"
        }
      ]
    },
    {
      "cell_type": "code",
      "metadata": {
        "id": "KHzEfhb9o2Nz"
      },
      "source": [
        "test_prediction = lr.predict(test)"
      ],
      "execution_count": 275,
      "outputs": []
    },
    {
      "cell_type": "code",
      "metadata": {
        "colab": {
          "base_uri": "https://localhost:8080/"
        },
        "id": "U6aJOVxArtrB",
        "outputId": "dc7de165-65d0-464e-e888-5fed78082478"
      },
      "source": [
        "Counter(test_prediction)"
      ],
      "execution_count": 276,
      "outputs": [
        {
          "output_type": "execute_result",
          "data": {
            "text/plain": [
              "Counter({0.0: 3160, 1.0: 2017})"
            ]
          },
          "metadata": {
            "tags": []
          },
          "execution_count": 276
        }
      ]
    },
    {
      "cell_type": "code",
      "metadata": {
        "colab": {
          "base_uri": "https://localhost:8080/",
          "height": 402
        },
        "id": "pA10m8RfrbUo",
        "outputId": "8d3aaa1e-08fb-4e40-a4eb-94352a59130a"
      },
      "source": [
        "sample_submission"
      ],
      "execution_count": 277,
      "outputs": [
        {
          "output_type": "execute_result",
          "data": {
            "text/html": [
              "<div>\n",
              "<style scoped>\n",
              "    .dataframe tbody tr th:only-of-type {\n",
              "        vertical-align: middle;\n",
              "    }\n",
              "\n",
              "    .dataframe tbody tr th {\n",
              "        vertical-align: top;\n",
              "    }\n",
              "\n",
              "    .dataframe thead th {\n",
              "        text-align: right;\n",
              "    }\n",
              "</style>\n",
              "<table border=\"1\" class=\"dataframe\">\n",
              "  <thead>\n",
              "    <tr style=\"text-align: right;\">\n",
              "      <th></th>\n",
              "      <th>ID</th>\n",
              "      <th>target</th>\n",
              "    </tr>\n",
              "  </thead>\n",
              "  <tbody>\n",
              "    <tr>\n",
              "      <th>0</th>\n",
              "      <td>ID_009D84L</td>\n",
              "      <td>0</td>\n",
              "    </tr>\n",
              "    <tr>\n",
              "      <th>1</th>\n",
              "      <td>ID_01DO2EQ</td>\n",
              "      <td>0</td>\n",
              "    </tr>\n",
              "    <tr>\n",
              "      <th>2</th>\n",
              "      <td>ID_01QM0NU</td>\n",
              "      <td>0</td>\n",
              "    </tr>\n",
              "    <tr>\n",
              "      <th>3</th>\n",
              "      <td>ID_024NJLZ</td>\n",
              "      <td>0</td>\n",
              "    </tr>\n",
              "    <tr>\n",
              "      <th>4</th>\n",
              "      <td>ID_02BYET3</td>\n",
              "      <td>0</td>\n",
              "    </tr>\n",
              "    <tr>\n",
              "      <th>...</th>\n",
              "      <td>...</td>\n",
              "      <td>...</td>\n",
              "    </tr>\n",
              "    <tr>\n",
              "      <th>5172</th>\n",
              "      <td>ID_ZYXX5AF</td>\n",
              "      <td>0</td>\n",
              "    </tr>\n",
              "    <tr>\n",
              "      <th>5173</th>\n",
              "      <td>ID_ZYYOZ5L</td>\n",
              "      <td>0</td>\n",
              "    </tr>\n",
              "    <tr>\n",
              "      <th>5174</th>\n",
              "      <td>ID_ZZ1GTKD</td>\n",
              "      <td>0</td>\n",
              "    </tr>\n",
              "    <tr>\n",
              "      <th>5175</th>\n",
              "      <td>ID_ZZDXQSI</td>\n",
              "      <td>0</td>\n",
              "    </tr>\n",
              "    <tr>\n",
              "      <th>5176</th>\n",
              "      <td>ID_ZZYTLV1</td>\n",
              "      <td>0</td>\n",
              "    </tr>\n",
              "  </tbody>\n",
              "</table>\n",
              "<p>5177 rows × 2 columns</p>\n",
              "</div>"
            ],
            "text/plain": [
              "              ID  target\n",
              "0     ID_009D84L       0\n",
              "1     ID_01DO2EQ       0\n",
              "2     ID_01QM0NU       0\n",
              "3     ID_024NJLZ       0\n",
              "4     ID_02BYET3       0\n",
              "...          ...     ...\n",
              "5172  ID_ZYXX5AF       0\n",
              "5173  ID_ZYYOZ5L       0\n",
              "5174  ID_ZZ1GTKD       0\n",
              "5175  ID_ZZDXQSI       0\n",
              "5176  ID_ZZYTLV1       0\n",
              "\n",
              "[5177 rows x 2 columns]"
            ]
          },
          "metadata": {
            "tags": []
          },
          "execution_count": 277
        }
      ]
    },
    {
      "cell_type": "code",
      "metadata": {
        "id": "dU_FQ7VzsEHC"
      },
      "source": [
        "sample_submission['target'] = test_prediction"
      ],
      "execution_count": 278,
      "outputs": []
    },
    {
      "cell_type": "code",
      "metadata": {
        "colab": {
          "base_uri": "https://localhost:8080/",
          "height": 402
        },
        "id": "7-U7rDxPsS4Q",
        "outputId": "273c4481-adf4-41d4-ed95-b7bf25ca8e8a"
      },
      "source": [
        "sample_submission"
      ],
      "execution_count": 279,
      "outputs": [
        {
          "output_type": "execute_result",
          "data": {
            "text/html": [
              "<div>\n",
              "<style scoped>\n",
              "    .dataframe tbody tr th:only-of-type {\n",
              "        vertical-align: middle;\n",
              "    }\n",
              "\n",
              "    .dataframe tbody tr th {\n",
              "        vertical-align: top;\n",
              "    }\n",
              "\n",
              "    .dataframe thead th {\n",
              "        text-align: right;\n",
              "    }\n",
              "</style>\n",
              "<table border=\"1\" class=\"dataframe\">\n",
              "  <thead>\n",
              "    <tr style=\"text-align: right;\">\n",
              "      <th></th>\n",
              "      <th>ID</th>\n",
              "      <th>target</th>\n",
              "    </tr>\n",
              "  </thead>\n",
              "  <tbody>\n",
              "    <tr>\n",
              "      <th>0</th>\n",
              "      <td>ID_009D84L</td>\n",
              "      <td>1.0</td>\n",
              "    </tr>\n",
              "    <tr>\n",
              "      <th>1</th>\n",
              "      <td>ID_01DO2EQ</td>\n",
              "      <td>1.0</td>\n",
              "    </tr>\n",
              "    <tr>\n",
              "      <th>2</th>\n",
              "      <td>ID_01QM0NU</td>\n",
              "      <td>0.0</td>\n",
              "    </tr>\n",
              "    <tr>\n",
              "      <th>3</th>\n",
              "      <td>ID_024NJLZ</td>\n",
              "      <td>1.0</td>\n",
              "    </tr>\n",
              "    <tr>\n",
              "      <th>4</th>\n",
              "      <td>ID_02BYET3</td>\n",
              "      <td>0.0</td>\n",
              "    </tr>\n",
              "    <tr>\n",
              "      <th>...</th>\n",
              "      <td>...</td>\n",
              "      <td>...</td>\n",
              "    </tr>\n",
              "    <tr>\n",
              "      <th>5172</th>\n",
              "      <td>ID_ZYXX5AF</td>\n",
              "      <td>0.0</td>\n",
              "    </tr>\n",
              "    <tr>\n",
              "      <th>5173</th>\n",
              "      <td>ID_ZYYOZ5L</td>\n",
              "      <td>0.0</td>\n",
              "    </tr>\n",
              "    <tr>\n",
              "      <th>5174</th>\n",
              "      <td>ID_ZZ1GTKD</td>\n",
              "      <td>0.0</td>\n",
              "    </tr>\n",
              "    <tr>\n",
              "      <th>5175</th>\n",
              "      <td>ID_ZZDXQSI</td>\n",
              "      <td>0.0</td>\n",
              "    </tr>\n",
              "    <tr>\n",
              "      <th>5176</th>\n",
              "      <td>ID_ZZYTLV1</td>\n",
              "      <td>0.0</td>\n",
              "    </tr>\n",
              "  </tbody>\n",
              "</table>\n",
              "<p>5177 rows × 2 columns</p>\n",
              "</div>"
            ],
            "text/plain": [
              "              ID  target\n",
              "0     ID_009D84L     1.0\n",
              "1     ID_01DO2EQ     1.0\n",
              "2     ID_01QM0NU     0.0\n",
              "3     ID_024NJLZ     1.0\n",
              "4     ID_02BYET3     0.0\n",
              "...          ...     ...\n",
              "5172  ID_ZYXX5AF     0.0\n",
              "5173  ID_ZYYOZ5L     0.0\n",
              "5174  ID_ZZ1GTKD     0.0\n",
              "5175  ID_ZZDXQSI     0.0\n",
              "5176  ID_ZZYTLV1     0.0\n",
              "\n",
              "[5177 rows x 2 columns]"
            ]
          },
          "metadata": {
            "tags": []
          },
          "execution_count": 279
        }
      ]
    },
    {
      "cell_type": "code",
      "metadata": {
        "id": "t8BnppUfsVXA"
      },
      "source": [
        "sample_submission.to_csv('predictions.csv', index=False)"
      ],
      "execution_count": 280,
      "outputs": []
    },
    {
      "cell_type": "code",
      "metadata": {
        "id": "Fch7DuD0skOn"
      },
      "source": [
        ""
      ],
      "execution_count": null,
      "outputs": []
    }
  ]
}